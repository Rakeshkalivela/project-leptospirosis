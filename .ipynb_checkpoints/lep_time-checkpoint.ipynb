{
 "cells": [
  {
   "cell_type": "code",
   "execution_count": 1,
   "id": "33ec2e2d",
   "metadata": {},
   "outputs": [],
   "source": [
    "from data_reading import *"
   ]
  },
  {
   "cell_type": "code",
   "execution_count": 2,
   "id": "eedfb68a",
   "metadata": {
    "scrolled": true
   },
   "outputs": [
    {
     "data": {
      "text/html": [
       "<div>\n",
       "<style scoped>\n",
       "    .dataframe tbody tr th:only-of-type {\n",
       "        vertical-align: middle;\n",
       "    }\n",
       "\n",
       "    .dataframe tbody tr th {\n",
       "        vertical-align: top;\n",
       "    }\n",
       "\n",
       "    .dataframe thead th {\n",
       "        text-align: right;\n",
       "    }\n",
       "</style>\n",
       "<table border=\"1\" class=\"dataframe\">\n",
       "  <thead>\n",
       "    <tr style=\"text-align: right;\">\n",
       "      <th></th>\n",
       "      <th>PMID</th>\n",
       "      <th>Fullname</th>\n",
       "      <th>Coauthors</th>\n",
       "    </tr>\n",
       "  </thead>\n",
       "  <tbody>\n",
       "    <tr>\n",
       "      <th>0</th>\n",
       "      <td>10548299</td>\n",
       "      <td>Daher E</td>\n",
       "      <td>Zanetta DM</td>\n",
       "    </tr>\n",
       "    <tr>\n",
       "      <th>1</th>\n",
       "      <td>10548299</td>\n",
       "      <td>Daher E</td>\n",
       "      <td>Cavalcante MB</td>\n",
       "    </tr>\n",
       "    <tr>\n",
       "      <th>2</th>\n",
       "      <td>10548299</td>\n",
       "      <td>Daher E</td>\n",
       "      <td>Abdulkader RC</td>\n",
       "    </tr>\n",
       "    <tr>\n",
       "      <th>3</th>\n",
       "      <td>10569777</td>\n",
       "      <td>Haake DA</td>\n",
       "      <td>Mazel MK</td>\n",
       "    </tr>\n",
       "    <tr>\n",
       "      <th>4</th>\n",
       "      <td>10569777</td>\n",
       "      <td>Haake DA</td>\n",
       "      <td>McCoy AM</td>\n",
       "    </tr>\n",
       "    <tr>\n",
       "      <th>...</th>\n",
       "      <td>...</td>\n",
       "      <td>...</td>\n",
       "      <td>...</td>\n",
       "    </tr>\n",
       "    <tr>\n",
       "      <th>195</th>\n",
       "      <td>10943029</td>\n",
       "      <td>Terry J</td>\n",
       "      <td>Bartlett M</td>\n",
       "    </tr>\n",
       "    <tr>\n",
       "      <th>196</th>\n",
       "      <td>10945403</td>\n",
       "      <td>Coursin DB</td>\n",
       "      <td>Updike SJ</td>\n",
       "    </tr>\n",
       "    <tr>\n",
       "      <th>197</th>\n",
       "      <td>10945403</td>\n",
       "      <td>Coursin DB</td>\n",
       "      <td>Maki DG</td>\n",
       "    </tr>\n",
       "    <tr>\n",
       "      <th>198</th>\n",
       "      <td>10947225</td>\n",
       "      <td>Martínez García MA</td>\n",
       "      <td>de Diego Damiá A</td>\n",
       "    </tr>\n",
       "    <tr>\n",
       "      <th>199</th>\n",
       "      <td>10947225</td>\n",
       "      <td>Martínez García MA</td>\n",
       "      <td>Menéndez Villanueva R</td>\n",
       "    </tr>\n",
       "  </tbody>\n",
       "</table>\n",
       "<p>200 rows × 3 columns</p>\n",
       "</div>"
      ],
      "text/plain": [
       "         PMID            Fullname              Coauthors\n",
       "0    10548299             Daher E             Zanetta DM\n",
       "1    10548299             Daher E          Cavalcante MB\n",
       "2    10548299             Daher E          Abdulkader RC\n",
       "3    10569777            Haake DA               Mazel MK\n",
       "4    10569777            Haake DA               McCoy AM\n",
       "..        ...                 ...                    ...\n",
       "195  10943029             Terry J             Bartlett M\n",
       "196  10945403          Coursin DB              Updike SJ\n",
       "197  10945403          Coursin DB                Maki DG\n",
       "198  10947225  Martínez García MA       de Diego Damiá A\n",
       "199  10947225  Martínez García MA  Menéndez Villanueva R\n",
       "\n",
       "[200 rows x 3 columns]"
      ]
     },
     "metadata": {},
     "output_type": "display_data"
    }
   ],
   "source": [
    "lep_author_data['Fullname'] = lep_author_data['AuthorLastname'] + ' ' + lep_author_data['AuthorInitials']\n",
    "\n",
    "authors = lep_author_data[lep_author_data['AuthorN'] == 1 ]\n",
    "authors_a = authors[['PMID', 'Fullname']]\n",
    "coauthors = lep_author_data[lep_author_data['AuthorN'] != 1 ]\n",
    "coauthors_a = coauthors[['PMID', 'Fullname']]\n",
    "coauthors_a.columns = ['PMID', 'Coauthors']\n",
    "b = pd.merge(authors_a, coauthors_a, on = 'PMID', how = 'outer')\n",
    "c = b.iloc[:200,:]\n",
    "\n",
    "ipd.display(c)"
   ]
  },
  {
   "cell_type": "code",
   "execution_count": 4,
   "id": "9e9c8e7d",
   "metadata": {},
   "outputs": [
    {
     "ename": "ModuleNotFoundError",
     "evalue": "No module named 'community'",
     "output_type": "error",
     "traceback": [
      "\u001b[1;31m---------------------------------------------------------------------------\u001b[0m",
      "\u001b[1;31mModuleNotFoundError\u001b[0m                       Traceback (most recent call last)",
      "\u001b[1;32m~\\AppData\\Local\\Temp\\ipykernel_29636\\927591805.py\u001b[0m in \u001b[0;36m<module>\u001b[1;34m\u001b[0m\n\u001b[0;32m      1\u001b[0m \u001b[1;32mimport\u001b[0m \u001b[0mnetworkx\u001b[0m \u001b[1;32mas\u001b[0m \u001b[0mnx\u001b[0m\u001b[1;33m\u001b[0m\u001b[1;33m\u001b[0m\u001b[0m\n\u001b[1;32m----> 2\u001b[1;33m \u001b[1;32mimport\u001b[0m \u001b[0mcommunity\u001b[0m\u001b[1;33m\u001b[0m\u001b[1;33m\u001b[0m\u001b[0m\n\u001b[0m\u001b[0;32m      3\u001b[0m data = {'Author': ['Author1', 'Author1', 'Author2', 'Author3', 'Author3', 'Author4'],\n\u001b[0;32m      4\u001b[0m         'Coauthor': ['Coauthor1', 'Coauthor2', 'Coauthor2', 'Coauthor3', 'Coauthor4', 'Coauthor4']}\n\u001b[0;32m      5\u001b[0m \u001b[1;33m\u001b[0m\u001b[0m\n",
      "\u001b[1;31mModuleNotFoundError\u001b[0m: No module named 'community'"
     ]
    }
   ],
   "source": [
    "\n",
    "import networkx as nx\n",
    "import community\n",
    "data = {'Author': ['Author1', 'Author1', 'Author2', 'Author3', 'Author3', 'Author4'],\n",
    "        'Coauthor': ['Coauthor1', 'Coauthor2', 'Coauthor2', 'Coauthor3', 'Coauthor4', 'Coauthor4']}\n",
    "\n",
    "df = pd.DataFrame(data)\n",
    "\n",
    "\n",
    "G = nx.from_pandas_edgelist(c, 'Fullname', 'Coauthors', create_using=nx.DiGraph())\n",
    "\n",
    "\n",
    "partition = community.best_partition(G)\n",
    "\n",
    "\n",
    "pos = nx.spring_layout(G)\n",
    "node_color = [partition[node] for node in G.nodes()]\n",
    "\n",
    "plt.figure(figsize=(10, 8))\n",
    "nx.draw(G, pos, with_labels=True, font_weight='bold', node_color=node_color,\n",
    "        cmap=plt.cm.Blues, edge_color='gray', arrows=True)\n",
    "\n",
    "plt.show()"
   ]
  },
  {
   "cell_type": "code",
   "execution_count": null,
   "id": "feab096b",
   "metadata": {},
   "outputs": [],
   "source": []
  }
 ],
 "metadata": {
  "kernelspec": {
   "display_name": "Python 3 (ipykernel)",
   "language": "python",
   "name": "python3"
  },
  "language_info": {
   "codemirror_mode": {
    "name": "ipython",
    "version": 3
   },
   "file_extension": ".py",
   "mimetype": "text/x-python",
   "name": "python",
   "nbconvert_exporter": "python",
   "pygments_lexer": "ipython3",
   "version": "3.9.13"
  }
 },
 "nbformat": 4,
 "nbformat_minor": 5
}
