{
 "cells": [
  {
   "cell_type": "code",
   "execution_count": 1,
   "id": "b9d9284f",
   "metadata": {},
   "outputs": [],
   "source": [
    "from data_reading import *"
   ]
  },
  {
   "cell_type": "code",
   "execution_count": 53,
   "id": "17e1b87e",
   "metadata": {},
   "outputs": [
    {
     "data": {
      "text/html": [
       "<div>\n",
       "<style scoped>\n",
       "    .dataframe tbody tr th:only-of-type {\n",
       "        vertical-align: middle;\n",
       "    }\n",
       "\n",
       "    .dataframe tbody tr th {\n",
       "        vertical-align: top;\n",
       "    }\n",
       "\n",
       "    .dataframe thead th {\n",
       "        text-align: right;\n",
       "    }\n",
       "</style>\n",
       "<table border=\"1\" class=\"dataframe\">\n",
       "  <thead>\n",
       "    <tr style=\"text-align: right;\">\n",
       "      <th></th>\n",
       "      <th>Journal</th>\n",
       "      <th>J_Count</th>\n",
       "      <th>J_Share (%)</th>\n",
       "    </tr>\n",
       "  </thead>\n",
       "  <tbody>\n",
       "    <tr>\n",
       "      <th>0</th>\n",
       "      <td>PLoS neglected tropical diseases</td>\n",
       "      <td>151</td>\n",
       "      <td>4.46</td>\n",
       "    </tr>\n",
       "    <tr>\n",
       "      <th>1</th>\n",
       "      <td>The American journal of tropical medicine and ...</td>\n",
       "      <td>129</td>\n",
       "      <td>3.81</td>\n",
       "    </tr>\n",
       "    <tr>\n",
       "      <th>2</th>\n",
       "      <td>PloS one</td>\n",
       "      <td>101</td>\n",
       "      <td>2.98</td>\n",
       "    </tr>\n",
       "    <tr>\n",
       "      <th>3</th>\n",
       "      <td>BMC infectious diseases</td>\n",
       "      <td>54</td>\n",
       "      <td>1.59</td>\n",
       "    </tr>\n",
       "    <tr>\n",
       "      <th>4</th>\n",
       "      <td>Acta tropica</td>\n",
       "      <td>53</td>\n",
       "      <td>1.56</td>\n",
       "    </tr>\n",
       "    <tr>\n",
       "      <th>5</th>\n",
       "      <td>Epidemiology and infection</td>\n",
       "      <td>44</td>\n",
       "      <td>1.30</td>\n",
       "    </tr>\n",
       "    <tr>\n",
       "      <th>6</th>\n",
       "      <td>Infection and immunity</td>\n",
       "      <td>41</td>\n",
       "      <td>1.21</td>\n",
       "    </tr>\n",
       "    <tr>\n",
       "      <th>7</th>\n",
       "      <td>Tropical animal health and production</td>\n",
       "      <td>39</td>\n",
       "      <td>1.15</td>\n",
       "    </tr>\n",
       "    <tr>\n",
       "      <th>8</th>\n",
       "      <td>Comparative immunology, microbiology and infec...</td>\n",
       "      <td>39</td>\n",
       "      <td>1.15</td>\n",
       "    </tr>\n",
       "    <tr>\n",
       "      <th>9</th>\n",
       "      <td>The Southeast Asian journal of tropical medici...</td>\n",
       "      <td>36</td>\n",
       "      <td>1.06</td>\n",
       "    </tr>\n",
       "    <tr>\n",
       "      <th>10</th>\n",
       "      <td>Microbial pathogenesis</td>\n",
       "      <td>35</td>\n",
       "      <td>1.03</td>\n",
       "    </tr>\n",
       "    <tr>\n",
       "      <th>11</th>\n",
       "      <td>Transactions of the Royal Society of Tropical ...</td>\n",
       "      <td>35</td>\n",
       "      <td>1.03</td>\n",
       "    </tr>\n",
       "    <tr>\n",
       "      <th>12</th>\n",
       "      <td>Journal of wildlife diseases</td>\n",
       "      <td>35</td>\n",
       "      <td>1.03</td>\n",
       "    </tr>\n",
       "    <tr>\n",
       "      <th>13</th>\n",
       "      <td>Scientific reports</td>\n",
       "      <td>32</td>\n",
       "      <td>0.94</td>\n",
       "    </tr>\n",
       "    <tr>\n",
       "      <th>14</th>\n",
       "      <td>International journal of environmental researc...</td>\n",
       "      <td>30</td>\n",
       "      <td>0.89</td>\n",
       "    </tr>\n",
       "    <tr>\n",
       "      <th>15</th>\n",
       "      <td>Emerging infectious diseases</td>\n",
       "      <td>30</td>\n",
       "      <td>0.89</td>\n",
       "    </tr>\n",
       "    <tr>\n",
       "      <th>16</th>\n",
       "      <td>Journal of clinical microbiology</td>\n",
       "      <td>29</td>\n",
       "      <td>0.86</td>\n",
       "    </tr>\n",
       "    <tr>\n",
       "      <th>17</th>\n",
       "      <td>Journal of medical microbiology</td>\n",
       "      <td>29</td>\n",
       "      <td>0.86</td>\n",
       "    </tr>\n",
       "    <tr>\n",
       "      <th>18</th>\n",
       "      <td>Vaccine</td>\n",
       "      <td>29</td>\n",
       "      <td>0.86</td>\n",
       "    </tr>\n",
       "    <tr>\n",
       "      <th>19</th>\n",
       "      <td>Veterinary microbiology</td>\n",
       "      <td>28</td>\n",
       "      <td>0.83</td>\n",
       "    </tr>\n",
       "  </tbody>\n",
       "</table>\n",
       "</div>"
      ],
      "text/plain": [
       "                                              Journal  J_Count  J_Share (%)\n",
       "0                    PLoS neglected tropical diseases      151         4.46\n",
       "1   The American journal of tropical medicine and ...      129         3.81\n",
       "2                                            PloS one      101         2.98\n",
       "3                             BMC infectious diseases       54         1.59\n",
       "4                                        Acta tropica       53         1.56\n",
       "5                          Epidemiology and infection       44         1.30\n",
       "6                              Infection and immunity       41         1.21\n",
       "7               Tropical animal health and production       39         1.15\n",
       "8   Comparative immunology, microbiology and infec...       39         1.15\n",
       "9   The Southeast Asian journal of tropical medici...       36         1.06\n",
       "10                             Microbial pathogenesis       35         1.03\n",
       "11  Transactions of the Royal Society of Tropical ...       35         1.03\n",
       "12                       Journal of wildlife diseases       35         1.03\n",
       "13                                 Scientific reports       32         0.94\n",
       "14  International journal of environmental researc...       30         0.89\n",
       "15                       Emerging infectious diseases       30         0.89\n",
       "16                   Journal of clinical microbiology       29         0.86\n",
       "17                    Journal of medical microbiology       29         0.86\n",
       "18                                            Vaccine       29         0.86\n",
       "19                            Veterinary microbiology       28         0.83"
      ]
     },
     "metadata": {},
     "output_type": "display_data"
    },
    {
     "data": {
      "application/vnd.plotly.v1+json": {
       "config": {
        "plotlyServerURL": "https://plot.ly"
       },
       "data": [
        {
         "alignmentgroup": "True",
         "hovertemplate": "Journal=%{x}<br>J_Count=%{y}<br>J_Share (%)=%{marker.color}<extra></extra>",
         "legendgroup": "",
         "marker": {
          "color": [
           4.46,
           3.81,
           2.98,
           1.59,
           1.56,
           1.3,
           1.21,
           1.15,
           1.15,
           1.06,
           1.03,
           1.03,
           1.03,
           0.94,
           0.89,
           0.89,
           0.86,
           0.86,
           0.86,
           0.83
          ],
          "coloraxis": "coloraxis",
          "pattern": {
           "shape": ""
          }
         },
         "name": "",
         "offsetgroup": "",
         "orientation": "v",
         "showlegend": false,
         "textposition": "auto",
         "type": "bar",
         "x": [
          "PLoS neglected tropical diseases",
          "The American journal of tropical medicine and hygiene",
          "PloS one",
          "BMC infectious diseases",
          "Acta tropica",
          "Epidemiology and infection",
          "Infection and immunity",
          "Tropical animal health and production",
          "Comparative immunology, microbiology and infectious diseases",
          "The Southeast Asian journal of tropical medicine and public health",
          "Microbial pathogenesis",
          "Transactions of the Royal Society of Tropical Medicine and Hygiene",
          "Journal of wildlife diseases",
          "Scientific reports",
          "International journal of environmental research and public health",
          "Emerging infectious diseases",
          "Journal of clinical microbiology",
          "Journal of medical microbiology",
          "Vaccine",
          "Veterinary microbiology"
         ],
         "xaxis": "x",
         "y": [
          151,
          129,
          101,
          54,
          53,
          44,
          41,
          39,
          39,
          36,
          35,
          35,
          35,
          32,
          30,
          30,
          29,
          29,
          29,
          28
         ],
         "yaxis": "y"
        }
       ],
       "layout": {
        "barmode": "relative",
        "coloraxis": {
         "colorbar": {
          "title": {
           "text": "J_Share (%)"
          }
         },
         "colorscale": [
          [
           0,
           "#0d0887"
          ],
          [
           0.1111111111111111,
           "#46039f"
          ],
          [
           0.2222222222222222,
           "#7201a8"
          ],
          [
           0.3333333333333333,
           "#9c179e"
          ],
          [
           0.4444444444444444,
           "#bd3786"
          ],
          [
           0.5555555555555556,
           "#d8576b"
          ],
          [
           0.6666666666666666,
           "#ed7953"
          ],
          [
           0.7777777777777778,
           "#fb9f3a"
          ],
          [
           0.8888888888888888,
           "#fdca26"
          ],
          [
           1,
           "#f0f921"
          ]
         ]
        },
        "legend": {
         "tracegroupgap": 0
        },
        "margin": {
         "t": 60
        },
        "template": {
         "data": {
          "bar": [
           {
            "error_x": {
             "color": "#2a3f5f"
            },
            "error_y": {
             "color": "#2a3f5f"
            },
            "marker": {
             "line": {
              "color": "#E5ECF6",
              "width": 0.5
             },
             "pattern": {
              "fillmode": "overlay",
              "size": 10,
              "solidity": 0.2
             }
            },
            "type": "bar"
           }
          ],
          "barpolar": [
           {
            "marker": {
             "line": {
              "color": "#E5ECF6",
              "width": 0.5
             },
             "pattern": {
              "fillmode": "overlay",
              "size": 10,
              "solidity": 0.2
             }
            },
            "type": "barpolar"
           }
          ],
          "carpet": [
           {
            "aaxis": {
             "endlinecolor": "#2a3f5f",
             "gridcolor": "white",
             "linecolor": "white",
             "minorgridcolor": "white",
             "startlinecolor": "#2a3f5f"
            },
            "baxis": {
             "endlinecolor": "#2a3f5f",
             "gridcolor": "white",
             "linecolor": "white",
             "minorgridcolor": "white",
             "startlinecolor": "#2a3f5f"
            },
            "type": "carpet"
           }
          ],
          "choropleth": [
           {
            "colorbar": {
             "outlinewidth": 0,
             "ticks": ""
            },
            "type": "choropleth"
           }
          ],
          "contour": [
           {
            "colorbar": {
             "outlinewidth": 0,
             "ticks": ""
            },
            "colorscale": [
             [
              0,
              "#0d0887"
             ],
             [
              0.1111111111111111,
              "#46039f"
             ],
             [
              0.2222222222222222,
              "#7201a8"
             ],
             [
              0.3333333333333333,
              "#9c179e"
             ],
             [
              0.4444444444444444,
              "#bd3786"
             ],
             [
              0.5555555555555556,
              "#d8576b"
             ],
             [
              0.6666666666666666,
              "#ed7953"
             ],
             [
              0.7777777777777778,
              "#fb9f3a"
             ],
             [
              0.8888888888888888,
              "#fdca26"
             ],
             [
              1,
              "#f0f921"
             ]
            ],
            "type": "contour"
           }
          ],
          "contourcarpet": [
           {
            "colorbar": {
             "outlinewidth": 0,
             "ticks": ""
            },
            "type": "contourcarpet"
           }
          ],
          "heatmap": [
           {
            "colorbar": {
             "outlinewidth": 0,
             "ticks": ""
            },
            "colorscale": [
             [
              0,
              "#0d0887"
             ],
             [
              0.1111111111111111,
              "#46039f"
             ],
             [
              0.2222222222222222,
              "#7201a8"
             ],
             [
              0.3333333333333333,
              "#9c179e"
             ],
             [
              0.4444444444444444,
              "#bd3786"
             ],
             [
              0.5555555555555556,
              "#d8576b"
             ],
             [
              0.6666666666666666,
              "#ed7953"
             ],
             [
              0.7777777777777778,
              "#fb9f3a"
             ],
             [
              0.8888888888888888,
              "#fdca26"
             ],
             [
              1,
              "#f0f921"
             ]
            ],
            "type": "heatmap"
           }
          ],
          "heatmapgl": [
           {
            "colorbar": {
             "outlinewidth": 0,
             "ticks": ""
            },
            "colorscale": [
             [
              0,
              "#0d0887"
             ],
             [
              0.1111111111111111,
              "#46039f"
             ],
             [
              0.2222222222222222,
              "#7201a8"
             ],
             [
              0.3333333333333333,
              "#9c179e"
             ],
             [
              0.4444444444444444,
              "#bd3786"
             ],
             [
              0.5555555555555556,
              "#d8576b"
             ],
             [
              0.6666666666666666,
              "#ed7953"
             ],
             [
              0.7777777777777778,
              "#fb9f3a"
             ],
             [
              0.8888888888888888,
              "#fdca26"
             ],
             [
              1,
              "#f0f921"
             ]
            ],
            "type": "heatmapgl"
           }
          ],
          "histogram": [
           {
            "marker": {
             "pattern": {
              "fillmode": "overlay",
              "size": 10,
              "solidity": 0.2
             }
            },
            "type": "histogram"
           }
          ],
          "histogram2d": [
           {
            "colorbar": {
             "outlinewidth": 0,
             "ticks": ""
            },
            "colorscale": [
             [
              0,
              "#0d0887"
             ],
             [
              0.1111111111111111,
              "#46039f"
             ],
             [
              0.2222222222222222,
              "#7201a8"
             ],
             [
              0.3333333333333333,
              "#9c179e"
             ],
             [
              0.4444444444444444,
              "#bd3786"
             ],
             [
              0.5555555555555556,
              "#d8576b"
             ],
             [
              0.6666666666666666,
              "#ed7953"
             ],
             [
              0.7777777777777778,
              "#fb9f3a"
             ],
             [
              0.8888888888888888,
              "#fdca26"
             ],
             [
              1,
              "#f0f921"
             ]
            ],
            "type": "histogram2d"
           }
          ],
          "histogram2dcontour": [
           {
            "colorbar": {
             "outlinewidth": 0,
             "ticks": ""
            },
            "colorscale": [
             [
              0,
              "#0d0887"
             ],
             [
              0.1111111111111111,
              "#46039f"
             ],
             [
              0.2222222222222222,
              "#7201a8"
             ],
             [
              0.3333333333333333,
              "#9c179e"
             ],
             [
              0.4444444444444444,
              "#bd3786"
             ],
             [
              0.5555555555555556,
              "#d8576b"
             ],
             [
              0.6666666666666666,
              "#ed7953"
             ],
             [
              0.7777777777777778,
              "#fb9f3a"
             ],
             [
              0.8888888888888888,
              "#fdca26"
             ],
             [
              1,
              "#f0f921"
             ]
            ],
            "type": "histogram2dcontour"
           }
          ],
          "mesh3d": [
           {
            "colorbar": {
             "outlinewidth": 0,
             "ticks": ""
            },
            "type": "mesh3d"
           }
          ],
          "parcoords": [
           {
            "line": {
             "colorbar": {
              "outlinewidth": 0,
              "ticks": ""
             }
            },
            "type": "parcoords"
           }
          ],
          "pie": [
           {
            "automargin": true,
            "type": "pie"
           }
          ],
          "scatter": [
           {
            "fillpattern": {
             "fillmode": "overlay",
             "size": 10,
             "solidity": 0.2
            },
            "type": "scatter"
           }
          ],
          "scatter3d": [
           {
            "line": {
             "colorbar": {
              "outlinewidth": 0,
              "ticks": ""
             }
            },
            "marker": {
             "colorbar": {
              "outlinewidth": 0,
              "ticks": ""
             }
            },
            "type": "scatter3d"
           }
          ],
          "scattercarpet": [
           {
            "marker": {
             "colorbar": {
              "outlinewidth": 0,
              "ticks": ""
             }
            },
            "type": "scattercarpet"
           }
          ],
          "scattergeo": [
           {
            "marker": {
             "colorbar": {
              "outlinewidth": 0,
              "ticks": ""
             }
            },
            "type": "scattergeo"
           }
          ],
          "scattergl": [
           {
            "marker": {
             "colorbar": {
              "outlinewidth": 0,
              "ticks": ""
             }
            },
            "type": "scattergl"
           }
          ],
          "scattermapbox": [
           {
            "marker": {
             "colorbar": {
              "outlinewidth": 0,
              "ticks": ""
             }
            },
            "type": "scattermapbox"
           }
          ],
          "scatterpolar": [
           {
            "marker": {
             "colorbar": {
              "outlinewidth": 0,
              "ticks": ""
             }
            },
            "type": "scatterpolar"
           }
          ],
          "scatterpolargl": [
           {
            "marker": {
             "colorbar": {
              "outlinewidth": 0,
              "ticks": ""
             }
            },
            "type": "scatterpolargl"
           }
          ],
          "scatterternary": [
           {
            "marker": {
             "colorbar": {
              "outlinewidth": 0,
              "ticks": ""
             }
            },
            "type": "scatterternary"
           }
          ],
          "surface": [
           {
            "colorbar": {
             "outlinewidth": 0,
             "ticks": ""
            },
            "colorscale": [
             [
              0,
              "#0d0887"
             ],
             [
              0.1111111111111111,
              "#46039f"
             ],
             [
              0.2222222222222222,
              "#7201a8"
             ],
             [
              0.3333333333333333,
              "#9c179e"
             ],
             [
              0.4444444444444444,
              "#bd3786"
             ],
             [
              0.5555555555555556,
              "#d8576b"
             ],
             [
              0.6666666666666666,
              "#ed7953"
             ],
             [
              0.7777777777777778,
              "#fb9f3a"
             ],
             [
              0.8888888888888888,
              "#fdca26"
             ],
             [
              1,
              "#f0f921"
             ]
            ],
            "type": "surface"
           }
          ],
          "table": [
           {
            "cells": {
             "fill": {
              "color": "#EBF0F8"
             },
             "line": {
              "color": "white"
             }
            },
            "header": {
             "fill": {
              "color": "#C8D4E3"
             },
             "line": {
              "color": "white"
             }
            },
            "type": "table"
           }
          ]
         },
         "layout": {
          "annotationdefaults": {
           "arrowcolor": "#2a3f5f",
           "arrowhead": 0,
           "arrowwidth": 1
          },
          "autotypenumbers": "strict",
          "coloraxis": {
           "colorbar": {
            "outlinewidth": 0,
            "ticks": ""
           }
          },
          "colorscale": {
           "diverging": [
            [
             0,
             "#8e0152"
            ],
            [
             0.1,
             "#c51b7d"
            ],
            [
             0.2,
             "#de77ae"
            ],
            [
             0.3,
             "#f1b6da"
            ],
            [
             0.4,
             "#fde0ef"
            ],
            [
             0.5,
             "#f7f7f7"
            ],
            [
             0.6,
             "#e6f5d0"
            ],
            [
             0.7,
             "#b8e186"
            ],
            [
             0.8,
             "#7fbc41"
            ],
            [
             0.9,
             "#4d9221"
            ],
            [
             1,
             "#276419"
            ]
           ],
           "sequential": [
            [
             0,
             "#0d0887"
            ],
            [
             0.1111111111111111,
             "#46039f"
            ],
            [
             0.2222222222222222,
             "#7201a8"
            ],
            [
             0.3333333333333333,
             "#9c179e"
            ],
            [
             0.4444444444444444,
             "#bd3786"
            ],
            [
             0.5555555555555556,
             "#d8576b"
            ],
            [
             0.6666666666666666,
             "#ed7953"
            ],
            [
             0.7777777777777778,
             "#fb9f3a"
            ],
            [
             0.8888888888888888,
             "#fdca26"
            ],
            [
             1,
             "#f0f921"
            ]
           ],
           "sequentialminus": [
            [
             0,
             "#0d0887"
            ],
            [
             0.1111111111111111,
             "#46039f"
            ],
            [
             0.2222222222222222,
             "#7201a8"
            ],
            [
             0.3333333333333333,
             "#9c179e"
            ],
            [
             0.4444444444444444,
             "#bd3786"
            ],
            [
             0.5555555555555556,
             "#d8576b"
            ],
            [
             0.6666666666666666,
             "#ed7953"
            ],
            [
             0.7777777777777778,
             "#fb9f3a"
            ],
            [
             0.8888888888888888,
             "#fdca26"
            ],
            [
             1,
             "#f0f921"
            ]
           ]
          },
          "colorway": [
           "#636efa",
           "#EF553B",
           "#00cc96",
           "#ab63fa",
           "#FFA15A",
           "#19d3f3",
           "#FF6692",
           "#B6E880",
           "#FF97FF",
           "#FECB52"
          ],
          "font": {
           "color": "#2a3f5f"
          },
          "geo": {
           "bgcolor": "white",
           "lakecolor": "white",
           "landcolor": "#E5ECF6",
           "showlakes": true,
           "showland": true,
           "subunitcolor": "white"
          },
          "hoverlabel": {
           "align": "left"
          },
          "hovermode": "closest",
          "mapbox": {
           "style": "light"
          },
          "paper_bgcolor": "white",
          "plot_bgcolor": "#E5ECF6",
          "polar": {
           "angularaxis": {
            "gridcolor": "white",
            "linecolor": "white",
            "ticks": ""
           },
           "bgcolor": "#E5ECF6",
           "radialaxis": {
            "gridcolor": "white",
            "linecolor": "white",
            "ticks": ""
           }
          },
          "scene": {
           "xaxis": {
            "backgroundcolor": "#E5ECF6",
            "gridcolor": "white",
            "gridwidth": 2,
            "linecolor": "white",
            "showbackground": true,
            "ticks": "",
            "zerolinecolor": "white"
           },
           "yaxis": {
            "backgroundcolor": "#E5ECF6",
            "gridcolor": "white",
            "gridwidth": 2,
            "linecolor": "white",
            "showbackground": true,
            "ticks": "",
            "zerolinecolor": "white"
           },
           "zaxis": {
            "backgroundcolor": "#E5ECF6",
            "gridcolor": "white",
            "gridwidth": 2,
            "linecolor": "white",
            "showbackground": true,
            "ticks": "",
            "zerolinecolor": "white"
           }
          },
          "shapedefaults": {
           "line": {
            "color": "#2a3f5f"
           }
          },
          "ternary": {
           "aaxis": {
            "gridcolor": "white",
            "linecolor": "white",
            "ticks": ""
           },
           "baxis": {
            "gridcolor": "white",
            "linecolor": "white",
            "ticks": ""
           },
           "bgcolor": "#E5ECF6",
           "caxis": {
            "gridcolor": "white",
            "linecolor": "white",
            "ticks": ""
           }
          },
          "title": {
           "x": 0.05
          },
          "xaxis": {
           "automargin": true,
           "gridcolor": "white",
           "linecolor": "white",
           "ticks": "",
           "title": {
            "standoff": 15
           },
           "zerolinecolor": "white",
           "zerolinewidth": 2
          },
          "yaxis": {
           "automargin": true,
           "gridcolor": "white",
           "linecolor": "white",
           "ticks": "",
           "title": {
            "standoff": 15
           },
           "zerolinecolor": "white",
           "zerolinewidth": 2
          }
         }
        },
        "xaxis": {
         "anchor": "y",
         "domain": [
          0,
          1
         ],
         "title": {
          "text": "Journal"
         }
        },
        "yaxis": {
         "anchor": "x",
         "domain": [
          0,
          1
         ],
         "title": {
          "text": "J_Count"
         }
        }
       }
      },
      "text/html": [
       "<div>                            <div id=\"0d63a28c-d424-4fa4-b9d1-6b6c56c32e02\" class=\"plotly-graph-div\" style=\"height:525px; width:100%;\"></div>            <script type=\"text/javascript\">                require([\"plotly\"], function(Plotly) {                    window.PLOTLYENV=window.PLOTLYENV || {};                                    if (document.getElementById(\"0d63a28c-d424-4fa4-b9d1-6b6c56c32e02\")) {                    Plotly.newPlot(                        \"0d63a28c-d424-4fa4-b9d1-6b6c56c32e02\",                        [{\"alignmentgroup\":\"True\",\"hovertemplate\":\"Journal=%{x}<br>J_Count=%{y}<br>J_Share (%)=%{marker.color}<extra></extra>\",\"legendgroup\":\"\",\"marker\":{\"color\":[4.46,3.81,2.98,1.59,1.56,1.3,1.21,1.15,1.15,1.06,1.03,1.03,1.03,0.94,0.89,0.89,0.86,0.86,0.86,0.83],\"coloraxis\":\"coloraxis\",\"pattern\":{\"shape\":\"\"}},\"name\":\"\",\"offsetgroup\":\"\",\"orientation\":\"v\",\"showlegend\":false,\"textposition\":\"auto\",\"x\":[\"PLoS neglected tropical diseases\",\"The American journal of tropical medicine and hygiene\",\"PloS one\",\"BMC infectious diseases\",\"Acta tropica\",\"Epidemiology and infection\",\"Infection and immunity\",\"Tropical animal health and production\",\"Comparative immunology, microbiology and infectious diseases\",\"The Southeast Asian journal of tropical medicine and public health\",\"Microbial pathogenesis\",\"Transactions of the Royal Society of Tropical Medicine and Hygiene\",\"Journal of wildlife diseases\",\"Scientific reports\",\"International journal of environmental research and public health\",\"Emerging infectious diseases\",\"Journal of clinical microbiology\",\"Journal of medical microbiology\",\"Vaccine\",\"Veterinary microbiology\"],\"xaxis\":\"x\",\"y\":[151,129,101,54,53,44,41,39,39,36,35,35,35,32,30,30,29,29,29,28],\"yaxis\":\"y\",\"type\":\"bar\"}],                        {\"template\":{\"data\":{\"histogram2dcontour\":[{\"type\":\"histogram2dcontour\",\"colorbar\":{\"outlinewidth\":0,\"ticks\":\"\"},\"colorscale\":[[0.0,\"#0d0887\"],[0.1111111111111111,\"#46039f\"],[0.2222222222222222,\"#7201a8\"],[0.3333333333333333,\"#9c179e\"],[0.4444444444444444,\"#bd3786\"],[0.5555555555555556,\"#d8576b\"],[0.6666666666666666,\"#ed7953\"],[0.7777777777777778,\"#fb9f3a\"],[0.8888888888888888,\"#fdca26\"],[1.0,\"#f0f921\"]]}],\"choropleth\":[{\"type\":\"choropleth\",\"colorbar\":{\"outlinewidth\":0,\"ticks\":\"\"}}],\"histogram2d\":[{\"type\":\"histogram2d\",\"colorbar\":{\"outlinewidth\":0,\"ticks\":\"\"},\"colorscale\":[[0.0,\"#0d0887\"],[0.1111111111111111,\"#46039f\"],[0.2222222222222222,\"#7201a8\"],[0.3333333333333333,\"#9c179e\"],[0.4444444444444444,\"#bd3786\"],[0.5555555555555556,\"#d8576b\"],[0.6666666666666666,\"#ed7953\"],[0.7777777777777778,\"#fb9f3a\"],[0.8888888888888888,\"#fdca26\"],[1.0,\"#f0f921\"]]}],\"heatmap\":[{\"type\":\"heatmap\",\"colorbar\":{\"outlinewidth\":0,\"ticks\":\"\"},\"colorscale\":[[0.0,\"#0d0887\"],[0.1111111111111111,\"#46039f\"],[0.2222222222222222,\"#7201a8\"],[0.3333333333333333,\"#9c179e\"],[0.4444444444444444,\"#bd3786\"],[0.5555555555555556,\"#d8576b\"],[0.6666666666666666,\"#ed7953\"],[0.7777777777777778,\"#fb9f3a\"],[0.8888888888888888,\"#fdca26\"],[1.0,\"#f0f921\"]]}],\"heatmapgl\":[{\"type\":\"heatmapgl\",\"colorbar\":{\"outlinewidth\":0,\"ticks\":\"\"},\"colorscale\":[[0.0,\"#0d0887\"],[0.1111111111111111,\"#46039f\"],[0.2222222222222222,\"#7201a8\"],[0.3333333333333333,\"#9c179e\"],[0.4444444444444444,\"#bd3786\"],[0.5555555555555556,\"#d8576b\"],[0.6666666666666666,\"#ed7953\"],[0.7777777777777778,\"#fb9f3a\"],[0.8888888888888888,\"#fdca26\"],[1.0,\"#f0f921\"]]}],\"contourcarpet\":[{\"type\":\"contourcarpet\",\"colorbar\":{\"outlinewidth\":0,\"ticks\":\"\"}}],\"contour\":[{\"type\":\"contour\",\"colorbar\":{\"outlinewidth\":0,\"ticks\":\"\"},\"colorscale\":[[0.0,\"#0d0887\"],[0.1111111111111111,\"#46039f\"],[0.2222222222222222,\"#7201a8\"],[0.3333333333333333,\"#9c179e\"],[0.4444444444444444,\"#bd3786\"],[0.5555555555555556,\"#d8576b\"],[0.6666666666666666,\"#ed7953\"],[0.7777777777777778,\"#fb9f3a\"],[0.8888888888888888,\"#fdca26\"],[1.0,\"#f0f921\"]]}],\"surface\":[{\"type\":\"surface\",\"colorbar\":{\"outlinewidth\":0,\"ticks\":\"\"},\"colorscale\":[[0.0,\"#0d0887\"],[0.1111111111111111,\"#46039f\"],[0.2222222222222222,\"#7201a8\"],[0.3333333333333333,\"#9c179e\"],[0.4444444444444444,\"#bd3786\"],[0.5555555555555556,\"#d8576b\"],[0.6666666666666666,\"#ed7953\"],[0.7777777777777778,\"#fb9f3a\"],[0.8888888888888888,\"#fdca26\"],[1.0,\"#f0f921\"]]}],\"mesh3d\":[{\"type\":\"mesh3d\",\"colorbar\":{\"outlinewidth\":0,\"ticks\":\"\"}}],\"scatter\":[{\"fillpattern\":{\"fillmode\":\"overlay\",\"size\":10,\"solidity\":0.2},\"type\":\"scatter\"}],\"parcoords\":[{\"type\":\"parcoords\",\"line\":{\"colorbar\":{\"outlinewidth\":0,\"ticks\":\"\"}}}],\"scatterpolargl\":[{\"type\":\"scatterpolargl\",\"marker\":{\"colorbar\":{\"outlinewidth\":0,\"ticks\":\"\"}}}],\"bar\":[{\"error_x\":{\"color\":\"#2a3f5f\"},\"error_y\":{\"color\":\"#2a3f5f\"},\"marker\":{\"line\":{\"color\":\"#E5ECF6\",\"width\":0.5},\"pattern\":{\"fillmode\":\"overlay\",\"size\":10,\"solidity\":0.2}},\"type\":\"bar\"}],\"scattergeo\":[{\"type\":\"scattergeo\",\"marker\":{\"colorbar\":{\"outlinewidth\":0,\"ticks\":\"\"}}}],\"scatterpolar\":[{\"type\":\"scatterpolar\",\"marker\":{\"colorbar\":{\"outlinewidth\":0,\"ticks\":\"\"}}}],\"histogram\":[{\"marker\":{\"pattern\":{\"fillmode\":\"overlay\",\"size\":10,\"solidity\":0.2}},\"type\":\"histogram\"}],\"scattergl\":[{\"type\":\"scattergl\",\"marker\":{\"colorbar\":{\"outlinewidth\":0,\"ticks\":\"\"}}}],\"scatter3d\":[{\"type\":\"scatter3d\",\"line\":{\"colorbar\":{\"outlinewidth\":0,\"ticks\":\"\"}},\"marker\":{\"colorbar\":{\"outlinewidth\":0,\"ticks\":\"\"}}}],\"scattermapbox\":[{\"type\":\"scattermapbox\",\"marker\":{\"colorbar\":{\"outlinewidth\":0,\"ticks\":\"\"}}}],\"scatterternary\":[{\"type\":\"scatterternary\",\"marker\":{\"colorbar\":{\"outlinewidth\":0,\"ticks\":\"\"}}}],\"scattercarpet\":[{\"type\":\"scattercarpet\",\"marker\":{\"colorbar\":{\"outlinewidth\":0,\"ticks\":\"\"}}}],\"carpet\":[{\"aaxis\":{\"endlinecolor\":\"#2a3f5f\",\"gridcolor\":\"white\",\"linecolor\":\"white\",\"minorgridcolor\":\"white\",\"startlinecolor\":\"#2a3f5f\"},\"baxis\":{\"endlinecolor\":\"#2a3f5f\",\"gridcolor\":\"white\",\"linecolor\":\"white\",\"minorgridcolor\":\"white\",\"startlinecolor\":\"#2a3f5f\"},\"type\":\"carpet\"}],\"table\":[{\"cells\":{\"fill\":{\"color\":\"#EBF0F8\"},\"line\":{\"color\":\"white\"}},\"header\":{\"fill\":{\"color\":\"#C8D4E3\"},\"line\":{\"color\":\"white\"}},\"type\":\"table\"}],\"barpolar\":[{\"marker\":{\"line\":{\"color\":\"#E5ECF6\",\"width\":0.5},\"pattern\":{\"fillmode\":\"overlay\",\"size\":10,\"solidity\":0.2}},\"type\":\"barpolar\"}],\"pie\":[{\"automargin\":true,\"type\":\"pie\"}]},\"layout\":{\"autotypenumbers\":\"strict\",\"colorway\":[\"#636efa\",\"#EF553B\",\"#00cc96\",\"#ab63fa\",\"#FFA15A\",\"#19d3f3\",\"#FF6692\",\"#B6E880\",\"#FF97FF\",\"#FECB52\"],\"font\":{\"color\":\"#2a3f5f\"},\"hovermode\":\"closest\",\"hoverlabel\":{\"align\":\"left\"},\"paper_bgcolor\":\"white\",\"plot_bgcolor\":\"#E5ECF6\",\"polar\":{\"bgcolor\":\"#E5ECF6\",\"angularaxis\":{\"gridcolor\":\"white\",\"linecolor\":\"white\",\"ticks\":\"\"},\"radialaxis\":{\"gridcolor\":\"white\",\"linecolor\":\"white\",\"ticks\":\"\"}},\"ternary\":{\"bgcolor\":\"#E5ECF6\",\"aaxis\":{\"gridcolor\":\"white\",\"linecolor\":\"white\",\"ticks\":\"\"},\"baxis\":{\"gridcolor\":\"white\",\"linecolor\":\"white\",\"ticks\":\"\"},\"caxis\":{\"gridcolor\":\"white\",\"linecolor\":\"white\",\"ticks\":\"\"}},\"coloraxis\":{\"colorbar\":{\"outlinewidth\":0,\"ticks\":\"\"}},\"colorscale\":{\"sequential\":[[0.0,\"#0d0887\"],[0.1111111111111111,\"#46039f\"],[0.2222222222222222,\"#7201a8\"],[0.3333333333333333,\"#9c179e\"],[0.4444444444444444,\"#bd3786\"],[0.5555555555555556,\"#d8576b\"],[0.6666666666666666,\"#ed7953\"],[0.7777777777777778,\"#fb9f3a\"],[0.8888888888888888,\"#fdca26\"],[1.0,\"#f0f921\"]],\"sequentialminus\":[[0.0,\"#0d0887\"],[0.1111111111111111,\"#46039f\"],[0.2222222222222222,\"#7201a8\"],[0.3333333333333333,\"#9c179e\"],[0.4444444444444444,\"#bd3786\"],[0.5555555555555556,\"#d8576b\"],[0.6666666666666666,\"#ed7953\"],[0.7777777777777778,\"#fb9f3a\"],[0.8888888888888888,\"#fdca26\"],[1.0,\"#f0f921\"]],\"diverging\":[[0,\"#8e0152\"],[0.1,\"#c51b7d\"],[0.2,\"#de77ae\"],[0.3,\"#f1b6da\"],[0.4,\"#fde0ef\"],[0.5,\"#f7f7f7\"],[0.6,\"#e6f5d0\"],[0.7,\"#b8e186\"],[0.8,\"#7fbc41\"],[0.9,\"#4d9221\"],[1,\"#276419\"]]},\"xaxis\":{\"gridcolor\":\"white\",\"linecolor\":\"white\",\"ticks\":\"\",\"title\":{\"standoff\":15},\"zerolinecolor\":\"white\",\"automargin\":true,\"zerolinewidth\":2},\"yaxis\":{\"gridcolor\":\"white\",\"linecolor\":\"white\",\"ticks\":\"\",\"title\":{\"standoff\":15},\"zerolinecolor\":\"white\",\"automargin\":true,\"zerolinewidth\":2},\"scene\":{\"xaxis\":{\"backgroundcolor\":\"#E5ECF6\",\"gridcolor\":\"white\",\"linecolor\":\"white\",\"showbackground\":true,\"ticks\":\"\",\"zerolinecolor\":\"white\",\"gridwidth\":2},\"yaxis\":{\"backgroundcolor\":\"#E5ECF6\",\"gridcolor\":\"white\",\"linecolor\":\"white\",\"showbackground\":true,\"ticks\":\"\",\"zerolinecolor\":\"white\",\"gridwidth\":2},\"zaxis\":{\"backgroundcolor\":\"#E5ECF6\",\"gridcolor\":\"white\",\"linecolor\":\"white\",\"showbackground\":true,\"ticks\":\"\",\"zerolinecolor\":\"white\",\"gridwidth\":2}},\"shapedefaults\":{\"line\":{\"color\":\"#2a3f5f\"}},\"annotationdefaults\":{\"arrowcolor\":\"#2a3f5f\",\"arrowhead\":0,\"arrowwidth\":1},\"geo\":{\"bgcolor\":\"white\",\"landcolor\":\"#E5ECF6\",\"subunitcolor\":\"white\",\"showland\":true,\"showlakes\":true,\"lakecolor\":\"white\"},\"title\":{\"x\":0.05},\"mapbox\":{\"style\":\"light\"}}},\"xaxis\":{\"anchor\":\"y\",\"domain\":[0.0,1.0],\"title\":{\"text\":\"Journal\"}},\"yaxis\":{\"anchor\":\"x\",\"domain\":[0.0,1.0],\"title\":{\"text\":\"J_Count\"}},\"coloraxis\":{\"colorbar\":{\"title\":{\"text\":\"J_Share (%)\"}},\"colorscale\":[[0.0,\"#0d0887\"],[0.1111111111111111,\"#46039f\"],[0.2222222222222222,\"#7201a8\"],[0.3333333333333333,\"#9c179e\"],[0.4444444444444444,\"#bd3786\"],[0.5555555555555556,\"#d8576b\"],[0.6666666666666666,\"#ed7953\"],[0.7777777777777778,\"#fb9f3a\"],[0.8888888888888888,\"#fdca26\"],[1.0,\"#f0f921\"]]},\"legend\":{\"tracegroupgap\":0},\"margin\":{\"t\":60},\"barmode\":\"relative\"},                        {\"responsive\": true}                    ).then(function(){\n",
       "                            \n",
       "var gd = document.getElementById('0d63a28c-d424-4fa4-b9d1-6b6c56c32e02');\n",
       "var x = new MutationObserver(function (mutations, observer) {{\n",
       "        var display = window.getComputedStyle(gd).display;\n",
       "        if (!display || display === 'none') {{\n",
       "            console.log([gd, 'removed!']);\n",
       "            Plotly.purge(gd);\n",
       "            observer.disconnect();\n",
       "        }}\n",
       "}});\n",
       "\n",
       "// Listen for the removal of the full notebook cells\n",
       "var notebookContainer = gd.closest('#notebook-container');\n",
       "if (notebookContainer) {{\n",
       "    x.observe(notebookContainer, {childList: true});\n",
       "}}\n",
       "\n",
       "// Listen for the clearing of the current output cell\n",
       "var outputEl = gd.closest('.output');\n",
       "if (outputEl) {{\n",
       "    x.observe(outputEl, {childList: true});\n",
       "}}\n",
       "\n",
       "                        })                };                });            </script>        </div>"
      ]
     },
     "metadata": {},
     "output_type": "display_data"
    }
   ],
   "source": [
    "lep_jou_aff = lep_article_data['Journal'].value_counts().reset_index()\n",
    "lep_jou_aff.columns = ['Journal', 'J_Count']\n",
    "\n",
    "lep_ja_sum = lep_jou_aff['J_Count'].sum()\n",
    "\n",
    "lep_jou_aff['J_Share (%)'] = round((lep_jou_aff['J_Count'] / lep_ja_sum) * 100, 2)\n",
    "\n",
    "lep_ja_top20 = lep_jou_aff.iloc[:20,:]\n",
    "\n",
    "ipd.display(lep_ja_top20)\n",
    "\n",
    "lep_ja_top20_bar = px.bar(lep_ja_top20,\n",
    "                    x = 'Journal',\n",
    "                    y = 'J_Count',\n",
    "                    color = 'J_Share (%)')\n",
    "\n",
    "lep_ja_top20_bar.show()"
   ]
  },
  {
   "cell_type": "code",
   "execution_count": 127,
   "id": "7a7d6801",
   "metadata": {
    "scrolled": false
   },
   "outputs": [
    {
     "data": {
      "text/html": [
       "<div>\n",
       "<style scoped>\n",
       "    .dataframe tbody tr th:only-of-type {\n",
       "        vertical-align: middle;\n",
       "    }\n",
       "\n",
       "    .dataframe tbody tr th {\n",
       "        vertical-align: top;\n",
       "    }\n",
       "\n",
       "    .dataframe thead th {\n",
       "        text-align: right;\n",
       "    }\n",
       "</style>\n",
       "<table border=\"1\" class=\"dataframe\">\n",
       "  <thead>\n",
       "    <tr style=\"text-align: right;\">\n",
       "      <th></th>\n",
       "      <th>Journal</th>\n",
       "      <th>Top_A_Fullname</th>\n",
       "      <th>Top_A_J_Count</th>\n",
       "    </tr>\n",
       "  </thead>\n",
       "  <tbody>\n",
       "    <tr>\n",
       "      <th>0</th>\n",
       "      <td>PLoS neglected tropical diseases</td>\n",
       "      <td>Ko AI</td>\n",
       "      <td>20</td>\n",
       "    </tr>\n",
       "    <tr>\n",
       "      <th>1</th>\n",
       "      <td>The American journal of tropical medicine and ...</td>\n",
       "      <td>Vinetz JM</td>\n",
       "      <td>14</td>\n",
       "    </tr>\n",
       "    <tr>\n",
       "      <th>2</th>\n",
       "      <td>Tropical animal health and production</td>\n",
       "      <td>Lilenbaum W</td>\n",
       "      <td>10</td>\n",
       "    </tr>\n",
       "    <tr>\n",
       "      <th>3</th>\n",
       "      <td>Vaccine</td>\n",
       "      <td>Dellagostin OA</td>\n",
       "      <td>9</td>\n",
       "    </tr>\n",
       "    <tr>\n",
       "      <th>4</th>\n",
       "      <td>Research in veterinary science</td>\n",
       "      <td>Lilenbaum W</td>\n",
       "      <td>8</td>\n",
       "    </tr>\n",
       "    <tr>\n",
       "      <th>5</th>\n",
       "      <td>Microbial pathogenesis</td>\n",
       "      <td>Cao Y</td>\n",
       "      <td>8</td>\n",
       "    </tr>\n",
       "    <tr>\n",
       "      <th>6</th>\n",
       "      <td>The Indian journal of medical research</td>\n",
       "      <td>Sugunan AP</td>\n",
       "      <td>7</td>\n",
       "    </tr>\n",
       "    <tr>\n",
       "      <th>7</th>\n",
       "      <td>Infection and immunity</td>\n",
       "      <td>Adler B</td>\n",
       "      <td>7</td>\n",
       "    </tr>\n",
       "    <tr>\n",
       "      <th>8</th>\n",
       "      <td>New Zealand veterinary journal</td>\n",
       "      <td>Collins-Emerson JM</td>\n",
       "      <td>7</td>\n",
       "    </tr>\n",
       "    <tr>\n",
       "      <th>9</th>\n",
       "      <td>Tropical biomedicine</td>\n",
       "      <td>Bahaman AR</td>\n",
       "      <td>6</td>\n",
       "    </tr>\n",
       "    <tr>\n",
       "      <th>10</th>\n",
       "      <td>Veterinary microbiology</td>\n",
       "      <td>Adler B</td>\n",
       "      <td>6</td>\n",
       "    </tr>\n",
       "    <tr>\n",
       "      <th>11</th>\n",
       "      <td>Transactions of the Royal Society of Tropical ...</td>\n",
       "      <td>Rajapakse S</td>\n",
       "      <td>6</td>\n",
       "    </tr>\n",
       "    <tr>\n",
       "      <th>12</th>\n",
       "      <td>Current microbiology</td>\n",
       "      <td>Dellagostin OA</td>\n",
       "      <td>5</td>\n",
       "    </tr>\n",
       "    <tr>\n",
       "      <th>13</th>\n",
       "      <td>Journal of clinical microbiology</td>\n",
       "      <td>Picardeau M</td>\n",
       "      <td>5</td>\n",
       "    </tr>\n",
       "    <tr>\n",
       "      <th>14</th>\n",
       "      <td>Annals of tropical medicine and parasitology</td>\n",
       "      <td>Craig SB</td>\n",
       "      <td>5</td>\n",
       "    </tr>\n",
       "    <tr>\n",
       "      <th>15</th>\n",
       "      <td>Journal of medical microbiology</td>\n",
       "      <td>Koizumi N</td>\n",
       "      <td>5</td>\n",
       "    </tr>\n",
       "    <tr>\n",
       "      <th>16</th>\n",
       "      <td>Comparative immunology, microbiology and infec...</td>\n",
       "      <td>Lilenbaum W</td>\n",
       "      <td>5</td>\n",
       "    </tr>\n",
       "    <tr>\n",
       "      <th>17</th>\n",
       "      <td>Journal of wildlife diseases</td>\n",
       "      <td>Gulland FM</td>\n",
       "      <td>5</td>\n",
       "    </tr>\n",
       "    <tr>\n",
       "      <th>18</th>\n",
       "      <td>Acta tropica</td>\n",
       "      <td>Ko AI</td>\n",
       "      <td>5</td>\n",
       "    </tr>\n",
       "    <tr>\n",
       "      <th>19</th>\n",
       "      <td>PLoS pathogens</td>\n",
       "      <td>Picardeau M</td>\n",
       "      <td>5</td>\n",
       "    </tr>\n",
       "    <tr>\n",
       "      <th>20</th>\n",
       "      <td>Zoonoses and public health</td>\n",
       "      <td>Heuer C</td>\n",
       "      <td>5</td>\n",
       "    </tr>\n",
       "    <tr>\n",
       "      <th>21</th>\n",
       "      <td>BMC infectious diseases</td>\n",
       "      <td>Agampodi SB</td>\n",
       "      <td>5</td>\n",
       "    </tr>\n",
       "    <tr>\n",
       "      <th>22</th>\n",
       "      <td>PloS one</td>\n",
       "      <td>Chen X</td>\n",
       "      <td>5</td>\n",
       "    </tr>\n",
       "    <tr>\n",
       "      <th>23</th>\n",
       "      <td>Theriogenology</td>\n",
       "      <td>Lilenbaum W</td>\n",
       "      <td>5</td>\n",
       "    </tr>\n",
       "    <tr>\n",
       "      <th>24</th>\n",
       "      <td>Journal of infection in developing countries</td>\n",
       "      <td>Puca E</td>\n",
       "      <td>4</td>\n",
       "    </tr>\n",
       "    <tr>\n",
       "      <th>25</th>\n",
       "      <td>The Cochrane database of systematic reviews</td>\n",
       "      <td>Atallah AN</td>\n",
       "      <td>4</td>\n",
       "    </tr>\n",
       "    <tr>\n",
       "      <th>26</th>\n",
       "      <td>The New Zealand medical journal</td>\n",
       "      <td>Benschop J</td>\n",
       "      <td>4</td>\n",
       "    </tr>\n",
       "    <tr>\n",
       "      <th>27</th>\n",
       "      <td>Klinicheskaia laboratornaia diagnostika</td>\n",
       "      <td>Avdeeva MG</td>\n",
       "      <td>4</td>\n",
       "    </tr>\n",
       "    <tr>\n",
       "      <th>28</th>\n",
       "      <td>Journal of immunology (Baltimore, Md. : 1950)</td>\n",
       "      <td>Werts C</td>\n",
       "      <td>4</td>\n",
       "    </tr>\n",
       "    <tr>\n",
       "      <th>29</th>\n",
       "      <td>Tropical medicine &amp; international health : TM ...</td>\n",
       "      <td>Goris MG</td>\n",
       "      <td>4</td>\n",
       "    </tr>\n",
       "    <tr>\n",
       "      <th>30</th>\n",
       "      <td>Bulletin of the World Health Organization</td>\n",
       "      <td>Smith CE</td>\n",
       "      <td>4</td>\n",
       "    </tr>\n",
       "    <tr>\n",
       "      <th>31</th>\n",
       "      <td>Clinical and vaccine immunology : CVI</td>\n",
       "      <td>Dellagostin OA</td>\n",
       "      <td>4</td>\n",
       "    </tr>\n",
       "    <tr>\n",
       "      <th>32</th>\n",
       "      <td>BMC microbiology</td>\n",
       "      <td>Yan J</td>\n",
       "      <td>4</td>\n",
       "    </tr>\n",
       "    <tr>\n",
       "      <th>33</th>\n",
       "      <td>The Canadian veterinary journal = La revue vet...</td>\n",
       "      <td>Kingscote BF</td>\n",
       "      <td>4</td>\n",
       "    </tr>\n",
       "    <tr>\n",
       "      <th>34</th>\n",
       "      <td>International journal of environmental researc...</td>\n",
       "      <td>Osman M</td>\n",
       "      <td>4</td>\n",
       "    </tr>\n",
       "    <tr>\n",
       "      <th>35</th>\n",
       "      <td>Revista panamericana de salud publica = Pan Am...</td>\n",
       "      <td>Costa F</td>\n",
       "      <td>4</td>\n",
       "    </tr>\n",
       "    <tr>\n",
       "      <th>36</th>\n",
       "      <td>Epidemiology and infection</td>\n",
       "      <td>Lilenbaum W</td>\n",
       "      <td>4</td>\n",
       "    </tr>\n",
       "    <tr>\n",
       "      <th>37</th>\n",
       "      <td>Clinical infectious diseases : an official pub...</td>\n",
       "      <td>Chierakul W</td>\n",
       "      <td>3</td>\n",
       "    </tr>\n",
       "    <tr>\n",
       "      <th>38</th>\n",
       "      <td>Topics in companion animal medicine</td>\n",
       "      <td>Khor KH</td>\n",
       "      <td>3</td>\n",
       "    </tr>\n",
       "    <tr>\n",
       "      <th>39</th>\n",
       "      <td>Biomedica : revista del Instituto Nacional de ...</td>\n",
       "      <td>Agudelo-Flórez P</td>\n",
       "      <td>3</td>\n",
       "    </tr>\n",
       "    <tr>\n",
       "      <th>40</th>\n",
       "      <td>The new microbiologica</td>\n",
       "      <td>Cinco M</td>\n",
       "      <td>3</td>\n",
       "    </tr>\n",
       "    <tr>\n",
       "      <th>41</th>\n",
       "      <td>Euro surveillance : bulletin Europeen sur les ...</td>\n",
       "      <td>Bourhy P</td>\n",
       "      <td>3</td>\n",
       "    </tr>\n",
       "    <tr>\n",
       "      <th>42</th>\n",
       "      <td>Terapevticheskii arkhiv</td>\n",
       "      <td>Degtiar' LD</td>\n",
       "      <td>3</td>\n",
       "    </tr>\n",
       "    <tr>\n",
       "      <th>43</th>\n",
       "      <td>Infection, genetics and evolution : journal of...</td>\n",
       "      <td>Koizumi N</td>\n",
       "      <td>3</td>\n",
       "    </tr>\n",
       "    <tr>\n",
       "      <th>44</th>\n",
       "      <td>Tierarztliche Praxis. Ausgabe K, Kleintiere/He...</td>\n",
       "      <td>Hartmann K</td>\n",
       "      <td>3</td>\n",
       "    </tr>\n",
       "    <tr>\n",
       "      <th>45</th>\n",
       "      <td>FEMS microbiology letters</td>\n",
       "      <td>Merien F</td>\n",
       "      <td>3</td>\n",
       "    </tr>\n",
       "    <tr>\n",
       "      <th>46</th>\n",
       "      <td>Equine veterinary journal</td>\n",
       "      <td>Chang YF</td>\n",
       "      <td>3</td>\n",
       "    </tr>\n",
       "    <tr>\n",
       "      <th>47</th>\n",
       "      <td>Renal failure</td>\n",
       "      <td>Sitprija V</td>\n",
       "      <td>3</td>\n",
       "    </tr>\n",
       "    <tr>\n",
       "      <th>48</th>\n",
       "      <td>Transboundary and emerging diseases</td>\n",
       "      <td>Ahmed A</td>\n",
       "      <td>3</td>\n",
       "    </tr>\n",
       "    <tr>\n",
       "      <th>49</th>\n",
       "      <td>Preventive veterinary medicine</td>\n",
       "      <td>Alves CJ</td>\n",
       "      <td>3</td>\n",
       "    </tr>\n",
       "  </tbody>\n",
       "</table>\n",
       "</div>"
      ],
      "text/plain": [
       "                                              Journal      Top_A_Fullname  \\\n",
       "0                    PLoS neglected tropical diseases               Ko AI   \n",
       "1   The American journal of tropical medicine and ...           Vinetz JM   \n",
       "2               Tropical animal health and production         Lilenbaum W   \n",
       "3                                             Vaccine      Dellagostin OA   \n",
       "4                      Research in veterinary science         Lilenbaum W   \n",
       "5                              Microbial pathogenesis               Cao Y   \n",
       "6              The Indian journal of medical research          Sugunan AP   \n",
       "7                              Infection and immunity             Adler B   \n",
       "8                      New Zealand veterinary journal  Collins-Emerson JM   \n",
       "9                                Tropical biomedicine          Bahaman AR   \n",
       "10                            Veterinary microbiology             Adler B   \n",
       "11  Transactions of the Royal Society of Tropical ...         Rajapakse S   \n",
       "12                               Current microbiology      Dellagostin OA   \n",
       "13                   Journal of clinical microbiology         Picardeau M   \n",
       "14       Annals of tropical medicine and parasitology            Craig SB   \n",
       "15                    Journal of medical microbiology           Koizumi N   \n",
       "16  Comparative immunology, microbiology and infec...         Lilenbaum W   \n",
       "17                       Journal of wildlife diseases          Gulland FM   \n",
       "18                                       Acta tropica               Ko AI   \n",
       "19                                     PLoS pathogens         Picardeau M   \n",
       "20                         Zoonoses and public health             Heuer C   \n",
       "21                            BMC infectious diseases         Agampodi SB   \n",
       "22                                           PloS one              Chen X   \n",
       "23                                     Theriogenology         Lilenbaum W   \n",
       "24       Journal of infection in developing countries              Puca E   \n",
       "25        The Cochrane database of systematic reviews          Atallah AN   \n",
       "26                    The New Zealand medical journal          Benschop J   \n",
       "27            Klinicheskaia laboratornaia diagnostika          Avdeeva MG   \n",
       "28      Journal of immunology (Baltimore, Md. : 1950)             Werts C   \n",
       "29  Tropical medicine & international health : TM ...            Goris MG   \n",
       "30          Bulletin of the World Health Organization            Smith CE   \n",
       "31              Clinical and vaccine immunology : CVI      Dellagostin OA   \n",
       "32                                   BMC microbiology               Yan J   \n",
       "33  The Canadian veterinary journal = La revue vet...        Kingscote BF   \n",
       "34  International journal of environmental researc...             Osman M   \n",
       "35  Revista panamericana de salud publica = Pan Am...             Costa F   \n",
       "36                         Epidemiology and infection         Lilenbaum W   \n",
       "37  Clinical infectious diseases : an official pub...         Chierakul W   \n",
       "38                Topics in companion animal medicine             Khor KH   \n",
       "39  Biomedica : revista del Instituto Nacional de ...    Agudelo-Flórez P   \n",
       "40                             The new microbiologica             Cinco M   \n",
       "41  Euro surveillance : bulletin Europeen sur les ...            Bourhy P   \n",
       "42                            Terapevticheskii arkhiv         Degtiar' LD   \n",
       "43  Infection, genetics and evolution : journal of...           Koizumi N   \n",
       "44  Tierarztliche Praxis. Ausgabe K, Kleintiere/He...          Hartmann K   \n",
       "45                          FEMS microbiology letters            Merien F   \n",
       "46                          Equine veterinary journal            Chang YF   \n",
       "47                                      Renal failure          Sitprija V   \n",
       "48                Transboundary and emerging diseases             Ahmed A   \n",
       "49                     Preventive veterinary medicine            Alves CJ   \n",
       "\n",
       "    Top_A_J_Count  \n",
       "0              20  \n",
       "1              14  \n",
       "2              10  \n",
       "3               9  \n",
       "4               8  \n",
       "5               8  \n",
       "6               7  \n",
       "7               7  \n",
       "8               7  \n",
       "9               6  \n",
       "10              6  \n",
       "11              6  \n",
       "12              5  \n",
       "13              5  \n",
       "14              5  \n",
       "15              5  \n",
       "16              5  \n",
       "17              5  \n",
       "18              5  \n",
       "19              5  \n",
       "20              5  \n",
       "21              5  \n",
       "22              5  \n",
       "23              5  \n",
       "24              4  \n",
       "25              4  \n",
       "26              4  \n",
       "27              4  \n",
       "28              4  \n",
       "29              4  \n",
       "30              4  \n",
       "31              4  \n",
       "32              4  \n",
       "33              4  \n",
       "34              4  \n",
       "35              4  \n",
       "36              4  \n",
       "37              3  \n",
       "38              3  \n",
       "39              3  \n",
       "40              3  \n",
       "41              3  \n",
       "42              3  \n",
       "43              3  \n",
       "44              3  \n",
       "45              3  \n",
       "46              3  \n",
       "47              3  \n",
       "48              3  \n",
       "49              3  "
      ]
     },
     "metadata": {},
     "output_type": "display_data"
    },
    {
     "data": {
      "application/vnd.plotly.v1+json": {
       "config": {
        "plotlyServerURL": "https://plot.ly"
       },
       "data": [
        {
         "alignmentgroup": "True",
         "hovertemplate": "Journal=PLoS neglected tropical diseases<br>Top_A_Fullname=%{x}<br>Top_A_J_Count=%{y}<extra></extra>",
         "legendgroup": "PLoS neglected tropical diseases",
         "marker": {
          "color": "#636efa",
          "pattern": {
           "shape": ""
          }
         },
         "name": "PLoS neglected tropical diseases",
         "offsetgroup": "PLoS neglected tropical diseases",
         "orientation": "v",
         "showlegend": true,
         "textposition": "auto",
         "type": "bar",
         "width": 1,
         "x": [
          "Ko AI"
         ],
         "xaxis": "x",
         "y": [
          20
         ],
         "yaxis": "y"
        },
        {
         "alignmentgroup": "True",
         "hovertemplate": "Journal=The American journal of tropical medicine and hygiene<br>Top_A_Fullname=%{x}<br>Top_A_J_Count=%{y}<extra></extra>",
         "legendgroup": "The American journal of tropical medicine and hygiene",
         "marker": {
          "color": "#EF553B",
          "pattern": {
           "shape": ""
          }
         },
         "name": "The American journal of tropical medicine and hygiene",
         "offsetgroup": "The American journal of tropical medicine and hygiene",
         "orientation": "v",
         "showlegend": true,
         "textposition": "auto",
         "type": "bar",
         "width": 1,
         "x": [
          "Vinetz JM"
         ],
         "xaxis": "x",
         "y": [
          14
         ],
         "yaxis": "y"
        },
        {
         "alignmentgroup": "True",
         "hovertemplate": "Journal=Tropical animal health and production<br>Top_A_Fullname=%{x}<br>Top_A_J_Count=%{y}<extra></extra>",
         "legendgroup": "Tropical animal health and production",
         "marker": {
          "color": "#00cc96",
          "pattern": {
           "shape": ""
          }
         },
         "name": "Tropical animal health and production",
         "offsetgroup": "Tropical animal health and production",
         "orientation": "v",
         "showlegend": true,
         "textposition": "auto",
         "type": "bar",
         "width": 1,
         "x": [
          "Lilenbaum W"
         ],
         "xaxis": "x",
         "y": [
          10
         ],
         "yaxis": "y"
        },
        {
         "alignmentgroup": "True",
         "hovertemplate": "Journal=Vaccine<br>Top_A_Fullname=%{x}<br>Top_A_J_Count=%{y}<extra></extra>",
         "legendgroup": "Vaccine",
         "marker": {
          "color": "#ab63fa",
          "pattern": {
           "shape": ""
          }
         },
         "name": "Vaccine",
         "offsetgroup": "Vaccine",
         "orientation": "v",
         "showlegend": true,
         "textposition": "auto",
         "type": "bar",
         "width": 1,
         "x": [
          "Dellagostin OA"
         ],
         "xaxis": "x",
         "y": [
          9
         ],
         "yaxis": "y"
        },
        {
         "alignmentgroup": "True",
         "hovertemplate": "Journal=Research in veterinary science<br>Top_A_Fullname=%{x}<br>Top_A_J_Count=%{y}<extra></extra>",
         "legendgroup": "Research in veterinary science",
         "marker": {
          "color": "#FFA15A",
          "pattern": {
           "shape": ""
          }
         },
         "name": "Research in veterinary science",
         "offsetgroup": "Research in veterinary science",
         "orientation": "v",
         "showlegend": true,
         "textposition": "auto",
         "type": "bar",
         "width": 1,
         "x": [
          "Lilenbaum W"
         ],
         "xaxis": "x",
         "y": [
          8
         ],
         "yaxis": "y"
        },
        {
         "alignmentgroup": "True",
         "hovertemplate": "Journal=Microbial pathogenesis<br>Top_A_Fullname=%{x}<br>Top_A_J_Count=%{y}<extra></extra>",
         "legendgroup": "Microbial pathogenesis",
         "marker": {
          "color": "#19d3f3",
          "pattern": {
           "shape": ""
          }
         },
         "name": "Microbial pathogenesis",
         "offsetgroup": "Microbial pathogenesis",
         "orientation": "v",
         "showlegend": true,
         "textposition": "auto",
         "type": "bar",
         "width": 1,
         "x": [
          "Cao Y"
         ],
         "xaxis": "x",
         "y": [
          8
         ],
         "yaxis": "y"
        },
        {
         "alignmentgroup": "True",
         "hovertemplate": "Journal=The Indian journal of medical research<br>Top_A_Fullname=%{x}<br>Top_A_J_Count=%{y}<extra></extra>",
         "legendgroup": "The Indian journal of medical research",
         "marker": {
          "color": "#FF6692",
          "pattern": {
           "shape": ""
          }
         },
         "name": "The Indian journal of medical research",
         "offsetgroup": "The Indian journal of medical research",
         "orientation": "v",
         "showlegend": true,
         "textposition": "auto",
         "type": "bar",
         "width": 1,
         "x": [
          "Sugunan AP"
         ],
         "xaxis": "x",
         "y": [
          7
         ],
         "yaxis": "y"
        },
        {
         "alignmentgroup": "True",
         "hovertemplate": "Journal=Infection and immunity<br>Top_A_Fullname=%{x}<br>Top_A_J_Count=%{y}<extra></extra>",
         "legendgroup": "Infection and immunity",
         "marker": {
          "color": "#B6E880",
          "pattern": {
           "shape": ""
          }
         },
         "name": "Infection and immunity",
         "offsetgroup": "Infection and immunity",
         "orientation": "v",
         "showlegend": true,
         "textposition": "auto",
         "type": "bar",
         "width": 1,
         "x": [
          "Adler B"
         ],
         "xaxis": "x",
         "y": [
          7
         ],
         "yaxis": "y"
        },
        {
         "alignmentgroup": "True",
         "hovertemplate": "Journal=New Zealand veterinary journal<br>Top_A_Fullname=%{x}<br>Top_A_J_Count=%{y}<extra></extra>",
         "legendgroup": "New Zealand veterinary journal",
         "marker": {
          "color": "#FF97FF",
          "pattern": {
           "shape": ""
          }
         },
         "name": "New Zealand veterinary journal",
         "offsetgroup": "New Zealand veterinary journal",
         "orientation": "v",
         "showlegend": true,
         "textposition": "auto",
         "type": "bar",
         "width": 1,
         "x": [
          "Collins-Emerson JM"
         ],
         "xaxis": "x",
         "y": [
          7
         ],
         "yaxis": "y"
        },
        {
         "alignmentgroup": "True",
         "hovertemplate": "Journal=Tropical biomedicine<br>Top_A_Fullname=%{x}<br>Top_A_J_Count=%{y}<extra></extra>",
         "legendgroup": "Tropical biomedicine",
         "marker": {
          "color": "#FECB52",
          "pattern": {
           "shape": ""
          }
         },
         "name": "Tropical biomedicine",
         "offsetgroup": "Tropical biomedicine",
         "orientation": "v",
         "showlegend": true,
         "textposition": "auto",
         "type": "bar",
         "width": 1,
         "x": [
          "Bahaman AR"
         ],
         "xaxis": "x",
         "y": [
          6
         ],
         "yaxis": "y"
        },
        {
         "alignmentgroup": "True",
         "hovertemplate": "Journal=Veterinary microbiology<br>Top_A_Fullname=%{x}<br>Top_A_J_Count=%{y}<extra></extra>",
         "legendgroup": "Veterinary microbiology",
         "marker": {
          "color": "#636efa",
          "pattern": {
           "shape": ""
          }
         },
         "name": "Veterinary microbiology",
         "offsetgroup": "Veterinary microbiology",
         "orientation": "v",
         "showlegend": true,
         "textposition": "auto",
         "type": "bar",
         "width": 1,
         "x": [
          "Adler B"
         ],
         "xaxis": "x",
         "y": [
          6
         ],
         "yaxis": "y"
        },
        {
         "alignmentgroup": "True",
         "hovertemplate": "Journal=Transactions of the Royal Society of Tropical Medicine and Hygiene<br>Top_A_Fullname=%{x}<br>Top_A_J_Count=%{y}<extra></extra>",
         "legendgroup": "Transactions of the Royal Society of Tropical Medicine and Hygiene",
         "marker": {
          "color": "#EF553B",
          "pattern": {
           "shape": ""
          }
         },
         "name": "Transactions of the Royal Society of Tropical Medicine and Hygiene",
         "offsetgroup": "Transactions of the Royal Society of Tropical Medicine and Hygiene",
         "orientation": "v",
         "showlegend": true,
         "textposition": "auto",
         "type": "bar",
         "width": 1,
         "x": [
          "Rajapakse S"
         ],
         "xaxis": "x",
         "y": [
          6
         ],
         "yaxis": "y"
        },
        {
         "alignmentgroup": "True",
         "hovertemplate": "Journal=Current microbiology<br>Top_A_Fullname=%{x}<br>Top_A_J_Count=%{y}<extra></extra>",
         "legendgroup": "Current microbiology",
         "marker": {
          "color": "#00cc96",
          "pattern": {
           "shape": ""
          }
         },
         "name": "Current microbiology",
         "offsetgroup": "Current microbiology",
         "orientation": "v",
         "showlegend": true,
         "textposition": "auto",
         "type": "bar",
         "width": 1,
         "x": [
          "Dellagostin OA"
         ],
         "xaxis": "x",
         "y": [
          5
         ],
         "yaxis": "y"
        },
        {
         "alignmentgroup": "True",
         "hovertemplate": "Journal=Journal of clinical microbiology<br>Top_A_Fullname=%{x}<br>Top_A_J_Count=%{y}<extra></extra>",
         "legendgroup": "Journal of clinical microbiology",
         "marker": {
          "color": "#ab63fa",
          "pattern": {
           "shape": ""
          }
         },
         "name": "Journal of clinical microbiology",
         "offsetgroup": "Journal of clinical microbiology",
         "orientation": "v",
         "showlegend": true,
         "textposition": "auto",
         "type": "bar",
         "width": 1,
         "x": [
          "Picardeau M"
         ],
         "xaxis": "x",
         "y": [
          5
         ],
         "yaxis": "y"
        },
        {
         "alignmentgroup": "True",
         "hovertemplate": "Journal=Annals of tropical medicine and parasitology<br>Top_A_Fullname=%{x}<br>Top_A_J_Count=%{y}<extra></extra>",
         "legendgroup": "Annals of tropical medicine and parasitology",
         "marker": {
          "color": "#FFA15A",
          "pattern": {
           "shape": ""
          }
         },
         "name": "Annals of tropical medicine and parasitology",
         "offsetgroup": "Annals of tropical medicine and parasitology",
         "orientation": "v",
         "showlegend": true,
         "textposition": "auto",
         "type": "bar",
         "width": 1,
         "x": [
          "Craig SB"
         ],
         "xaxis": "x",
         "y": [
          5
         ],
         "yaxis": "y"
        },
        {
         "alignmentgroup": "True",
         "hovertemplate": "Journal=Journal of medical microbiology<br>Top_A_Fullname=%{x}<br>Top_A_J_Count=%{y}<extra></extra>",
         "legendgroup": "Journal of medical microbiology",
         "marker": {
          "color": "#19d3f3",
          "pattern": {
           "shape": ""
          }
         },
         "name": "Journal of medical microbiology",
         "offsetgroup": "Journal of medical microbiology",
         "orientation": "v",
         "showlegend": true,
         "textposition": "auto",
         "type": "bar",
         "width": 1,
         "x": [
          "Koizumi N"
         ],
         "xaxis": "x",
         "y": [
          5
         ],
         "yaxis": "y"
        },
        {
         "alignmentgroup": "True",
         "hovertemplate": "Journal=Comparative immunology, microbiology and infectious diseases<br>Top_A_Fullname=%{x}<br>Top_A_J_Count=%{y}<extra></extra>",
         "legendgroup": "Comparative immunology, microbiology and infectious diseases",
         "marker": {
          "color": "#FF6692",
          "pattern": {
           "shape": ""
          }
         },
         "name": "Comparative immunology, microbiology and infectious diseases",
         "offsetgroup": "Comparative immunology, microbiology and infectious diseases",
         "orientation": "v",
         "showlegend": true,
         "textposition": "auto",
         "type": "bar",
         "width": 1,
         "x": [
          "Lilenbaum W"
         ],
         "xaxis": "x",
         "y": [
          5
         ],
         "yaxis": "y"
        },
        {
         "alignmentgroup": "True",
         "hovertemplate": "Journal=Journal of wildlife diseases<br>Top_A_Fullname=%{x}<br>Top_A_J_Count=%{y}<extra></extra>",
         "legendgroup": "Journal of wildlife diseases",
         "marker": {
          "color": "#B6E880",
          "pattern": {
           "shape": ""
          }
         },
         "name": "Journal of wildlife diseases",
         "offsetgroup": "Journal of wildlife diseases",
         "orientation": "v",
         "showlegend": true,
         "textposition": "auto",
         "type": "bar",
         "width": 1,
         "x": [
          "Gulland FM"
         ],
         "xaxis": "x",
         "y": [
          5
         ],
         "yaxis": "y"
        },
        {
         "alignmentgroup": "True",
         "hovertemplate": "Journal=Acta tropica<br>Top_A_Fullname=%{x}<br>Top_A_J_Count=%{y}<extra></extra>",
         "legendgroup": "Acta tropica",
         "marker": {
          "color": "#FF97FF",
          "pattern": {
           "shape": ""
          }
         },
         "name": "Acta tropica",
         "offsetgroup": "Acta tropica",
         "orientation": "v",
         "showlegend": true,
         "textposition": "auto",
         "type": "bar",
         "width": 1,
         "x": [
          "Ko AI"
         ],
         "xaxis": "x",
         "y": [
          5
         ],
         "yaxis": "y"
        },
        {
         "alignmentgroup": "True",
         "hovertemplate": "Journal=PLoS pathogens<br>Top_A_Fullname=%{x}<br>Top_A_J_Count=%{y}<extra></extra>",
         "legendgroup": "PLoS pathogens",
         "marker": {
          "color": "#FECB52",
          "pattern": {
           "shape": ""
          }
         },
         "name": "PLoS pathogens",
         "offsetgroup": "PLoS pathogens",
         "orientation": "v",
         "showlegend": true,
         "textposition": "auto",
         "type": "bar",
         "width": 1,
         "x": [
          "Picardeau M"
         ],
         "xaxis": "x",
         "y": [
          5
         ],
         "yaxis": "y"
        },
        {
         "alignmentgroup": "True",
         "hovertemplate": "Journal=Zoonoses and public health<br>Top_A_Fullname=%{x}<br>Top_A_J_Count=%{y}<extra></extra>",
         "legendgroup": "Zoonoses and public health",
         "marker": {
          "color": "#636efa",
          "pattern": {
           "shape": ""
          }
         },
         "name": "Zoonoses and public health",
         "offsetgroup": "Zoonoses and public health",
         "orientation": "v",
         "showlegend": true,
         "textposition": "auto",
         "type": "bar",
         "width": 1,
         "x": [
          "Heuer C"
         ],
         "xaxis": "x",
         "y": [
          5
         ],
         "yaxis": "y"
        },
        {
         "alignmentgroup": "True",
         "hovertemplate": "Journal=BMC infectious diseases<br>Top_A_Fullname=%{x}<br>Top_A_J_Count=%{y}<extra></extra>",
         "legendgroup": "BMC infectious diseases",
         "marker": {
          "color": "#EF553B",
          "pattern": {
           "shape": ""
          }
         },
         "name": "BMC infectious diseases",
         "offsetgroup": "BMC infectious diseases",
         "orientation": "v",
         "showlegend": true,
         "textposition": "auto",
         "type": "bar",
         "width": 1,
         "x": [
          "Agampodi SB"
         ],
         "xaxis": "x",
         "y": [
          5
         ],
         "yaxis": "y"
        },
        {
         "alignmentgroup": "True",
         "hovertemplate": "Journal=PloS one<br>Top_A_Fullname=%{x}<br>Top_A_J_Count=%{y}<extra></extra>",
         "legendgroup": "PloS one",
         "marker": {
          "color": "#00cc96",
          "pattern": {
           "shape": ""
          }
         },
         "name": "PloS one",
         "offsetgroup": "PloS one",
         "orientation": "v",
         "showlegend": true,
         "textposition": "auto",
         "type": "bar",
         "width": 1,
         "x": [
          "Chen X"
         ],
         "xaxis": "x",
         "y": [
          5
         ],
         "yaxis": "y"
        },
        {
         "alignmentgroup": "True",
         "hovertemplate": "Journal=Theriogenology<br>Top_A_Fullname=%{x}<br>Top_A_J_Count=%{y}<extra></extra>",
         "legendgroup": "Theriogenology",
         "marker": {
          "color": "#ab63fa",
          "pattern": {
           "shape": ""
          }
         },
         "name": "Theriogenology",
         "offsetgroup": "Theriogenology",
         "orientation": "v",
         "showlegend": true,
         "textposition": "auto",
         "type": "bar",
         "width": 1,
         "x": [
          "Lilenbaum W"
         ],
         "xaxis": "x",
         "y": [
          5
         ],
         "yaxis": "y"
        },
        {
         "alignmentgroup": "True",
         "hovertemplate": "Journal=Journal of infection in developing countries<br>Top_A_Fullname=%{x}<br>Top_A_J_Count=%{y}<extra></extra>",
         "legendgroup": "Journal of infection in developing countries",
         "marker": {
          "color": "#FFA15A",
          "pattern": {
           "shape": ""
          }
         },
         "name": "Journal of infection in developing countries",
         "offsetgroup": "Journal of infection in developing countries",
         "orientation": "v",
         "showlegend": true,
         "textposition": "auto",
         "type": "bar",
         "width": 1,
         "x": [
          "Puca E"
         ],
         "xaxis": "x",
         "y": [
          4
         ],
         "yaxis": "y"
        },
        {
         "alignmentgroup": "True",
         "hovertemplate": "Journal=The Cochrane database of systematic reviews<br>Top_A_Fullname=%{x}<br>Top_A_J_Count=%{y}<extra></extra>",
         "legendgroup": "The Cochrane database of systematic reviews",
         "marker": {
          "color": "#19d3f3",
          "pattern": {
           "shape": ""
          }
         },
         "name": "The Cochrane database of systematic reviews",
         "offsetgroup": "The Cochrane database of systematic reviews",
         "orientation": "v",
         "showlegend": true,
         "textposition": "auto",
         "type": "bar",
         "width": 1,
         "x": [
          "Atallah AN"
         ],
         "xaxis": "x",
         "y": [
          4
         ],
         "yaxis": "y"
        },
        {
         "alignmentgroup": "True",
         "hovertemplate": "Journal=The New Zealand medical journal<br>Top_A_Fullname=%{x}<br>Top_A_J_Count=%{y}<extra></extra>",
         "legendgroup": "The New Zealand medical journal",
         "marker": {
          "color": "#FF6692",
          "pattern": {
           "shape": ""
          }
         },
         "name": "The New Zealand medical journal",
         "offsetgroup": "The New Zealand medical journal",
         "orientation": "v",
         "showlegend": true,
         "textposition": "auto",
         "type": "bar",
         "width": 1,
         "x": [
          "Benschop J"
         ],
         "xaxis": "x",
         "y": [
          4
         ],
         "yaxis": "y"
        },
        {
         "alignmentgroup": "True",
         "hovertemplate": "Journal=Klinicheskaia laboratornaia diagnostika<br>Top_A_Fullname=%{x}<br>Top_A_J_Count=%{y}<extra></extra>",
         "legendgroup": "Klinicheskaia laboratornaia diagnostika",
         "marker": {
          "color": "#B6E880",
          "pattern": {
           "shape": ""
          }
         },
         "name": "Klinicheskaia laboratornaia diagnostika",
         "offsetgroup": "Klinicheskaia laboratornaia diagnostika",
         "orientation": "v",
         "showlegend": true,
         "textposition": "auto",
         "type": "bar",
         "width": 1,
         "x": [
          "Avdeeva MG"
         ],
         "xaxis": "x",
         "y": [
          4
         ],
         "yaxis": "y"
        },
        {
         "alignmentgroup": "True",
         "hovertemplate": "Journal=Journal of immunology (Baltimore, Md. : 1950)<br>Top_A_Fullname=%{x}<br>Top_A_J_Count=%{y}<extra></extra>",
         "legendgroup": "Journal of immunology (Baltimore, Md. : 1950)",
         "marker": {
          "color": "#FF97FF",
          "pattern": {
           "shape": ""
          }
         },
         "name": "Journal of immunology (Baltimore, Md. : 1950)",
         "offsetgroup": "Journal of immunology (Baltimore, Md. : 1950)",
         "orientation": "v",
         "showlegend": true,
         "textposition": "auto",
         "type": "bar",
         "width": 1,
         "x": [
          "Werts C"
         ],
         "xaxis": "x",
         "y": [
          4
         ],
         "yaxis": "y"
        },
        {
         "alignmentgroup": "True",
         "hovertemplate": "Journal=Tropical medicine & international health : TM & IH<br>Top_A_Fullname=%{x}<br>Top_A_J_Count=%{y}<extra></extra>",
         "legendgroup": "Tropical medicine & international health : TM & IH",
         "marker": {
          "color": "#FECB52",
          "pattern": {
           "shape": ""
          }
         },
         "name": "Tropical medicine & international health : TM & IH",
         "offsetgroup": "Tropical medicine & international health : TM & IH",
         "orientation": "v",
         "showlegend": true,
         "textposition": "auto",
         "type": "bar",
         "width": 1,
         "x": [
          "Goris MG"
         ],
         "xaxis": "x",
         "y": [
          4
         ],
         "yaxis": "y"
        },
        {
         "alignmentgroup": "True",
         "hovertemplate": "Journal=Bulletin of the World Health Organization<br>Top_A_Fullname=%{x}<br>Top_A_J_Count=%{y}<extra></extra>",
         "legendgroup": "Bulletin of the World Health Organization",
         "marker": {
          "color": "#636efa",
          "pattern": {
           "shape": ""
          }
         },
         "name": "Bulletin of the World Health Organization",
         "offsetgroup": "Bulletin of the World Health Organization",
         "orientation": "v",
         "showlegend": true,
         "textposition": "auto",
         "type": "bar",
         "width": 1,
         "x": [
          "Smith CE"
         ],
         "xaxis": "x",
         "y": [
          4
         ],
         "yaxis": "y"
        },
        {
         "alignmentgroup": "True",
         "hovertemplate": "Journal=Clinical and vaccine immunology : CVI<br>Top_A_Fullname=%{x}<br>Top_A_J_Count=%{y}<extra></extra>",
         "legendgroup": "Clinical and vaccine immunology : CVI",
         "marker": {
          "color": "#EF553B",
          "pattern": {
           "shape": ""
          }
         },
         "name": "Clinical and vaccine immunology : CVI",
         "offsetgroup": "Clinical and vaccine immunology : CVI",
         "orientation": "v",
         "showlegend": true,
         "textposition": "auto",
         "type": "bar",
         "width": 1,
         "x": [
          "Dellagostin OA"
         ],
         "xaxis": "x",
         "y": [
          4
         ],
         "yaxis": "y"
        },
        {
         "alignmentgroup": "True",
         "hovertemplate": "Journal=BMC microbiology<br>Top_A_Fullname=%{x}<br>Top_A_J_Count=%{y}<extra></extra>",
         "legendgroup": "BMC microbiology",
         "marker": {
          "color": "#00cc96",
          "pattern": {
           "shape": ""
          }
         },
         "name": "BMC microbiology",
         "offsetgroup": "BMC microbiology",
         "orientation": "v",
         "showlegend": true,
         "textposition": "auto",
         "type": "bar",
         "width": 1,
         "x": [
          "Yan J"
         ],
         "xaxis": "x",
         "y": [
          4
         ],
         "yaxis": "y"
        },
        {
         "alignmentgroup": "True",
         "hovertemplate": "Journal=The Canadian veterinary journal = La revue veterinaire canadienne<br>Top_A_Fullname=%{x}<br>Top_A_J_Count=%{y}<extra></extra>",
         "legendgroup": "The Canadian veterinary journal = La revue veterinaire canadienne",
         "marker": {
          "color": "#ab63fa",
          "pattern": {
           "shape": ""
          }
         },
         "name": "The Canadian veterinary journal = La revue veterinaire canadienne",
         "offsetgroup": "The Canadian veterinary journal = La revue veterinaire canadienne",
         "orientation": "v",
         "showlegend": true,
         "textposition": "auto",
         "type": "bar",
         "width": 1,
         "x": [
          "Kingscote BF"
         ],
         "xaxis": "x",
         "y": [
          4
         ],
         "yaxis": "y"
        },
        {
         "alignmentgroup": "True",
         "hovertemplate": "Journal=International journal of environmental research and public health<br>Top_A_Fullname=%{x}<br>Top_A_J_Count=%{y}<extra></extra>",
         "legendgroup": "International journal of environmental research and public health",
         "marker": {
          "color": "#FFA15A",
          "pattern": {
           "shape": ""
          }
         },
         "name": "International journal of environmental research and public health",
         "offsetgroup": "International journal of environmental research and public health",
         "orientation": "v",
         "showlegend": true,
         "textposition": "auto",
         "type": "bar",
         "width": 1,
         "x": [
          "Osman M"
         ],
         "xaxis": "x",
         "y": [
          4
         ],
         "yaxis": "y"
        },
        {
         "alignmentgroup": "True",
         "hovertemplate": "Journal=Revista panamericana de salud publica = Pan American journal of public health<br>Top_A_Fullname=%{x}<br>Top_A_J_Count=%{y}<extra></extra>",
         "legendgroup": "Revista panamericana de salud publica = Pan American journal of public health",
         "marker": {
          "color": "#19d3f3",
          "pattern": {
           "shape": ""
          }
         },
         "name": "Revista panamericana de salud publica = Pan American journal of public health",
         "offsetgroup": "Revista panamericana de salud publica = Pan American journal of public health",
         "orientation": "v",
         "showlegend": true,
         "textposition": "auto",
         "type": "bar",
         "width": 1,
         "x": [
          "Costa F"
         ],
         "xaxis": "x",
         "y": [
          4
         ],
         "yaxis": "y"
        },
        {
         "alignmentgroup": "True",
         "hovertemplate": "Journal=Epidemiology and infection<br>Top_A_Fullname=%{x}<br>Top_A_J_Count=%{y}<extra></extra>",
         "legendgroup": "Epidemiology and infection",
         "marker": {
          "color": "#FF6692",
          "pattern": {
           "shape": ""
          }
         },
         "name": "Epidemiology and infection",
         "offsetgroup": "Epidemiology and infection",
         "orientation": "v",
         "showlegend": true,
         "textposition": "auto",
         "type": "bar",
         "width": 1,
         "x": [
          "Lilenbaum W"
         ],
         "xaxis": "x",
         "y": [
          4
         ],
         "yaxis": "y"
        },
        {
         "alignmentgroup": "True",
         "hovertemplate": "Journal=Clinical infectious diseases : an official publication of the Infectious Diseases Society of America<br>Top_A_Fullname=%{x}<br>Top_A_J_Count=%{y}<extra></extra>",
         "legendgroup": "Clinical infectious diseases : an official publication of the Infectious Diseases Society of America",
         "marker": {
          "color": "#B6E880",
          "pattern": {
           "shape": ""
          }
         },
         "name": "Clinical infectious diseases : an official publication of the Infectious Diseases Society of America",
         "offsetgroup": "Clinical infectious diseases : an official publication of the Infectious Diseases Society of America",
         "orientation": "v",
         "showlegend": true,
         "textposition": "auto",
         "type": "bar",
         "width": 1,
         "x": [
          "Chierakul W"
         ],
         "xaxis": "x",
         "y": [
          3
         ],
         "yaxis": "y"
        },
        {
         "alignmentgroup": "True",
         "hovertemplate": "Journal=Topics in companion animal medicine<br>Top_A_Fullname=%{x}<br>Top_A_J_Count=%{y}<extra></extra>",
         "legendgroup": "Topics in companion animal medicine",
         "marker": {
          "color": "#FF97FF",
          "pattern": {
           "shape": ""
          }
         },
         "name": "Topics in companion animal medicine",
         "offsetgroup": "Topics in companion animal medicine",
         "orientation": "v",
         "showlegend": true,
         "textposition": "auto",
         "type": "bar",
         "width": 1,
         "x": [
          "Khor KH"
         ],
         "xaxis": "x",
         "y": [
          3
         ],
         "yaxis": "y"
        },
        {
         "alignmentgroup": "True",
         "hovertemplate": "Journal=Biomedica : revista del Instituto Nacional de Salud<br>Top_A_Fullname=%{x}<br>Top_A_J_Count=%{y}<extra></extra>",
         "legendgroup": "Biomedica : revista del Instituto Nacional de Salud",
         "marker": {
          "color": "#FECB52",
          "pattern": {
           "shape": ""
          }
         },
         "name": "Biomedica : revista del Instituto Nacional de Salud",
         "offsetgroup": "Biomedica : revista del Instituto Nacional de Salud",
         "orientation": "v",
         "showlegend": true,
         "textposition": "auto",
         "type": "bar",
         "width": 1,
         "x": [
          "Agudelo-Flórez P"
         ],
         "xaxis": "x",
         "y": [
          3
         ],
         "yaxis": "y"
        },
        {
         "alignmentgroup": "True",
         "hovertemplate": "Journal=The new microbiologica<br>Top_A_Fullname=%{x}<br>Top_A_J_Count=%{y}<extra></extra>",
         "legendgroup": "The new microbiologica",
         "marker": {
          "color": "#636efa",
          "pattern": {
           "shape": ""
          }
         },
         "name": "The new microbiologica",
         "offsetgroup": "The new microbiologica",
         "orientation": "v",
         "showlegend": true,
         "textposition": "auto",
         "type": "bar",
         "width": 1,
         "x": [
          "Cinco M"
         ],
         "xaxis": "x",
         "y": [
          3
         ],
         "yaxis": "y"
        },
        {
         "alignmentgroup": "True",
         "hovertemplate": "Journal=Euro surveillance : bulletin Europeen sur les maladies transmissibles = European communicable disease bulletin<br>Top_A_Fullname=%{x}<br>Top_A_J_Count=%{y}<extra></extra>",
         "legendgroup": "Euro surveillance : bulletin Europeen sur les maladies transmissibles = European communicable disease bulletin",
         "marker": {
          "color": "#EF553B",
          "pattern": {
           "shape": ""
          }
         },
         "name": "Euro surveillance : bulletin Europeen sur les maladies transmissibles = European communicable disease bulletin",
         "offsetgroup": "Euro surveillance : bulletin Europeen sur les maladies transmissibles = European communicable disease bulletin",
         "orientation": "v",
         "showlegend": true,
         "textposition": "auto",
         "type": "bar",
         "width": 1,
         "x": [
          "Bourhy P"
         ],
         "xaxis": "x",
         "y": [
          3
         ],
         "yaxis": "y"
        },
        {
         "alignmentgroup": "True",
         "hovertemplate": "Journal=Terapevticheskii arkhiv<br>Top_A_Fullname=%{x}<br>Top_A_J_Count=%{y}<extra></extra>",
         "legendgroup": "Terapevticheskii arkhiv",
         "marker": {
          "color": "#00cc96",
          "pattern": {
           "shape": ""
          }
         },
         "name": "Terapevticheskii arkhiv",
         "offsetgroup": "Terapevticheskii arkhiv",
         "orientation": "v",
         "showlegend": true,
         "textposition": "auto",
         "type": "bar",
         "width": 1,
         "x": [
          "Degtiar' LD"
         ],
         "xaxis": "x",
         "y": [
          3
         ],
         "yaxis": "y"
        },
        {
         "alignmentgroup": "True",
         "hovertemplate": "Journal=Infection, genetics and evolution : journal of molecular epidemiology and evolutionary genetics in infectious diseases<br>Top_A_Fullname=%{x}<br>Top_A_J_Count=%{y}<extra></extra>",
         "legendgroup": "Infection, genetics and evolution : journal of molecular epidemiology and evolutionary genetics in infectious diseases",
         "marker": {
          "color": "#ab63fa",
          "pattern": {
           "shape": ""
          }
         },
         "name": "Infection, genetics and evolution : journal of molecular epidemiology and evolutionary genetics in infectious diseases",
         "offsetgroup": "Infection, genetics and evolution : journal of molecular epidemiology and evolutionary genetics in infectious diseases",
         "orientation": "v",
         "showlegend": true,
         "textposition": "auto",
         "type": "bar",
         "width": 1,
         "x": [
          "Koizumi N"
         ],
         "xaxis": "x",
         "y": [
          3
         ],
         "yaxis": "y"
        },
        {
         "alignmentgroup": "True",
         "hovertemplate": "Journal=Tierarztliche Praxis. Ausgabe K, Kleintiere/Heimtiere<br>Top_A_Fullname=%{x}<br>Top_A_J_Count=%{y}<extra></extra>",
         "legendgroup": "Tierarztliche Praxis. Ausgabe K, Kleintiere/Heimtiere",
         "marker": {
          "color": "#FFA15A",
          "pattern": {
           "shape": ""
          }
         },
         "name": "Tierarztliche Praxis. Ausgabe K, Kleintiere/Heimtiere",
         "offsetgroup": "Tierarztliche Praxis. Ausgabe K, Kleintiere/Heimtiere",
         "orientation": "v",
         "showlegend": true,
         "textposition": "auto",
         "type": "bar",
         "width": 1,
         "x": [
          "Hartmann K"
         ],
         "xaxis": "x",
         "y": [
          3
         ],
         "yaxis": "y"
        },
        {
         "alignmentgroup": "True",
         "hovertemplate": "Journal=FEMS microbiology letters<br>Top_A_Fullname=%{x}<br>Top_A_J_Count=%{y}<extra></extra>",
         "legendgroup": "FEMS microbiology letters",
         "marker": {
          "color": "#19d3f3",
          "pattern": {
           "shape": ""
          }
         },
         "name": "FEMS microbiology letters",
         "offsetgroup": "FEMS microbiology letters",
         "orientation": "v",
         "showlegend": true,
         "textposition": "auto",
         "type": "bar",
         "width": 1,
         "x": [
          "Merien F"
         ],
         "xaxis": "x",
         "y": [
          3
         ],
         "yaxis": "y"
        },
        {
         "alignmentgroup": "True",
         "hovertemplate": "Journal=Equine veterinary journal<br>Top_A_Fullname=%{x}<br>Top_A_J_Count=%{y}<extra></extra>",
         "legendgroup": "Equine veterinary journal",
         "marker": {
          "color": "#FF6692",
          "pattern": {
           "shape": ""
          }
         },
         "name": "Equine veterinary journal",
         "offsetgroup": "Equine veterinary journal",
         "orientation": "v",
         "showlegend": true,
         "textposition": "auto",
         "type": "bar",
         "width": 1,
         "x": [
          "Chang YF"
         ],
         "xaxis": "x",
         "y": [
          3
         ],
         "yaxis": "y"
        },
        {
         "alignmentgroup": "True",
         "hovertemplate": "Journal=Renal failure<br>Top_A_Fullname=%{x}<br>Top_A_J_Count=%{y}<extra></extra>",
         "legendgroup": "Renal failure",
         "marker": {
          "color": "#B6E880",
          "pattern": {
           "shape": ""
          }
         },
         "name": "Renal failure",
         "offsetgroup": "Renal failure",
         "orientation": "v",
         "showlegend": true,
         "textposition": "auto",
         "type": "bar",
         "width": 1,
         "x": [
          "Sitprija V"
         ],
         "xaxis": "x",
         "y": [
          3
         ],
         "yaxis": "y"
        },
        {
         "alignmentgroup": "True",
         "hovertemplate": "Journal=Transboundary and emerging diseases<br>Top_A_Fullname=%{x}<br>Top_A_J_Count=%{y}<extra></extra>",
         "legendgroup": "Transboundary and emerging diseases",
         "marker": {
          "color": "#FF97FF",
          "pattern": {
           "shape": ""
          }
         },
         "name": "Transboundary and emerging diseases",
         "offsetgroup": "Transboundary and emerging diseases",
         "orientation": "v",
         "showlegend": true,
         "textposition": "auto",
         "type": "bar",
         "width": 1,
         "x": [
          "Ahmed A"
         ],
         "xaxis": "x",
         "y": [
          3
         ],
         "yaxis": "y"
        },
        {
         "alignmentgroup": "True",
         "hovertemplate": "Journal=Preventive veterinary medicine<br>Top_A_Fullname=%{x}<br>Top_A_J_Count=%{y}<extra></extra>",
         "legendgroup": "Preventive veterinary medicine",
         "marker": {
          "color": "#FECB52",
          "pattern": {
           "shape": ""
          }
         },
         "name": "Preventive veterinary medicine",
         "offsetgroup": "Preventive veterinary medicine",
         "orientation": "v",
         "showlegend": true,
         "textposition": "auto",
         "type": "bar",
         "width": 1,
         "x": [
          "Alves CJ"
         ],
         "xaxis": "x",
         "y": [
          3
         ],
         "yaxis": "y"
        }
       ],
       "layout": {
        "barmode": "relative",
        "legend": {
         "title": {
          "text": "Journal"
         },
         "tracegroupgap": 0
        },
        "showlegend": false,
        "template": {
         "data": {
          "bar": [
           {
            "error_x": {
             "color": "#2a3f5f"
            },
            "error_y": {
             "color": "#2a3f5f"
            },
            "marker": {
             "line": {
              "color": "#E5ECF6",
              "width": 0.5
             },
             "pattern": {
              "fillmode": "overlay",
              "size": 10,
              "solidity": 0.2
             }
            },
            "type": "bar"
           }
          ],
          "barpolar": [
           {
            "marker": {
             "line": {
              "color": "#E5ECF6",
              "width": 0.5
             },
             "pattern": {
              "fillmode": "overlay",
              "size": 10,
              "solidity": 0.2
             }
            },
            "type": "barpolar"
           }
          ],
          "carpet": [
           {
            "aaxis": {
             "endlinecolor": "#2a3f5f",
             "gridcolor": "white",
             "linecolor": "white",
             "minorgridcolor": "white",
             "startlinecolor": "#2a3f5f"
            },
            "baxis": {
             "endlinecolor": "#2a3f5f",
             "gridcolor": "white",
             "linecolor": "white",
             "minorgridcolor": "white",
             "startlinecolor": "#2a3f5f"
            },
            "type": "carpet"
           }
          ],
          "choropleth": [
           {
            "colorbar": {
             "outlinewidth": 0,
             "ticks": ""
            },
            "type": "choropleth"
           }
          ],
          "contour": [
           {
            "colorbar": {
             "outlinewidth": 0,
             "ticks": ""
            },
            "colorscale": [
             [
              0,
              "#0d0887"
             ],
             [
              0.1111111111111111,
              "#46039f"
             ],
             [
              0.2222222222222222,
              "#7201a8"
             ],
             [
              0.3333333333333333,
              "#9c179e"
             ],
             [
              0.4444444444444444,
              "#bd3786"
             ],
             [
              0.5555555555555556,
              "#d8576b"
             ],
             [
              0.6666666666666666,
              "#ed7953"
             ],
             [
              0.7777777777777778,
              "#fb9f3a"
             ],
             [
              0.8888888888888888,
              "#fdca26"
             ],
             [
              1,
              "#f0f921"
             ]
            ],
            "type": "contour"
           }
          ],
          "contourcarpet": [
           {
            "colorbar": {
             "outlinewidth": 0,
             "ticks": ""
            },
            "type": "contourcarpet"
           }
          ],
          "heatmap": [
           {
            "colorbar": {
             "outlinewidth": 0,
             "ticks": ""
            },
            "colorscale": [
             [
              0,
              "#0d0887"
             ],
             [
              0.1111111111111111,
              "#46039f"
             ],
             [
              0.2222222222222222,
              "#7201a8"
             ],
             [
              0.3333333333333333,
              "#9c179e"
             ],
             [
              0.4444444444444444,
              "#bd3786"
             ],
             [
              0.5555555555555556,
              "#d8576b"
             ],
             [
              0.6666666666666666,
              "#ed7953"
             ],
             [
              0.7777777777777778,
              "#fb9f3a"
             ],
             [
              0.8888888888888888,
              "#fdca26"
             ],
             [
              1,
              "#f0f921"
             ]
            ],
            "type": "heatmap"
           }
          ],
          "heatmapgl": [
           {
            "colorbar": {
             "outlinewidth": 0,
             "ticks": ""
            },
            "colorscale": [
             [
              0,
              "#0d0887"
             ],
             [
              0.1111111111111111,
              "#46039f"
             ],
             [
              0.2222222222222222,
              "#7201a8"
             ],
             [
              0.3333333333333333,
              "#9c179e"
             ],
             [
              0.4444444444444444,
              "#bd3786"
             ],
             [
              0.5555555555555556,
              "#d8576b"
             ],
             [
              0.6666666666666666,
              "#ed7953"
             ],
             [
              0.7777777777777778,
              "#fb9f3a"
             ],
             [
              0.8888888888888888,
              "#fdca26"
             ],
             [
              1,
              "#f0f921"
             ]
            ],
            "type": "heatmapgl"
           }
          ],
          "histogram": [
           {
            "marker": {
             "pattern": {
              "fillmode": "overlay",
              "size": 10,
              "solidity": 0.2
             }
            },
            "type": "histogram"
           }
          ],
          "histogram2d": [
           {
            "colorbar": {
             "outlinewidth": 0,
             "ticks": ""
            },
            "colorscale": [
             [
              0,
              "#0d0887"
             ],
             [
              0.1111111111111111,
              "#46039f"
             ],
             [
              0.2222222222222222,
              "#7201a8"
             ],
             [
              0.3333333333333333,
              "#9c179e"
             ],
             [
              0.4444444444444444,
              "#bd3786"
             ],
             [
              0.5555555555555556,
              "#d8576b"
             ],
             [
              0.6666666666666666,
              "#ed7953"
             ],
             [
              0.7777777777777778,
              "#fb9f3a"
             ],
             [
              0.8888888888888888,
              "#fdca26"
             ],
             [
              1,
              "#f0f921"
             ]
            ],
            "type": "histogram2d"
           }
          ],
          "histogram2dcontour": [
           {
            "colorbar": {
             "outlinewidth": 0,
             "ticks": ""
            },
            "colorscale": [
             [
              0,
              "#0d0887"
             ],
             [
              0.1111111111111111,
              "#46039f"
             ],
             [
              0.2222222222222222,
              "#7201a8"
             ],
             [
              0.3333333333333333,
              "#9c179e"
             ],
             [
              0.4444444444444444,
              "#bd3786"
             ],
             [
              0.5555555555555556,
              "#d8576b"
             ],
             [
              0.6666666666666666,
              "#ed7953"
             ],
             [
              0.7777777777777778,
              "#fb9f3a"
             ],
             [
              0.8888888888888888,
              "#fdca26"
             ],
             [
              1,
              "#f0f921"
             ]
            ],
            "type": "histogram2dcontour"
           }
          ],
          "mesh3d": [
           {
            "colorbar": {
             "outlinewidth": 0,
             "ticks": ""
            },
            "type": "mesh3d"
           }
          ],
          "parcoords": [
           {
            "line": {
             "colorbar": {
              "outlinewidth": 0,
              "ticks": ""
             }
            },
            "type": "parcoords"
           }
          ],
          "pie": [
           {
            "automargin": true,
            "type": "pie"
           }
          ],
          "scatter": [
           {
            "fillpattern": {
             "fillmode": "overlay",
             "size": 10,
             "solidity": 0.2
            },
            "type": "scatter"
           }
          ],
          "scatter3d": [
           {
            "line": {
             "colorbar": {
              "outlinewidth": 0,
              "ticks": ""
             }
            },
            "marker": {
             "colorbar": {
              "outlinewidth": 0,
              "ticks": ""
             }
            },
            "type": "scatter3d"
           }
          ],
          "scattercarpet": [
           {
            "marker": {
             "colorbar": {
              "outlinewidth": 0,
              "ticks": ""
             }
            },
            "type": "scattercarpet"
           }
          ],
          "scattergeo": [
           {
            "marker": {
             "colorbar": {
              "outlinewidth": 0,
              "ticks": ""
             }
            },
            "type": "scattergeo"
           }
          ],
          "scattergl": [
           {
            "marker": {
             "colorbar": {
              "outlinewidth": 0,
              "ticks": ""
             }
            },
            "type": "scattergl"
           }
          ],
          "scattermapbox": [
           {
            "marker": {
             "colorbar": {
              "outlinewidth": 0,
              "ticks": ""
             }
            },
            "type": "scattermapbox"
           }
          ],
          "scatterpolar": [
           {
            "marker": {
             "colorbar": {
              "outlinewidth": 0,
              "ticks": ""
             }
            },
            "type": "scatterpolar"
           }
          ],
          "scatterpolargl": [
           {
            "marker": {
             "colorbar": {
              "outlinewidth": 0,
              "ticks": ""
             }
            },
            "type": "scatterpolargl"
           }
          ],
          "scatterternary": [
           {
            "marker": {
             "colorbar": {
              "outlinewidth": 0,
              "ticks": ""
             }
            },
            "type": "scatterternary"
           }
          ],
          "surface": [
           {
            "colorbar": {
             "outlinewidth": 0,
             "ticks": ""
            },
            "colorscale": [
             [
              0,
              "#0d0887"
             ],
             [
              0.1111111111111111,
              "#46039f"
             ],
             [
              0.2222222222222222,
              "#7201a8"
             ],
             [
              0.3333333333333333,
              "#9c179e"
             ],
             [
              0.4444444444444444,
              "#bd3786"
             ],
             [
              0.5555555555555556,
              "#d8576b"
             ],
             [
              0.6666666666666666,
              "#ed7953"
             ],
             [
              0.7777777777777778,
              "#fb9f3a"
             ],
             [
              0.8888888888888888,
              "#fdca26"
             ],
             [
              1,
              "#f0f921"
             ]
            ],
            "type": "surface"
           }
          ],
          "table": [
           {
            "cells": {
             "fill": {
              "color": "#EBF0F8"
             },
             "line": {
              "color": "white"
             }
            },
            "header": {
             "fill": {
              "color": "#C8D4E3"
             },
             "line": {
              "color": "white"
             }
            },
            "type": "table"
           }
          ]
         },
         "layout": {
          "annotationdefaults": {
           "arrowcolor": "#2a3f5f",
           "arrowhead": 0,
           "arrowwidth": 1
          },
          "autotypenumbers": "strict",
          "coloraxis": {
           "colorbar": {
            "outlinewidth": 0,
            "ticks": ""
           }
          },
          "colorscale": {
           "diverging": [
            [
             0,
             "#8e0152"
            ],
            [
             0.1,
             "#c51b7d"
            ],
            [
             0.2,
             "#de77ae"
            ],
            [
             0.3,
             "#f1b6da"
            ],
            [
             0.4,
             "#fde0ef"
            ],
            [
             0.5,
             "#f7f7f7"
            ],
            [
             0.6,
             "#e6f5d0"
            ],
            [
             0.7,
             "#b8e186"
            ],
            [
             0.8,
             "#7fbc41"
            ],
            [
             0.9,
             "#4d9221"
            ],
            [
             1,
             "#276419"
            ]
           ],
           "sequential": [
            [
             0,
             "#0d0887"
            ],
            [
             0.1111111111111111,
             "#46039f"
            ],
            [
             0.2222222222222222,
             "#7201a8"
            ],
            [
             0.3333333333333333,
             "#9c179e"
            ],
            [
             0.4444444444444444,
             "#bd3786"
            ],
            [
             0.5555555555555556,
             "#d8576b"
            ],
            [
             0.6666666666666666,
             "#ed7953"
            ],
            [
             0.7777777777777778,
             "#fb9f3a"
            ],
            [
             0.8888888888888888,
             "#fdca26"
            ],
            [
             1,
             "#f0f921"
            ]
           ],
           "sequentialminus": [
            [
             0,
             "#0d0887"
            ],
            [
             0.1111111111111111,
             "#46039f"
            ],
            [
             0.2222222222222222,
             "#7201a8"
            ],
            [
             0.3333333333333333,
             "#9c179e"
            ],
            [
             0.4444444444444444,
             "#bd3786"
            ],
            [
             0.5555555555555556,
             "#d8576b"
            ],
            [
             0.6666666666666666,
             "#ed7953"
            ],
            [
             0.7777777777777778,
             "#fb9f3a"
            ],
            [
             0.8888888888888888,
             "#fdca26"
            ],
            [
             1,
             "#f0f921"
            ]
           ]
          },
          "colorway": [
           "#636efa",
           "#EF553B",
           "#00cc96",
           "#ab63fa",
           "#FFA15A",
           "#19d3f3",
           "#FF6692",
           "#B6E880",
           "#FF97FF",
           "#FECB52"
          ],
          "font": {
           "color": "#2a3f5f"
          },
          "geo": {
           "bgcolor": "white",
           "lakecolor": "white",
           "landcolor": "#E5ECF6",
           "showlakes": true,
           "showland": true,
           "subunitcolor": "white"
          },
          "hoverlabel": {
           "align": "left"
          },
          "hovermode": "closest",
          "mapbox": {
           "style": "light"
          },
          "paper_bgcolor": "white",
          "plot_bgcolor": "#E5ECF6",
          "polar": {
           "angularaxis": {
            "gridcolor": "white",
            "linecolor": "white",
            "ticks": ""
           },
           "bgcolor": "#E5ECF6",
           "radialaxis": {
            "gridcolor": "white",
            "linecolor": "white",
            "ticks": ""
           }
          },
          "scene": {
           "xaxis": {
            "backgroundcolor": "#E5ECF6",
            "gridcolor": "white",
            "gridwidth": 2,
            "linecolor": "white",
            "showbackground": true,
            "ticks": "",
            "zerolinecolor": "white"
           },
           "yaxis": {
            "backgroundcolor": "#E5ECF6",
            "gridcolor": "white",
            "gridwidth": 2,
            "linecolor": "white",
            "showbackground": true,
            "ticks": "",
            "zerolinecolor": "white"
           },
           "zaxis": {
            "backgroundcolor": "#E5ECF6",
            "gridcolor": "white",
            "gridwidth": 2,
            "linecolor": "white",
            "showbackground": true,
            "ticks": "",
            "zerolinecolor": "white"
           }
          },
          "shapedefaults": {
           "line": {
            "color": "#2a3f5f"
           }
          },
          "ternary": {
           "aaxis": {
            "gridcolor": "white",
            "linecolor": "white",
            "ticks": ""
           },
           "baxis": {
            "gridcolor": "white",
            "linecolor": "white",
            "ticks": ""
           },
           "bgcolor": "#E5ECF6",
           "caxis": {
            "gridcolor": "white",
            "linecolor": "white",
            "ticks": ""
           }
          },
          "title": {
           "x": 0.05
          },
          "xaxis": {
           "automargin": true,
           "gridcolor": "white",
           "linecolor": "white",
           "ticks": "",
           "title": {
            "standoff": 15
           },
           "zerolinecolor": "white",
           "zerolinewidth": 2
          },
          "yaxis": {
           "automargin": true,
           "gridcolor": "white",
           "linecolor": "white",
           "ticks": "",
           "title": {
            "standoff": 15
           },
           "zerolinecolor": "white",
           "zerolinewidth": 2
          }
         }
        },
        "title": {
         "text": "Journal Top Contributing Authors",
         "x": 0.5
        },
        "xaxis": {
         "anchor": "y",
         "domain": [
          0,
          1
         ],
         "tickangle": 45,
         "title": {
          "text": "Top_A_Fullname"
         }
        },
        "yaxis": {
         "anchor": "x",
         "domain": [
          0,
          1
         ],
         "title": {
          "text": "Top_A_J_Count"
         }
        }
       }
      },
      "text/html": [
       "<div>                            <div id=\"6e4439d3-5dda-4da5-8cb7-680ec9a1a2c9\" class=\"plotly-graph-div\" style=\"height:525px; width:100%;\"></div>            <script type=\"text/javascript\">                require([\"plotly\"], function(Plotly) {                    window.PLOTLYENV=window.PLOTLYENV || {};                                    if (document.getElementById(\"6e4439d3-5dda-4da5-8cb7-680ec9a1a2c9\")) {                    Plotly.newPlot(                        \"6e4439d3-5dda-4da5-8cb7-680ec9a1a2c9\",                        [{\"alignmentgroup\":\"True\",\"hovertemplate\":\"Journal=PLoS neglected tropical diseases<br>Top_A_Fullname=%{x}<br>Top_A_J_Count=%{y}<extra></extra>\",\"legendgroup\":\"PLoS neglected tropical diseases\",\"marker\":{\"color\":\"#636efa\",\"pattern\":{\"shape\":\"\"}},\"name\":\"PLoS neglected tropical diseases\",\"offsetgroup\":\"PLoS neglected tropical diseases\",\"orientation\":\"v\",\"showlegend\":true,\"textposition\":\"auto\",\"x\":[\"Ko AI\"],\"xaxis\":\"x\",\"y\":[20],\"yaxis\":\"y\",\"type\":\"bar\",\"width\":1},{\"alignmentgroup\":\"True\",\"hovertemplate\":\"Journal=The American journal of tropical medicine and hygiene<br>Top_A_Fullname=%{x}<br>Top_A_J_Count=%{y}<extra></extra>\",\"legendgroup\":\"The American journal of tropical medicine and hygiene\",\"marker\":{\"color\":\"#EF553B\",\"pattern\":{\"shape\":\"\"}},\"name\":\"The American journal of tropical medicine and hygiene\",\"offsetgroup\":\"The American journal of tropical medicine and hygiene\",\"orientation\":\"v\",\"showlegend\":true,\"textposition\":\"auto\",\"x\":[\"Vinetz JM\"],\"xaxis\":\"x\",\"y\":[14],\"yaxis\":\"y\",\"type\":\"bar\",\"width\":1},{\"alignmentgroup\":\"True\",\"hovertemplate\":\"Journal=Tropical animal health and production<br>Top_A_Fullname=%{x}<br>Top_A_J_Count=%{y}<extra></extra>\",\"legendgroup\":\"Tropical animal health and production\",\"marker\":{\"color\":\"#00cc96\",\"pattern\":{\"shape\":\"\"}},\"name\":\"Tropical animal health and production\",\"offsetgroup\":\"Tropical animal health and production\",\"orientation\":\"v\",\"showlegend\":true,\"textposition\":\"auto\",\"x\":[\"Lilenbaum W\"],\"xaxis\":\"x\",\"y\":[10],\"yaxis\":\"y\",\"type\":\"bar\",\"width\":1},{\"alignmentgroup\":\"True\",\"hovertemplate\":\"Journal=Vaccine<br>Top_A_Fullname=%{x}<br>Top_A_J_Count=%{y}<extra></extra>\",\"legendgroup\":\"Vaccine\",\"marker\":{\"color\":\"#ab63fa\",\"pattern\":{\"shape\":\"\"}},\"name\":\"Vaccine\",\"offsetgroup\":\"Vaccine\",\"orientation\":\"v\",\"showlegend\":true,\"textposition\":\"auto\",\"x\":[\"Dellagostin OA\"],\"xaxis\":\"x\",\"y\":[9],\"yaxis\":\"y\",\"type\":\"bar\",\"width\":1},{\"alignmentgroup\":\"True\",\"hovertemplate\":\"Journal=Research in veterinary science<br>Top_A_Fullname=%{x}<br>Top_A_J_Count=%{y}<extra></extra>\",\"legendgroup\":\"Research in veterinary science\",\"marker\":{\"color\":\"#FFA15A\",\"pattern\":{\"shape\":\"\"}},\"name\":\"Research in veterinary science\",\"offsetgroup\":\"Research in veterinary science\",\"orientation\":\"v\",\"showlegend\":true,\"textposition\":\"auto\",\"x\":[\"Lilenbaum W\"],\"xaxis\":\"x\",\"y\":[8],\"yaxis\":\"y\",\"type\":\"bar\",\"width\":1},{\"alignmentgroup\":\"True\",\"hovertemplate\":\"Journal=Microbial pathogenesis<br>Top_A_Fullname=%{x}<br>Top_A_J_Count=%{y}<extra></extra>\",\"legendgroup\":\"Microbial pathogenesis\",\"marker\":{\"color\":\"#19d3f3\",\"pattern\":{\"shape\":\"\"}},\"name\":\"Microbial pathogenesis\",\"offsetgroup\":\"Microbial pathogenesis\",\"orientation\":\"v\",\"showlegend\":true,\"textposition\":\"auto\",\"x\":[\"Cao Y\"],\"xaxis\":\"x\",\"y\":[8],\"yaxis\":\"y\",\"type\":\"bar\",\"width\":1},{\"alignmentgroup\":\"True\",\"hovertemplate\":\"Journal=The Indian journal of medical research<br>Top_A_Fullname=%{x}<br>Top_A_J_Count=%{y}<extra></extra>\",\"legendgroup\":\"The Indian journal of medical research\",\"marker\":{\"color\":\"#FF6692\",\"pattern\":{\"shape\":\"\"}},\"name\":\"The Indian journal of medical research\",\"offsetgroup\":\"The Indian journal of medical research\",\"orientation\":\"v\",\"showlegend\":true,\"textposition\":\"auto\",\"x\":[\"Sugunan AP\"],\"xaxis\":\"x\",\"y\":[7],\"yaxis\":\"y\",\"type\":\"bar\",\"width\":1},{\"alignmentgroup\":\"True\",\"hovertemplate\":\"Journal=Infection and immunity<br>Top_A_Fullname=%{x}<br>Top_A_J_Count=%{y}<extra></extra>\",\"legendgroup\":\"Infection and immunity\",\"marker\":{\"color\":\"#B6E880\",\"pattern\":{\"shape\":\"\"}},\"name\":\"Infection and immunity\",\"offsetgroup\":\"Infection and immunity\",\"orientation\":\"v\",\"showlegend\":true,\"textposition\":\"auto\",\"x\":[\"Adler B\"],\"xaxis\":\"x\",\"y\":[7],\"yaxis\":\"y\",\"type\":\"bar\",\"width\":1},{\"alignmentgroup\":\"True\",\"hovertemplate\":\"Journal=New Zealand veterinary journal<br>Top_A_Fullname=%{x}<br>Top_A_J_Count=%{y}<extra></extra>\",\"legendgroup\":\"New Zealand veterinary journal\",\"marker\":{\"color\":\"#FF97FF\",\"pattern\":{\"shape\":\"\"}},\"name\":\"New Zealand veterinary journal\",\"offsetgroup\":\"New Zealand veterinary journal\",\"orientation\":\"v\",\"showlegend\":true,\"textposition\":\"auto\",\"x\":[\"Collins-Emerson JM\"],\"xaxis\":\"x\",\"y\":[7],\"yaxis\":\"y\",\"type\":\"bar\",\"width\":1},{\"alignmentgroup\":\"True\",\"hovertemplate\":\"Journal=Tropical biomedicine<br>Top_A_Fullname=%{x}<br>Top_A_J_Count=%{y}<extra></extra>\",\"legendgroup\":\"Tropical biomedicine\",\"marker\":{\"color\":\"#FECB52\",\"pattern\":{\"shape\":\"\"}},\"name\":\"Tropical biomedicine\",\"offsetgroup\":\"Tropical biomedicine\",\"orientation\":\"v\",\"showlegend\":true,\"textposition\":\"auto\",\"x\":[\"Bahaman AR\"],\"xaxis\":\"x\",\"y\":[6],\"yaxis\":\"y\",\"type\":\"bar\",\"width\":1},{\"alignmentgroup\":\"True\",\"hovertemplate\":\"Journal=Veterinary microbiology<br>Top_A_Fullname=%{x}<br>Top_A_J_Count=%{y}<extra></extra>\",\"legendgroup\":\"Veterinary microbiology\",\"marker\":{\"color\":\"#636efa\",\"pattern\":{\"shape\":\"\"}},\"name\":\"Veterinary microbiology\",\"offsetgroup\":\"Veterinary microbiology\",\"orientation\":\"v\",\"showlegend\":true,\"textposition\":\"auto\",\"x\":[\"Adler B\"],\"xaxis\":\"x\",\"y\":[6],\"yaxis\":\"y\",\"type\":\"bar\",\"width\":1},{\"alignmentgroup\":\"True\",\"hovertemplate\":\"Journal=Transactions of the Royal Society of Tropical Medicine and Hygiene<br>Top_A_Fullname=%{x}<br>Top_A_J_Count=%{y}<extra></extra>\",\"legendgroup\":\"Transactions of the Royal Society of Tropical Medicine and Hygiene\",\"marker\":{\"color\":\"#EF553B\",\"pattern\":{\"shape\":\"\"}},\"name\":\"Transactions of the Royal Society of Tropical Medicine and Hygiene\",\"offsetgroup\":\"Transactions of the Royal Society of Tropical Medicine and Hygiene\",\"orientation\":\"v\",\"showlegend\":true,\"textposition\":\"auto\",\"x\":[\"Rajapakse S\"],\"xaxis\":\"x\",\"y\":[6],\"yaxis\":\"y\",\"type\":\"bar\",\"width\":1},{\"alignmentgroup\":\"True\",\"hovertemplate\":\"Journal=Current microbiology<br>Top_A_Fullname=%{x}<br>Top_A_J_Count=%{y}<extra></extra>\",\"legendgroup\":\"Current microbiology\",\"marker\":{\"color\":\"#00cc96\",\"pattern\":{\"shape\":\"\"}},\"name\":\"Current microbiology\",\"offsetgroup\":\"Current microbiology\",\"orientation\":\"v\",\"showlegend\":true,\"textposition\":\"auto\",\"x\":[\"Dellagostin OA\"],\"xaxis\":\"x\",\"y\":[5],\"yaxis\":\"y\",\"type\":\"bar\",\"width\":1},{\"alignmentgroup\":\"True\",\"hovertemplate\":\"Journal=Journal of clinical microbiology<br>Top_A_Fullname=%{x}<br>Top_A_J_Count=%{y}<extra></extra>\",\"legendgroup\":\"Journal of clinical microbiology\",\"marker\":{\"color\":\"#ab63fa\",\"pattern\":{\"shape\":\"\"}},\"name\":\"Journal of clinical microbiology\",\"offsetgroup\":\"Journal of clinical microbiology\",\"orientation\":\"v\",\"showlegend\":true,\"textposition\":\"auto\",\"x\":[\"Picardeau M\"],\"xaxis\":\"x\",\"y\":[5],\"yaxis\":\"y\",\"type\":\"bar\",\"width\":1},{\"alignmentgroup\":\"True\",\"hovertemplate\":\"Journal=Annals of tropical medicine and parasitology<br>Top_A_Fullname=%{x}<br>Top_A_J_Count=%{y}<extra></extra>\",\"legendgroup\":\"Annals of tropical medicine and parasitology\",\"marker\":{\"color\":\"#FFA15A\",\"pattern\":{\"shape\":\"\"}},\"name\":\"Annals of tropical medicine and parasitology\",\"offsetgroup\":\"Annals of tropical medicine and parasitology\",\"orientation\":\"v\",\"showlegend\":true,\"textposition\":\"auto\",\"x\":[\"Craig SB\"],\"xaxis\":\"x\",\"y\":[5],\"yaxis\":\"y\",\"type\":\"bar\",\"width\":1},{\"alignmentgroup\":\"True\",\"hovertemplate\":\"Journal=Journal of medical microbiology<br>Top_A_Fullname=%{x}<br>Top_A_J_Count=%{y}<extra></extra>\",\"legendgroup\":\"Journal of medical microbiology\",\"marker\":{\"color\":\"#19d3f3\",\"pattern\":{\"shape\":\"\"}},\"name\":\"Journal of medical microbiology\",\"offsetgroup\":\"Journal of medical microbiology\",\"orientation\":\"v\",\"showlegend\":true,\"textposition\":\"auto\",\"x\":[\"Koizumi N\"],\"xaxis\":\"x\",\"y\":[5],\"yaxis\":\"y\",\"type\":\"bar\",\"width\":1},{\"alignmentgroup\":\"True\",\"hovertemplate\":\"Journal=Comparative immunology, microbiology and infectious diseases<br>Top_A_Fullname=%{x}<br>Top_A_J_Count=%{y}<extra></extra>\",\"legendgroup\":\"Comparative immunology, microbiology and infectious diseases\",\"marker\":{\"color\":\"#FF6692\",\"pattern\":{\"shape\":\"\"}},\"name\":\"Comparative immunology, microbiology and infectious diseases\",\"offsetgroup\":\"Comparative immunology, microbiology and infectious diseases\",\"orientation\":\"v\",\"showlegend\":true,\"textposition\":\"auto\",\"x\":[\"Lilenbaum W\"],\"xaxis\":\"x\",\"y\":[5],\"yaxis\":\"y\",\"type\":\"bar\",\"width\":1},{\"alignmentgroup\":\"True\",\"hovertemplate\":\"Journal=Journal of wildlife diseases<br>Top_A_Fullname=%{x}<br>Top_A_J_Count=%{y}<extra></extra>\",\"legendgroup\":\"Journal of wildlife diseases\",\"marker\":{\"color\":\"#B6E880\",\"pattern\":{\"shape\":\"\"}},\"name\":\"Journal of wildlife diseases\",\"offsetgroup\":\"Journal of wildlife diseases\",\"orientation\":\"v\",\"showlegend\":true,\"textposition\":\"auto\",\"x\":[\"Gulland FM\"],\"xaxis\":\"x\",\"y\":[5],\"yaxis\":\"y\",\"type\":\"bar\",\"width\":1},{\"alignmentgroup\":\"True\",\"hovertemplate\":\"Journal=Acta tropica<br>Top_A_Fullname=%{x}<br>Top_A_J_Count=%{y}<extra></extra>\",\"legendgroup\":\"Acta tropica\",\"marker\":{\"color\":\"#FF97FF\",\"pattern\":{\"shape\":\"\"}},\"name\":\"Acta tropica\",\"offsetgroup\":\"Acta tropica\",\"orientation\":\"v\",\"showlegend\":true,\"textposition\":\"auto\",\"x\":[\"Ko AI\"],\"xaxis\":\"x\",\"y\":[5],\"yaxis\":\"y\",\"type\":\"bar\",\"width\":1},{\"alignmentgroup\":\"True\",\"hovertemplate\":\"Journal=PLoS pathogens<br>Top_A_Fullname=%{x}<br>Top_A_J_Count=%{y}<extra></extra>\",\"legendgroup\":\"PLoS pathogens\",\"marker\":{\"color\":\"#FECB52\",\"pattern\":{\"shape\":\"\"}},\"name\":\"PLoS pathogens\",\"offsetgroup\":\"PLoS pathogens\",\"orientation\":\"v\",\"showlegend\":true,\"textposition\":\"auto\",\"x\":[\"Picardeau M\"],\"xaxis\":\"x\",\"y\":[5],\"yaxis\":\"y\",\"type\":\"bar\",\"width\":1},{\"alignmentgroup\":\"True\",\"hovertemplate\":\"Journal=Zoonoses and public health<br>Top_A_Fullname=%{x}<br>Top_A_J_Count=%{y}<extra></extra>\",\"legendgroup\":\"Zoonoses and public health\",\"marker\":{\"color\":\"#636efa\",\"pattern\":{\"shape\":\"\"}},\"name\":\"Zoonoses and public health\",\"offsetgroup\":\"Zoonoses and public health\",\"orientation\":\"v\",\"showlegend\":true,\"textposition\":\"auto\",\"x\":[\"Heuer C\"],\"xaxis\":\"x\",\"y\":[5],\"yaxis\":\"y\",\"type\":\"bar\",\"width\":1},{\"alignmentgroup\":\"True\",\"hovertemplate\":\"Journal=BMC infectious diseases<br>Top_A_Fullname=%{x}<br>Top_A_J_Count=%{y}<extra></extra>\",\"legendgroup\":\"BMC infectious diseases\",\"marker\":{\"color\":\"#EF553B\",\"pattern\":{\"shape\":\"\"}},\"name\":\"BMC infectious diseases\",\"offsetgroup\":\"BMC infectious diseases\",\"orientation\":\"v\",\"showlegend\":true,\"textposition\":\"auto\",\"x\":[\"Agampodi SB\"],\"xaxis\":\"x\",\"y\":[5],\"yaxis\":\"y\",\"type\":\"bar\",\"width\":1},{\"alignmentgroup\":\"True\",\"hovertemplate\":\"Journal=PloS one<br>Top_A_Fullname=%{x}<br>Top_A_J_Count=%{y}<extra></extra>\",\"legendgroup\":\"PloS one\",\"marker\":{\"color\":\"#00cc96\",\"pattern\":{\"shape\":\"\"}},\"name\":\"PloS one\",\"offsetgroup\":\"PloS one\",\"orientation\":\"v\",\"showlegend\":true,\"textposition\":\"auto\",\"x\":[\"Chen X\"],\"xaxis\":\"x\",\"y\":[5],\"yaxis\":\"y\",\"type\":\"bar\",\"width\":1},{\"alignmentgroup\":\"True\",\"hovertemplate\":\"Journal=Theriogenology<br>Top_A_Fullname=%{x}<br>Top_A_J_Count=%{y}<extra></extra>\",\"legendgroup\":\"Theriogenology\",\"marker\":{\"color\":\"#ab63fa\",\"pattern\":{\"shape\":\"\"}},\"name\":\"Theriogenology\",\"offsetgroup\":\"Theriogenology\",\"orientation\":\"v\",\"showlegend\":true,\"textposition\":\"auto\",\"x\":[\"Lilenbaum W\"],\"xaxis\":\"x\",\"y\":[5],\"yaxis\":\"y\",\"type\":\"bar\",\"width\":1},{\"alignmentgroup\":\"True\",\"hovertemplate\":\"Journal=Journal of infection in developing countries<br>Top_A_Fullname=%{x}<br>Top_A_J_Count=%{y}<extra></extra>\",\"legendgroup\":\"Journal of infection in developing countries\",\"marker\":{\"color\":\"#FFA15A\",\"pattern\":{\"shape\":\"\"}},\"name\":\"Journal of infection in developing countries\",\"offsetgroup\":\"Journal of infection in developing countries\",\"orientation\":\"v\",\"showlegend\":true,\"textposition\":\"auto\",\"x\":[\"Puca E\"],\"xaxis\":\"x\",\"y\":[4],\"yaxis\":\"y\",\"type\":\"bar\",\"width\":1},{\"alignmentgroup\":\"True\",\"hovertemplate\":\"Journal=The Cochrane database of systematic reviews<br>Top_A_Fullname=%{x}<br>Top_A_J_Count=%{y}<extra></extra>\",\"legendgroup\":\"The Cochrane database of systematic reviews\",\"marker\":{\"color\":\"#19d3f3\",\"pattern\":{\"shape\":\"\"}},\"name\":\"The Cochrane database of systematic reviews\",\"offsetgroup\":\"The Cochrane database of systematic reviews\",\"orientation\":\"v\",\"showlegend\":true,\"textposition\":\"auto\",\"x\":[\"Atallah AN\"],\"xaxis\":\"x\",\"y\":[4],\"yaxis\":\"y\",\"type\":\"bar\",\"width\":1},{\"alignmentgroup\":\"True\",\"hovertemplate\":\"Journal=The New Zealand medical journal<br>Top_A_Fullname=%{x}<br>Top_A_J_Count=%{y}<extra></extra>\",\"legendgroup\":\"The New Zealand medical journal\",\"marker\":{\"color\":\"#FF6692\",\"pattern\":{\"shape\":\"\"}},\"name\":\"The New Zealand medical journal\",\"offsetgroup\":\"The New Zealand medical journal\",\"orientation\":\"v\",\"showlegend\":true,\"textposition\":\"auto\",\"x\":[\"Benschop J\"],\"xaxis\":\"x\",\"y\":[4],\"yaxis\":\"y\",\"type\":\"bar\",\"width\":1},{\"alignmentgroup\":\"True\",\"hovertemplate\":\"Journal=Klinicheskaia laboratornaia diagnostika<br>Top_A_Fullname=%{x}<br>Top_A_J_Count=%{y}<extra></extra>\",\"legendgroup\":\"Klinicheskaia laboratornaia diagnostika\",\"marker\":{\"color\":\"#B6E880\",\"pattern\":{\"shape\":\"\"}},\"name\":\"Klinicheskaia laboratornaia diagnostika\",\"offsetgroup\":\"Klinicheskaia laboratornaia diagnostika\",\"orientation\":\"v\",\"showlegend\":true,\"textposition\":\"auto\",\"x\":[\"Avdeeva MG\"],\"xaxis\":\"x\",\"y\":[4],\"yaxis\":\"y\",\"type\":\"bar\",\"width\":1},{\"alignmentgroup\":\"True\",\"hovertemplate\":\"Journal=Journal of immunology (Baltimore, Md. : 1950)<br>Top_A_Fullname=%{x}<br>Top_A_J_Count=%{y}<extra></extra>\",\"legendgroup\":\"Journal of immunology (Baltimore, Md. : 1950)\",\"marker\":{\"color\":\"#FF97FF\",\"pattern\":{\"shape\":\"\"}},\"name\":\"Journal of immunology (Baltimore, Md. : 1950)\",\"offsetgroup\":\"Journal of immunology (Baltimore, Md. : 1950)\",\"orientation\":\"v\",\"showlegend\":true,\"textposition\":\"auto\",\"x\":[\"Werts C\"],\"xaxis\":\"x\",\"y\":[4],\"yaxis\":\"y\",\"type\":\"bar\",\"width\":1},{\"alignmentgroup\":\"True\",\"hovertemplate\":\"Journal=Tropical medicine & international health : TM & IH<br>Top_A_Fullname=%{x}<br>Top_A_J_Count=%{y}<extra></extra>\",\"legendgroup\":\"Tropical medicine & international health : TM & IH\",\"marker\":{\"color\":\"#FECB52\",\"pattern\":{\"shape\":\"\"}},\"name\":\"Tropical medicine & international health : TM & IH\",\"offsetgroup\":\"Tropical medicine & international health : TM & IH\",\"orientation\":\"v\",\"showlegend\":true,\"textposition\":\"auto\",\"x\":[\"Goris MG\"],\"xaxis\":\"x\",\"y\":[4],\"yaxis\":\"y\",\"type\":\"bar\",\"width\":1},{\"alignmentgroup\":\"True\",\"hovertemplate\":\"Journal=Bulletin of the World Health Organization<br>Top_A_Fullname=%{x}<br>Top_A_J_Count=%{y}<extra></extra>\",\"legendgroup\":\"Bulletin of the World Health Organization\",\"marker\":{\"color\":\"#636efa\",\"pattern\":{\"shape\":\"\"}},\"name\":\"Bulletin of the World Health Organization\",\"offsetgroup\":\"Bulletin of the World Health Organization\",\"orientation\":\"v\",\"showlegend\":true,\"textposition\":\"auto\",\"x\":[\"Smith CE\"],\"xaxis\":\"x\",\"y\":[4],\"yaxis\":\"y\",\"type\":\"bar\",\"width\":1},{\"alignmentgroup\":\"True\",\"hovertemplate\":\"Journal=Clinical and vaccine immunology : CVI<br>Top_A_Fullname=%{x}<br>Top_A_J_Count=%{y}<extra></extra>\",\"legendgroup\":\"Clinical and vaccine immunology : CVI\",\"marker\":{\"color\":\"#EF553B\",\"pattern\":{\"shape\":\"\"}},\"name\":\"Clinical and vaccine immunology : CVI\",\"offsetgroup\":\"Clinical and vaccine immunology : CVI\",\"orientation\":\"v\",\"showlegend\":true,\"textposition\":\"auto\",\"x\":[\"Dellagostin OA\"],\"xaxis\":\"x\",\"y\":[4],\"yaxis\":\"y\",\"type\":\"bar\",\"width\":1},{\"alignmentgroup\":\"True\",\"hovertemplate\":\"Journal=BMC microbiology<br>Top_A_Fullname=%{x}<br>Top_A_J_Count=%{y}<extra></extra>\",\"legendgroup\":\"BMC microbiology\",\"marker\":{\"color\":\"#00cc96\",\"pattern\":{\"shape\":\"\"}},\"name\":\"BMC microbiology\",\"offsetgroup\":\"BMC microbiology\",\"orientation\":\"v\",\"showlegend\":true,\"textposition\":\"auto\",\"x\":[\"Yan J\"],\"xaxis\":\"x\",\"y\":[4],\"yaxis\":\"y\",\"type\":\"bar\",\"width\":1},{\"alignmentgroup\":\"True\",\"hovertemplate\":\"Journal=The Canadian veterinary journal = La revue veterinaire canadienne<br>Top_A_Fullname=%{x}<br>Top_A_J_Count=%{y}<extra></extra>\",\"legendgroup\":\"The Canadian veterinary journal = La revue veterinaire canadienne\",\"marker\":{\"color\":\"#ab63fa\",\"pattern\":{\"shape\":\"\"}},\"name\":\"The Canadian veterinary journal = La revue veterinaire canadienne\",\"offsetgroup\":\"The Canadian veterinary journal = La revue veterinaire canadienne\",\"orientation\":\"v\",\"showlegend\":true,\"textposition\":\"auto\",\"x\":[\"Kingscote BF\"],\"xaxis\":\"x\",\"y\":[4],\"yaxis\":\"y\",\"type\":\"bar\",\"width\":1},{\"alignmentgroup\":\"True\",\"hovertemplate\":\"Journal=International journal of environmental research and public health<br>Top_A_Fullname=%{x}<br>Top_A_J_Count=%{y}<extra></extra>\",\"legendgroup\":\"International journal of environmental research and public health\",\"marker\":{\"color\":\"#FFA15A\",\"pattern\":{\"shape\":\"\"}},\"name\":\"International journal of environmental research and public health\",\"offsetgroup\":\"International journal of environmental research and public health\",\"orientation\":\"v\",\"showlegend\":true,\"textposition\":\"auto\",\"x\":[\"Osman M\"],\"xaxis\":\"x\",\"y\":[4],\"yaxis\":\"y\",\"type\":\"bar\",\"width\":1},{\"alignmentgroup\":\"True\",\"hovertemplate\":\"Journal=Revista panamericana de salud publica = Pan American journal of public health<br>Top_A_Fullname=%{x}<br>Top_A_J_Count=%{y}<extra></extra>\",\"legendgroup\":\"Revista panamericana de salud publica = Pan American journal of public health\",\"marker\":{\"color\":\"#19d3f3\",\"pattern\":{\"shape\":\"\"}},\"name\":\"Revista panamericana de salud publica = Pan American journal of public health\",\"offsetgroup\":\"Revista panamericana de salud publica = Pan American journal of public health\",\"orientation\":\"v\",\"showlegend\":true,\"textposition\":\"auto\",\"x\":[\"Costa F\"],\"xaxis\":\"x\",\"y\":[4],\"yaxis\":\"y\",\"type\":\"bar\",\"width\":1},{\"alignmentgroup\":\"True\",\"hovertemplate\":\"Journal=Epidemiology and infection<br>Top_A_Fullname=%{x}<br>Top_A_J_Count=%{y}<extra></extra>\",\"legendgroup\":\"Epidemiology and infection\",\"marker\":{\"color\":\"#FF6692\",\"pattern\":{\"shape\":\"\"}},\"name\":\"Epidemiology and infection\",\"offsetgroup\":\"Epidemiology and infection\",\"orientation\":\"v\",\"showlegend\":true,\"textposition\":\"auto\",\"x\":[\"Lilenbaum W\"],\"xaxis\":\"x\",\"y\":[4],\"yaxis\":\"y\",\"type\":\"bar\",\"width\":1},{\"alignmentgroup\":\"True\",\"hovertemplate\":\"Journal=Clinical infectious diseases : an official publication of the Infectious Diseases Society of America<br>Top_A_Fullname=%{x}<br>Top_A_J_Count=%{y}<extra></extra>\",\"legendgroup\":\"Clinical infectious diseases : an official publication of the Infectious Diseases Society of America\",\"marker\":{\"color\":\"#B6E880\",\"pattern\":{\"shape\":\"\"}},\"name\":\"Clinical infectious diseases : an official publication of the Infectious Diseases Society of America\",\"offsetgroup\":\"Clinical infectious diseases : an official publication of the Infectious Diseases Society of America\",\"orientation\":\"v\",\"showlegend\":true,\"textposition\":\"auto\",\"x\":[\"Chierakul W\"],\"xaxis\":\"x\",\"y\":[3],\"yaxis\":\"y\",\"type\":\"bar\",\"width\":1},{\"alignmentgroup\":\"True\",\"hovertemplate\":\"Journal=Topics in companion animal medicine<br>Top_A_Fullname=%{x}<br>Top_A_J_Count=%{y}<extra></extra>\",\"legendgroup\":\"Topics in companion animal medicine\",\"marker\":{\"color\":\"#FF97FF\",\"pattern\":{\"shape\":\"\"}},\"name\":\"Topics in companion animal medicine\",\"offsetgroup\":\"Topics in companion animal medicine\",\"orientation\":\"v\",\"showlegend\":true,\"textposition\":\"auto\",\"x\":[\"Khor KH\"],\"xaxis\":\"x\",\"y\":[3],\"yaxis\":\"y\",\"type\":\"bar\",\"width\":1},{\"alignmentgroup\":\"True\",\"hovertemplate\":\"Journal=Biomedica : revista del Instituto Nacional de Salud<br>Top_A_Fullname=%{x}<br>Top_A_J_Count=%{y}<extra></extra>\",\"legendgroup\":\"Biomedica : revista del Instituto Nacional de Salud\",\"marker\":{\"color\":\"#FECB52\",\"pattern\":{\"shape\":\"\"}},\"name\":\"Biomedica : revista del Instituto Nacional de Salud\",\"offsetgroup\":\"Biomedica : revista del Instituto Nacional de Salud\",\"orientation\":\"v\",\"showlegend\":true,\"textposition\":\"auto\",\"x\":[\"Agudelo-Fl\\u00f3rez P\"],\"xaxis\":\"x\",\"y\":[3],\"yaxis\":\"y\",\"type\":\"bar\",\"width\":1},{\"alignmentgroup\":\"True\",\"hovertemplate\":\"Journal=The new microbiologica<br>Top_A_Fullname=%{x}<br>Top_A_J_Count=%{y}<extra></extra>\",\"legendgroup\":\"The new microbiologica\",\"marker\":{\"color\":\"#636efa\",\"pattern\":{\"shape\":\"\"}},\"name\":\"The new microbiologica\",\"offsetgroup\":\"The new microbiologica\",\"orientation\":\"v\",\"showlegend\":true,\"textposition\":\"auto\",\"x\":[\"Cinco M\"],\"xaxis\":\"x\",\"y\":[3],\"yaxis\":\"y\",\"type\":\"bar\",\"width\":1},{\"alignmentgroup\":\"True\",\"hovertemplate\":\"Journal=Euro surveillance : bulletin Europeen sur les maladies transmissibles = European communicable disease bulletin<br>Top_A_Fullname=%{x}<br>Top_A_J_Count=%{y}<extra></extra>\",\"legendgroup\":\"Euro surveillance : bulletin Europeen sur les maladies transmissibles = European communicable disease bulletin\",\"marker\":{\"color\":\"#EF553B\",\"pattern\":{\"shape\":\"\"}},\"name\":\"Euro surveillance : bulletin Europeen sur les maladies transmissibles = European communicable disease bulletin\",\"offsetgroup\":\"Euro surveillance : bulletin Europeen sur les maladies transmissibles = European communicable disease bulletin\",\"orientation\":\"v\",\"showlegend\":true,\"textposition\":\"auto\",\"x\":[\"Bourhy P\"],\"xaxis\":\"x\",\"y\":[3],\"yaxis\":\"y\",\"type\":\"bar\",\"width\":1},{\"alignmentgroup\":\"True\",\"hovertemplate\":\"Journal=Terapevticheskii arkhiv<br>Top_A_Fullname=%{x}<br>Top_A_J_Count=%{y}<extra></extra>\",\"legendgroup\":\"Terapevticheskii arkhiv\",\"marker\":{\"color\":\"#00cc96\",\"pattern\":{\"shape\":\"\"}},\"name\":\"Terapevticheskii arkhiv\",\"offsetgroup\":\"Terapevticheskii arkhiv\",\"orientation\":\"v\",\"showlegend\":true,\"textposition\":\"auto\",\"x\":[\"Degtiar' LD\"],\"xaxis\":\"x\",\"y\":[3],\"yaxis\":\"y\",\"type\":\"bar\",\"width\":1},{\"alignmentgroup\":\"True\",\"hovertemplate\":\"Journal=Infection, genetics and evolution : journal of molecular epidemiology and evolutionary genetics in infectious diseases<br>Top_A_Fullname=%{x}<br>Top_A_J_Count=%{y}<extra></extra>\",\"legendgroup\":\"Infection, genetics and evolution : journal of molecular epidemiology and evolutionary genetics in infectious diseases\",\"marker\":{\"color\":\"#ab63fa\",\"pattern\":{\"shape\":\"\"}},\"name\":\"Infection, genetics and evolution : journal of molecular epidemiology and evolutionary genetics in infectious diseases\",\"offsetgroup\":\"Infection, genetics and evolution : journal of molecular epidemiology and evolutionary genetics in infectious diseases\",\"orientation\":\"v\",\"showlegend\":true,\"textposition\":\"auto\",\"x\":[\"Koizumi N\"],\"xaxis\":\"x\",\"y\":[3],\"yaxis\":\"y\",\"type\":\"bar\",\"width\":1},{\"alignmentgroup\":\"True\",\"hovertemplate\":\"Journal=Tierarztliche Praxis. Ausgabe K, Kleintiere/Heimtiere<br>Top_A_Fullname=%{x}<br>Top_A_J_Count=%{y}<extra></extra>\",\"legendgroup\":\"Tierarztliche Praxis. Ausgabe K, Kleintiere/Heimtiere\",\"marker\":{\"color\":\"#FFA15A\",\"pattern\":{\"shape\":\"\"}},\"name\":\"Tierarztliche Praxis. Ausgabe K, Kleintiere/Heimtiere\",\"offsetgroup\":\"Tierarztliche Praxis. Ausgabe K, Kleintiere/Heimtiere\",\"orientation\":\"v\",\"showlegend\":true,\"textposition\":\"auto\",\"x\":[\"Hartmann K\"],\"xaxis\":\"x\",\"y\":[3],\"yaxis\":\"y\",\"type\":\"bar\",\"width\":1},{\"alignmentgroup\":\"True\",\"hovertemplate\":\"Journal=FEMS microbiology letters<br>Top_A_Fullname=%{x}<br>Top_A_J_Count=%{y}<extra></extra>\",\"legendgroup\":\"FEMS microbiology letters\",\"marker\":{\"color\":\"#19d3f3\",\"pattern\":{\"shape\":\"\"}},\"name\":\"FEMS microbiology letters\",\"offsetgroup\":\"FEMS microbiology letters\",\"orientation\":\"v\",\"showlegend\":true,\"textposition\":\"auto\",\"x\":[\"Merien F\"],\"xaxis\":\"x\",\"y\":[3],\"yaxis\":\"y\",\"type\":\"bar\",\"width\":1},{\"alignmentgroup\":\"True\",\"hovertemplate\":\"Journal=Equine veterinary journal<br>Top_A_Fullname=%{x}<br>Top_A_J_Count=%{y}<extra></extra>\",\"legendgroup\":\"Equine veterinary journal\",\"marker\":{\"color\":\"#FF6692\",\"pattern\":{\"shape\":\"\"}},\"name\":\"Equine veterinary journal\",\"offsetgroup\":\"Equine veterinary journal\",\"orientation\":\"v\",\"showlegend\":true,\"textposition\":\"auto\",\"x\":[\"Chang YF\"],\"xaxis\":\"x\",\"y\":[3],\"yaxis\":\"y\",\"type\":\"bar\",\"width\":1},{\"alignmentgroup\":\"True\",\"hovertemplate\":\"Journal=Renal failure<br>Top_A_Fullname=%{x}<br>Top_A_J_Count=%{y}<extra></extra>\",\"legendgroup\":\"Renal failure\",\"marker\":{\"color\":\"#B6E880\",\"pattern\":{\"shape\":\"\"}},\"name\":\"Renal failure\",\"offsetgroup\":\"Renal failure\",\"orientation\":\"v\",\"showlegend\":true,\"textposition\":\"auto\",\"x\":[\"Sitprija V\"],\"xaxis\":\"x\",\"y\":[3],\"yaxis\":\"y\",\"type\":\"bar\",\"width\":1},{\"alignmentgroup\":\"True\",\"hovertemplate\":\"Journal=Transboundary and emerging diseases<br>Top_A_Fullname=%{x}<br>Top_A_J_Count=%{y}<extra></extra>\",\"legendgroup\":\"Transboundary and emerging diseases\",\"marker\":{\"color\":\"#FF97FF\",\"pattern\":{\"shape\":\"\"}},\"name\":\"Transboundary and emerging diseases\",\"offsetgroup\":\"Transboundary and emerging diseases\",\"orientation\":\"v\",\"showlegend\":true,\"textposition\":\"auto\",\"x\":[\"Ahmed A\"],\"xaxis\":\"x\",\"y\":[3],\"yaxis\":\"y\",\"type\":\"bar\",\"width\":1},{\"alignmentgroup\":\"True\",\"hovertemplate\":\"Journal=Preventive veterinary medicine<br>Top_A_Fullname=%{x}<br>Top_A_J_Count=%{y}<extra></extra>\",\"legendgroup\":\"Preventive veterinary medicine\",\"marker\":{\"color\":\"#FECB52\",\"pattern\":{\"shape\":\"\"}},\"name\":\"Preventive veterinary medicine\",\"offsetgroup\":\"Preventive veterinary medicine\",\"orientation\":\"v\",\"showlegend\":true,\"textposition\":\"auto\",\"x\":[\"Alves CJ\"],\"xaxis\":\"x\",\"y\":[3],\"yaxis\":\"y\",\"type\":\"bar\",\"width\":1}],                        {\"template\":{\"data\":{\"histogram2dcontour\":[{\"type\":\"histogram2dcontour\",\"colorbar\":{\"outlinewidth\":0,\"ticks\":\"\"},\"colorscale\":[[0.0,\"#0d0887\"],[0.1111111111111111,\"#46039f\"],[0.2222222222222222,\"#7201a8\"],[0.3333333333333333,\"#9c179e\"],[0.4444444444444444,\"#bd3786\"],[0.5555555555555556,\"#d8576b\"],[0.6666666666666666,\"#ed7953\"],[0.7777777777777778,\"#fb9f3a\"],[0.8888888888888888,\"#fdca26\"],[1.0,\"#f0f921\"]]}],\"choropleth\":[{\"type\":\"choropleth\",\"colorbar\":{\"outlinewidth\":0,\"ticks\":\"\"}}],\"histogram2d\":[{\"type\":\"histogram2d\",\"colorbar\":{\"outlinewidth\":0,\"ticks\":\"\"},\"colorscale\":[[0.0,\"#0d0887\"],[0.1111111111111111,\"#46039f\"],[0.2222222222222222,\"#7201a8\"],[0.3333333333333333,\"#9c179e\"],[0.4444444444444444,\"#bd3786\"],[0.5555555555555556,\"#d8576b\"],[0.6666666666666666,\"#ed7953\"],[0.7777777777777778,\"#fb9f3a\"],[0.8888888888888888,\"#fdca26\"],[1.0,\"#f0f921\"]]}],\"heatmap\":[{\"type\":\"heatmap\",\"colorbar\":{\"outlinewidth\":0,\"ticks\":\"\"},\"colorscale\":[[0.0,\"#0d0887\"],[0.1111111111111111,\"#46039f\"],[0.2222222222222222,\"#7201a8\"],[0.3333333333333333,\"#9c179e\"],[0.4444444444444444,\"#bd3786\"],[0.5555555555555556,\"#d8576b\"],[0.6666666666666666,\"#ed7953\"],[0.7777777777777778,\"#fb9f3a\"],[0.8888888888888888,\"#fdca26\"],[1.0,\"#f0f921\"]]}],\"heatmapgl\":[{\"type\":\"heatmapgl\",\"colorbar\":{\"outlinewidth\":0,\"ticks\":\"\"},\"colorscale\":[[0.0,\"#0d0887\"],[0.1111111111111111,\"#46039f\"],[0.2222222222222222,\"#7201a8\"],[0.3333333333333333,\"#9c179e\"],[0.4444444444444444,\"#bd3786\"],[0.5555555555555556,\"#d8576b\"],[0.6666666666666666,\"#ed7953\"],[0.7777777777777778,\"#fb9f3a\"],[0.8888888888888888,\"#fdca26\"],[1.0,\"#f0f921\"]]}],\"contourcarpet\":[{\"type\":\"contourcarpet\",\"colorbar\":{\"outlinewidth\":0,\"ticks\":\"\"}}],\"contour\":[{\"type\":\"contour\",\"colorbar\":{\"outlinewidth\":0,\"ticks\":\"\"},\"colorscale\":[[0.0,\"#0d0887\"],[0.1111111111111111,\"#46039f\"],[0.2222222222222222,\"#7201a8\"],[0.3333333333333333,\"#9c179e\"],[0.4444444444444444,\"#bd3786\"],[0.5555555555555556,\"#d8576b\"],[0.6666666666666666,\"#ed7953\"],[0.7777777777777778,\"#fb9f3a\"],[0.8888888888888888,\"#fdca26\"],[1.0,\"#f0f921\"]]}],\"surface\":[{\"type\":\"surface\",\"colorbar\":{\"outlinewidth\":0,\"ticks\":\"\"},\"colorscale\":[[0.0,\"#0d0887\"],[0.1111111111111111,\"#46039f\"],[0.2222222222222222,\"#7201a8\"],[0.3333333333333333,\"#9c179e\"],[0.4444444444444444,\"#bd3786\"],[0.5555555555555556,\"#d8576b\"],[0.6666666666666666,\"#ed7953\"],[0.7777777777777778,\"#fb9f3a\"],[0.8888888888888888,\"#fdca26\"],[1.0,\"#f0f921\"]]}],\"mesh3d\":[{\"type\":\"mesh3d\",\"colorbar\":{\"outlinewidth\":0,\"ticks\":\"\"}}],\"scatter\":[{\"fillpattern\":{\"fillmode\":\"overlay\",\"size\":10,\"solidity\":0.2},\"type\":\"scatter\"}],\"parcoords\":[{\"type\":\"parcoords\",\"line\":{\"colorbar\":{\"outlinewidth\":0,\"ticks\":\"\"}}}],\"scatterpolargl\":[{\"type\":\"scatterpolargl\",\"marker\":{\"colorbar\":{\"outlinewidth\":0,\"ticks\":\"\"}}}],\"bar\":[{\"error_x\":{\"color\":\"#2a3f5f\"},\"error_y\":{\"color\":\"#2a3f5f\"},\"marker\":{\"line\":{\"color\":\"#E5ECF6\",\"width\":0.5},\"pattern\":{\"fillmode\":\"overlay\",\"size\":10,\"solidity\":0.2}},\"type\":\"bar\"}],\"scattergeo\":[{\"type\":\"scattergeo\",\"marker\":{\"colorbar\":{\"outlinewidth\":0,\"ticks\":\"\"}}}],\"scatterpolar\":[{\"type\":\"scatterpolar\",\"marker\":{\"colorbar\":{\"outlinewidth\":0,\"ticks\":\"\"}}}],\"histogram\":[{\"marker\":{\"pattern\":{\"fillmode\":\"overlay\",\"size\":10,\"solidity\":0.2}},\"type\":\"histogram\"}],\"scattergl\":[{\"type\":\"scattergl\",\"marker\":{\"colorbar\":{\"outlinewidth\":0,\"ticks\":\"\"}}}],\"scatter3d\":[{\"type\":\"scatter3d\",\"line\":{\"colorbar\":{\"outlinewidth\":0,\"ticks\":\"\"}},\"marker\":{\"colorbar\":{\"outlinewidth\":0,\"ticks\":\"\"}}}],\"scattermapbox\":[{\"type\":\"scattermapbox\",\"marker\":{\"colorbar\":{\"outlinewidth\":0,\"ticks\":\"\"}}}],\"scatterternary\":[{\"type\":\"scatterternary\",\"marker\":{\"colorbar\":{\"outlinewidth\":0,\"ticks\":\"\"}}}],\"scattercarpet\":[{\"type\":\"scattercarpet\",\"marker\":{\"colorbar\":{\"outlinewidth\":0,\"ticks\":\"\"}}}],\"carpet\":[{\"aaxis\":{\"endlinecolor\":\"#2a3f5f\",\"gridcolor\":\"white\",\"linecolor\":\"white\",\"minorgridcolor\":\"white\",\"startlinecolor\":\"#2a3f5f\"},\"baxis\":{\"endlinecolor\":\"#2a3f5f\",\"gridcolor\":\"white\",\"linecolor\":\"white\",\"minorgridcolor\":\"white\",\"startlinecolor\":\"#2a3f5f\"},\"type\":\"carpet\"}],\"table\":[{\"cells\":{\"fill\":{\"color\":\"#EBF0F8\"},\"line\":{\"color\":\"white\"}},\"header\":{\"fill\":{\"color\":\"#C8D4E3\"},\"line\":{\"color\":\"white\"}},\"type\":\"table\"}],\"barpolar\":[{\"marker\":{\"line\":{\"color\":\"#E5ECF6\",\"width\":0.5},\"pattern\":{\"fillmode\":\"overlay\",\"size\":10,\"solidity\":0.2}},\"type\":\"barpolar\"}],\"pie\":[{\"automargin\":true,\"type\":\"pie\"}]},\"layout\":{\"autotypenumbers\":\"strict\",\"colorway\":[\"#636efa\",\"#EF553B\",\"#00cc96\",\"#ab63fa\",\"#FFA15A\",\"#19d3f3\",\"#FF6692\",\"#B6E880\",\"#FF97FF\",\"#FECB52\"],\"font\":{\"color\":\"#2a3f5f\"},\"hovermode\":\"closest\",\"hoverlabel\":{\"align\":\"left\"},\"paper_bgcolor\":\"white\",\"plot_bgcolor\":\"#E5ECF6\",\"polar\":{\"bgcolor\":\"#E5ECF6\",\"angularaxis\":{\"gridcolor\":\"white\",\"linecolor\":\"white\",\"ticks\":\"\"},\"radialaxis\":{\"gridcolor\":\"white\",\"linecolor\":\"white\",\"ticks\":\"\"}},\"ternary\":{\"bgcolor\":\"#E5ECF6\",\"aaxis\":{\"gridcolor\":\"white\",\"linecolor\":\"white\",\"ticks\":\"\"},\"baxis\":{\"gridcolor\":\"white\",\"linecolor\":\"white\",\"ticks\":\"\"},\"caxis\":{\"gridcolor\":\"white\",\"linecolor\":\"white\",\"ticks\":\"\"}},\"coloraxis\":{\"colorbar\":{\"outlinewidth\":0,\"ticks\":\"\"}},\"colorscale\":{\"sequential\":[[0.0,\"#0d0887\"],[0.1111111111111111,\"#46039f\"],[0.2222222222222222,\"#7201a8\"],[0.3333333333333333,\"#9c179e\"],[0.4444444444444444,\"#bd3786\"],[0.5555555555555556,\"#d8576b\"],[0.6666666666666666,\"#ed7953\"],[0.7777777777777778,\"#fb9f3a\"],[0.8888888888888888,\"#fdca26\"],[1.0,\"#f0f921\"]],\"sequentialminus\":[[0.0,\"#0d0887\"],[0.1111111111111111,\"#46039f\"],[0.2222222222222222,\"#7201a8\"],[0.3333333333333333,\"#9c179e\"],[0.4444444444444444,\"#bd3786\"],[0.5555555555555556,\"#d8576b\"],[0.6666666666666666,\"#ed7953\"],[0.7777777777777778,\"#fb9f3a\"],[0.8888888888888888,\"#fdca26\"],[1.0,\"#f0f921\"]],\"diverging\":[[0,\"#8e0152\"],[0.1,\"#c51b7d\"],[0.2,\"#de77ae\"],[0.3,\"#f1b6da\"],[0.4,\"#fde0ef\"],[0.5,\"#f7f7f7\"],[0.6,\"#e6f5d0\"],[0.7,\"#b8e186\"],[0.8,\"#7fbc41\"],[0.9,\"#4d9221\"],[1,\"#276419\"]]},\"xaxis\":{\"gridcolor\":\"white\",\"linecolor\":\"white\",\"ticks\":\"\",\"title\":{\"standoff\":15},\"zerolinecolor\":\"white\",\"automargin\":true,\"zerolinewidth\":2},\"yaxis\":{\"gridcolor\":\"white\",\"linecolor\":\"white\",\"ticks\":\"\",\"title\":{\"standoff\":15},\"zerolinecolor\":\"white\",\"automargin\":true,\"zerolinewidth\":2},\"scene\":{\"xaxis\":{\"backgroundcolor\":\"#E5ECF6\",\"gridcolor\":\"white\",\"linecolor\":\"white\",\"showbackground\":true,\"ticks\":\"\",\"zerolinecolor\":\"white\",\"gridwidth\":2},\"yaxis\":{\"backgroundcolor\":\"#E5ECF6\",\"gridcolor\":\"white\",\"linecolor\":\"white\",\"showbackground\":true,\"ticks\":\"\",\"zerolinecolor\":\"white\",\"gridwidth\":2},\"zaxis\":{\"backgroundcolor\":\"#E5ECF6\",\"gridcolor\":\"white\",\"linecolor\":\"white\",\"showbackground\":true,\"ticks\":\"\",\"zerolinecolor\":\"white\",\"gridwidth\":2}},\"shapedefaults\":{\"line\":{\"color\":\"#2a3f5f\"}},\"annotationdefaults\":{\"arrowcolor\":\"#2a3f5f\",\"arrowhead\":0,\"arrowwidth\":1},\"geo\":{\"bgcolor\":\"white\",\"landcolor\":\"#E5ECF6\",\"subunitcolor\":\"white\",\"showland\":true,\"showlakes\":true,\"lakecolor\":\"white\"},\"title\":{\"x\":0.05},\"mapbox\":{\"style\":\"light\"}}},\"xaxis\":{\"anchor\":\"y\",\"domain\":[0.0,1.0],\"title\":{\"text\":\"Top_A_Fullname\"},\"tickangle\":45},\"yaxis\":{\"anchor\":\"x\",\"domain\":[0.0,1.0],\"title\":{\"text\":\"Top_A_J_Count\"}},\"legend\":{\"title\":{\"text\":\"Journal\"},\"tracegroupgap\":0},\"title\":{\"text\":\"Journal Top Contributing Authors\",\"x\":0.5},\"barmode\":\"relative\",\"showlegend\":false},                        {\"responsive\": true}                    ).then(function(){\n",
       "                            \n",
       "var gd = document.getElementById('6e4439d3-5dda-4da5-8cb7-680ec9a1a2c9');\n",
       "var x = new MutationObserver(function (mutations, observer) {{\n",
       "        var display = window.getComputedStyle(gd).display;\n",
       "        if (!display || display === 'none') {{\n",
       "            console.log([gd, 'removed!']);\n",
       "            Plotly.purge(gd);\n",
       "            observer.disconnect();\n",
       "        }}\n",
       "}});\n",
       "\n",
       "// Listen for the removal of the full notebook cells\n",
       "var notebookContainer = gd.closest('#notebook-container');\n",
       "if (notebookContainer) {{\n",
       "    x.observe(notebookContainer, {childList: true});\n",
       "}}\n",
       "\n",
       "// Listen for the clearing of the current output cell\n",
       "var outputEl = gd.closest('.output');\n",
       "if (outputEl) {{\n",
       "    x.observe(outputEl, {childList: true});\n",
       "}}\n",
       "\n",
       "                        })                };                });            </script>        </div>"
      ]
     },
     "metadata": {},
     "output_type": "display_data"
    }
   ],
   "source": [
    "lep_author_data['A_Fullname'] = lep_author_data['AuthorLastname'] + ' ' + lep_author_data['AuthorInitials']\n",
    "\n",
    "lep_id_jou = lep_article_data[['PMID', 'Journal']]\n",
    "lep_id_auth = lep_author_data[['PMID', 'A_Fullname']]\n",
    "\n",
    "lep_id_merge = pd.merge(lep_id_jou, lep_id_auth, on = 'PMID', how = 'outer')\n",
    "\n",
    "lep_id_sum = lep_id_merge.groupby(['Journal', 'A_Fullname']).size().reset_index(name = 'A_Count')\n",
    "\n",
    "lep_id_desc = lep_id_sum.sort_values(by = 'A_Count',\n",
    "                                        ascending = False,\n",
    "                                        ignore_index = True)\n",
    "\n",
    "lep_auth_max = lep_id_sum.groupby('Journal')['A_Count'].idxmax()\n",
    "\n",
    "lep_id_ath_max = lep_id_sum.loc[lep_auth_max]\n",
    "\n",
    "lep_id_ath_max.columns = ['Journal', 'Top_A_Fullname', 'Top_A_J_Count']\n",
    "\n",
    "lep_top_desc = lep_id_ath_max.sort_values(by = 'Top_A_J_Count',\n",
    "                                            ascending = False,\n",
    "                                            ignore_index = True)\n",
    "\n",
    "lep_td_top50 = lep_top_desc.iloc[:50,:]\n",
    "\n",
    "ipd.display(lep_td_top50)\n",
    "\n",
    "lep_td_top50_bar = px.bar(lep_td_top50,\n",
    "                    x = 'Top_A_Fullname',\n",
    "                    y = 'Top_A_J_Count',\n",
    "                    color = 'Journal',\n",
    "                    title = 'Journal Top Contributing Authors')\n",
    "lep_td_top50_bar.update_layout(showlegend = False,\n",
    "                              title_x = 0.5)\n",
    "lep_td_top50_bar.update_traces(width=1)\n",
    "lep_td_top50_bar.update_xaxes(tickangle=45)\n",
    "lep_td_top50_bar.show()"
   ]
  },
  {
   "cell_type": "code",
   "execution_count": 64,
   "id": "fe31563c",
   "metadata": {},
   "outputs": [
    {
     "data": {
      "text/html": [
       "<div>\n",
       "<style scoped>\n",
       "    .dataframe tbody tr th:only-of-type {\n",
       "        vertical-align: middle;\n",
       "    }\n",
       "\n",
       "    .dataframe tbody tr th {\n",
       "        vertical-align: top;\n",
       "    }\n",
       "\n",
       "    .dataframe thead th {\n",
       "        text-align: right;\n",
       "    }\n",
       "</style>\n",
       "<table border=\"1\" class=\"dataframe\">\n",
       "  <thead>\n",
       "    <tr style=\"text-align: right;\">\n",
       "      <th></th>\n",
       "      <th>Journal</th>\n",
       "      <th>J_Count</th>\n",
       "      <th>J_Share (%)</th>\n",
       "      <th>Top_A_Fullname</th>\n",
       "      <th>Top_A_J_Count</th>\n",
       "      <th>Top_A_J_Share (%)</th>\n",
       "    </tr>\n",
       "  </thead>\n",
       "  <tbody>\n",
       "    <tr>\n",
       "      <th>0</th>\n",
       "      <td>PLoS neglected tropical diseases</td>\n",
       "      <td>151</td>\n",
       "      <td>4.46</td>\n",
       "      <td>Ko AI</td>\n",
       "      <td>20</td>\n",
       "      <td>13.25</td>\n",
       "    </tr>\n",
       "    <tr>\n",
       "      <th>1</th>\n",
       "      <td>The American journal of tropical medicine and ...</td>\n",
       "      <td>129</td>\n",
       "      <td>3.81</td>\n",
       "      <td>Vinetz JM</td>\n",
       "      <td>14</td>\n",
       "      <td>10.85</td>\n",
       "    </tr>\n",
       "    <tr>\n",
       "      <th>2</th>\n",
       "      <td>PloS one</td>\n",
       "      <td>101</td>\n",
       "      <td>2.98</td>\n",
       "      <td>Chen X</td>\n",
       "      <td>5</td>\n",
       "      <td>4.95</td>\n",
       "    </tr>\n",
       "    <tr>\n",
       "      <th>3</th>\n",
       "      <td>BMC infectious diseases</td>\n",
       "      <td>54</td>\n",
       "      <td>1.59</td>\n",
       "      <td>Agampodi SB</td>\n",
       "      <td>5</td>\n",
       "      <td>9.26</td>\n",
       "    </tr>\n",
       "    <tr>\n",
       "      <th>4</th>\n",
       "      <td>Acta tropica</td>\n",
       "      <td>53</td>\n",
       "      <td>1.56</td>\n",
       "      <td>Ko AI</td>\n",
       "      <td>5</td>\n",
       "      <td>9.43</td>\n",
       "    </tr>\n",
       "    <tr>\n",
       "      <th>5</th>\n",
       "      <td>Epidemiology and infection</td>\n",
       "      <td>44</td>\n",
       "      <td>1.30</td>\n",
       "      <td>Lilenbaum W</td>\n",
       "      <td>4</td>\n",
       "      <td>9.09</td>\n",
       "    </tr>\n",
       "    <tr>\n",
       "      <th>6</th>\n",
       "      <td>Infection and immunity</td>\n",
       "      <td>41</td>\n",
       "      <td>1.21</td>\n",
       "      <td>Adler B</td>\n",
       "      <td>7</td>\n",
       "      <td>17.07</td>\n",
       "    </tr>\n",
       "    <tr>\n",
       "      <th>7</th>\n",
       "      <td>Tropical animal health and production</td>\n",
       "      <td>39</td>\n",
       "      <td>1.15</td>\n",
       "      <td>Lilenbaum W</td>\n",
       "      <td>10</td>\n",
       "      <td>25.64</td>\n",
       "    </tr>\n",
       "    <tr>\n",
       "      <th>8</th>\n",
       "      <td>Comparative immunology, microbiology and infec...</td>\n",
       "      <td>39</td>\n",
       "      <td>1.15</td>\n",
       "      <td>Lilenbaum W</td>\n",
       "      <td>5</td>\n",
       "      <td>12.82</td>\n",
       "    </tr>\n",
       "    <tr>\n",
       "      <th>9</th>\n",
       "      <td>The Southeast Asian journal of tropical medici...</td>\n",
       "      <td>36</td>\n",
       "      <td>1.06</td>\n",
       "      <td>Doungchawee G</td>\n",
       "      <td>3</td>\n",
       "      <td>8.33</td>\n",
       "    </tr>\n",
       "    <tr>\n",
       "      <th>10</th>\n",
       "      <td>Microbial pathogenesis</td>\n",
       "      <td>35</td>\n",
       "      <td>1.03</td>\n",
       "      <td>Cao Y</td>\n",
       "      <td>8</td>\n",
       "      <td>22.86</td>\n",
       "    </tr>\n",
       "    <tr>\n",
       "      <th>11</th>\n",
       "      <td>Transactions of the Royal Society of Tropical ...</td>\n",
       "      <td>35</td>\n",
       "      <td>1.03</td>\n",
       "      <td>Rajapakse S</td>\n",
       "      <td>6</td>\n",
       "      <td>17.14</td>\n",
       "    </tr>\n",
       "    <tr>\n",
       "      <th>12</th>\n",
       "      <td>Journal of wildlife diseases</td>\n",
       "      <td>35</td>\n",
       "      <td>1.03</td>\n",
       "      <td>Gulland FM</td>\n",
       "      <td>5</td>\n",
       "      <td>14.29</td>\n",
       "    </tr>\n",
       "    <tr>\n",
       "      <th>13</th>\n",
       "      <td>Scientific reports</td>\n",
       "      <td>32</td>\n",
       "      <td>0.94</td>\n",
       "      <td>Chadsuthi S</td>\n",
       "      <td>3</td>\n",
       "      <td>9.38</td>\n",
       "    </tr>\n",
       "    <tr>\n",
       "      <th>14</th>\n",
       "      <td>International journal of environmental researc...</td>\n",
       "      <td>30</td>\n",
       "      <td>0.89</td>\n",
       "      <td>Osman M</td>\n",
       "      <td>4</td>\n",
       "      <td>13.33</td>\n",
       "    </tr>\n",
       "    <tr>\n",
       "      <th>15</th>\n",
       "      <td>Emerging infectious diseases</td>\n",
       "      <td>30</td>\n",
       "      <td>0.89</td>\n",
       "      <td>Ko AI</td>\n",
       "      <td>3</td>\n",
       "      <td>10.00</td>\n",
       "    </tr>\n",
       "    <tr>\n",
       "      <th>16</th>\n",
       "      <td>Journal of clinical microbiology</td>\n",
       "      <td>29</td>\n",
       "      <td>0.86</td>\n",
       "      <td>Picardeau M</td>\n",
       "      <td>5</td>\n",
       "      <td>17.24</td>\n",
       "    </tr>\n",
       "    <tr>\n",
       "      <th>17</th>\n",
       "      <td>Journal of medical microbiology</td>\n",
       "      <td>29</td>\n",
       "      <td>0.86</td>\n",
       "      <td>Koizumi N</td>\n",
       "      <td>5</td>\n",
       "      <td>17.24</td>\n",
       "    </tr>\n",
       "    <tr>\n",
       "      <th>18</th>\n",
       "      <td>Vaccine</td>\n",
       "      <td>29</td>\n",
       "      <td>0.86</td>\n",
       "      <td>Dellagostin OA</td>\n",
       "      <td>9</td>\n",
       "      <td>31.03</td>\n",
       "    </tr>\n",
       "    <tr>\n",
       "      <th>19</th>\n",
       "      <td>Veterinary microbiology</td>\n",
       "      <td>28</td>\n",
       "      <td>0.83</td>\n",
       "      <td>Adler B</td>\n",
       "      <td>6</td>\n",
       "      <td>21.43</td>\n",
       "    </tr>\n",
       "  </tbody>\n",
       "</table>\n",
       "</div>"
      ],
      "text/plain": [
       "                                              Journal  J_Count  J_Share (%)  \\\n",
       "0                    PLoS neglected tropical diseases      151         4.46   \n",
       "1   The American journal of tropical medicine and ...      129         3.81   \n",
       "2                                            PloS one      101         2.98   \n",
       "3                             BMC infectious diseases       54         1.59   \n",
       "4                                        Acta tropica       53         1.56   \n",
       "5                          Epidemiology and infection       44         1.30   \n",
       "6                              Infection and immunity       41         1.21   \n",
       "7               Tropical animal health and production       39         1.15   \n",
       "8   Comparative immunology, microbiology and infec...       39         1.15   \n",
       "9   The Southeast Asian journal of tropical medici...       36         1.06   \n",
       "10                             Microbial pathogenesis       35         1.03   \n",
       "11  Transactions of the Royal Society of Tropical ...       35         1.03   \n",
       "12                       Journal of wildlife diseases       35         1.03   \n",
       "13                                 Scientific reports       32         0.94   \n",
       "14  International journal of environmental researc...       30         0.89   \n",
       "15                       Emerging infectious diseases       30         0.89   \n",
       "16                   Journal of clinical microbiology       29         0.86   \n",
       "17                    Journal of medical microbiology       29         0.86   \n",
       "18                                            Vaccine       29         0.86   \n",
       "19                            Veterinary microbiology       28         0.83   \n",
       "\n",
       "    Top_A_Fullname  Top_A_J_Count  Top_A_J_Share (%)  \n",
       "0            Ko AI             20              13.25  \n",
       "1        Vinetz JM             14              10.85  \n",
       "2           Chen X              5               4.95  \n",
       "3      Agampodi SB              5               9.26  \n",
       "4            Ko AI              5               9.43  \n",
       "5      Lilenbaum W              4               9.09  \n",
       "6          Adler B              7              17.07  \n",
       "7      Lilenbaum W             10              25.64  \n",
       "8      Lilenbaum W              5              12.82  \n",
       "9    Doungchawee G              3               8.33  \n",
       "10           Cao Y              8              22.86  \n",
       "11     Rajapakse S              6              17.14  \n",
       "12      Gulland FM              5              14.29  \n",
       "13     Chadsuthi S              3               9.38  \n",
       "14         Osman M              4              13.33  \n",
       "15           Ko AI              3              10.00  \n",
       "16     Picardeau M              5              17.24  \n",
       "17       Koizumi N              5              17.24  \n",
       "18  Dellagostin OA              9              31.03  \n",
       "19         Adler B              6              21.43  "
      ]
     },
     "metadata": {},
     "output_type": "display_data"
    }
   ],
   "source": [
    "lep_top_con_merge = pd.merge(lep_jou_aff, lep_id_ath_max, on = 'Journal', how = 'outer')\n",
    "\n",
    "lep_top_con_merge['Top_A_J_Share (%)'] = round((lep_top_con_merge['Top_A_J_Count'] / lep_top_con_merge['J_Count']) * 100, 2)\n",
    "\n",
    "lep_top20 = lep_top_con_merge.iloc[:20,:]\n",
    "\n",
    "ipd.display(lep_top20)"
   ]
  },
  {
   "cell_type": "code",
   "execution_count": null,
   "id": "550de455",
   "metadata": {},
   "outputs": [],
   "source": []
  },
  {
   "cell_type": "code",
   "execution_count": null,
   "id": "1f4b25f3",
   "metadata": {},
   "outputs": [],
   "source": []
  }
 ],
 "metadata": {
  "kernelspec": {
   "display_name": "Python 3 (ipykernel)",
   "language": "python",
   "name": "python3"
  },
  "language_info": {
   "codemirror_mode": {
    "name": "ipython",
    "version": 3
   },
   "file_extension": ".py",
   "mimetype": "text/x-python",
   "name": "python",
   "nbconvert_exporter": "python",
   "pygments_lexer": "ipython3",
   "version": "3.9.13"
  }
 },
 "nbformat": 4,
 "nbformat_minor": 5
}
