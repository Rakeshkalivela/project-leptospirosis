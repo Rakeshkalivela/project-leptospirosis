{
 "cells": [
  {
   "cell_type": "code",
   "execution_count": 1,
   "id": "b9d9284f",
   "metadata": {},
   "outputs": [],
   "source": [
    "from data_reading import *"
   ]
  },
  {
   "cell_type": "code",
   "execution_count": 25,
   "id": "17e1b87e",
   "metadata": {
    "scrolled": true
   },
   "outputs": [
    {
     "data": {
      "text/html": [
       "<div>\n",
       "<style scoped>\n",
       "    .dataframe tbody tr th:only-of-type {\n",
       "        vertical-align: middle;\n",
       "    }\n",
       "\n",
       "    .dataframe tbody tr th {\n",
       "        vertical-align: top;\n",
       "    }\n",
       "\n",
       "    .dataframe thead th {\n",
       "        text-align: right;\n",
       "    }\n",
       "</style>\n",
       "<table border=\"1\" class=\"dataframe\">\n",
       "  <thead>\n",
       "    <tr style=\"text-align: right;\">\n",
       "      <th></th>\n",
       "      <th>Journal</th>\n",
       "      <th>Count</th>\n",
       "      <th>Share (%)</th>\n",
       "    </tr>\n",
       "  </thead>\n",
       "  <tbody>\n",
       "    <tr>\n",
       "      <th>0</th>\n",
       "      <td>PLoS neglected tropical diseases</td>\n",
       "      <td>151</td>\n",
       "      <td>21.98</td>\n",
       "    </tr>\n",
       "    <tr>\n",
       "      <th>1</th>\n",
       "      <td>The American journal of tropical medicine and ...</td>\n",
       "      <td>129</td>\n",
       "      <td>18.78</td>\n",
       "    </tr>\n",
       "    <tr>\n",
       "      <th>2</th>\n",
       "      <td>PloS one</td>\n",
       "      <td>101</td>\n",
       "      <td>14.70</td>\n",
       "    </tr>\n",
       "    <tr>\n",
       "      <th>3</th>\n",
       "      <td>BMC infectious diseases</td>\n",
       "      <td>54</td>\n",
       "      <td>7.86</td>\n",
       "    </tr>\n",
       "    <tr>\n",
       "      <th>4</th>\n",
       "      <td>Acta tropica</td>\n",
       "      <td>53</td>\n",
       "      <td>7.71</td>\n",
       "    </tr>\n",
       "    <tr>\n",
       "      <th>5</th>\n",
       "      <td>Epidemiology and infection</td>\n",
       "      <td>44</td>\n",
       "      <td>6.40</td>\n",
       "    </tr>\n",
       "    <tr>\n",
       "      <th>6</th>\n",
       "      <td>Infection and immunity</td>\n",
       "      <td>41</td>\n",
       "      <td>5.97</td>\n",
       "    </tr>\n",
       "    <tr>\n",
       "      <th>7</th>\n",
       "      <td>Tropical animal health and production</td>\n",
       "      <td>39</td>\n",
       "      <td>5.68</td>\n",
       "    </tr>\n",
       "    <tr>\n",
       "      <th>8</th>\n",
       "      <td>Comparative immunology, microbiology and infec...</td>\n",
       "      <td>39</td>\n",
       "      <td>5.68</td>\n",
       "    </tr>\n",
       "    <tr>\n",
       "      <th>9</th>\n",
       "      <td>The Southeast Asian journal of tropical medici...</td>\n",
       "      <td>36</td>\n",
       "      <td>5.24</td>\n",
       "    </tr>\n",
       "  </tbody>\n",
       "</table>\n",
       "</div>"
      ],
      "text/plain": [
       "                                             Journal  Count  Share (%)\n",
       "0                   PLoS neglected tropical diseases    151      21.98\n",
       "1  The American journal of tropical medicine and ...    129      18.78\n",
       "2                                           PloS one    101      14.70\n",
       "3                            BMC infectious diseases     54       7.86\n",
       "4                                       Acta tropica     53       7.71\n",
       "5                         Epidemiology and infection     44       6.40\n",
       "6                             Infection and immunity     41       5.97\n",
       "7              Tropical animal health and production     39       5.68\n",
       "8  Comparative immunology, microbiology and infec...     39       5.68\n",
       "9  The Southeast Asian journal of tropical medici...     36       5.24"
      ]
     },
     "metadata": {},
     "output_type": "display_data"
    }
   ],
   "source": [
    "lep_jou_aff = lep_article_data['Journal'].value_counts().nlargest(10).reset_index()\n",
    "lep_jou_aff.columns = ['Journal', 'Count']\n",
    "\n",
    "lep_ja_sum = lep_jou_aff['Count'].sum()\n",
    "\n",
    "lep_jou_aff['Share (%)'] = round((lep_jou_aff['Count'] / lep_ja_sum) * 100, 2)\n",
    "\n",
    "ipd.display(lep_jou_aff)"
   ]
  },
  {
   "cell_type": "code",
   "execution_count": null,
   "id": "73e9de3d",
   "metadata": {},
   "outputs": [],
   "source": []
  }
 ],
 "metadata": {
  "kernelspec": {
   "display_name": "Python 3 (ipykernel)",
   "language": "python",
   "name": "python3"
  },
  "language_info": {
   "codemirror_mode": {
    "name": "ipython",
    "version": 3
   },
   "file_extension": ".py",
   "mimetype": "text/x-python",
   "name": "python",
   "nbconvert_exporter": "python",
   "pygments_lexer": "ipython3",
   "version": "3.9.13"
  }
 },
 "nbformat": 4,
 "nbformat_minor": 5
}
