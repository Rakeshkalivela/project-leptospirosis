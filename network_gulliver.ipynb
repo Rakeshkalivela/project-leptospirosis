{
 "cells": [
  {
   "cell_type": "code",
   "execution_count": 18,
   "id": "1baa2a65",
   "metadata": {},
   "outputs": [],
   "source": [
    "# import relevant library's\n",
    "import numpy as np\n",
    "import pandas as pd\n",
    "import networkx as nx\n",
    "import matplotlib.pyplot as plt"
   ]
  },
  {
   "cell_type": "code",
   "execution_count": 9,
   "id": "a2c22df2",
   "metadata": {},
   "outputs": [],
   "source": [
    "# relevant filepaths\n",
    "fp_art=(\"articles.leptospirosis.csv\")\n",
    "fp_aut=(\"authors.leptospirosis.csv\")\n",
    "fp_year=(\"paper_counts.csv\")\n",
    "# create suitable data frames\n",
    "df_art=pd.read_csv(fp_art)\n",
    "df_aut=pd.read_csv(fp_aut)\n",
    "df_year=pd.read_csv(fp_year)\n",
    "\n"
   ]
  },
  {
   "cell_type": "code",
   "execution_count": 10,
   "id": "9b953027",
   "metadata": {},
   "outputs": [
    {
     "name": "stdout",
     "output_type": "stream",
     "text": [
      "Full\n",
      "A A Adesiyun          6\n",
      "A A Alfieri           1\n",
      "A A B B Athukorala    1\n",
      "A A Castro            2\n",
      "A A Chowdhury         1\n",
      "                     ..\n",
      "Łukasz Bocian         1\n",
      "Şaban Gönül           1\n",
      "Željka Anzulović      1\n",
      "Žiga Kalamar          1\n",
      "Оlena Chervinska      1\n",
      "Length: 14107, dtype: int64\n"
     ]
    }
   ],
   "source": [
    "# making a clean data frame without irrelevant columns and with a column for full name\n",
    "df_aut[\"Full\"]=df_aut[\"AuthorForename\"]+' '+df_aut[\"AuthorLastname\"]\n",
    "df_clear=df_aut.drop(['AuthorInitials', 'AuthorAffiliation','AuthorForename','AuthorLastname'], axis=1)\n",
    "# making a list of every author\n",
    "AUTH=list(dict.fromkeys(df_clear['Full'].tolist()))\n",
    "# making a table that counts for duplicates\n",
    "count=df_clear.pivot_table(index=['Full'],aggfunc='size')\n",
    "print(count)\n"
   ]
  },
  {
   "cell_type": "code",
   "execution_count": 11,
   "id": "4c6fe1a7",
   "metadata": {},
   "outputs": [
    {
     "name": "stdout",
     "output_type": "stream",
     "text": [
      "                         Full                           \\\n",
      "AuthorN                    1                        2    \n",
      "PMID                                                     \n",
      "10548299              E Daher              D M Zanetta   \n",
      "10569777            D A Haake                M K Mazel   \n",
      "10585813          P C Marotto           C M Nascimento   \n",
      "10586903         P Cumberland              C O Everard   \n",
      "10596270        A Steger-Lieb                 B Gerber   \n",
      "...                       ...                      ...   \n",
      "38058661  Wesley P du Plessis              Sa'ad Lahri   \n",
      "38074946          Sylvie Zida  Henri Gautier Ouédraogo   \n",
      "38081475    Delphine Bonhomme       Ignacio Santecchia   \n",
      "38087323       Noraini Philip          Kamruddin Ahmed   \n",
      "38094659        Guan-Sheng Li              Hai-Qin Guo   \n",
      "\n",
      "                                                            \\\n",
      "AuthorN                         3                       4    \n",
      "PMID                                                         \n",
      "10548299            M B Cavalcante          R C Abdulkader   \n",
      "10569777                 A M McCoy               F Milward   \n",
      "10585813               J Eluf-Neto             M S Marotto   \n",
      "10586903                P N Levett                     NaN   \n",
      "10596270                 J Nicolet               F Gaschen   \n",
      "...                            ...                     ...   \n",
      "38058661            Keethal Somers         Tamsin Lovelock   \n",
      "38074946  Tegwinde Rebeca Compaoré              Tani Sagna   \n",
      "38081475              Pedro Escoll  Stylianos Papadopoulos   \n",
      "38087323                       NaN                     NaN   \n",
      "38094659                       NaN                     NaN   \n",
      "\n",
      "                                                                 \\\n",
      "AuthorN                           5                          6    \n",
      "PMID                                                              \n",
      "10548299                         NaN                        NaN   \n",
      "10569777                      G Chao                J Matsunaga   \n",
      "10585813                   L Andrade                J Sztajnbok   \n",
      "10586903                         NaN                        NaN   \n",
      "10596270                         NaN                        NaN   \n",
      "...                              ...                        ...   \n",
      "38058661                         NaN                        NaN   \n",
      "38074946    Serge Théophile Soubeiga  Bienvenu Yalabola Banhoro   \n",
      "38081475  Frédérique Vernel-Pauillac               Ivo G Boneca   \n",
      "38087323                         NaN                        NaN   \n",
      "38094659                         NaN                        NaN   \n",
      "\n",
      "                                                                              \\\n",
      "AuthorN                   7                 8             9               10   \n",
      "PMID                                                                           \n",
      "10548299                 NaN               NaN           NaN             NaN   \n",
      "10569777           E A Wagar               NaN           NaN             NaN   \n",
      "10585813          A C Seguro               NaN           NaN             NaN   \n",
      "10586903                 NaN               NaN           NaN             NaN   \n",
      "10596270                 NaN               NaN           NaN             NaN   \n",
      "...                      ...               ...           ...             ...   \n",
      "38058661                 NaN               NaN           NaN             NaN   \n",
      "38074946  Abdou Azaque Zouré  Dinanibè Kambiré  Amadou Dicko  Elsio A Wunder   \n",
      "38081475     Catherine Werts               NaN           NaN             NaN   \n",
      "38087323                 NaN               NaN           NaN             NaN   \n",
      "38094659                 NaN               NaN           NaN             NaN   \n",
      "\n",
      "          ...                                                    \n",
      "AuthorN   ...   43   44   45   46   47   48   49   50   51   52  \n",
      "PMID      ...                                                    \n",
      "10548299  ...  NaN  NaN  NaN  NaN  NaN  NaN  NaN  NaN  NaN  NaN  \n",
      "10569777  ...  NaN  NaN  NaN  NaN  NaN  NaN  NaN  NaN  NaN  NaN  \n",
      "10585813  ...  NaN  NaN  NaN  NaN  NaN  NaN  NaN  NaN  NaN  NaN  \n",
      "10586903  ...  NaN  NaN  NaN  NaN  NaN  NaN  NaN  NaN  NaN  NaN  \n",
      "10596270  ...  NaN  NaN  NaN  NaN  NaN  NaN  NaN  NaN  NaN  NaN  \n",
      "...       ...  ...  ...  ...  ...  ...  ...  ...  ...  ...  ...  \n",
      "38058661  ...  NaN  NaN  NaN  NaN  NaN  NaN  NaN  NaN  NaN  NaN  \n",
      "38074946  ...  NaN  NaN  NaN  NaN  NaN  NaN  NaN  NaN  NaN  NaN  \n",
      "38081475  ...  NaN  NaN  NaN  NaN  NaN  NaN  NaN  NaN  NaN  NaN  \n",
      "38087323  ...  NaN  NaN  NaN  NaN  NaN  NaN  NaN  NaN  NaN  NaN  \n",
      "38094659  ...  NaN  NaN  NaN  NaN  NaN  NaN  NaN  NaN  NaN  NaN  \n",
      "\n",
      "[3387 rows x 52 columns]\n"
     ]
    }
   ],
   "source": [
    "# make a unstacked DF\n",
    "ind=df_clear.set_index([\"PMID\",\"AuthorN\"])\n",
    "df_unstack=ind.unstack()\n",
    "print(df_unstack)\n"
   ]
  },
  {
   "cell_type": "code",
   "execution_count": 7,
   "id": "d13c3ac5",
   "metadata": {
    "scrolled": true
   },
   "outputs": [
    {
     "name": "stdout",
     "output_type": "stream",
     "text": [
      "                 Author                                      collaborators\n",
      "0               E Daher      [D M Zanetta, M B Cavalcante, R C Abdulkader]\n",
      "1           D M Zanetta          [E Daher, M B Cavalcante, R C Abdulkader]\n",
      "2        M B Cavalcante             [E Daher, D M Zanetta, R C Abdulkader]\n",
      "3        R C Abdulkader             [E Daher, D M Zanetta, M B Cavalcante]\n",
      "4             D A Haake  [M K Mazel, A M McCoy, F Milward, G Chao, J Ma...\n",
      "...                 ...                                                ...\n",
      "14103  Dinanibè Kambiré  [Sylvie Zida, Henri Gautier Ouédraogo, Tegwind...\n",
      "14104      Seni Kouanda  [Sylvie Zida, Henri Gautier Ouédraogo, Tegwind...\n",
      "14105      Pedro Escoll  [Delphine Bonhomme, Ignacio Santecchia, Stylia...\n",
      "14106     Guan-Sheng Li                                      [Hai-Qin Guo]\n",
      "14107       Hai-Qin Guo                                    [Guan-Sheng Li]\n",
      "\n",
      "[14108 rows x 2 columns]\n"
     ]
    }
   ],
   "source": [
    "# return a list of collaborator for a specific person\n",
    "colab_search = np.column_stack([df_unstack[col].str.contains(r\"A A Adesiyun\", na=False) for col in df_unstack])\n",
    "df_colab_search=df_unstack.loc[colab_search.any(axis=1)]\n",
    "stack=df_colab_search.stack()\n",
    "COLAB=list(dict.fromkeys(stack['Full'].tolist()))\n",
    "COLAB.remove('A A Adesiyun')\n",
    "# return a data frame for all authors\n",
    "lst=[]\n",
    "for i in AUTH:\n",
    "    colab_search = np.column_stack([df_unstack[col].str.contains(str(i), na=False) for col in df_unstack])\n",
    "    df_colab_search = df_unstack.loc[colab_search.any(axis=1)]\n",
    "    stack = df_colab_search.stack()\n",
    "    COLAB = list(dict.fromkeys(stack['Full'].tolist()))\n",
    "    if i in COLAB:\n",
    "        COLAB.remove(i)\n",
    "    lst.append({'Author': i, 'collaborators':COLAB})\n",
    "df_COLAB=pd.DataFrame(lst,columns=['Author','collaborators'])\n",
    "print(df_COLAB)\n",
    "\n",
    "df_COLAB.to_csv(\"df_COLAB.csv\")"
   ]
  },
  {
   "cell_type": "code",
   "execution_count": 14,
   "id": "4ffdd39f",
   "metadata": {},
   "outputs": [
    {
     "name": "stdout",
     "output_type": "stream",
     "text": [
      "Collecting python-louvain\n",
      "  Downloading python-louvain-0.16.tar.gz (204 kB)\n",
      "\u001b[2K     \u001b[90m━━━━━━━━━━━━━━━━━━━━━━━━━━━━━━━━━━━━━━━\u001b[0m \u001b[32m204.6/204.6 kB\u001b[0m \u001b[31m1.1 MB/s\u001b[0m eta \u001b[36m0:00:00\u001b[0ma \u001b[36m0:00:01\u001b[0m\n",
      "\u001b[?25h  Preparing metadata (setup.py) ... \u001b[?25ldone\n",
      "\u001b[?25hRequirement already satisfied: networkx in /Users/rakesh/anaconda3/lib/python3.11/site-packages (from python-louvain) (3.1)\n",
      "Requirement already satisfied: numpy in /Users/rakesh/anaconda3/lib/python3.11/site-packages (from python-louvain) (1.24.3)\n",
      "Building wheels for collected packages: python-louvain\n",
      "  Building wheel for python-louvain (setup.py) ... \u001b[?25ldone\n",
      "\u001b[?25h  Created wheel for python-louvain: filename=python_louvain-0.16-py3-none-any.whl size=9389 sha256=a0ff21abccb61ef025dc882a6747f4505f4f2dc48b7290dfd2f747db724f298f\n",
      "  Stored in directory: /Users/rakesh/Library/Caches/pip/wheels/11/c1/e7/f62a211c636275e2da798bf0c307a3ae79aeddaf2524a03ce4\n",
      "Successfully built python-louvain\n",
      "Installing collected packages: python-louvain\n",
      "Successfully installed python-louvain-0.16\n"
     ]
    }
   ],
   "source": [
    "! pip install python-louvain"
   ]
  },
  {
   "cell_type": "code",
   "execution_count": 15,
   "id": "73768619",
   "metadata": {},
   "outputs": [],
   "source": [
    "import community"
   ]
  },
  {
   "cell_type": "code",
   "execution_count": 21,
   "id": "0bb95153",
   "metadata": {},
   "outputs": [],
   "source": [
    "# Create a directed graph from the DataFrame\n",
    "G = nx.DiGraph()\n",
    "\n",
    "for _, row in df_COLAB.iterrows():\n",
    "    author = row['Author']\n",
    "    collaborators = row['collaborators']\n",
    "\n",
    "    for collaborator in collaborators:\n",
    "        G.add_edge(author, collaborator)\n",
    "        \n",
    "partition=community.best_partition(G.to_undirected())\n",
    "\n"
   ]
  },
  {
   "cell_type": "code",
   "execution_count": 28,
   "id": "fd02b4c5",
   "metadata": {},
   "outputs": [],
   "source": [
    "# Visualize the graph\n",
    "pos = nx.spring_layout(G)  # You can try different layout algorithms\n",
    "plt.figure(figsize=(240, 200))\n",
    "cmap=plt.cm.get_cmap('viridis',max(partition.values())+1)\n",
    "nx.draw(G, pos, with_labels=True, font_weight='bold', node_color=list(partition.values()),cmap=cmap, node_size=800)\n",
    "\n",
    "# Show the plot\n",
    "plt.savefig('network.png')"
   ]
  }
 ],
 "metadata": {
  "kernelspec": {
   "display_name": "Python 3 (ipykernel)",
   "language": "python",
   "name": "python3"
  },
  "language_info": {
   "codemirror_mode": {
    "name": "ipython",
    "version": 3
   },
   "file_extension": ".py",
   "mimetype": "text/x-python",
   "name": "python",
   "nbconvert_exporter": "python",
   "pygments_lexer": "ipython3",
   "version": "3.11.5"
  }
 },
 "nbformat": 4,
 "nbformat_minor": 5
}
