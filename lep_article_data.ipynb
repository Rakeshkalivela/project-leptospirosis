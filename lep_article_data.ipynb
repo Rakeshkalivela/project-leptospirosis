{
 "cells": [
  {
   "cell_type": "code",
   "execution_count": 1,
   "id": "b9d9284f",
   "metadata": {},
   "outputs": [],
   "source": [
    "from data_reading import *"
   ]
  },
  {
   "cell_type": "code",
   "execution_count": 26,
   "id": "17e1b87e",
   "metadata": {},
   "outputs": [
    {
     "data": {
      "text/html": [
       "<div>\n",
       "<style scoped>\n",
       "    .dataframe tbody tr th:only-of-type {\n",
       "        vertical-align: middle;\n",
       "    }\n",
       "\n",
       "    .dataframe tbody tr th {\n",
       "        vertical-align: top;\n",
       "    }\n",
       "\n",
       "    .dataframe thead th {\n",
       "        text-align: right;\n",
       "    }\n",
       "</style>\n",
       "<table border=\"1\" class=\"dataframe\">\n",
       "  <thead>\n",
       "    <tr style=\"text-align: right;\">\n",
       "      <th></th>\n",
       "      <th>Journal</th>\n",
       "      <th>J_Count</th>\n",
       "      <th>J_Share (%)</th>\n",
       "    </tr>\n",
       "  </thead>\n",
       "  <tbody>\n",
       "    <tr>\n",
       "      <th>0</th>\n",
       "      <td>PLoS neglected tropical diseases</td>\n",
       "      <td>151</td>\n",
       "      <td>4.46</td>\n",
       "    </tr>\n",
       "    <tr>\n",
       "      <th>1</th>\n",
       "      <td>The American journal of tropical medicine and ...</td>\n",
       "      <td>129</td>\n",
       "      <td>3.81</td>\n",
       "    </tr>\n",
       "    <tr>\n",
       "      <th>2</th>\n",
       "      <td>PloS one</td>\n",
       "      <td>101</td>\n",
       "      <td>2.98</td>\n",
       "    </tr>\n",
       "    <tr>\n",
       "      <th>3</th>\n",
       "      <td>BMC infectious diseases</td>\n",
       "      <td>54</td>\n",
       "      <td>1.59</td>\n",
       "    </tr>\n",
       "    <tr>\n",
       "      <th>4</th>\n",
       "      <td>Acta tropica</td>\n",
       "      <td>53</td>\n",
       "      <td>1.56</td>\n",
       "    </tr>\n",
       "    <tr>\n",
       "      <th>5</th>\n",
       "      <td>Epidemiology and infection</td>\n",
       "      <td>44</td>\n",
       "      <td>1.30</td>\n",
       "    </tr>\n",
       "    <tr>\n",
       "      <th>6</th>\n",
       "      <td>Infection and immunity</td>\n",
       "      <td>41</td>\n",
       "      <td>1.21</td>\n",
       "    </tr>\n",
       "    <tr>\n",
       "      <th>7</th>\n",
       "      <td>Tropical animal health and production</td>\n",
       "      <td>39</td>\n",
       "      <td>1.15</td>\n",
       "    </tr>\n",
       "    <tr>\n",
       "      <th>8</th>\n",
       "      <td>Comparative immunology, microbiology and infec...</td>\n",
       "      <td>39</td>\n",
       "      <td>1.15</td>\n",
       "    </tr>\n",
       "    <tr>\n",
       "      <th>9</th>\n",
       "      <td>The Southeast Asian journal of tropical medici...</td>\n",
       "      <td>36</td>\n",
       "      <td>1.06</td>\n",
       "    </tr>\n",
       "    <tr>\n",
       "      <th>10</th>\n",
       "      <td>Microbial pathogenesis</td>\n",
       "      <td>35</td>\n",
       "      <td>1.03</td>\n",
       "    </tr>\n",
       "    <tr>\n",
       "      <th>11</th>\n",
       "      <td>Transactions of the Royal Society of Tropical ...</td>\n",
       "      <td>35</td>\n",
       "      <td>1.03</td>\n",
       "    </tr>\n",
       "    <tr>\n",
       "      <th>12</th>\n",
       "      <td>Journal of wildlife diseases</td>\n",
       "      <td>35</td>\n",
       "      <td>1.03</td>\n",
       "    </tr>\n",
       "    <tr>\n",
       "      <th>13</th>\n",
       "      <td>Scientific reports</td>\n",
       "      <td>32</td>\n",
       "      <td>0.94</td>\n",
       "    </tr>\n",
       "    <tr>\n",
       "      <th>14</th>\n",
       "      <td>International journal of environmental researc...</td>\n",
       "      <td>30</td>\n",
       "      <td>0.89</td>\n",
       "    </tr>\n",
       "    <tr>\n",
       "      <th>15</th>\n",
       "      <td>Emerging infectious diseases</td>\n",
       "      <td>30</td>\n",
       "      <td>0.89</td>\n",
       "    </tr>\n",
       "    <tr>\n",
       "      <th>16</th>\n",
       "      <td>Journal of clinical microbiology</td>\n",
       "      <td>29</td>\n",
       "      <td>0.86</td>\n",
       "    </tr>\n",
       "    <tr>\n",
       "      <th>17</th>\n",
       "      <td>Journal of medical microbiology</td>\n",
       "      <td>29</td>\n",
       "      <td>0.86</td>\n",
       "    </tr>\n",
       "    <tr>\n",
       "      <th>18</th>\n",
       "      <td>Vaccine</td>\n",
       "      <td>29</td>\n",
       "      <td>0.86</td>\n",
       "    </tr>\n",
       "    <tr>\n",
       "      <th>19</th>\n",
       "      <td>Veterinary microbiology</td>\n",
       "      <td>28</td>\n",
       "      <td>0.83</td>\n",
       "    </tr>\n",
       "  </tbody>\n",
       "</table>\n",
       "</div>"
      ],
      "text/plain": [
       "                                              Journal  J_Count  J_Share (%)\n",
       "0                    PLoS neglected tropical diseases      151         4.46\n",
       "1   The American journal of tropical medicine and ...      129         3.81\n",
       "2                                            PloS one      101         2.98\n",
       "3                             BMC infectious diseases       54         1.59\n",
       "4                                        Acta tropica       53         1.56\n",
       "5                          Epidemiology and infection       44         1.30\n",
       "6                              Infection and immunity       41         1.21\n",
       "7               Tropical animal health and production       39         1.15\n",
       "8   Comparative immunology, microbiology and infec...       39         1.15\n",
       "9   The Southeast Asian journal of tropical medici...       36         1.06\n",
       "10                             Microbial pathogenesis       35         1.03\n",
       "11  Transactions of the Royal Society of Tropical ...       35         1.03\n",
       "12                       Journal of wildlife diseases       35         1.03\n",
       "13                                 Scientific reports       32         0.94\n",
       "14  International journal of environmental researc...       30         0.89\n",
       "15                       Emerging infectious diseases       30         0.89\n",
       "16                   Journal of clinical microbiology       29         0.86\n",
       "17                    Journal of medical microbiology       29         0.86\n",
       "18                                            Vaccine       29         0.86\n",
       "19                            Veterinary microbiology       28         0.83"
      ]
     },
     "metadata": {},
     "output_type": "display_data"
    },
    {
     "data": {
      "application/vnd.plotly.v1+json": {
       "config": {
        "plotlyServerURL": "https://plot.ly"
       },
       "data": [
        {
         "alignmentgroup": "True",
         "hovertemplate": "Journal=%{x}<br>J_Count=%{y}<br>J_Share (%)=%{marker.color}<extra></extra>",
         "legendgroup": "",
         "marker": {
          "color": [
           4.46,
           3.81,
           2.98,
           1.59,
           1.56,
           1.3,
           1.21,
           1.15,
           1.15,
           1.06,
           1.03,
           1.03,
           1.03,
           0.94,
           0.89,
           0.89,
           0.86,
           0.86,
           0.86,
           0.83
          ],
          "coloraxis": "coloraxis",
          "pattern": {
           "shape": ""
          }
         },
         "name": "",
         "offsetgroup": "",
         "orientation": "v",
         "showlegend": false,
         "textposition": "auto",
         "type": "bar",
         "x": [
          "PLoS neglected tropical diseases",
          "The American journal of tropical medicine and hygiene",
          "PloS one",
          "BMC infectious diseases",
          "Acta tropica",
          "Epidemiology and infection",
          "Infection and immunity",
          "Tropical animal health and production",
          "Comparative immunology, microbiology and infectious diseases",
          "The Southeast Asian journal of tropical medicine and public health",
          "Microbial pathogenesis",
          "Transactions of the Royal Society of Tropical Medicine and Hygiene",
          "Journal of wildlife diseases",
          "Scientific reports",
          "International journal of environmental research and public health",
          "Emerging infectious diseases",
          "Journal of clinical microbiology",
          "Journal of medical microbiology",
          "Vaccine",
          "Veterinary microbiology"
         ],
         "xaxis": "x",
         "y": [
          151,
          129,
          101,
          54,
          53,
          44,
          41,
          39,
          39,
          36,
          35,
          35,
          35,
          32,
          30,
          30,
          29,
          29,
          29,
          28
         ],
         "yaxis": "y"
        }
       ],
       "layout": {
        "barmode": "relative",
        "coloraxis": {
         "colorbar": {
          "title": {
           "text": "J_Share (%)"
          }
         },
         "colorscale": [
          [
           0,
           "#0d0887"
          ],
          [
           0.1111111111111111,
           "#46039f"
          ],
          [
           0.2222222222222222,
           "#7201a8"
          ],
          [
           0.3333333333333333,
           "#9c179e"
          ],
          [
           0.4444444444444444,
           "#bd3786"
          ],
          [
           0.5555555555555556,
           "#d8576b"
          ],
          [
           0.6666666666666666,
           "#ed7953"
          ],
          [
           0.7777777777777778,
           "#fb9f3a"
          ],
          [
           0.8888888888888888,
           "#fdca26"
          ],
          [
           1,
           "#f0f921"
          ]
         ]
        },
        "height": 1000,
        "legend": {
         "tracegroupgap": 0
        },
        "showlegend": true,
        "template": {
         "data": {
          "bar": [
           {
            "error_x": {
             "color": "#2a3f5f"
            },
            "error_y": {
             "color": "#2a3f5f"
            },
            "marker": {
             "line": {
              "color": "#E5ECF6",
              "width": 0.5
             },
             "pattern": {
              "fillmode": "overlay",
              "size": 10,
              "solidity": 0.2
             }
            },
            "type": "bar"
           }
          ],
          "barpolar": [
           {
            "marker": {
             "line": {
              "color": "#E5ECF6",
              "width": 0.5
             },
             "pattern": {
              "fillmode": "overlay",
              "size": 10,
              "solidity": 0.2
             }
            },
            "type": "barpolar"
           }
          ],
          "carpet": [
           {
            "aaxis": {
             "endlinecolor": "#2a3f5f",
             "gridcolor": "white",
             "linecolor": "white",
             "minorgridcolor": "white",
             "startlinecolor": "#2a3f5f"
            },
            "baxis": {
             "endlinecolor": "#2a3f5f",
             "gridcolor": "white",
             "linecolor": "white",
             "minorgridcolor": "white",
             "startlinecolor": "#2a3f5f"
            },
            "type": "carpet"
           }
          ],
          "choropleth": [
           {
            "colorbar": {
             "outlinewidth": 0,
             "ticks": ""
            },
            "type": "choropleth"
           }
          ],
          "contour": [
           {
            "colorbar": {
             "outlinewidth": 0,
             "ticks": ""
            },
            "colorscale": [
             [
              0,
              "#0d0887"
             ],
             [
              0.1111111111111111,
              "#46039f"
             ],
             [
              0.2222222222222222,
              "#7201a8"
             ],
             [
              0.3333333333333333,
              "#9c179e"
             ],
             [
              0.4444444444444444,
              "#bd3786"
             ],
             [
              0.5555555555555556,
              "#d8576b"
             ],
             [
              0.6666666666666666,
              "#ed7953"
             ],
             [
              0.7777777777777778,
              "#fb9f3a"
             ],
             [
              0.8888888888888888,
              "#fdca26"
             ],
             [
              1,
              "#f0f921"
             ]
            ],
            "type": "contour"
           }
          ],
          "contourcarpet": [
           {
            "colorbar": {
             "outlinewidth": 0,
             "ticks": ""
            },
            "type": "contourcarpet"
           }
          ],
          "heatmap": [
           {
            "colorbar": {
             "outlinewidth": 0,
             "ticks": ""
            },
            "colorscale": [
             [
              0,
              "#0d0887"
             ],
             [
              0.1111111111111111,
              "#46039f"
             ],
             [
              0.2222222222222222,
              "#7201a8"
             ],
             [
              0.3333333333333333,
              "#9c179e"
             ],
             [
              0.4444444444444444,
              "#bd3786"
             ],
             [
              0.5555555555555556,
              "#d8576b"
             ],
             [
              0.6666666666666666,
              "#ed7953"
             ],
             [
              0.7777777777777778,
              "#fb9f3a"
             ],
             [
              0.8888888888888888,
              "#fdca26"
             ],
             [
              1,
              "#f0f921"
             ]
            ],
            "type": "heatmap"
           }
          ],
          "heatmapgl": [
           {
            "colorbar": {
             "outlinewidth": 0,
             "ticks": ""
            },
            "colorscale": [
             [
              0,
              "#0d0887"
             ],
             [
              0.1111111111111111,
              "#46039f"
             ],
             [
              0.2222222222222222,
              "#7201a8"
             ],
             [
              0.3333333333333333,
              "#9c179e"
             ],
             [
              0.4444444444444444,
              "#bd3786"
             ],
             [
              0.5555555555555556,
              "#d8576b"
             ],
             [
              0.6666666666666666,
              "#ed7953"
             ],
             [
              0.7777777777777778,
              "#fb9f3a"
             ],
             [
              0.8888888888888888,
              "#fdca26"
             ],
             [
              1,
              "#f0f921"
             ]
            ],
            "type": "heatmapgl"
           }
          ],
          "histogram": [
           {
            "marker": {
             "pattern": {
              "fillmode": "overlay",
              "size": 10,
              "solidity": 0.2
             }
            },
            "type": "histogram"
           }
          ],
          "histogram2d": [
           {
            "colorbar": {
             "outlinewidth": 0,
             "ticks": ""
            },
            "colorscale": [
             [
              0,
              "#0d0887"
             ],
             [
              0.1111111111111111,
              "#46039f"
             ],
             [
              0.2222222222222222,
              "#7201a8"
             ],
             [
              0.3333333333333333,
              "#9c179e"
             ],
             [
              0.4444444444444444,
              "#bd3786"
             ],
             [
              0.5555555555555556,
              "#d8576b"
             ],
             [
              0.6666666666666666,
              "#ed7953"
             ],
             [
              0.7777777777777778,
              "#fb9f3a"
             ],
             [
              0.8888888888888888,
              "#fdca26"
             ],
             [
              1,
              "#f0f921"
             ]
            ],
            "type": "histogram2d"
           }
          ],
          "histogram2dcontour": [
           {
            "colorbar": {
             "outlinewidth": 0,
             "ticks": ""
            },
            "colorscale": [
             [
              0,
              "#0d0887"
             ],
             [
              0.1111111111111111,
              "#46039f"
             ],
             [
              0.2222222222222222,
              "#7201a8"
             ],
             [
              0.3333333333333333,
              "#9c179e"
             ],
             [
              0.4444444444444444,
              "#bd3786"
             ],
             [
              0.5555555555555556,
              "#d8576b"
             ],
             [
              0.6666666666666666,
              "#ed7953"
             ],
             [
              0.7777777777777778,
              "#fb9f3a"
             ],
             [
              0.8888888888888888,
              "#fdca26"
             ],
             [
              1,
              "#f0f921"
             ]
            ],
            "type": "histogram2dcontour"
           }
          ],
          "mesh3d": [
           {
            "colorbar": {
             "outlinewidth": 0,
             "ticks": ""
            },
            "type": "mesh3d"
           }
          ],
          "parcoords": [
           {
            "line": {
             "colorbar": {
              "outlinewidth": 0,
              "ticks": ""
             }
            },
            "type": "parcoords"
           }
          ],
          "pie": [
           {
            "automargin": true,
            "type": "pie"
           }
          ],
          "scatter": [
           {
            "fillpattern": {
             "fillmode": "overlay",
             "size": 10,
             "solidity": 0.2
            },
            "type": "scatter"
           }
          ],
          "scatter3d": [
           {
            "line": {
             "colorbar": {
              "outlinewidth": 0,
              "ticks": ""
             }
            },
            "marker": {
             "colorbar": {
              "outlinewidth": 0,
              "ticks": ""
             }
            },
            "type": "scatter3d"
           }
          ],
          "scattercarpet": [
           {
            "marker": {
             "colorbar": {
              "outlinewidth": 0,
              "ticks": ""
             }
            },
            "type": "scattercarpet"
           }
          ],
          "scattergeo": [
           {
            "marker": {
             "colorbar": {
              "outlinewidth": 0,
              "ticks": ""
             }
            },
            "type": "scattergeo"
           }
          ],
          "scattergl": [
           {
            "marker": {
             "colorbar": {
              "outlinewidth": 0,
              "ticks": ""
             }
            },
            "type": "scattergl"
           }
          ],
          "scattermapbox": [
           {
            "marker": {
             "colorbar": {
              "outlinewidth": 0,
              "ticks": ""
             }
            },
            "type": "scattermapbox"
           }
          ],
          "scatterpolar": [
           {
            "marker": {
             "colorbar": {
              "outlinewidth": 0,
              "ticks": ""
             }
            },
            "type": "scatterpolar"
           }
          ],
          "scatterpolargl": [
           {
            "marker": {
             "colorbar": {
              "outlinewidth": 0,
              "ticks": ""
             }
            },
            "type": "scatterpolargl"
           }
          ],
          "scatterternary": [
           {
            "marker": {
             "colorbar": {
              "outlinewidth": 0,
              "ticks": ""
             }
            },
            "type": "scatterternary"
           }
          ],
          "surface": [
           {
            "colorbar": {
             "outlinewidth": 0,
             "ticks": ""
            },
            "colorscale": [
             [
              0,
              "#0d0887"
             ],
             [
              0.1111111111111111,
              "#46039f"
             ],
             [
              0.2222222222222222,
              "#7201a8"
             ],
             [
              0.3333333333333333,
              "#9c179e"
             ],
             [
              0.4444444444444444,
              "#bd3786"
             ],
             [
              0.5555555555555556,
              "#d8576b"
             ],
             [
              0.6666666666666666,
              "#ed7953"
             ],
             [
              0.7777777777777778,
              "#fb9f3a"
             ],
             [
              0.8888888888888888,
              "#fdca26"
             ],
             [
              1,
              "#f0f921"
             ]
            ],
            "type": "surface"
           }
          ],
          "table": [
           {
            "cells": {
             "fill": {
              "color": "#EBF0F8"
             },
             "line": {
              "color": "white"
             }
            },
            "header": {
             "fill": {
              "color": "#C8D4E3"
             },
             "line": {
              "color": "white"
             }
            },
            "type": "table"
           }
          ]
         },
         "layout": {
          "annotationdefaults": {
           "arrowcolor": "#2a3f5f",
           "arrowhead": 0,
           "arrowwidth": 1
          },
          "autotypenumbers": "strict",
          "coloraxis": {
           "colorbar": {
            "outlinewidth": 0,
            "ticks": ""
           }
          },
          "colorscale": {
           "diverging": [
            [
             0,
             "#8e0152"
            ],
            [
             0.1,
             "#c51b7d"
            ],
            [
             0.2,
             "#de77ae"
            ],
            [
             0.3,
             "#f1b6da"
            ],
            [
             0.4,
             "#fde0ef"
            ],
            [
             0.5,
             "#f7f7f7"
            ],
            [
             0.6,
             "#e6f5d0"
            ],
            [
             0.7,
             "#b8e186"
            ],
            [
             0.8,
             "#7fbc41"
            ],
            [
             0.9,
             "#4d9221"
            ],
            [
             1,
             "#276419"
            ]
           ],
           "sequential": [
            [
             0,
             "#0d0887"
            ],
            [
             0.1111111111111111,
             "#46039f"
            ],
            [
             0.2222222222222222,
             "#7201a8"
            ],
            [
             0.3333333333333333,
             "#9c179e"
            ],
            [
             0.4444444444444444,
             "#bd3786"
            ],
            [
             0.5555555555555556,
             "#d8576b"
            ],
            [
             0.6666666666666666,
             "#ed7953"
            ],
            [
             0.7777777777777778,
             "#fb9f3a"
            ],
            [
             0.8888888888888888,
             "#fdca26"
            ],
            [
             1,
             "#f0f921"
            ]
           ],
           "sequentialminus": [
            [
             0,
             "#0d0887"
            ],
            [
             0.1111111111111111,
             "#46039f"
            ],
            [
             0.2222222222222222,
             "#7201a8"
            ],
            [
             0.3333333333333333,
             "#9c179e"
            ],
            [
             0.4444444444444444,
             "#bd3786"
            ],
            [
             0.5555555555555556,
             "#d8576b"
            ],
            [
             0.6666666666666666,
             "#ed7953"
            ],
            [
             0.7777777777777778,
             "#fb9f3a"
            ],
            [
             0.8888888888888888,
             "#fdca26"
            ],
            [
             1,
             "#f0f921"
            ]
           ]
          },
          "colorway": [
           "#636efa",
           "#EF553B",
           "#00cc96",
           "#ab63fa",
           "#FFA15A",
           "#19d3f3",
           "#FF6692",
           "#B6E880",
           "#FF97FF",
           "#FECB52"
          ],
          "font": {
           "color": "#2a3f5f"
          },
          "geo": {
           "bgcolor": "white",
           "lakecolor": "white",
           "landcolor": "#E5ECF6",
           "showlakes": true,
           "showland": true,
           "subunitcolor": "white"
          },
          "hoverlabel": {
           "align": "left"
          },
          "hovermode": "closest",
          "mapbox": {
           "style": "light"
          },
          "paper_bgcolor": "white",
          "plot_bgcolor": "#E5ECF6",
          "polar": {
           "angularaxis": {
            "gridcolor": "white",
            "linecolor": "white",
            "ticks": ""
           },
           "bgcolor": "#E5ECF6",
           "radialaxis": {
            "gridcolor": "white",
            "linecolor": "white",
            "ticks": ""
           }
          },
          "scene": {
           "xaxis": {
            "backgroundcolor": "#E5ECF6",
            "gridcolor": "white",
            "gridwidth": 2,
            "linecolor": "white",
            "showbackground": true,
            "ticks": "",
            "zerolinecolor": "white"
           },
           "yaxis": {
            "backgroundcolor": "#E5ECF6",
            "gridcolor": "white",
            "gridwidth": 2,
            "linecolor": "white",
            "showbackground": true,
            "ticks": "",
            "zerolinecolor": "white"
           },
           "zaxis": {
            "backgroundcolor": "#E5ECF6",
            "gridcolor": "white",
            "gridwidth": 2,
            "linecolor": "white",
            "showbackground": true,
            "ticks": "",
            "zerolinecolor": "white"
           }
          },
          "shapedefaults": {
           "line": {
            "color": "#2a3f5f"
           }
          },
          "ternary": {
           "aaxis": {
            "gridcolor": "white",
            "linecolor": "white",
            "ticks": ""
           },
           "baxis": {
            "gridcolor": "white",
            "linecolor": "white",
            "ticks": ""
           },
           "bgcolor": "#E5ECF6",
           "caxis": {
            "gridcolor": "white",
            "linecolor": "white",
            "ticks": ""
           }
          },
          "title": {
           "x": 0.05
          },
          "xaxis": {
           "automargin": true,
           "gridcolor": "white",
           "linecolor": "white",
           "ticks": "",
           "title": {
            "standoff": 15
           },
           "zerolinecolor": "white",
           "zerolinewidth": 2
          },
          "yaxis": {
           "automargin": true,
           "gridcolor": "white",
           "linecolor": "white",
           "ticks": "",
           "title": {
            "standoff": 15
           },
           "zerolinecolor": "white",
           "zerolinewidth": 2
          }
         }
        },
        "title": {
         "text": "Top Contributing Journals",
         "x": 0.5
        },
        "width": 1300,
        "xaxis": {
         "anchor": "y",
         "domain": [
          0,
          1
         ],
         "title": {
          "text": "Journal"
         }
        },
        "yaxis": {
         "anchor": "x",
         "domain": [
          0,
          1
         ],
         "title": {
          "text": "J_Count"
         }
        }
       }
      },
      "text/html": [
       "<div>                            <div id=\"32f1b762-57df-4c40-b0ee-dc82d3d922de\" class=\"plotly-graph-div\" style=\"height:1000px; width:1300px;\"></div>            <script type=\"text/javascript\">                require([\"plotly\"], function(Plotly) {                    window.PLOTLYENV=window.PLOTLYENV || {};                                    if (document.getElementById(\"32f1b762-57df-4c40-b0ee-dc82d3d922de\")) {                    Plotly.newPlot(                        \"32f1b762-57df-4c40-b0ee-dc82d3d922de\",                        [{\"alignmentgroup\":\"True\",\"hovertemplate\":\"Journal=%{x}<br>J_Count=%{y}<br>J_Share (%)=%{marker.color}<extra></extra>\",\"legendgroup\":\"\",\"marker\":{\"color\":[4.46,3.81,2.98,1.59,1.56,1.3,1.21,1.15,1.15,1.06,1.03,1.03,1.03,0.94,0.89,0.89,0.86,0.86,0.86,0.83],\"coloraxis\":\"coloraxis\",\"pattern\":{\"shape\":\"\"}},\"name\":\"\",\"offsetgroup\":\"\",\"orientation\":\"v\",\"showlegend\":false,\"textposition\":\"auto\",\"x\":[\"PLoS neglected tropical diseases\",\"The American journal of tropical medicine and hygiene\",\"PloS one\",\"BMC infectious diseases\",\"Acta tropica\",\"Epidemiology and infection\",\"Infection and immunity\",\"Tropical animal health and production\",\"Comparative immunology, microbiology and infectious diseases\",\"The Southeast Asian journal of tropical medicine and public health\",\"Microbial pathogenesis\",\"Transactions of the Royal Society of Tropical Medicine and Hygiene\",\"Journal of wildlife diseases\",\"Scientific reports\",\"International journal of environmental research and public health\",\"Emerging infectious diseases\",\"Journal of clinical microbiology\",\"Journal of medical microbiology\",\"Vaccine\",\"Veterinary microbiology\"],\"xaxis\":\"x\",\"y\":[151,129,101,54,53,44,41,39,39,36,35,35,35,32,30,30,29,29,29,28],\"yaxis\":\"y\",\"type\":\"bar\"}],                        {\"template\":{\"data\":{\"histogram2dcontour\":[{\"type\":\"histogram2dcontour\",\"colorbar\":{\"outlinewidth\":0,\"ticks\":\"\"},\"colorscale\":[[0.0,\"#0d0887\"],[0.1111111111111111,\"#46039f\"],[0.2222222222222222,\"#7201a8\"],[0.3333333333333333,\"#9c179e\"],[0.4444444444444444,\"#bd3786\"],[0.5555555555555556,\"#d8576b\"],[0.6666666666666666,\"#ed7953\"],[0.7777777777777778,\"#fb9f3a\"],[0.8888888888888888,\"#fdca26\"],[1.0,\"#f0f921\"]]}],\"choropleth\":[{\"type\":\"choropleth\",\"colorbar\":{\"outlinewidth\":0,\"ticks\":\"\"}}],\"histogram2d\":[{\"type\":\"histogram2d\",\"colorbar\":{\"outlinewidth\":0,\"ticks\":\"\"},\"colorscale\":[[0.0,\"#0d0887\"],[0.1111111111111111,\"#46039f\"],[0.2222222222222222,\"#7201a8\"],[0.3333333333333333,\"#9c179e\"],[0.4444444444444444,\"#bd3786\"],[0.5555555555555556,\"#d8576b\"],[0.6666666666666666,\"#ed7953\"],[0.7777777777777778,\"#fb9f3a\"],[0.8888888888888888,\"#fdca26\"],[1.0,\"#f0f921\"]]}],\"heatmap\":[{\"type\":\"heatmap\",\"colorbar\":{\"outlinewidth\":0,\"ticks\":\"\"},\"colorscale\":[[0.0,\"#0d0887\"],[0.1111111111111111,\"#46039f\"],[0.2222222222222222,\"#7201a8\"],[0.3333333333333333,\"#9c179e\"],[0.4444444444444444,\"#bd3786\"],[0.5555555555555556,\"#d8576b\"],[0.6666666666666666,\"#ed7953\"],[0.7777777777777778,\"#fb9f3a\"],[0.8888888888888888,\"#fdca26\"],[1.0,\"#f0f921\"]]}],\"heatmapgl\":[{\"type\":\"heatmapgl\",\"colorbar\":{\"outlinewidth\":0,\"ticks\":\"\"},\"colorscale\":[[0.0,\"#0d0887\"],[0.1111111111111111,\"#46039f\"],[0.2222222222222222,\"#7201a8\"],[0.3333333333333333,\"#9c179e\"],[0.4444444444444444,\"#bd3786\"],[0.5555555555555556,\"#d8576b\"],[0.6666666666666666,\"#ed7953\"],[0.7777777777777778,\"#fb9f3a\"],[0.8888888888888888,\"#fdca26\"],[1.0,\"#f0f921\"]]}],\"contourcarpet\":[{\"type\":\"contourcarpet\",\"colorbar\":{\"outlinewidth\":0,\"ticks\":\"\"}}],\"contour\":[{\"type\":\"contour\",\"colorbar\":{\"outlinewidth\":0,\"ticks\":\"\"},\"colorscale\":[[0.0,\"#0d0887\"],[0.1111111111111111,\"#46039f\"],[0.2222222222222222,\"#7201a8\"],[0.3333333333333333,\"#9c179e\"],[0.4444444444444444,\"#bd3786\"],[0.5555555555555556,\"#d8576b\"],[0.6666666666666666,\"#ed7953\"],[0.7777777777777778,\"#fb9f3a\"],[0.8888888888888888,\"#fdca26\"],[1.0,\"#f0f921\"]]}],\"surface\":[{\"type\":\"surface\",\"colorbar\":{\"outlinewidth\":0,\"ticks\":\"\"},\"colorscale\":[[0.0,\"#0d0887\"],[0.1111111111111111,\"#46039f\"],[0.2222222222222222,\"#7201a8\"],[0.3333333333333333,\"#9c179e\"],[0.4444444444444444,\"#bd3786\"],[0.5555555555555556,\"#d8576b\"],[0.6666666666666666,\"#ed7953\"],[0.7777777777777778,\"#fb9f3a\"],[0.8888888888888888,\"#fdca26\"],[1.0,\"#f0f921\"]]}],\"mesh3d\":[{\"type\":\"mesh3d\",\"colorbar\":{\"outlinewidth\":0,\"ticks\":\"\"}}],\"scatter\":[{\"fillpattern\":{\"fillmode\":\"overlay\",\"size\":10,\"solidity\":0.2},\"type\":\"scatter\"}],\"parcoords\":[{\"type\":\"parcoords\",\"line\":{\"colorbar\":{\"outlinewidth\":0,\"ticks\":\"\"}}}],\"scatterpolargl\":[{\"type\":\"scatterpolargl\",\"marker\":{\"colorbar\":{\"outlinewidth\":0,\"ticks\":\"\"}}}],\"bar\":[{\"error_x\":{\"color\":\"#2a3f5f\"},\"error_y\":{\"color\":\"#2a3f5f\"},\"marker\":{\"line\":{\"color\":\"#E5ECF6\",\"width\":0.5},\"pattern\":{\"fillmode\":\"overlay\",\"size\":10,\"solidity\":0.2}},\"type\":\"bar\"}],\"scattergeo\":[{\"type\":\"scattergeo\",\"marker\":{\"colorbar\":{\"outlinewidth\":0,\"ticks\":\"\"}}}],\"scatterpolar\":[{\"type\":\"scatterpolar\",\"marker\":{\"colorbar\":{\"outlinewidth\":0,\"ticks\":\"\"}}}],\"histogram\":[{\"marker\":{\"pattern\":{\"fillmode\":\"overlay\",\"size\":10,\"solidity\":0.2}},\"type\":\"histogram\"}],\"scattergl\":[{\"type\":\"scattergl\",\"marker\":{\"colorbar\":{\"outlinewidth\":0,\"ticks\":\"\"}}}],\"scatter3d\":[{\"type\":\"scatter3d\",\"line\":{\"colorbar\":{\"outlinewidth\":0,\"ticks\":\"\"}},\"marker\":{\"colorbar\":{\"outlinewidth\":0,\"ticks\":\"\"}}}],\"scattermapbox\":[{\"type\":\"scattermapbox\",\"marker\":{\"colorbar\":{\"outlinewidth\":0,\"ticks\":\"\"}}}],\"scatterternary\":[{\"type\":\"scatterternary\",\"marker\":{\"colorbar\":{\"outlinewidth\":0,\"ticks\":\"\"}}}],\"scattercarpet\":[{\"type\":\"scattercarpet\",\"marker\":{\"colorbar\":{\"outlinewidth\":0,\"ticks\":\"\"}}}],\"carpet\":[{\"aaxis\":{\"endlinecolor\":\"#2a3f5f\",\"gridcolor\":\"white\",\"linecolor\":\"white\",\"minorgridcolor\":\"white\",\"startlinecolor\":\"#2a3f5f\"},\"baxis\":{\"endlinecolor\":\"#2a3f5f\",\"gridcolor\":\"white\",\"linecolor\":\"white\",\"minorgridcolor\":\"white\",\"startlinecolor\":\"#2a3f5f\"},\"type\":\"carpet\"}],\"table\":[{\"cells\":{\"fill\":{\"color\":\"#EBF0F8\"},\"line\":{\"color\":\"white\"}},\"header\":{\"fill\":{\"color\":\"#C8D4E3\"},\"line\":{\"color\":\"white\"}},\"type\":\"table\"}],\"barpolar\":[{\"marker\":{\"line\":{\"color\":\"#E5ECF6\",\"width\":0.5},\"pattern\":{\"fillmode\":\"overlay\",\"size\":10,\"solidity\":0.2}},\"type\":\"barpolar\"}],\"pie\":[{\"automargin\":true,\"type\":\"pie\"}]},\"layout\":{\"autotypenumbers\":\"strict\",\"colorway\":[\"#636efa\",\"#EF553B\",\"#00cc96\",\"#ab63fa\",\"#FFA15A\",\"#19d3f3\",\"#FF6692\",\"#B6E880\",\"#FF97FF\",\"#FECB52\"],\"font\":{\"color\":\"#2a3f5f\"},\"hovermode\":\"closest\",\"hoverlabel\":{\"align\":\"left\"},\"paper_bgcolor\":\"white\",\"plot_bgcolor\":\"#E5ECF6\",\"polar\":{\"bgcolor\":\"#E5ECF6\",\"angularaxis\":{\"gridcolor\":\"white\",\"linecolor\":\"white\",\"ticks\":\"\"},\"radialaxis\":{\"gridcolor\":\"white\",\"linecolor\":\"white\",\"ticks\":\"\"}},\"ternary\":{\"bgcolor\":\"#E5ECF6\",\"aaxis\":{\"gridcolor\":\"white\",\"linecolor\":\"white\",\"ticks\":\"\"},\"baxis\":{\"gridcolor\":\"white\",\"linecolor\":\"white\",\"ticks\":\"\"},\"caxis\":{\"gridcolor\":\"white\",\"linecolor\":\"white\",\"ticks\":\"\"}},\"coloraxis\":{\"colorbar\":{\"outlinewidth\":0,\"ticks\":\"\"}},\"colorscale\":{\"sequential\":[[0.0,\"#0d0887\"],[0.1111111111111111,\"#46039f\"],[0.2222222222222222,\"#7201a8\"],[0.3333333333333333,\"#9c179e\"],[0.4444444444444444,\"#bd3786\"],[0.5555555555555556,\"#d8576b\"],[0.6666666666666666,\"#ed7953\"],[0.7777777777777778,\"#fb9f3a\"],[0.8888888888888888,\"#fdca26\"],[1.0,\"#f0f921\"]],\"sequentialminus\":[[0.0,\"#0d0887\"],[0.1111111111111111,\"#46039f\"],[0.2222222222222222,\"#7201a8\"],[0.3333333333333333,\"#9c179e\"],[0.4444444444444444,\"#bd3786\"],[0.5555555555555556,\"#d8576b\"],[0.6666666666666666,\"#ed7953\"],[0.7777777777777778,\"#fb9f3a\"],[0.8888888888888888,\"#fdca26\"],[1.0,\"#f0f921\"]],\"diverging\":[[0,\"#8e0152\"],[0.1,\"#c51b7d\"],[0.2,\"#de77ae\"],[0.3,\"#f1b6da\"],[0.4,\"#fde0ef\"],[0.5,\"#f7f7f7\"],[0.6,\"#e6f5d0\"],[0.7,\"#b8e186\"],[0.8,\"#7fbc41\"],[0.9,\"#4d9221\"],[1,\"#276419\"]]},\"xaxis\":{\"gridcolor\":\"white\",\"linecolor\":\"white\",\"ticks\":\"\",\"title\":{\"standoff\":15},\"zerolinecolor\":\"white\",\"automargin\":true,\"zerolinewidth\":2},\"yaxis\":{\"gridcolor\":\"white\",\"linecolor\":\"white\",\"ticks\":\"\",\"title\":{\"standoff\":15},\"zerolinecolor\":\"white\",\"automargin\":true,\"zerolinewidth\":2},\"scene\":{\"xaxis\":{\"backgroundcolor\":\"#E5ECF6\",\"gridcolor\":\"white\",\"linecolor\":\"white\",\"showbackground\":true,\"ticks\":\"\",\"zerolinecolor\":\"white\",\"gridwidth\":2},\"yaxis\":{\"backgroundcolor\":\"#E5ECF6\",\"gridcolor\":\"white\",\"linecolor\":\"white\",\"showbackground\":true,\"ticks\":\"\",\"zerolinecolor\":\"white\",\"gridwidth\":2},\"zaxis\":{\"backgroundcolor\":\"#E5ECF6\",\"gridcolor\":\"white\",\"linecolor\":\"white\",\"showbackground\":true,\"ticks\":\"\",\"zerolinecolor\":\"white\",\"gridwidth\":2}},\"shapedefaults\":{\"line\":{\"color\":\"#2a3f5f\"}},\"annotationdefaults\":{\"arrowcolor\":\"#2a3f5f\",\"arrowhead\":0,\"arrowwidth\":1},\"geo\":{\"bgcolor\":\"white\",\"landcolor\":\"#E5ECF6\",\"subunitcolor\":\"white\",\"showland\":true,\"showlakes\":true,\"lakecolor\":\"white\"},\"title\":{\"x\":0.05},\"mapbox\":{\"style\":\"light\"}}},\"xaxis\":{\"anchor\":\"y\",\"domain\":[0.0,1.0],\"title\":{\"text\":\"Journal\"}},\"yaxis\":{\"anchor\":\"x\",\"domain\":[0.0,1.0],\"title\":{\"text\":\"J_Count\"}},\"coloraxis\":{\"colorbar\":{\"title\":{\"text\":\"J_Share (%)\"}},\"colorscale\":[[0.0,\"#0d0887\"],[0.1111111111111111,\"#46039f\"],[0.2222222222222222,\"#7201a8\"],[0.3333333333333333,\"#9c179e\"],[0.4444444444444444,\"#bd3786\"],[0.5555555555555556,\"#d8576b\"],[0.6666666666666666,\"#ed7953\"],[0.7777777777777778,\"#fb9f3a\"],[0.8888888888888888,\"#fdca26\"],[1.0,\"#f0f921\"]]},\"legend\":{\"tracegroupgap\":0},\"title\":{\"text\":\"Top Contributing Journals\",\"x\":0.5},\"barmode\":\"relative\",\"showlegend\":true,\"height\":1000,\"width\":1300},                        {\"responsive\": true}                    ).then(function(){\n",
       "                            \n",
       "var gd = document.getElementById('32f1b762-57df-4c40-b0ee-dc82d3d922de');\n",
       "var x = new MutationObserver(function (mutations, observer) {{\n",
       "        var display = window.getComputedStyle(gd).display;\n",
       "        if (!display || display === 'none') {{\n",
       "            console.log([gd, 'removed!']);\n",
       "            Plotly.purge(gd);\n",
       "            observer.disconnect();\n",
       "        }}\n",
       "}});\n",
       "\n",
       "// Listen for the removal of the full notebook cells\n",
       "var notebookContainer = gd.closest('#notebook-container');\n",
       "if (notebookContainer) {{\n",
       "    x.observe(notebookContainer, {childList: true});\n",
       "}}\n",
       "\n",
       "// Listen for the clearing of the current output cell\n",
       "var outputEl = gd.closest('.output');\n",
       "if (outputEl) {{\n",
       "    x.observe(outputEl, {childList: true});\n",
       "}}\n",
       "\n",
       "                        })                };                });            </script>        </div>"
      ]
     },
     "metadata": {},
     "output_type": "display_data"
    }
   ],
   "source": [
    "lep_jou_aff = lep_article_data['Journal'].value_counts().reset_index()\n",
    "lep_jou_aff.columns = ['Journal', 'J_Count']\n",
    "\n",
    "lep_ja_sum = lep_jou_aff['J_Count'].sum()\n",
    "\n",
    "lep_jou_aff['J_Share (%)'] = round((lep_jou_aff['J_Count'] / lep_ja_sum) * 100, 2)\n",
    "\n",
    "lep_ja_top20 = lep_jou_aff.iloc[:20,:]\n",
    "\n",
    "ipd.display(lep_ja_top20)\n",
    "\n",
    "lep_ja_top20_bar = px.bar(lep_ja_top20,\n",
    "                    x = 'Journal',\n",
    "                    y = 'J_Count',\n",
    "                    color = 'J_Share (%)',\n",
    "                    title = 'Top Contributing Journals')\n",
    "lep_ja_top20_bar.update_layout(title_x = 0.5, showlegend=True, height = 1000, width = 1300)\n",
    "\n",
    "lep_ja_top20_bar.show()"
   ]
  },
  {
   "cell_type": "code",
   "execution_count": 16,
   "id": "2602f2f2",
   "metadata": {
    "scrolled": false
   },
   "outputs": [
    {
     "data": {
      "application/vnd.plotly.v1+json": {
       "config": {
        "plotlyServerURL": "https://plot.ly"
       },
       "data": [
        {
         "alignmentgroup": "True",
         "hovertemplate": "Journal=PLoS neglected tropical diseases<br>Author_Fullname=%{x}<br>Author_Count=%{y}<extra></extra>",
         "legendgroup": "PLoS neglected tropical diseases",
         "marker": {
          "color": "#636efa",
          "pattern": {
           "shape": ""
          }
         },
         "name": "PLoS neglected tropical diseases",
         "offsetgroup": "PLoS neglected tropical diseases",
         "orientation": "v",
         "showlegend": true,
         "textposition": "auto",
         "type": "bar",
         "width": 1,
         "x": [
          "Ko AI"
         ],
         "xaxis": "x",
         "y": [
          20
         ],
         "yaxis": "y"
        },
        {
         "alignmentgroup": "True",
         "hovertemplate": "Journal=The American journal of tropical medicine and hygiene<br>Author_Fullname=%{x}<br>Author_Count=%{y}<extra></extra>",
         "legendgroup": "The American journal of tropical medicine and hygiene",
         "marker": {
          "color": "#EF553B",
          "pattern": {
           "shape": ""
          }
         },
         "name": "The American journal of tropical medicine and hygiene",
         "offsetgroup": "The American journal of tropical medicine and hygiene",
         "orientation": "v",
         "showlegend": true,
         "textposition": "auto",
         "type": "bar",
         "width": 1,
         "x": [
          "Vinetz JM"
         ],
         "xaxis": "x",
         "y": [
          14
         ],
         "yaxis": "y"
        },
        {
         "alignmentgroup": "True",
         "hovertemplate": "Journal=Tropical animal health and production<br>Author_Fullname=%{x}<br>Author_Count=%{y}<extra></extra>",
         "legendgroup": "Tropical animal health and production",
         "marker": {
          "color": "#00cc96",
          "pattern": {
           "shape": ""
          }
         },
         "name": "Tropical animal health and production",
         "offsetgroup": "Tropical animal health and production",
         "orientation": "v",
         "showlegend": true,
         "textposition": "auto",
         "type": "bar",
         "width": 1,
         "x": [
          "Lilenbaum W"
         ],
         "xaxis": "x",
         "y": [
          10
         ],
         "yaxis": "y"
        },
        {
         "alignmentgroup": "True",
         "hovertemplate": "Journal=Vaccine<br>Author_Fullname=%{x}<br>Author_Count=%{y}<extra></extra>",
         "legendgroup": "Vaccine",
         "marker": {
          "color": "#ab63fa",
          "pattern": {
           "shape": ""
          }
         },
         "name": "Vaccine",
         "offsetgroup": "Vaccine",
         "orientation": "v",
         "showlegend": true,
         "textposition": "auto",
         "type": "bar",
         "width": 1,
         "x": [
          "Dellagostin OA"
         ],
         "xaxis": "x",
         "y": [
          9
         ],
         "yaxis": "y"
        },
        {
         "alignmentgroup": "True",
         "hovertemplate": "Journal=Microbial pathogenesis<br>Author_Fullname=%{x}<br>Author_Count=%{y}<extra></extra>",
         "legendgroup": "Microbial pathogenesis",
         "marker": {
          "color": "#FFA15A",
          "pattern": {
           "shape": ""
          }
         },
         "name": "Microbial pathogenesis",
         "offsetgroup": "Microbial pathogenesis",
         "orientation": "v",
         "showlegend": true,
         "textposition": "auto",
         "type": "bar",
         "width": 1,
         "x": [
          "Zhang W",
          "Cao Y"
         ],
         "xaxis": "x",
         "y": [
          8,
          8
         ],
         "yaxis": "y"
        },
        {
         "alignmentgroup": "True",
         "hovertemplate": "Journal=Research in veterinary science<br>Author_Fullname=%{x}<br>Author_Count=%{y}<extra></extra>",
         "legendgroup": "Research in veterinary science",
         "marker": {
          "color": "#19d3f3",
          "pattern": {
           "shape": ""
          }
         },
         "name": "Research in veterinary science",
         "offsetgroup": "Research in veterinary science",
         "orientation": "v",
         "showlegend": true,
         "textposition": "auto",
         "type": "bar",
         "width": 1,
         "x": [
          "Lilenbaum W"
         ],
         "xaxis": "x",
         "y": [
          8
         ],
         "yaxis": "y"
        },
        {
         "alignmentgroup": "True",
         "hovertemplate": "Journal=The Indian journal of medical research<br>Author_Fullname=%{x}<br>Author_Count=%{y}<extra></extra>",
         "legendgroup": "The Indian journal of medical research",
         "marker": {
          "color": "#FF6692",
          "pattern": {
           "shape": ""
          }
         },
         "name": "The Indian journal of medical research",
         "offsetgroup": "The Indian journal of medical research",
         "orientation": "v",
         "showlegend": true,
         "textposition": "auto",
         "type": "bar",
         "width": 1,
         "x": [
          "Sugunan AP",
          "Vijayachari P"
         ],
         "xaxis": "x",
         "y": [
          7,
          7
         ],
         "yaxis": "y"
        },
        {
         "alignmentgroup": "True",
         "hovertemplate": "Journal=Infection and immunity<br>Author_Fullname=%{x}<br>Author_Count=%{y}<extra></extra>",
         "legendgroup": "Infection and immunity",
         "marker": {
          "color": "#B6E880",
          "pattern": {
           "shape": ""
          }
         },
         "name": "Infection and immunity",
         "offsetgroup": "Infection and immunity",
         "orientation": "v",
         "showlegend": true,
         "textposition": "auto",
         "type": "bar",
         "width": 1,
         "x": [
          "Haake DA",
          "Adler B"
         ],
         "xaxis": "x",
         "y": [
          7,
          7
         ],
         "yaxis": "y"
        },
        {
         "alignmentgroup": "True",
         "hovertemplate": "Journal=New Zealand veterinary journal<br>Author_Fullname=%{x}<br>Author_Count=%{y}<extra></extra>",
         "legendgroup": "New Zealand veterinary journal",
         "marker": {
          "color": "#FF97FF",
          "pattern": {
           "shape": ""
          }
         },
         "name": "New Zealand veterinary journal",
         "offsetgroup": "New Zealand veterinary journal",
         "orientation": "v",
         "showlegend": true,
         "textposition": "auto",
         "type": "bar",
         "width": 1,
         "x": [
          "Heuer C",
          "Collins-Emerson JM"
         ],
         "xaxis": "x",
         "y": [
          7,
          7
         ],
         "yaxis": "y"
        },
        {
         "alignmentgroup": "True",
         "hovertemplate": "Journal=Transactions of the Royal Society of Tropical Medicine and Hygiene<br>Author_Fullname=%{x}<br>Author_Count=%{y}<extra></extra>",
         "legendgroup": "Transactions of the Royal Society of Tropical Medicine and Hygiene",
         "marker": {
          "color": "#FECB52",
          "pattern": {
           "shape": ""
          }
         },
         "name": "Transactions of the Royal Society of Tropical Medicine and Hygiene",
         "offsetgroup": "Transactions of the Royal Society of Tropical Medicine and Hygiene",
         "orientation": "v",
         "showlegend": true,
         "textposition": "auto",
         "type": "bar",
         "width": 1,
         "x": [
          "Rajapakse S"
         ],
         "xaxis": "x",
         "y": [
          6
         ],
         "yaxis": "y"
        },
        {
         "alignmentgroup": "True",
         "hovertemplate": "Journal=Tropical biomedicine<br>Author_Fullname=%{x}<br>Author_Count=%{y}<extra></extra>",
         "legendgroup": "Tropical biomedicine",
         "marker": {
          "color": "#636efa",
          "pattern": {
           "shape": ""
          }
         },
         "name": "Tropical biomedicine",
         "offsetgroup": "Tropical biomedicine",
         "orientation": "v",
         "showlegend": true,
         "textposition": "auto",
         "type": "bar",
         "width": 1,
         "x": [
          "Bahaman AR"
         ],
         "xaxis": "x",
         "y": [
          6
         ],
         "yaxis": "y"
        },
        {
         "alignmentgroup": "True",
         "hovertemplate": "Journal=Veterinary microbiology<br>Author_Fullname=%{x}<br>Author_Count=%{y}<extra></extra>",
         "legendgroup": "Veterinary microbiology",
         "marker": {
          "color": "#EF553B",
          "pattern": {
           "shape": ""
          }
         },
         "name": "Veterinary microbiology",
         "offsetgroup": "Veterinary microbiology",
         "orientation": "v",
         "showlegend": true,
         "textposition": "auto",
         "type": "bar",
         "width": 1,
         "x": [
          "Adler B"
         ],
         "xaxis": "x",
         "y": [
          6
         ],
         "yaxis": "y"
        },
        {
         "alignmentgroup": "True",
         "hovertemplate": "Journal=Journal of wildlife diseases<br>Author_Fullname=%{x}<br>Author_Count=%{y}<extra></extra>",
         "legendgroup": "Journal of wildlife diseases",
         "marker": {
          "color": "#00cc96",
          "pattern": {
           "shape": ""
          }
         },
         "name": "Journal of wildlife diseases",
         "offsetgroup": "Journal of wildlife diseases",
         "orientation": "v",
         "showlegend": true,
         "textposition": "auto",
         "type": "bar",
         "width": 1,
         "x": [
          "Gulland FM"
         ],
         "xaxis": "x",
         "y": [
          5
         ],
         "yaxis": "y"
        },
        {
         "alignmentgroup": "True",
         "hovertemplate": "Journal=Annals of tropical medicine and parasitology<br>Author_Fullname=%{x}<br>Author_Count=%{y}<extra></extra>",
         "legendgroup": "Annals of tropical medicine and parasitology",
         "marker": {
          "color": "#ab63fa",
          "pattern": {
           "shape": ""
          }
         },
         "name": "Annals of tropical medicine and parasitology",
         "offsetgroup": "Annals of tropical medicine and parasitology",
         "orientation": "v",
         "showlegend": true,
         "textposition": "auto",
         "type": "bar",
         "width": 1,
         "x": [
          "Dohnt MF",
          "Smythe LD",
          "Craig SB",
          "Graham GC"
         ],
         "xaxis": "x",
         "y": [
          5,
          5,
          5,
          5
         ],
         "yaxis": "y"
        },
        {
         "alignmentgroup": "True",
         "hovertemplate": "Journal=Theriogenology<br>Author_Fullname=%{x}<br>Author_Count=%{y}<extra></extra>",
         "legendgroup": "Theriogenology",
         "marker": {
          "color": "#FFA15A",
          "pattern": {
           "shape": ""
          }
         },
         "name": "Theriogenology",
         "offsetgroup": "Theriogenology",
         "orientation": "v",
         "showlegend": true,
         "textposition": "auto",
         "type": "bar",
         "width": 1,
         "x": [
          "Lilenbaum W"
         ],
         "xaxis": "x",
         "y": [
          5
         ],
         "yaxis": "y"
        },
        {
         "alignmentgroup": "True",
         "hovertemplate": "Journal=Zoonoses and public health<br>Author_Fullname=%{x}<br>Author_Count=%{y}<extra></extra>",
         "legendgroup": "Zoonoses and public health",
         "marker": {
          "color": "#19d3f3",
          "pattern": {
           "shape": ""
          }
         },
         "name": "Zoonoses and public health",
         "offsetgroup": "Zoonoses and public health",
         "orientation": "v",
         "showlegend": true,
         "textposition": "auto",
         "type": "bar",
         "width": 1,
         "x": [
          "Heuer C"
         ],
         "xaxis": "x",
         "y": [
          5
         ],
         "yaxis": "y"
        },
        {
         "alignmentgroup": "True",
         "hovertemplate": "Journal=PloS one<br>Author_Fullname=%{x}<br>Author_Count=%{y}<extra></extra>",
         "legendgroup": "PloS one",
         "marker": {
          "color": "#FF6692",
          "pattern": {
           "shape": ""
          }
         },
         "name": "PloS one",
         "offsetgroup": "PloS one",
         "orientation": "v",
         "showlegend": true,
         "textposition": "auto",
         "type": "bar",
         "width": 1,
         "x": [
          "Picardeau M",
          "Chen X"
         ],
         "xaxis": "x",
         "y": [
          5,
          5
         ],
         "yaxis": "y"
        },
        {
         "alignmentgroup": "True",
         "hovertemplate": "Journal=Acta tropica<br>Author_Fullname=%{x}<br>Author_Count=%{y}<extra></extra>",
         "legendgroup": "Acta tropica",
         "marker": {
          "color": "#B6E880",
          "pattern": {
           "shape": ""
          }
         },
         "name": "Acta tropica",
         "offsetgroup": "Acta tropica",
         "orientation": "v",
         "showlegend": true,
         "textposition": "auto",
         "type": "bar",
         "width": 1,
         "x": [
          "Ko AI",
          "Lilenbaum W",
          "Reis MG"
         ],
         "xaxis": "x",
         "y": [
          5,
          5,
          5
         ],
         "yaxis": "y"
        },
        {
         "alignmentgroup": "True",
         "hovertemplate": "Journal=Current microbiology<br>Author_Fullname=%{x}<br>Author_Count=%{y}<extra></extra>",
         "legendgroup": "Current microbiology",
         "marker": {
          "color": "#FF97FF",
          "pattern": {
           "shape": ""
          }
         },
         "name": "Current microbiology",
         "offsetgroup": "Current microbiology",
         "orientation": "v",
         "showlegend": true,
         "textposition": "auto",
         "type": "bar",
         "width": 1,
         "x": [
          "Hartwig DD",
          "Dellagostin OA"
         ],
         "xaxis": "x",
         "y": [
          5,
          5
         ],
         "yaxis": "y"
        },
        {
         "alignmentgroup": "True",
         "hovertemplate": "Journal=Journal of medical microbiology<br>Author_Fullname=%{x}<br>Author_Count=%{y}<extra></extra>",
         "legendgroup": "Journal of medical microbiology",
         "marker": {
          "color": "#FECB52",
          "pattern": {
           "shape": ""
          }
         },
         "name": "Journal of medical microbiology",
         "offsetgroup": "Journal of medical microbiology",
         "orientation": "v",
         "showlegend": true,
         "textposition": "auto",
         "type": "bar",
         "width": 1,
         "x": [
          "Koizumi N"
         ],
         "xaxis": "x",
         "y": [
          5
         ],
         "yaxis": "y"
        },
        {
         "alignmentgroup": "True",
         "hovertemplate": "Journal=Journal of clinical microbiology<br>Author_Fullname=%{x}<br>Author_Count=%{y}<extra></extra>",
         "legendgroup": "Journal of clinical microbiology",
         "marker": {
          "color": "#636efa",
          "pattern": {
           "shape": ""
          }
         },
         "name": "Journal of clinical microbiology",
         "offsetgroup": "Journal of clinical microbiology",
         "orientation": "v",
         "showlegend": true,
         "textposition": "auto",
         "type": "bar",
         "width": 1,
         "x": [
          "Picardeau M"
         ],
         "xaxis": "x",
         "y": [
          5
         ],
         "yaxis": "y"
        },
        {
         "alignmentgroup": "True",
         "hovertemplate": "Journal=Comparative immunology, microbiology and infectious diseases<br>Author_Fullname=%{x}<br>Author_Count=%{y}<extra></extra>",
         "legendgroup": "Comparative immunology, microbiology and infectious diseases",
         "marker": {
          "color": "#EF553B",
          "pattern": {
           "shape": ""
          }
         },
         "name": "Comparative immunology, microbiology and infectious diseases",
         "offsetgroup": "Comparative immunology, microbiology and infectious diseases",
         "orientation": "v",
         "showlegend": true,
         "textposition": "auto",
         "type": "bar",
         "width": 1,
         "x": [
          "Lilenbaum W"
         ],
         "xaxis": "x",
         "y": [
          5
         ],
         "yaxis": "y"
        },
        {
         "alignmentgroup": "True",
         "hovertemplate": "Journal=BMC infectious diseases<br>Author_Fullname=%{x}<br>Author_Count=%{y}<extra></extra>",
         "legendgroup": "BMC infectious diseases",
         "marker": {
          "color": "#00cc96",
          "pattern": {
           "shape": ""
          }
         },
         "name": "BMC infectious diseases",
         "offsetgroup": "BMC infectious diseases",
         "orientation": "v",
         "showlegend": true,
         "textposition": "auto",
         "type": "bar",
         "width": 1,
         "x": [
          "Agampodi SB"
         ],
         "xaxis": "x",
         "y": [
          5
         ],
         "yaxis": "y"
        },
        {
         "alignmentgroup": "True",
         "hovertemplate": "Journal=PLoS pathogens<br>Author_Fullname=%{x}<br>Author_Count=%{y}<extra></extra>",
         "legendgroup": "PLoS pathogens",
         "marker": {
          "color": "#ab63fa",
          "pattern": {
           "shape": ""
          }
         },
         "name": "PLoS pathogens",
         "offsetgroup": "PLoS pathogens",
         "orientation": "v",
         "showlegend": true,
         "textposition": "auto",
         "type": "bar",
         "width": 1,
         "x": [
          "Picardeau M"
         ],
         "xaxis": "x",
         "y": [
          5
         ],
         "yaxis": "y"
        },
        {
         "alignmentgroup": "True",
         "hovertemplate": "Journal=The Cochrane database of systematic reviews<br>Author_Fullname=%{x}<br>Author_Count=%{y}<extra></extra>",
         "legendgroup": "The Cochrane database of systematic reviews",
         "marker": {
          "color": "#FFA15A",
          "pattern": {
           "shape": ""
          }
         },
         "name": "The Cochrane database of systematic reviews",
         "offsetgroup": "The Cochrane database of systematic reviews",
         "orientation": "v",
         "showlegend": true,
         "textposition": "auto",
         "type": "bar",
         "width": 1,
         "x": [
          "Guidugli F",
          "Castro AA",
          "Atallah AN"
         ],
         "xaxis": "x",
         "y": [
          4,
          4,
          4
         ],
         "yaxis": "y"
        },
        {
         "alignmentgroup": "True",
         "hovertemplate": "Journal=Klinicheskaia laboratornaia diagnostika<br>Author_Fullname=%{x}<br>Author_Count=%{y}<extra></extra>",
         "legendgroup": "Klinicheskaia laboratornaia diagnostika",
         "marker": {
          "color": "#19d3f3",
          "pattern": {
           "shape": ""
          }
         },
         "name": "Klinicheskaia laboratornaia diagnostika",
         "offsetgroup": "Klinicheskaia laboratornaia diagnostika",
         "orientation": "v",
         "showlegend": true,
         "textposition": "auto",
         "type": "bar",
         "width": 1,
         "x": [
          "Avdeeva MG"
         ],
         "xaxis": "x",
         "y": [
          4
         ],
         "yaxis": "y"
        },
        {
         "alignmentgroup": "True",
         "hovertemplate": "Journal=BMC microbiology<br>Author_Fullname=%{x}<br>Author_Count=%{y}<extra></extra>",
         "legendgroup": "BMC microbiology",
         "marker": {
          "color": "#FF6692",
          "pattern": {
           "shape": ""
          }
         },
         "name": "BMC microbiology",
         "offsetgroup": "BMC microbiology",
         "orientation": "v",
         "showlegend": true,
         "textposition": "auto",
         "type": "bar",
         "width": 1,
         "x": [
          "Yan J"
         ],
         "xaxis": "x",
         "y": [
          4
         ],
         "yaxis": "y"
        },
        {
         "alignmentgroup": "True",
         "hovertemplate": "Journal=Clinical and vaccine immunology : CVI<br>Author_Fullname=%{x}<br>Author_Count=%{y}<extra></extra>",
         "legendgroup": "Clinical and vaccine immunology : CVI",
         "marker": {
          "color": "#B6E880",
          "pattern": {
           "shape": ""
          }
         },
         "name": "Clinical and vaccine immunology : CVI",
         "offsetgroup": "Clinical and vaccine immunology : CVI",
         "orientation": "v",
         "showlegend": true,
         "textposition": "auto",
         "type": "bar",
         "width": 1,
         "x": [
          "Dellagostin OA"
         ],
         "xaxis": "x",
         "y": [
          4
         ],
         "yaxis": "y"
        },
        {
         "alignmentgroup": "True",
         "hovertemplate": "Journal=Tropical medicine & international health : TM & IH<br>Author_Fullname=%{x}<br>Author_Count=%{y}<extra></extra>",
         "legendgroup": "Tropical medicine & international health : TM & IH",
         "marker": {
          "color": "#FF97FF",
          "pattern": {
           "shape": ""
          }
         },
         "name": "Tropical medicine & international health : TM & IH",
         "offsetgroup": "Tropical medicine & international health : TM & IH",
         "orientation": "v",
         "showlegend": true,
         "textposition": "auto",
         "type": "bar",
         "width": 1,
         "x": [
          "Goris MG"
         ],
         "xaxis": "x",
         "y": [
          4
         ],
         "yaxis": "y"
        },
        {
         "alignmentgroup": "True",
         "hovertemplate": "Journal=Journal of immunology (Baltimore, Md. : 1950)<br>Author_Fullname=%{x}<br>Author_Count=%{y}<extra></extra>",
         "legendgroup": "Journal of immunology (Baltimore, Md. : 1950)",
         "marker": {
          "color": "#FECB52",
          "pattern": {
           "shape": ""
          }
         },
         "name": "Journal of immunology (Baltimore, Md. : 1950)",
         "offsetgroup": "Journal of immunology (Baltimore, Md. : 1950)",
         "orientation": "v",
         "showlegend": true,
         "textposition": "auto",
         "type": "bar",
         "width": 1,
         "x": [
          "Werts C"
         ],
         "xaxis": "x",
         "y": [
          4
         ],
         "yaxis": "y"
        },
        {
         "alignmentgroup": "True",
         "hovertemplate": "Journal=Epidemiology and infection<br>Author_Fullname=%{x}<br>Author_Count=%{y}<extra></extra>",
         "legendgroup": "Epidemiology and infection",
         "marker": {
          "color": "#636efa",
          "pattern": {
           "shape": ""
          }
         },
         "name": "Epidemiology and infection",
         "offsetgroup": "Epidemiology and infection",
         "orientation": "v",
         "showlegend": true,
         "textposition": "auto",
         "type": "bar",
         "width": 1,
         "x": [
          "Lilenbaum W"
         ],
         "xaxis": "x",
         "y": [
          4
         ],
         "yaxis": "y"
        },
        {
         "alignmentgroup": "True",
         "hovertemplate": "Journal=The Canadian veterinary journal = La revue veterinaire canadienne<br>Author_Fullname=%{x}<br>Author_Count=%{y}<extra></extra>",
         "legendgroup": "The Canadian veterinary journal = La revue veterinaire canadienne",
         "marker": {
          "color": "#EF553B",
          "pattern": {
           "shape": ""
          }
         },
         "name": "The Canadian veterinary journal = La revue veterinaire canadienne",
         "offsetgroup": "The Canadian veterinary journal = La revue veterinaire canadienne",
         "orientation": "v",
         "showlegend": true,
         "textposition": "auto",
         "type": "bar",
         "width": 1,
         "x": [
          "Kingscote BF"
         ],
         "xaxis": "x",
         "y": [
          4
         ],
         "yaxis": "y"
        },
        {
         "alignmentgroup": "True",
         "hovertemplate": "Journal=Journal of infection in developing countries<br>Author_Fullname=%{x}<br>Author_Count=%{y}<extra></extra>",
         "legendgroup": "Journal of infection in developing countries",
         "marker": {
          "color": "#00cc96",
          "pattern": {
           "shape": ""
          }
         },
         "name": "Journal of infection in developing countries",
         "offsetgroup": "Journal of infection in developing countries",
         "orientation": "v",
         "showlegend": true,
         "textposition": "auto",
         "type": "bar",
         "width": 1,
         "x": [
          "Puca E"
         ],
         "xaxis": "x",
         "y": [
          4
         ],
         "yaxis": "y"
        },
        {
         "alignmentgroup": "True",
         "hovertemplate": "Journal=Bulletin of the World Health Organization<br>Author_Fullname=%{x}<br>Author_Count=%{y}<extra></extra>",
         "legendgroup": "Bulletin of the World Health Organization",
         "marker": {
          "color": "#ab63fa",
          "pattern": {
           "shape": ""
          }
         },
         "name": "Bulletin of the World Health Organization",
         "offsetgroup": "Bulletin of the World Health Organization",
         "orientation": "v",
         "showlegend": true,
         "textposition": "auto",
         "type": "bar",
         "width": 1,
         "x": [
          "Smith CE",
          "Turner LH"
         ],
         "xaxis": "x",
         "y": [
          4,
          4
         ],
         "yaxis": "y"
        },
        {
         "alignmentgroup": "True",
         "hovertemplate": "Journal=The New Zealand medical journal<br>Author_Fullname=%{x}<br>Author_Count=%{y}<extra></extra>",
         "legendgroup": "The New Zealand medical journal",
         "marker": {
          "color": "#FFA15A",
          "pattern": {
           "shape": ""
          }
         },
         "name": "The New Zealand medical journal",
         "offsetgroup": "The New Zealand medical journal",
         "orientation": "v",
         "showlegend": true,
         "textposition": "auto",
         "type": "bar",
         "width": 1,
         "x": [
          "Benschop J"
         ],
         "xaxis": "x",
         "y": [
          4
         ],
         "yaxis": "y"
        },
        {
         "alignmentgroup": "True",
         "hovertemplate": "Journal=International journal of environmental research and public health<br>Author_Fullname=%{x}<br>Author_Count=%{y}<extra></extra>",
         "legendgroup": "International journal of environmental research and public health",
         "marker": {
          "color": "#19d3f3",
          "pattern": {
           "shape": ""
          }
         },
         "name": "International journal of environmental research and public health",
         "offsetgroup": "International journal of environmental research and public health",
         "orientation": "v",
         "showlegend": true,
         "textposition": "auto",
         "type": "bar",
         "width": 1,
         "x": [
          "Osman M"
         ],
         "xaxis": "x",
         "y": [
          4
         ],
         "yaxis": "y"
        }
       ],
       "layout": {
        "barmode": "relative",
        "height": 1000,
        "legend": {
         "title": {
          "text": "Journal"
         },
         "tracegroupgap": 0
        },
        "showlegend": true,
        "template": {
         "data": {
          "bar": [
           {
            "error_x": {
             "color": "#2a3f5f"
            },
            "error_y": {
             "color": "#2a3f5f"
            },
            "marker": {
             "line": {
              "color": "#E5ECF6",
              "width": 0.5
             },
             "pattern": {
              "fillmode": "overlay",
              "size": 10,
              "solidity": 0.2
             }
            },
            "type": "bar"
           }
          ],
          "barpolar": [
           {
            "marker": {
             "line": {
              "color": "#E5ECF6",
              "width": 0.5
             },
             "pattern": {
              "fillmode": "overlay",
              "size": 10,
              "solidity": 0.2
             }
            },
            "type": "barpolar"
           }
          ],
          "carpet": [
           {
            "aaxis": {
             "endlinecolor": "#2a3f5f",
             "gridcolor": "white",
             "linecolor": "white",
             "minorgridcolor": "white",
             "startlinecolor": "#2a3f5f"
            },
            "baxis": {
             "endlinecolor": "#2a3f5f",
             "gridcolor": "white",
             "linecolor": "white",
             "minorgridcolor": "white",
             "startlinecolor": "#2a3f5f"
            },
            "type": "carpet"
           }
          ],
          "choropleth": [
           {
            "colorbar": {
             "outlinewidth": 0,
             "ticks": ""
            },
            "type": "choropleth"
           }
          ],
          "contour": [
           {
            "colorbar": {
             "outlinewidth": 0,
             "ticks": ""
            },
            "colorscale": [
             [
              0,
              "#0d0887"
             ],
             [
              0.1111111111111111,
              "#46039f"
             ],
             [
              0.2222222222222222,
              "#7201a8"
             ],
             [
              0.3333333333333333,
              "#9c179e"
             ],
             [
              0.4444444444444444,
              "#bd3786"
             ],
             [
              0.5555555555555556,
              "#d8576b"
             ],
             [
              0.6666666666666666,
              "#ed7953"
             ],
             [
              0.7777777777777778,
              "#fb9f3a"
             ],
             [
              0.8888888888888888,
              "#fdca26"
             ],
             [
              1,
              "#f0f921"
             ]
            ],
            "type": "contour"
           }
          ],
          "contourcarpet": [
           {
            "colorbar": {
             "outlinewidth": 0,
             "ticks": ""
            },
            "type": "contourcarpet"
           }
          ],
          "heatmap": [
           {
            "colorbar": {
             "outlinewidth": 0,
             "ticks": ""
            },
            "colorscale": [
             [
              0,
              "#0d0887"
             ],
             [
              0.1111111111111111,
              "#46039f"
             ],
             [
              0.2222222222222222,
              "#7201a8"
             ],
             [
              0.3333333333333333,
              "#9c179e"
             ],
             [
              0.4444444444444444,
              "#bd3786"
             ],
             [
              0.5555555555555556,
              "#d8576b"
             ],
             [
              0.6666666666666666,
              "#ed7953"
             ],
             [
              0.7777777777777778,
              "#fb9f3a"
             ],
             [
              0.8888888888888888,
              "#fdca26"
             ],
             [
              1,
              "#f0f921"
             ]
            ],
            "type": "heatmap"
           }
          ],
          "heatmapgl": [
           {
            "colorbar": {
             "outlinewidth": 0,
             "ticks": ""
            },
            "colorscale": [
             [
              0,
              "#0d0887"
             ],
             [
              0.1111111111111111,
              "#46039f"
             ],
             [
              0.2222222222222222,
              "#7201a8"
             ],
             [
              0.3333333333333333,
              "#9c179e"
             ],
             [
              0.4444444444444444,
              "#bd3786"
             ],
             [
              0.5555555555555556,
              "#d8576b"
             ],
             [
              0.6666666666666666,
              "#ed7953"
             ],
             [
              0.7777777777777778,
              "#fb9f3a"
             ],
             [
              0.8888888888888888,
              "#fdca26"
             ],
             [
              1,
              "#f0f921"
             ]
            ],
            "type": "heatmapgl"
           }
          ],
          "histogram": [
           {
            "marker": {
             "pattern": {
              "fillmode": "overlay",
              "size": 10,
              "solidity": 0.2
             }
            },
            "type": "histogram"
           }
          ],
          "histogram2d": [
           {
            "colorbar": {
             "outlinewidth": 0,
             "ticks": ""
            },
            "colorscale": [
             [
              0,
              "#0d0887"
             ],
             [
              0.1111111111111111,
              "#46039f"
             ],
             [
              0.2222222222222222,
              "#7201a8"
             ],
             [
              0.3333333333333333,
              "#9c179e"
             ],
             [
              0.4444444444444444,
              "#bd3786"
             ],
             [
              0.5555555555555556,
              "#d8576b"
             ],
             [
              0.6666666666666666,
              "#ed7953"
             ],
             [
              0.7777777777777778,
              "#fb9f3a"
             ],
             [
              0.8888888888888888,
              "#fdca26"
             ],
             [
              1,
              "#f0f921"
             ]
            ],
            "type": "histogram2d"
           }
          ],
          "histogram2dcontour": [
           {
            "colorbar": {
             "outlinewidth": 0,
             "ticks": ""
            },
            "colorscale": [
             [
              0,
              "#0d0887"
             ],
             [
              0.1111111111111111,
              "#46039f"
             ],
             [
              0.2222222222222222,
              "#7201a8"
             ],
             [
              0.3333333333333333,
              "#9c179e"
             ],
             [
              0.4444444444444444,
              "#bd3786"
             ],
             [
              0.5555555555555556,
              "#d8576b"
             ],
             [
              0.6666666666666666,
              "#ed7953"
             ],
             [
              0.7777777777777778,
              "#fb9f3a"
             ],
             [
              0.8888888888888888,
              "#fdca26"
             ],
             [
              1,
              "#f0f921"
             ]
            ],
            "type": "histogram2dcontour"
           }
          ],
          "mesh3d": [
           {
            "colorbar": {
             "outlinewidth": 0,
             "ticks": ""
            },
            "type": "mesh3d"
           }
          ],
          "parcoords": [
           {
            "line": {
             "colorbar": {
              "outlinewidth": 0,
              "ticks": ""
             }
            },
            "type": "parcoords"
           }
          ],
          "pie": [
           {
            "automargin": true,
            "type": "pie"
           }
          ],
          "scatter": [
           {
            "fillpattern": {
             "fillmode": "overlay",
             "size": 10,
             "solidity": 0.2
            },
            "type": "scatter"
           }
          ],
          "scatter3d": [
           {
            "line": {
             "colorbar": {
              "outlinewidth": 0,
              "ticks": ""
             }
            },
            "marker": {
             "colorbar": {
              "outlinewidth": 0,
              "ticks": ""
             }
            },
            "type": "scatter3d"
           }
          ],
          "scattercarpet": [
           {
            "marker": {
             "colorbar": {
              "outlinewidth": 0,
              "ticks": ""
             }
            },
            "type": "scattercarpet"
           }
          ],
          "scattergeo": [
           {
            "marker": {
             "colorbar": {
              "outlinewidth": 0,
              "ticks": ""
             }
            },
            "type": "scattergeo"
           }
          ],
          "scattergl": [
           {
            "marker": {
             "colorbar": {
              "outlinewidth": 0,
              "ticks": ""
             }
            },
            "type": "scattergl"
           }
          ],
          "scattermapbox": [
           {
            "marker": {
             "colorbar": {
              "outlinewidth": 0,
              "ticks": ""
             }
            },
            "type": "scattermapbox"
           }
          ],
          "scatterpolar": [
           {
            "marker": {
             "colorbar": {
              "outlinewidth": 0,
              "ticks": ""
             }
            },
            "type": "scatterpolar"
           }
          ],
          "scatterpolargl": [
           {
            "marker": {
             "colorbar": {
              "outlinewidth": 0,
              "ticks": ""
             }
            },
            "type": "scatterpolargl"
           }
          ],
          "scatterternary": [
           {
            "marker": {
             "colorbar": {
              "outlinewidth": 0,
              "ticks": ""
             }
            },
            "type": "scatterternary"
           }
          ],
          "surface": [
           {
            "colorbar": {
             "outlinewidth": 0,
             "ticks": ""
            },
            "colorscale": [
             [
              0,
              "#0d0887"
             ],
             [
              0.1111111111111111,
              "#46039f"
             ],
             [
              0.2222222222222222,
              "#7201a8"
             ],
             [
              0.3333333333333333,
              "#9c179e"
             ],
             [
              0.4444444444444444,
              "#bd3786"
             ],
             [
              0.5555555555555556,
              "#d8576b"
             ],
             [
              0.6666666666666666,
              "#ed7953"
             ],
             [
              0.7777777777777778,
              "#fb9f3a"
             ],
             [
              0.8888888888888888,
              "#fdca26"
             ],
             [
              1,
              "#f0f921"
             ]
            ],
            "type": "surface"
           }
          ],
          "table": [
           {
            "cells": {
             "fill": {
              "color": "#EBF0F8"
             },
             "line": {
              "color": "white"
             }
            },
            "header": {
             "fill": {
              "color": "#C8D4E3"
             },
             "line": {
              "color": "white"
             }
            },
            "type": "table"
           }
          ]
         },
         "layout": {
          "annotationdefaults": {
           "arrowcolor": "#2a3f5f",
           "arrowhead": 0,
           "arrowwidth": 1
          },
          "autotypenumbers": "strict",
          "coloraxis": {
           "colorbar": {
            "outlinewidth": 0,
            "ticks": ""
           }
          },
          "colorscale": {
           "diverging": [
            [
             0,
             "#8e0152"
            ],
            [
             0.1,
             "#c51b7d"
            ],
            [
             0.2,
             "#de77ae"
            ],
            [
             0.3,
             "#f1b6da"
            ],
            [
             0.4,
             "#fde0ef"
            ],
            [
             0.5,
             "#f7f7f7"
            ],
            [
             0.6,
             "#e6f5d0"
            ],
            [
             0.7,
             "#b8e186"
            ],
            [
             0.8,
             "#7fbc41"
            ],
            [
             0.9,
             "#4d9221"
            ],
            [
             1,
             "#276419"
            ]
           ],
           "sequential": [
            [
             0,
             "#0d0887"
            ],
            [
             0.1111111111111111,
             "#46039f"
            ],
            [
             0.2222222222222222,
             "#7201a8"
            ],
            [
             0.3333333333333333,
             "#9c179e"
            ],
            [
             0.4444444444444444,
             "#bd3786"
            ],
            [
             0.5555555555555556,
             "#d8576b"
            ],
            [
             0.6666666666666666,
             "#ed7953"
            ],
            [
             0.7777777777777778,
             "#fb9f3a"
            ],
            [
             0.8888888888888888,
             "#fdca26"
            ],
            [
             1,
             "#f0f921"
            ]
           ],
           "sequentialminus": [
            [
             0,
             "#0d0887"
            ],
            [
             0.1111111111111111,
             "#46039f"
            ],
            [
             0.2222222222222222,
             "#7201a8"
            ],
            [
             0.3333333333333333,
             "#9c179e"
            ],
            [
             0.4444444444444444,
             "#bd3786"
            ],
            [
             0.5555555555555556,
             "#d8576b"
            ],
            [
             0.6666666666666666,
             "#ed7953"
            ],
            [
             0.7777777777777778,
             "#fb9f3a"
            ],
            [
             0.8888888888888888,
             "#fdca26"
            ],
            [
             1,
             "#f0f921"
            ]
           ]
          },
          "colorway": [
           "#636efa",
           "#EF553B",
           "#00cc96",
           "#ab63fa",
           "#FFA15A",
           "#19d3f3",
           "#FF6692",
           "#B6E880",
           "#FF97FF",
           "#FECB52"
          ],
          "font": {
           "color": "#2a3f5f"
          },
          "geo": {
           "bgcolor": "white",
           "lakecolor": "white",
           "landcolor": "#E5ECF6",
           "showlakes": true,
           "showland": true,
           "subunitcolor": "white"
          },
          "hoverlabel": {
           "align": "left"
          },
          "hovermode": "closest",
          "mapbox": {
           "style": "light"
          },
          "paper_bgcolor": "white",
          "plot_bgcolor": "#E5ECF6",
          "polar": {
           "angularaxis": {
            "gridcolor": "white",
            "linecolor": "white",
            "ticks": ""
           },
           "bgcolor": "#E5ECF6",
           "radialaxis": {
            "gridcolor": "white",
            "linecolor": "white",
            "ticks": ""
           }
          },
          "scene": {
           "xaxis": {
            "backgroundcolor": "#E5ECF6",
            "gridcolor": "white",
            "gridwidth": 2,
            "linecolor": "white",
            "showbackground": true,
            "ticks": "",
            "zerolinecolor": "white"
           },
           "yaxis": {
            "backgroundcolor": "#E5ECF6",
            "gridcolor": "white",
            "gridwidth": 2,
            "linecolor": "white",
            "showbackground": true,
            "ticks": "",
            "zerolinecolor": "white"
           },
           "zaxis": {
            "backgroundcolor": "#E5ECF6",
            "gridcolor": "white",
            "gridwidth": 2,
            "linecolor": "white",
            "showbackground": true,
            "ticks": "",
            "zerolinecolor": "white"
           }
          },
          "shapedefaults": {
           "line": {
            "color": "#2a3f5f"
           }
          },
          "ternary": {
           "aaxis": {
            "gridcolor": "white",
            "linecolor": "white",
            "ticks": ""
           },
           "baxis": {
            "gridcolor": "white",
            "linecolor": "white",
            "ticks": ""
           },
           "bgcolor": "#E5ECF6",
           "caxis": {
            "gridcolor": "white",
            "linecolor": "white",
            "ticks": ""
           }
          },
          "title": {
           "x": 0.05
          },
          "xaxis": {
           "automargin": true,
           "gridcolor": "white",
           "linecolor": "white",
           "ticks": "",
           "title": {
            "standoff": 15
           },
           "zerolinecolor": "white",
           "zerolinewidth": 2
          },
          "yaxis": {
           "automargin": true,
           "gridcolor": "white",
           "linecolor": "white",
           "ticks": "",
           "title": {
            "standoff": 15
           },
           "zerolinecolor": "white",
           "zerolinewidth": 2
          }
         }
        },
        "title": {
         "text": "Journal Top Contributing Authors",
         "x": 0.5
        },
        "width": 2000,
        "xaxis": {
         "anchor": "y",
         "domain": [
          0,
          1
         ],
         "tickangle": 45,
         "title": {
          "text": "Author_Fullname"
         }
        },
        "yaxis": {
         "anchor": "x",
         "domain": [
          0,
          1
         ],
         "title": {
          "text": "Author_Count"
         }
        }
       }
      },
      "text/html": [
       "<div>                            <div id=\"41870499-0025-4a93-a685-645f34cd7ed2\" class=\"plotly-graph-div\" style=\"height:1000px; width:2000px;\"></div>            <script type=\"text/javascript\">                require([\"plotly\"], function(Plotly) {                    window.PLOTLYENV=window.PLOTLYENV || {};                                    if (document.getElementById(\"41870499-0025-4a93-a685-645f34cd7ed2\")) {                    Plotly.newPlot(                        \"41870499-0025-4a93-a685-645f34cd7ed2\",                        [{\"alignmentgroup\":\"True\",\"hovertemplate\":\"Journal=PLoS neglected tropical diseases<br>Author_Fullname=%{x}<br>Author_Count=%{y}<extra></extra>\",\"legendgroup\":\"PLoS neglected tropical diseases\",\"marker\":{\"color\":\"#636efa\",\"pattern\":{\"shape\":\"\"}},\"name\":\"PLoS neglected tropical diseases\",\"offsetgroup\":\"PLoS neglected tropical diseases\",\"orientation\":\"v\",\"showlegend\":true,\"textposition\":\"auto\",\"x\":[\"Ko AI\"],\"xaxis\":\"x\",\"y\":[20],\"yaxis\":\"y\",\"type\":\"bar\",\"width\":1},{\"alignmentgroup\":\"True\",\"hovertemplate\":\"Journal=The American journal of tropical medicine and hygiene<br>Author_Fullname=%{x}<br>Author_Count=%{y}<extra></extra>\",\"legendgroup\":\"The American journal of tropical medicine and hygiene\",\"marker\":{\"color\":\"#EF553B\",\"pattern\":{\"shape\":\"\"}},\"name\":\"The American journal of tropical medicine and hygiene\",\"offsetgroup\":\"The American journal of tropical medicine and hygiene\",\"orientation\":\"v\",\"showlegend\":true,\"textposition\":\"auto\",\"x\":[\"Vinetz JM\"],\"xaxis\":\"x\",\"y\":[14],\"yaxis\":\"y\",\"type\":\"bar\",\"width\":1},{\"alignmentgroup\":\"True\",\"hovertemplate\":\"Journal=Tropical animal health and production<br>Author_Fullname=%{x}<br>Author_Count=%{y}<extra></extra>\",\"legendgroup\":\"Tropical animal health and production\",\"marker\":{\"color\":\"#00cc96\",\"pattern\":{\"shape\":\"\"}},\"name\":\"Tropical animal health and production\",\"offsetgroup\":\"Tropical animal health and production\",\"orientation\":\"v\",\"showlegend\":true,\"textposition\":\"auto\",\"x\":[\"Lilenbaum W\"],\"xaxis\":\"x\",\"y\":[10],\"yaxis\":\"y\",\"type\":\"bar\",\"width\":1},{\"alignmentgroup\":\"True\",\"hovertemplate\":\"Journal=Vaccine<br>Author_Fullname=%{x}<br>Author_Count=%{y}<extra></extra>\",\"legendgroup\":\"Vaccine\",\"marker\":{\"color\":\"#ab63fa\",\"pattern\":{\"shape\":\"\"}},\"name\":\"Vaccine\",\"offsetgroup\":\"Vaccine\",\"orientation\":\"v\",\"showlegend\":true,\"textposition\":\"auto\",\"x\":[\"Dellagostin OA\"],\"xaxis\":\"x\",\"y\":[9],\"yaxis\":\"y\",\"type\":\"bar\",\"width\":1},{\"alignmentgroup\":\"True\",\"hovertemplate\":\"Journal=Microbial pathogenesis<br>Author_Fullname=%{x}<br>Author_Count=%{y}<extra></extra>\",\"legendgroup\":\"Microbial pathogenesis\",\"marker\":{\"color\":\"#FFA15A\",\"pattern\":{\"shape\":\"\"}},\"name\":\"Microbial pathogenesis\",\"offsetgroup\":\"Microbial pathogenesis\",\"orientation\":\"v\",\"showlegend\":true,\"textposition\":\"auto\",\"x\":[\"Zhang W\",\"Cao Y\"],\"xaxis\":\"x\",\"y\":[8,8],\"yaxis\":\"y\",\"type\":\"bar\",\"width\":1},{\"alignmentgroup\":\"True\",\"hovertemplate\":\"Journal=Research in veterinary science<br>Author_Fullname=%{x}<br>Author_Count=%{y}<extra></extra>\",\"legendgroup\":\"Research in veterinary science\",\"marker\":{\"color\":\"#19d3f3\",\"pattern\":{\"shape\":\"\"}},\"name\":\"Research in veterinary science\",\"offsetgroup\":\"Research in veterinary science\",\"orientation\":\"v\",\"showlegend\":true,\"textposition\":\"auto\",\"x\":[\"Lilenbaum W\"],\"xaxis\":\"x\",\"y\":[8],\"yaxis\":\"y\",\"type\":\"bar\",\"width\":1},{\"alignmentgroup\":\"True\",\"hovertemplate\":\"Journal=The Indian journal of medical research<br>Author_Fullname=%{x}<br>Author_Count=%{y}<extra></extra>\",\"legendgroup\":\"The Indian journal of medical research\",\"marker\":{\"color\":\"#FF6692\",\"pattern\":{\"shape\":\"\"}},\"name\":\"The Indian journal of medical research\",\"offsetgroup\":\"The Indian journal of medical research\",\"orientation\":\"v\",\"showlegend\":true,\"textposition\":\"auto\",\"x\":[\"Sugunan AP\",\"Vijayachari P\"],\"xaxis\":\"x\",\"y\":[7,7],\"yaxis\":\"y\",\"type\":\"bar\",\"width\":1},{\"alignmentgroup\":\"True\",\"hovertemplate\":\"Journal=Infection and immunity<br>Author_Fullname=%{x}<br>Author_Count=%{y}<extra></extra>\",\"legendgroup\":\"Infection and immunity\",\"marker\":{\"color\":\"#B6E880\",\"pattern\":{\"shape\":\"\"}},\"name\":\"Infection and immunity\",\"offsetgroup\":\"Infection and immunity\",\"orientation\":\"v\",\"showlegend\":true,\"textposition\":\"auto\",\"x\":[\"Haake DA\",\"Adler B\"],\"xaxis\":\"x\",\"y\":[7,7],\"yaxis\":\"y\",\"type\":\"bar\",\"width\":1},{\"alignmentgroup\":\"True\",\"hovertemplate\":\"Journal=New Zealand veterinary journal<br>Author_Fullname=%{x}<br>Author_Count=%{y}<extra></extra>\",\"legendgroup\":\"New Zealand veterinary journal\",\"marker\":{\"color\":\"#FF97FF\",\"pattern\":{\"shape\":\"\"}},\"name\":\"New Zealand veterinary journal\",\"offsetgroup\":\"New Zealand veterinary journal\",\"orientation\":\"v\",\"showlegend\":true,\"textposition\":\"auto\",\"x\":[\"Heuer C\",\"Collins-Emerson JM\"],\"xaxis\":\"x\",\"y\":[7,7],\"yaxis\":\"y\",\"type\":\"bar\",\"width\":1},{\"alignmentgroup\":\"True\",\"hovertemplate\":\"Journal=Transactions of the Royal Society of Tropical Medicine and Hygiene<br>Author_Fullname=%{x}<br>Author_Count=%{y}<extra></extra>\",\"legendgroup\":\"Transactions of the Royal Society of Tropical Medicine and Hygiene\",\"marker\":{\"color\":\"#FECB52\",\"pattern\":{\"shape\":\"\"}},\"name\":\"Transactions of the Royal Society of Tropical Medicine and Hygiene\",\"offsetgroup\":\"Transactions of the Royal Society of Tropical Medicine and Hygiene\",\"orientation\":\"v\",\"showlegend\":true,\"textposition\":\"auto\",\"x\":[\"Rajapakse S\"],\"xaxis\":\"x\",\"y\":[6],\"yaxis\":\"y\",\"type\":\"bar\",\"width\":1},{\"alignmentgroup\":\"True\",\"hovertemplate\":\"Journal=Tropical biomedicine<br>Author_Fullname=%{x}<br>Author_Count=%{y}<extra></extra>\",\"legendgroup\":\"Tropical biomedicine\",\"marker\":{\"color\":\"#636efa\",\"pattern\":{\"shape\":\"\"}},\"name\":\"Tropical biomedicine\",\"offsetgroup\":\"Tropical biomedicine\",\"orientation\":\"v\",\"showlegend\":true,\"textposition\":\"auto\",\"x\":[\"Bahaman AR\"],\"xaxis\":\"x\",\"y\":[6],\"yaxis\":\"y\",\"type\":\"bar\",\"width\":1},{\"alignmentgroup\":\"True\",\"hovertemplate\":\"Journal=Veterinary microbiology<br>Author_Fullname=%{x}<br>Author_Count=%{y}<extra></extra>\",\"legendgroup\":\"Veterinary microbiology\",\"marker\":{\"color\":\"#EF553B\",\"pattern\":{\"shape\":\"\"}},\"name\":\"Veterinary microbiology\",\"offsetgroup\":\"Veterinary microbiology\",\"orientation\":\"v\",\"showlegend\":true,\"textposition\":\"auto\",\"x\":[\"Adler B\"],\"xaxis\":\"x\",\"y\":[6],\"yaxis\":\"y\",\"type\":\"bar\",\"width\":1},{\"alignmentgroup\":\"True\",\"hovertemplate\":\"Journal=Journal of wildlife diseases<br>Author_Fullname=%{x}<br>Author_Count=%{y}<extra></extra>\",\"legendgroup\":\"Journal of wildlife diseases\",\"marker\":{\"color\":\"#00cc96\",\"pattern\":{\"shape\":\"\"}},\"name\":\"Journal of wildlife diseases\",\"offsetgroup\":\"Journal of wildlife diseases\",\"orientation\":\"v\",\"showlegend\":true,\"textposition\":\"auto\",\"x\":[\"Gulland FM\"],\"xaxis\":\"x\",\"y\":[5],\"yaxis\":\"y\",\"type\":\"bar\",\"width\":1},{\"alignmentgroup\":\"True\",\"hovertemplate\":\"Journal=Annals of tropical medicine and parasitology<br>Author_Fullname=%{x}<br>Author_Count=%{y}<extra></extra>\",\"legendgroup\":\"Annals of tropical medicine and parasitology\",\"marker\":{\"color\":\"#ab63fa\",\"pattern\":{\"shape\":\"\"}},\"name\":\"Annals of tropical medicine and parasitology\",\"offsetgroup\":\"Annals of tropical medicine and parasitology\",\"orientation\":\"v\",\"showlegend\":true,\"textposition\":\"auto\",\"x\":[\"Dohnt MF\",\"Smythe LD\",\"Craig SB\",\"Graham GC\"],\"xaxis\":\"x\",\"y\":[5,5,5,5],\"yaxis\":\"y\",\"type\":\"bar\",\"width\":1},{\"alignmentgroup\":\"True\",\"hovertemplate\":\"Journal=Theriogenology<br>Author_Fullname=%{x}<br>Author_Count=%{y}<extra></extra>\",\"legendgroup\":\"Theriogenology\",\"marker\":{\"color\":\"#FFA15A\",\"pattern\":{\"shape\":\"\"}},\"name\":\"Theriogenology\",\"offsetgroup\":\"Theriogenology\",\"orientation\":\"v\",\"showlegend\":true,\"textposition\":\"auto\",\"x\":[\"Lilenbaum W\"],\"xaxis\":\"x\",\"y\":[5],\"yaxis\":\"y\",\"type\":\"bar\",\"width\":1},{\"alignmentgroup\":\"True\",\"hovertemplate\":\"Journal=Zoonoses and public health<br>Author_Fullname=%{x}<br>Author_Count=%{y}<extra></extra>\",\"legendgroup\":\"Zoonoses and public health\",\"marker\":{\"color\":\"#19d3f3\",\"pattern\":{\"shape\":\"\"}},\"name\":\"Zoonoses and public health\",\"offsetgroup\":\"Zoonoses and public health\",\"orientation\":\"v\",\"showlegend\":true,\"textposition\":\"auto\",\"x\":[\"Heuer C\"],\"xaxis\":\"x\",\"y\":[5],\"yaxis\":\"y\",\"type\":\"bar\",\"width\":1},{\"alignmentgroup\":\"True\",\"hovertemplate\":\"Journal=PloS one<br>Author_Fullname=%{x}<br>Author_Count=%{y}<extra></extra>\",\"legendgroup\":\"PloS one\",\"marker\":{\"color\":\"#FF6692\",\"pattern\":{\"shape\":\"\"}},\"name\":\"PloS one\",\"offsetgroup\":\"PloS one\",\"orientation\":\"v\",\"showlegend\":true,\"textposition\":\"auto\",\"x\":[\"Picardeau M\",\"Chen X\"],\"xaxis\":\"x\",\"y\":[5,5],\"yaxis\":\"y\",\"type\":\"bar\",\"width\":1},{\"alignmentgroup\":\"True\",\"hovertemplate\":\"Journal=Acta tropica<br>Author_Fullname=%{x}<br>Author_Count=%{y}<extra></extra>\",\"legendgroup\":\"Acta tropica\",\"marker\":{\"color\":\"#B6E880\",\"pattern\":{\"shape\":\"\"}},\"name\":\"Acta tropica\",\"offsetgroup\":\"Acta tropica\",\"orientation\":\"v\",\"showlegend\":true,\"textposition\":\"auto\",\"x\":[\"Ko AI\",\"Lilenbaum W\",\"Reis MG\"],\"xaxis\":\"x\",\"y\":[5,5,5],\"yaxis\":\"y\",\"type\":\"bar\",\"width\":1},{\"alignmentgroup\":\"True\",\"hovertemplate\":\"Journal=Current microbiology<br>Author_Fullname=%{x}<br>Author_Count=%{y}<extra></extra>\",\"legendgroup\":\"Current microbiology\",\"marker\":{\"color\":\"#FF97FF\",\"pattern\":{\"shape\":\"\"}},\"name\":\"Current microbiology\",\"offsetgroup\":\"Current microbiology\",\"orientation\":\"v\",\"showlegend\":true,\"textposition\":\"auto\",\"x\":[\"Hartwig DD\",\"Dellagostin OA\"],\"xaxis\":\"x\",\"y\":[5,5],\"yaxis\":\"y\",\"type\":\"bar\",\"width\":1},{\"alignmentgroup\":\"True\",\"hovertemplate\":\"Journal=Journal of medical microbiology<br>Author_Fullname=%{x}<br>Author_Count=%{y}<extra></extra>\",\"legendgroup\":\"Journal of medical microbiology\",\"marker\":{\"color\":\"#FECB52\",\"pattern\":{\"shape\":\"\"}},\"name\":\"Journal of medical microbiology\",\"offsetgroup\":\"Journal of medical microbiology\",\"orientation\":\"v\",\"showlegend\":true,\"textposition\":\"auto\",\"x\":[\"Koizumi N\"],\"xaxis\":\"x\",\"y\":[5],\"yaxis\":\"y\",\"type\":\"bar\",\"width\":1},{\"alignmentgroup\":\"True\",\"hovertemplate\":\"Journal=Journal of clinical microbiology<br>Author_Fullname=%{x}<br>Author_Count=%{y}<extra></extra>\",\"legendgroup\":\"Journal of clinical microbiology\",\"marker\":{\"color\":\"#636efa\",\"pattern\":{\"shape\":\"\"}},\"name\":\"Journal of clinical microbiology\",\"offsetgroup\":\"Journal of clinical microbiology\",\"orientation\":\"v\",\"showlegend\":true,\"textposition\":\"auto\",\"x\":[\"Picardeau M\"],\"xaxis\":\"x\",\"y\":[5],\"yaxis\":\"y\",\"type\":\"bar\",\"width\":1},{\"alignmentgroup\":\"True\",\"hovertemplate\":\"Journal=Comparative immunology, microbiology and infectious diseases<br>Author_Fullname=%{x}<br>Author_Count=%{y}<extra></extra>\",\"legendgroup\":\"Comparative immunology, microbiology and infectious diseases\",\"marker\":{\"color\":\"#EF553B\",\"pattern\":{\"shape\":\"\"}},\"name\":\"Comparative immunology, microbiology and infectious diseases\",\"offsetgroup\":\"Comparative immunology, microbiology and infectious diseases\",\"orientation\":\"v\",\"showlegend\":true,\"textposition\":\"auto\",\"x\":[\"Lilenbaum W\"],\"xaxis\":\"x\",\"y\":[5],\"yaxis\":\"y\",\"type\":\"bar\",\"width\":1},{\"alignmentgroup\":\"True\",\"hovertemplate\":\"Journal=BMC infectious diseases<br>Author_Fullname=%{x}<br>Author_Count=%{y}<extra></extra>\",\"legendgroup\":\"BMC infectious diseases\",\"marker\":{\"color\":\"#00cc96\",\"pattern\":{\"shape\":\"\"}},\"name\":\"BMC infectious diseases\",\"offsetgroup\":\"BMC infectious diseases\",\"orientation\":\"v\",\"showlegend\":true,\"textposition\":\"auto\",\"x\":[\"Agampodi SB\"],\"xaxis\":\"x\",\"y\":[5],\"yaxis\":\"y\",\"type\":\"bar\",\"width\":1},{\"alignmentgroup\":\"True\",\"hovertemplate\":\"Journal=PLoS pathogens<br>Author_Fullname=%{x}<br>Author_Count=%{y}<extra></extra>\",\"legendgroup\":\"PLoS pathogens\",\"marker\":{\"color\":\"#ab63fa\",\"pattern\":{\"shape\":\"\"}},\"name\":\"PLoS pathogens\",\"offsetgroup\":\"PLoS pathogens\",\"orientation\":\"v\",\"showlegend\":true,\"textposition\":\"auto\",\"x\":[\"Picardeau M\"],\"xaxis\":\"x\",\"y\":[5],\"yaxis\":\"y\",\"type\":\"bar\",\"width\":1},{\"alignmentgroup\":\"True\",\"hovertemplate\":\"Journal=The Cochrane database of systematic reviews<br>Author_Fullname=%{x}<br>Author_Count=%{y}<extra></extra>\",\"legendgroup\":\"The Cochrane database of systematic reviews\",\"marker\":{\"color\":\"#FFA15A\",\"pattern\":{\"shape\":\"\"}},\"name\":\"The Cochrane database of systematic reviews\",\"offsetgroup\":\"The Cochrane database of systematic reviews\",\"orientation\":\"v\",\"showlegend\":true,\"textposition\":\"auto\",\"x\":[\"Guidugli F\",\"Castro AA\",\"Atallah AN\"],\"xaxis\":\"x\",\"y\":[4,4,4],\"yaxis\":\"y\",\"type\":\"bar\",\"width\":1},{\"alignmentgroup\":\"True\",\"hovertemplate\":\"Journal=Klinicheskaia laboratornaia diagnostika<br>Author_Fullname=%{x}<br>Author_Count=%{y}<extra></extra>\",\"legendgroup\":\"Klinicheskaia laboratornaia diagnostika\",\"marker\":{\"color\":\"#19d3f3\",\"pattern\":{\"shape\":\"\"}},\"name\":\"Klinicheskaia laboratornaia diagnostika\",\"offsetgroup\":\"Klinicheskaia laboratornaia diagnostika\",\"orientation\":\"v\",\"showlegend\":true,\"textposition\":\"auto\",\"x\":[\"Avdeeva MG\"],\"xaxis\":\"x\",\"y\":[4],\"yaxis\":\"y\",\"type\":\"bar\",\"width\":1},{\"alignmentgroup\":\"True\",\"hovertemplate\":\"Journal=BMC microbiology<br>Author_Fullname=%{x}<br>Author_Count=%{y}<extra></extra>\",\"legendgroup\":\"BMC microbiology\",\"marker\":{\"color\":\"#FF6692\",\"pattern\":{\"shape\":\"\"}},\"name\":\"BMC microbiology\",\"offsetgroup\":\"BMC microbiology\",\"orientation\":\"v\",\"showlegend\":true,\"textposition\":\"auto\",\"x\":[\"Yan J\"],\"xaxis\":\"x\",\"y\":[4],\"yaxis\":\"y\",\"type\":\"bar\",\"width\":1},{\"alignmentgroup\":\"True\",\"hovertemplate\":\"Journal=Clinical and vaccine immunology : CVI<br>Author_Fullname=%{x}<br>Author_Count=%{y}<extra></extra>\",\"legendgroup\":\"Clinical and vaccine immunology : CVI\",\"marker\":{\"color\":\"#B6E880\",\"pattern\":{\"shape\":\"\"}},\"name\":\"Clinical and vaccine immunology : CVI\",\"offsetgroup\":\"Clinical and vaccine immunology : CVI\",\"orientation\":\"v\",\"showlegend\":true,\"textposition\":\"auto\",\"x\":[\"Dellagostin OA\"],\"xaxis\":\"x\",\"y\":[4],\"yaxis\":\"y\",\"type\":\"bar\",\"width\":1},{\"alignmentgroup\":\"True\",\"hovertemplate\":\"Journal=Tropical medicine & international health : TM & IH<br>Author_Fullname=%{x}<br>Author_Count=%{y}<extra></extra>\",\"legendgroup\":\"Tropical medicine & international health : TM & IH\",\"marker\":{\"color\":\"#FF97FF\",\"pattern\":{\"shape\":\"\"}},\"name\":\"Tropical medicine & international health : TM & IH\",\"offsetgroup\":\"Tropical medicine & international health : TM & IH\",\"orientation\":\"v\",\"showlegend\":true,\"textposition\":\"auto\",\"x\":[\"Goris MG\"],\"xaxis\":\"x\",\"y\":[4],\"yaxis\":\"y\",\"type\":\"bar\",\"width\":1},{\"alignmentgroup\":\"True\",\"hovertemplate\":\"Journal=Journal of immunology (Baltimore, Md. : 1950)<br>Author_Fullname=%{x}<br>Author_Count=%{y}<extra></extra>\",\"legendgroup\":\"Journal of immunology (Baltimore, Md. : 1950)\",\"marker\":{\"color\":\"#FECB52\",\"pattern\":{\"shape\":\"\"}},\"name\":\"Journal of immunology (Baltimore, Md. : 1950)\",\"offsetgroup\":\"Journal of immunology (Baltimore, Md. : 1950)\",\"orientation\":\"v\",\"showlegend\":true,\"textposition\":\"auto\",\"x\":[\"Werts C\"],\"xaxis\":\"x\",\"y\":[4],\"yaxis\":\"y\",\"type\":\"bar\",\"width\":1},{\"alignmentgroup\":\"True\",\"hovertemplate\":\"Journal=Epidemiology and infection<br>Author_Fullname=%{x}<br>Author_Count=%{y}<extra></extra>\",\"legendgroup\":\"Epidemiology and infection\",\"marker\":{\"color\":\"#636efa\",\"pattern\":{\"shape\":\"\"}},\"name\":\"Epidemiology and infection\",\"offsetgroup\":\"Epidemiology and infection\",\"orientation\":\"v\",\"showlegend\":true,\"textposition\":\"auto\",\"x\":[\"Lilenbaum W\"],\"xaxis\":\"x\",\"y\":[4],\"yaxis\":\"y\",\"type\":\"bar\",\"width\":1},{\"alignmentgroup\":\"True\",\"hovertemplate\":\"Journal=The Canadian veterinary journal = La revue veterinaire canadienne<br>Author_Fullname=%{x}<br>Author_Count=%{y}<extra></extra>\",\"legendgroup\":\"The Canadian veterinary journal = La revue veterinaire canadienne\",\"marker\":{\"color\":\"#EF553B\",\"pattern\":{\"shape\":\"\"}},\"name\":\"The Canadian veterinary journal = La revue veterinaire canadienne\",\"offsetgroup\":\"The Canadian veterinary journal = La revue veterinaire canadienne\",\"orientation\":\"v\",\"showlegend\":true,\"textposition\":\"auto\",\"x\":[\"Kingscote BF\"],\"xaxis\":\"x\",\"y\":[4],\"yaxis\":\"y\",\"type\":\"bar\",\"width\":1},{\"alignmentgroup\":\"True\",\"hovertemplate\":\"Journal=Journal of infection in developing countries<br>Author_Fullname=%{x}<br>Author_Count=%{y}<extra></extra>\",\"legendgroup\":\"Journal of infection in developing countries\",\"marker\":{\"color\":\"#00cc96\",\"pattern\":{\"shape\":\"\"}},\"name\":\"Journal of infection in developing countries\",\"offsetgroup\":\"Journal of infection in developing countries\",\"orientation\":\"v\",\"showlegend\":true,\"textposition\":\"auto\",\"x\":[\"Puca E\"],\"xaxis\":\"x\",\"y\":[4],\"yaxis\":\"y\",\"type\":\"bar\",\"width\":1},{\"alignmentgroup\":\"True\",\"hovertemplate\":\"Journal=Bulletin of the World Health Organization<br>Author_Fullname=%{x}<br>Author_Count=%{y}<extra></extra>\",\"legendgroup\":\"Bulletin of the World Health Organization\",\"marker\":{\"color\":\"#ab63fa\",\"pattern\":{\"shape\":\"\"}},\"name\":\"Bulletin of the World Health Organization\",\"offsetgroup\":\"Bulletin of the World Health Organization\",\"orientation\":\"v\",\"showlegend\":true,\"textposition\":\"auto\",\"x\":[\"Smith CE\",\"Turner LH\"],\"xaxis\":\"x\",\"y\":[4,4],\"yaxis\":\"y\",\"type\":\"bar\",\"width\":1},{\"alignmentgroup\":\"True\",\"hovertemplate\":\"Journal=The New Zealand medical journal<br>Author_Fullname=%{x}<br>Author_Count=%{y}<extra></extra>\",\"legendgroup\":\"The New Zealand medical journal\",\"marker\":{\"color\":\"#FFA15A\",\"pattern\":{\"shape\":\"\"}},\"name\":\"The New Zealand medical journal\",\"offsetgroup\":\"The New Zealand medical journal\",\"orientation\":\"v\",\"showlegend\":true,\"textposition\":\"auto\",\"x\":[\"Benschop J\"],\"xaxis\":\"x\",\"y\":[4],\"yaxis\":\"y\",\"type\":\"bar\",\"width\":1},{\"alignmentgroup\":\"True\",\"hovertemplate\":\"Journal=International journal of environmental research and public health<br>Author_Fullname=%{x}<br>Author_Count=%{y}<extra></extra>\",\"legendgroup\":\"International journal of environmental research and public health\",\"marker\":{\"color\":\"#19d3f3\",\"pattern\":{\"shape\":\"\"}},\"name\":\"International journal of environmental research and public health\",\"offsetgroup\":\"International journal of environmental research and public health\",\"orientation\":\"v\",\"showlegend\":true,\"textposition\":\"auto\",\"x\":[\"Osman M\"],\"xaxis\":\"x\",\"y\":[4],\"yaxis\":\"y\",\"type\":\"bar\",\"width\":1}],                        {\"template\":{\"data\":{\"histogram2dcontour\":[{\"type\":\"histogram2dcontour\",\"colorbar\":{\"outlinewidth\":0,\"ticks\":\"\"},\"colorscale\":[[0.0,\"#0d0887\"],[0.1111111111111111,\"#46039f\"],[0.2222222222222222,\"#7201a8\"],[0.3333333333333333,\"#9c179e\"],[0.4444444444444444,\"#bd3786\"],[0.5555555555555556,\"#d8576b\"],[0.6666666666666666,\"#ed7953\"],[0.7777777777777778,\"#fb9f3a\"],[0.8888888888888888,\"#fdca26\"],[1.0,\"#f0f921\"]]}],\"choropleth\":[{\"type\":\"choropleth\",\"colorbar\":{\"outlinewidth\":0,\"ticks\":\"\"}}],\"histogram2d\":[{\"type\":\"histogram2d\",\"colorbar\":{\"outlinewidth\":0,\"ticks\":\"\"},\"colorscale\":[[0.0,\"#0d0887\"],[0.1111111111111111,\"#46039f\"],[0.2222222222222222,\"#7201a8\"],[0.3333333333333333,\"#9c179e\"],[0.4444444444444444,\"#bd3786\"],[0.5555555555555556,\"#d8576b\"],[0.6666666666666666,\"#ed7953\"],[0.7777777777777778,\"#fb9f3a\"],[0.8888888888888888,\"#fdca26\"],[1.0,\"#f0f921\"]]}],\"heatmap\":[{\"type\":\"heatmap\",\"colorbar\":{\"outlinewidth\":0,\"ticks\":\"\"},\"colorscale\":[[0.0,\"#0d0887\"],[0.1111111111111111,\"#46039f\"],[0.2222222222222222,\"#7201a8\"],[0.3333333333333333,\"#9c179e\"],[0.4444444444444444,\"#bd3786\"],[0.5555555555555556,\"#d8576b\"],[0.6666666666666666,\"#ed7953\"],[0.7777777777777778,\"#fb9f3a\"],[0.8888888888888888,\"#fdca26\"],[1.0,\"#f0f921\"]]}],\"heatmapgl\":[{\"type\":\"heatmapgl\",\"colorbar\":{\"outlinewidth\":0,\"ticks\":\"\"},\"colorscale\":[[0.0,\"#0d0887\"],[0.1111111111111111,\"#46039f\"],[0.2222222222222222,\"#7201a8\"],[0.3333333333333333,\"#9c179e\"],[0.4444444444444444,\"#bd3786\"],[0.5555555555555556,\"#d8576b\"],[0.6666666666666666,\"#ed7953\"],[0.7777777777777778,\"#fb9f3a\"],[0.8888888888888888,\"#fdca26\"],[1.0,\"#f0f921\"]]}],\"contourcarpet\":[{\"type\":\"contourcarpet\",\"colorbar\":{\"outlinewidth\":0,\"ticks\":\"\"}}],\"contour\":[{\"type\":\"contour\",\"colorbar\":{\"outlinewidth\":0,\"ticks\":\"\"},\"colorscale\":[[0.0,\"#0d0887\"],[0.1111111111111111,\"#46039f\"],[0.2222222222222222,\"#7201a8\"],[0.3333333333333333,\"#9c179e\"],[0.4444444444444444,\"#bd3786\"],[0.5555555555555556,\"#d8576b\"],[0.6666666666666666,\"#ed7953\"],[0.7777777777777778,\"#fb9f3a\"],[0.8888888888888888,\"#fdca26\"],[1.0,\"#f0f921\"]]}],\"surface\":[{\"type\":\"surface\",\"colorbar\":{\"outlinewidth\":0,\"ticks\":\"\"},\"colorscale\":[[0.0,\"#0d0887\"],[0.1111111111111111,\"#46039f\"],[0.2222222222222222,\"#7201a8\"],[0.3333333333333333,\"#9c179e\"],[0.4444444444444444,\"#bd3786\"],[0.5555555555555556,\"#d8576b\"],[0.6666666666666666,\"#ed7953\"],[0.7777777777777778,\"#fb9f3a\"],[0.8888888888888888,\"#fdca26\"],[1.0,\"#f0f921\"]]}],\"mesh3d\":[{\"type\":\"mesh3d\",\"colorbar\":{\"outlinewidth\":0,\"ticks\":\"\"}}],\"scatter\":[{\"fillpattern\":{\"fillmode\":\"overlay\",\"size\":10,\"solidity\":0.2},\"type\":\"scatter\"}],\"parcoords\":[{\"type\":\"parcoords\",\"line\":{\"colorbar\":{\"outlinewidth\":0,\"ticks\":\"\"}}}],\"scatterpolargl\":[{\"type\":\"scatterpolargl\",\"marker\":{\"colorbar\":{\"outlinewidth\":0,\"ticks\":\"\"}}}],\"bar\":[{\"error_x\":{\"color\":\"#2a3f5f\"},\"error_y\":{\"color\":\"#2a3f5f\"},\"marker\":{\"line\":{\"color\":\"#E5ECF6\",\"width\":0.5},\"pattern\":{\"fillmode\":\"overlay\",\"size\":10,\"solidity\":0.2}},\"type\":\"bar\"}],\"scattergeo\":[{\"type\":\"scattergeo\",\"marker\":{\"colorbar\":{\"outlinewidth\":0,\"ticks\":\"\"}}}],\"scatterpolar\":[{\"type\":\"scatterpolar\",\"marker\":{\"colorbar\":{\"outlinewidth\":0,\"ticks\":\"\"}}}],\"histogram\":[{\"marker\":{\"pattern\":{\"fillmode\":\"overlay\",\"size\":10,\"solidity\":0.2}},\"type\":\"histogram\"}],\"scattergl\":[{\"type\":\"scattergl\",\"marker\":{\"colorbar\":{\"outlinewidth\":0,\"ticks\":\"\"}}}],\"scatter3d\":[{\"type\":\"scatter3d\",\"line\":{\"colorbar\":{\"outlinewidth\":0,\"ticks\":\"\"}},\"marker\":{\"colorbar\":{\"outlinewidth\":0,\"ticks\":\"\"}}}],\"scattermapbox\":[{\"type\":\"scattermapbox\",\"marker\":{\"colorbar\":{\"outlinewidth\":0,\"ticks\":\"\"}}}],\"scatterternary\":[{\"type\":\"scatterternary\",\"marker\":{\"colorbar\":{\"outlinewidth\":0,\"ticks\":\"\"}}}],\"scattercarpet\":[{\"type\":\"scattercarpet\",\"marker\":{\"colorbar\":{\"outlinewidth\":0,\"ticks\":\"\"}}}],\"carpet\":[{\"aaxis\":{\"endlinecolor\":\"#2a3f5f\",\"gridcolor\":\"white\",\"linecolor\":\"white\",\"minorgridcolor\":\"white\",\"startlinecolor\":\"#2a3f5f\"},\"baxis\":{\"endlinecolor\":\"#2a3f5f\",\"gridcolor\":\"white\",\"linecolor\":\"white\",\"minorgridcolor\":\"white\",\"startlinecolor\":\"#2a3f5f\"},\"type\":\"carpet\"}],\"table\":[{\"cells\":{\"fill\":{\"color\":\"#EBF0F8\"},\"line\":{\"color\":\"white\"}},\"header\":{\"fill\":{\"color\":\"#C8D4E3\"},\"line\":{\"color\":\"white\"}},\"type\":\"table\"}],\"barpolar\":[{\"marker\":{\"line\":{\"color\":\"#E5ECF6\",\"width\":0.5},\"pattern\":{\"fillmode\":\"overlay\",\"size\":10,\"solidity\":0.2}},\"type\":\"barpolar\"}],\"pie\":[{\"automargin\":true,\"type\":\"pie\"}]},\"layout\":{\"autotypenumbers\":\"strict\",\"colorway\":[\"#636efa\",\"#EF553B\",\"#00cc96\",\"#ab63fa\",\"#FFA15A\",\"#19d3f3\",\"#FF6692\",\"#B6E880\",\"#FF97FF\",\"#FECB52\"],\"font\":{\"color\":\"#2a3f5f\"},\"hovermode\":\"closest\",\"hoverlabel\":{\"align\":\"left\"},\"paper_bgcolor\":\"white\",\"plot_bgcolor\":\"#E5ECF6\",\"polar\":{\"bgcolor\":\"#E5ECF6\",\"angularaxis\":{\"gridcolor\":\"white\",\"linecolor\":\"white\",\"ticks\":\"\"},\"radialaxis\":{\"gridcolor\":\"white\",\"linecolor\":\"white\",\"ticks\":\"\"}},\"ternary\":{\"bgcolor\":\"#E5ECF6\",\"aaxis\":{\"gridcolor\":\"white\",\"linecolor\":\"white\",\"ticks\":\"\"},\"baxis\":{\"gridcolor\":\"white\",\"linecolor\":\"white\",\"ticks\":\"\"},\"caxis\":{\"gridcolor\":\"white\",\"linecolor\":\"white\",\"ticks\":\"\"}},\"coloraxis\":{\"colorbar\":{\"outlinewidth\":0,\"ticks\":\"\"}},\"colorscale\":{\"sequential\":[[0.0,\"#0d0887\"],[0.1111111111111111,\"#46039f\"],[0.2222222222222222,\"#7201a8\"],[0.3333333333333333,\"#9c179e\"],[0.4444444444444444,\"#bd3786\"],[0.5555555555555556,\"#d8576b\"],[0.6666666666666666,\"#ed7953\"],[0.7777777777777778,\"#fb9f3a\"],[0.8888888888888888,\"#fdca26\"],[1.0,\"#f0f921\"]],\"sequentialminus\":[[0.0,\"#0d0887\"],[0.1111111111111111,\"#46039f\"],[0.2222222222222222,\"#7201a8\"],[0.3333333333333333,\"#9c179e\"],[0.4444444444444444,\"#bd3786\"],[0.5555555555555556,\"#d8576b\"],[0.6666666666666666,\"#ed7953\"],[0.7777777777777778,\"#fb9f3a\"],[0.8888888888888888,\"#fdca26\"],[1.0,\"#f0f921\"]],\"diverging\":[[0,\"#8e0152\"],[0.1,\"#c51b7d\"],[0.2,\"#de77ae\"],[0.3,\"#f1b6da\"],[0.4,\"#fde0ef\"],[0.5,\"#f7f7f7\"],[0.6,\"#e6f5d0\"],[0.7,\"#b8e186\"],[0.8,\"#7fbc41\"],[0.9,\"#4d9221\"],[1,\"#276419\"]]},\"xaxis\":{\"gridcolor\":\"white\",\"linecolor\":\"white\",\"ticks\":\"\",\"title\":{\"standoff\":15},\"zerolinecolor\":\"white\",\"automargin\":true,\"zerolinewidth\":2},\"yaxis\":{\"gridcolor\":\"white\",\"linecolor\":\"white\",\"ticks\":\"\",\"title\":{\"standoff\":15},\"zerolinecolor\":\"white\",\"automargin\":true,\"zerolinewidth\":2},\"scene\":{\"xaxis\":{\"backgroundcolor\":\"#E5ECF6\",\"gridcolor\":\"white\",\"linecolor\":\"white\",\"showbackground\":true,\"ticks\":\"\",\"zerolinecolor\":\"white\",\"gridwidth\":2},\"yaxis\":{\"backgroundcolor\":\"#E5ECF6\",\"gridcolor\":\"white\",\"linecolor\":\"white\",\"showbackground\":true,\"ticks\":\"\",\"zerolinecolor\":\"white\",\"gridwidth\":2},\"zaxis\":{\"backgroundcolor\":\"#E5ECF6\",\"gridcolor\":\"white\",\"linecolor\":\"white\",\"showbackground\":true,\"ticks\":\"\",\"zerolinecolor\":\"white\",\"gridwidth\":2}},\"shapedefaults\":{\"line\":{\"color\":\"#2a3f5f\"}},\"annotationdefaults\":{\"arrowcolor\":\"#2a3f5f\",\"arrowhead\":0,\"arrowwidth\":1},\"geo\":{\"bgcolor\":\"white\",\"landcolor\":\"#E5ECF6\",\"subunitcolor\":\"white\",\"showland\":true,\"showlakes\":true,\"lakecolor\":\"white\"},\"title\":{\"x\":0.05},\"mapbox\":{\"style\":\"light\"}}},\"xaxis\":{\"anchor\":\"y\",\"domain\":[0.0,1.0],\"title\":{\"text\":\"Author_Fullname\"},\"tickangle\":45},\"yaxis\":{\"anchor\":\"x\",\"domain\":[0.0,1.0],\"title\":{\"text\":\"Author_Count\"}},\"legend\":{\"title\":{\"text\":\"Journal\"},\"tracegroupgap\":0},\"title\":{\"text\":\"Journal Top Contributing Authors\",\"x\":0.5},\"barmode\":\"relative\",\"showlegend\":true,\"height\":1000,\"width\":2000},                        {\"responsive\": true}                    ).then(function(){\n",
       "                            \n",
       "var gd = document.getElementById('41870499-0025-4a93-a685-645f34cd7ed2');\n",
       "var x = new MutationObserver(function (mutations, observer) {{\n",
       "        var display = window.getComputedStyle(gd).display;\n",
       "        if (!display || display === 'none') {{\n",
       "            console.log([gd, 'removed!']);\n",
       "            Plotly.purge(gd);\n",
       "            observer.disconnect();\n",
       "        }}\n",
       "}});\n",
       "\n",
       "// Listen for the removal of the full notebook cells\n",
       "var notebookContainer = gd.closest('#notebook-container');\n",
       "if (notebookContainer) {{\n",
       "    x.observe(notebookContainer, {childList: true});\n",
       "}}\n",
       "\n",
       "// Listen for the clearing of the current output cell\n",
       "var outputEl = gd.closest('.output');\n",
       "if (outputEl) {{\n",
       "    x.observe(outputEl, {childList: true});\n",
       "}}\n",
       "\n",
       "                        })                };                });            </script>        </div>"
      ]
     },
     "metadata": {},
     "output_type": "display_data"
    },
    {
     "data": {
      "application/vnd.plotly.v1+json": {
       "config": {
        "plotlyServerURL": "https://plot.ly"
       },
       "data": [
        {
         "alignmentgroup": "True",
         "hovertemplate": "FirstAuthorAffiliation=Programa de Pós-Graduação em Biotecnologia, Centro de Desenvolvimento Tecnológico, Universidade Federal de Pelotas, Pelotas, RS, Brazil.<br>Author_Fullname=%{x}<br>Author_Count=%{y}<extra></extra>",
         "legendgroup": "Programa de Pós-Graduação em Biotecnologia, Centro de Desenvolvimento Tecnológico, Universidade Federal de Pelotas, Pelotas, RS, Brazil.",
         "marker": {
          "color": "#636efa",
          "pattern": {
           "shape": ""
          }
         },
         "name": "Programa de Pós-Graduação em Biotecnologia, Centro de Desenvolvimento Tecnológico, Universidade Federal de Pelotas, Pelotas, RS, Brazil.",
         "offsetgroup": "Programa de Pós-Graduação em Biotecnologia, Centro de Desenvolvimento Tecnológico, Universidade Federal de Pelotas, Pelotas, RS, Brazil.",
         "orientation": "v",
         "showlegend": true,
         "textposition": "auto",
         "type": "bar",
         "width": 1,
         "x": [
          "Oliveira TL"
         ],
         "xaxis": "x",
         "y": [
          6
         ],
         "yaxis": "y"
        },
        {
         "alignmentgroup": "True",
         "hovertemplate": "FirstAuthorAffiliation=College of Veterinary Medicine, Cornell University, Ithaca, NY 14853, USA.<br>Author_Fullname=%{x}<br>Author_Count=%{y}<extra></extra>",
         "legendgroup": "College of Veterinary Medicine, Cornell University, Ithaca, NY 14853, USA.",
         "marker": {
          "color": "#EF553B",
          "pattern": {
           "shape": ""
          }
         },
         "name": "College of Veterinary Medicine, Cornell University, Ithaca, NY 14853, USA.",
         "offsetgroup": "College of Veterinary Medicine, Cornell University, Ithaca, NY 14853, USA.",
         "orientation": "v",
         "showlegend": true,
         "textposition": "auto",
         "type": "bar",
         "width": 1,
         "x": [
          "Chang YF"
         ],
         "xaxis": "x",
         "y": [
          5
         ],
         "yaxis": "y"
        },
        {
         "alignmentgroup": "True",
         "hovertemplate": "FirstAuthorAffiliation=Department of Clinical Veterinary Medicine, College of Veterinary Medicine, Jilin University, Changchun, People's Republic of China.<br>Author_Fullname=%{x}<br>Author_Count=%{y}<extra></extra>",
         "legendgroup": "Department of Clinical Veterinary Medicine, College of Veterinary Medicine, Jilin University, Changchun, People's Republic of China.",
         "marker": {
          "color": "#00cc96",
          "pattern": {
           "shape": ""
          }
         },
         "name": "Department of Clinical Veterinary Medicine, College of Veterinary Medicine, Jilin University, Changchun, People's Republic of China.",
         "offsetgroup": "Department of Clinical Veterinary Medicine, College of Veterinary Medicine, Jilin University, Changchun, People's Republic of China.",
         "orientation": "v",
         "showlegend": true,
         "textposition": "auto",
         "type": "bar",
         "width": 1,
         "x": [
          "Wu D",
          "Zhang W",
          "Cao Y"
         ],
         "xaxis": "x",
         "y": [
          4,
          4,
          4
         ],
         "yaxis": "y"
        },
        {
         "alignmentgroup": "True",
         "hovertemplate": "FirstAuthorAffiliation=University Hospital Center, Tirana, Albania. edmond_puca@yahoo.com.<br>Author_Fullname=%{x}<br>Author_Count=%{y}<extra></extra>",
         "legendgroup": "University Hospital Center, Tirana, Albania. edmond_puca@yahoo.com.",
         "marker": {
          "color": "#ab63fa",
          "pattern": {
           "shape": ""
          }
         },
         "name": "University Hospital Center, Tirana, Albania. edmond_puca@yahoo.com.",
         "offsetgroup": "University Hospital Center, Tirana, Albania. edmond_puca@yahoo.com.",
         "orientation": "v",
         "showlegend": true,
         "textposition": "auto",
         "type": "bar",
         "width": 1,
         "x": [
          "Puca E"
         ],
         "xaxis": "x",
         "y": [
          4
         ],
         "yaxis": "y"
        },
        {
         "alignmentgroup": "True",
         "hovertemplate": "FirstAuthorAffiliation=Laboratory of Veterinary Bacteriology, Biomedical Institute, Fluminense Federal University, 101 Prof. Hernani Mello Street, Niterói, Rio de Janeiro, Brazil.<br>Author_Fullname=%{x}<br>Author_Count=%{y}<extra></extra>",
         "legendgroup": "Laboratory of Veterinary Bacteriology, Biomedical Institute, Fluminense Federal University, 101 Prof. Hernani Mello Street, Niterói, Rio de Janeiro, Brazil.",
         "marker": {
          "color": "#FFA15A",
          "pattern": {
           "shape": ""
          }
         },
         "name": "Laboratory of Veterinary Bacteriology, Biomedical Institute, Fluminense Federal University, 101 Prof. Hernani Mello Street, Niterói, Rio de Janeiro, Brazil.",
         "offsetgroup": "Laboratory of Veterinary Bacteriology, Biomedical Institute, Fluminense Federal University, 101 Prof. Hernani Mello Street, Niterói, Rio de Janeiro, Brazil.",
         "orientation": "v",
         "showlegend": true,
         "textposition": "auto",
         "type": "bar",
         "width": 1,
         "x": [
          "Lilenbaum W"
         ],
         "xaxis": "x",
         "y": [
          4
         ],
         "yaxis": "y"
        },
        {
         "alignmentgroup": "True",
         "hovertemplate": "FirstAuthorAffiliation=Centro de Biotecnologia, Instituto Butantan, Avenida Vital Brazil, 1500, 05503-900, Sao Paulo, SP, Brazil.<br>Author_Fullname=%{x}<br>Author_Count=%{y}<extra></extra>",
         "legendgroup": "Centro de Biotecnologia, Instituto Butantan, Avenida Vital Brazil, 1500, 05503-900, Sao Paulo, SP, Brazil.",
         "marker": {
          "color": "#19d3f3",
          "pattern": {
           "shape": ""
          }
         },
         "name": "Centro de Biotecnologia, Instituto Butantan, Avenida Vital Brazil, 1500, 05503-900, Sao Paulo, SP, Brazil.",
         "offsetgroup": "Centro de Biotecnologia, Instituto Butantan, Avenida Vital Brazil, 1500, 05503-900, Sao Paulo, SP, Brazil.",
         "orientation": "v",
         "showlegend": true,
         "textposition": "auto",
         "type": "bar",
         "width": 1,
         "x": [
          "Vasconcellos SA",
          "Romero EC"
         ],
         "xaxis": "x",
         "y": [
          4,
          4
         ],
         "yaxis": "y"
        },
        {
         "alignmentgroup": "True",
         "hovertemplate": "FirstAuthorAffiliation=Centro de Biotecnologia, Instituto Butantan, Avenida Vital Brazil, 1500, 05503-900, São Paulo, SP, Brazil.<br>Author_Fullname=%{x}<br>Author_Count=%{y}<extra></extra>",
         "legendgroup": "Centro de Biotecnologia, Instituto Butantan, Avenida Vital Brazil, 1500, 05503-900, São Paulo, SP, Brazil.",
         "marker": {
          "color": "#FF6692",
          "pattern": {
           "shape": ""
          }
         },
         "name": "Centro de Biotecnologia, Instituto Butantan, Avenida Vital Brazil, 1500, 05503-900, São Paulo, SP, Brazil.",
         "offsetgroup": "Centro de Biotecnologia, Instituto Butantan, Avenida Vital Brazil, 1500, 05503-900, São Paulo, SP, Brazil.",
         "orientation": "v",
         "showlegend": true,
         "textposition": "auto",
         "type": "bar",
         "width": 1,
         "x": [
          "Vasconcellos SA"
         ],
         "xaxis": "x",
         "y": [
          4
         ],
         "yaxis": "y"
        },
        {
         "alignmentgroup": "True",
         "hovertemplate": "FirstAuthorAffiliation=Excellence Center for Critical Care Nephrology, King Chulalongkorn Memorial Hospital, Bangkok, Thailand.<br>Author_Fullname=%{x}<br>Author_Count=%{y}<extra></extra>",
         "legendgroup": "Excellence Center for Critical Care Nephrology, King Chulalongkorn Memorial Hospital, Bangkok, Thailand.",
         "marker": {
          "color": "#B6E880",
          "pattern": {
           "shape": ""
          }
         },
         "name": "Excellence Center for Critical Care Nephrology, King Chulalongkorn Memorial Hospital, Bangkok, Thailand.",
         "offsetgroup": "Excellence Center for Critical Care Nephrology, King Chulalongkorn Memorial Hospital, Bangkok, Thailand.",
         "orientation": "v",
         "showlegend": true,
         "textposition": "auto",
         "type": "bar",
         "width": 1,
         "x": [
          "Dinhuzen J",
          "Limothai U",
          "Srisawat N",
          "Tachaboon S"
         ],
         "xaxis": "x",
         "y": [
          4,
          4,
          4,
          4
         ],
         "yaxis": "y"
        },
        {
         "alignmentgroup": "True",
         "hovertemplate": "FirstAuthorAffiliation=Department of Medicine, Cairns Hospital, Cairns, Queensland, Australia.<br>Author_Fullname=%{x}<br>Author_Count=%{y}<extra></extra>",
         "legendgroup": "Department of Medicine, Cairns Hospital, Cairns, Queensland, Australia.",
         "marker": {
          "color": "#FF97FF",
          "pattern": {
           "shape": ""
          }
         },
         "name": "Department of Medicine, Cairns Hospital, Cairns, Queensland, Australia.",
         "offsetgroup": "Department of Medicine, Cairns Hospital, Cairns, Queensland, Australia.",
         "orientation": "v",
         "showlegend": true,
         "textposition": "auto",
         "type": "bar",
         "width": 1,
         "x": [
          "Hanson J",
          "Smith S"
         ],
         "xaxis": "x",
         "y": [
          4,
          4
         ],
         "yaxis": "y"
        },
        {
         "alignmentgroup": "True",
         "hovertemplate": "FirstAuthorAffiliation=Unité de Biologie des Spirochètes, Institut Pasteur, Paris, France.<br>Author_Fullname=%{x}<br>Author_Count=%{y}<extra></extra>",
         "legendgroup": "Unité de Biologie des Spirochètes, Institut Pasteur, Paris, France.",
         "marker": {
          "color": "#FECB52",
          "pattern": {
           "shape": ""
          }
         },
         "name": "Unité de Biologie des Spirochètes, Institut Pasteur, Paris, France.",
         "offsetgroup": "Unité de Biologie des Spirochètes, Institut Pasteur, Paris, France.",
         "orientation": "v",
         "showlegend": true,
         "textposition": "auto",
         "type": "bar",
         "width": 1,
         "x": [
          "Picardeau M"
         ],
         "xaxis": "x",
         "y": [
          4
         ],
         "yaxis": "y"
        },
        {
         "alignmentgroup": "True",
         "hovertemplate": "FirstAuthorAffiliation=Laboratory of Veterinary Bacteriology, Department of Microbiology and Parasitology, Universidade Federal Fluminense, Niterói, RJ, Brazil.<br>Author_Fullname=%{x}<br>Author_Count=%{y}<extra></extra>",
         "legendgroup": "Laboratory of Veterinary Bacteriology, Department of Microbiology and Parasitology, Universidade Federal Fluminense, Niterói, RJ, Brazil.",
         "marker": {
          "color": "#636efa",
          "pattern": {
           "shape": ""
          }
         },
         "name": "Laboratory of Veterinary Bacteriology, Department of Microbiology and Parasitology, Universidade Federal Fluminense, Niterói, RJ, Brazil.",
         "offsetgroup": "Laboratory of Veterinary Bacteriology, Department of Microbiology and Parasitology, Universidade Federal Fluminense, Niterói, RJ, Brazil.",
         "orientation": "v",
         "showlegend": true,
         "textposition": "auto",
         "type": "bar",
         "width": 1,
         "x": [
          "Lilenbaum W"
         ],
         "xaxis": "x",
         "y": [
          4
         ],
         "yaxis": "y"
        },
        {
         "alignmentgroup": "True",
         "hovertemplate": "FirstAuthorAffiliation=Department of Bacteriology, National Institute of Infectious Diseases, 1-23-1 Toyama, Shinjuku-ku, Tokyo 162-8640, Japan.<br>Author_Fullname=%{x}<br>Author_Count=%{y}<extra></extra>",
         "legendgroup": "Department of Bacteriology, National Institute of Infectious Diseases, 1-23-1 Toyama, Shinjuku-ku, Tokyo 162-8640, Japan.",
         "marker": {
          "color": "#EF553B",
          "pattern": {
           "shape": ""
          }
         },
         "name": "Department of Bacteriology, National Institute of Infectious Diseases, 1-23-1 Toyama, Shinjuku-ku, Tokyo 162-8640, Japan.",
         "offsetgroup": "Department of Bacteriology, National Institute of Infectious Diseases, 1-23-1 Toyama, Shinjuku-ku, Tokyo 162-8640, Japan.",
         "orientation": "v",
         "showlegend": true,
         "textposition": "auto",
         "type": "bar",
         "width": 1,
         "x": [
          "Koizumi N"
         ],
         "xaxis": "x",
         "y": [
          3
         ],
         "yaxis": "y"
        },
        {
         "alignmentgroup": "True",
         "hovertemplate": "FirstAuthorAffiliation=Department of Medical Microbiology, Faculty of Medicine and Health Sciences, Universiti Putra Malaysia, Serdang, Selangor, Malaysia.<br>Author_Fullname=%{x}<br>Author_Count=%{y}<extra></extra>",
         "legendgroup": "Department of Medical Microbiology, Faculty of Medicine and Health Sciences, Universiti Putra Malaysia, Serdang, Selangor, Malaysia.",
         "marker": {
          "color": "#00cc96",
          "pattern": {
           "shape": ""
          }
         },
         "name": "Department of Medical Microbiology, Faculty of Medicine and Health Sciences, Universiti Putra Malaysia, Serdang, Selangor, Malaysia.",
         "offsetgroup": "Department of Medical Microbiology, Faculty of Medicine and Health Sciences, Universiti Putra Malaysia, Serdang, Selangor, Malaysia.",
         "orientation": "v",
         "showlegend": true,
         "textposition": "auto",
         "type": "bar",
         "width": 1,
         "x": [
          "Neela VK"
         ],
         "xaxis": "x",
         "y": [
          3
         ],
         "yaxis": "y"
        },
        {
         "alignmentgroup": "True",
         "hovertemplate": "FirstAuthorAffiliation=Veterinary Bacteriology Laboratory, Department of Microbiology and Parasitology, Universidade Federal Fluminense, 24210-130 Niteroi, RJ, Brazil. mipwalt@vm.uff.br<br>Author_Fullname=%{x}<br>Author_Count=%{y}<extra></extra>",
         "legendgroup": "Veterinary Bacteriology Laboratory, Department of Microbiology and Parasitology, Universidade Federal Fluminense, 24210-130 Niteroi, RJ, Brazil. mipwalt@vm.uff.br",
         "marker": {
          "color": "#ab63fa",
          "pattern": {
           "shape": ""
          }
         },
         "name": "Veterinary Bacteriology Laboratory, Department of Microbiology and Parasitology, Universidade Federal Fluminense, 24210-130 Niteroi, RJ, Brazil. mipwalt@vm.uff.br",
         "offsetgroup": "Veterinary Bacteriology Laboratory, Department of Microbiology and Parasitology, Universidade Federal Fluminense, 24210-130 Niteroi, RJ, Brazil. mipwalt@vm.uff.br",
         "orientation": "v",
         "showlegend": true,
         "textposition": "auto",
         "type": "bar",
         "width": 1,
         "x": [
          "Lilenbaum W"
         ],
         "xaxis": "x",
         "y": [
          3
         ],
         "yaxis": "y"
        },
        {
         "alignmentgroup": "True",
         "hovertemplate": "FirstAuthorAffiliation=Laboratório de Bacteriologia Veterinária, Departamento de Microbiologia e Parasitologia, Universidade Federal Fluminense, Niterói, Rio de Janeiro, Brazil.<br>Author_Fullname=%{x}<br>Author_Count=%{y}<extra></extra>",
         "legendgroup": "Laboratório de Bacteriologia Veterinária, Departamento de Microbiologia e Parasitologia, Universidade Federal Fluminense, Niterói, Rio de Janeiro, Brazil.",
         "marker": {
          "color": "#FFA15A",
          "pattern": {
           "shape": ""
          }
         },
         "name": "Laboratório de Bacteriologia Veterinária, Departamento de Microbiologia e Parasitologia, Universidade Federal Fluminense, Niterói, Rio de Janeiro, Brazil.",
         "offsetgroup": "Laboratório de Bacteriologia Veterinária, Departamento de Microbiologia e Parasitologia, Universidade Federal Fluminense, Niterói, Rio de Janeiro, Brazil.",
         "orientation": "v",
         "showlegend": true,
         "textposition": "auto",
         "type": "bar",
         "width": 1,
         "x": [
          "Lilenbaum W"
         ],
         "xaxis": "x",
         "y": [
          3
         ],
         "yaxis": "y"
        },
        {
         "alignmentgroup": "True",
         "hovertemplate": "FirstAuthorAffiliation=Centro de Biotecnologia, Instituto Butantan, Avenida Vital Brazil 1500, 05503-900 São Paulo, SP, Brazil.<br>Author_Fullname=%{x}<br>Author_Count=%{y}<extra></extra>",
         "legendgroup": "Centro de Biotecnologia, Instituto Butantan, Avenida Vital Brazil 1500, 05503-900 São Paulo, SP, Brazil.",
         "marker": {
          "color": "#19d3f3",
          "pattern": {
           "shape": ""
          }
         },
         "name": "Centro de Biotecnologia, Instituto Butantan, Avenida Vital Brazil 1500, 05503-900 São Paulo, SP, Brazil.",
         "offsetgroup": "Centro de Biotecnologia, Instituto Butantan, Avenida Vital Brazil 1500, 05503-900 São Paulo, SP, Brazil.",
         "orientation": "v",
         "showlegend": true,
         "textposition": "auto",
         "type": "bar",
         "width": 1,
         "x": [
          "de Morais ZM",
          "Vasconcellos SA"
         ],
         "xaxis": "x",
         "y": [
          3,
          3
         ],
         "yaxis": "y"
        },
        {
         "alignmentgroup": "True",
         "hovertemplate": "FirstAuthorAffiliation=Centro de Biotecnologia, Instituto Butantan, São Paulo, SP, Brazil.<br>Author_Fullname=%{x}<br>Author_Count=%{y}<extra></extra>",
         "legendgroup": "Centro de Biotecnologia, Instituto Butantan, São Paulo, SP, Brazil.",
         "marker": {
          "color": "#FF6692",
          "pattern": {
           "shape": ""
          }
         },
         "name": "Centro de Biotecnologia, Instituto Butantan, São Paulo, SP, Brazil.",
         "offsetgroup": "Centro de Biotecnologia, Instituto Butantan, São Paulo, SP, Brazil.",
         "orientation": "v",
         "showlegend": true,
         "textposition": "auto",
         "type": "bar",
         "width": 1,
         "x": [
          "Romero EC",
          "Vasconcellos SA",
          "Nascimento AL"
         ],
         "xaxis": "x",
         "y": [
          3,
          3,
          3
         ],
         "yaxis": "y"
        },
        {
         "alignmentgroup": "True",
         "hovertemplate": "FirstAuthorAffiliation=Laboratoire des Spirochètes, Institut Pasteur, 28 rue du docteur Roux, 75724 Paris Cedex 15, France.<br>Author_Fullname=%{x}<br>Author_Count=%{y}<extra></extra>",
         "legendgroup": "Laboratoire des Spirochètes, Institut Pasteur, 28 rue du docteur Roux, 75724 Paris Cedex 15, France.",
         "marker": {
          "color": "#B6E880",
          "pattern": {
           "shape": ""
          }
         },
         "name": "Laboratoire des Spirochètes, Institut Pasteur, 28 rue du docteur Roux, 75724 Paris Cedex 15, France.",
         "offsetgroup": "Laboratoire des Spirochètes, Institut Pasteur, 28 rue du docteur Roux, 75724 Paris Cedex 15, France.",
         "orientation": "v",
         "showlegend": true,
         "textposition": "auto",
         "type": "bar",
         "width": 1,
         "x": [
          "Picardeau M"
         ],
         "xaxis": "x",
         "y": [
          3
         ],
         "yaxis": "y"
        },
        {
         "alignmentgroup": "True",
         "hovertemplate": "FirstAuthorAffiliation=Impfstoffkontrolle, Institut für Virologie und Immunologie (IVI), Mittelhäusern.<br>Author_Fullname=%{x}<br>Author_Count=%{y}<extra></extra>",
         "legendgroup": "Impfstoffkontrolle, Institut für Virologie und Immunologie (IVI), Mittelhäusern.",
         "marker": {
          "color": "#FF97FF",
          "pattern": {
           "shape": ""
          }
         },
         "name": "Impfstoffkontrolle, Institut für Virologie und Immunologie (IVI), Mittelhäusern.",
         "offsetgroup": "Impfstoffkontrolle, Institut für Virologie und Immunologie (IVI), Mittelhäusern.",
         "orientation": "v",
         "showlegend": true,
         "textposition": "auto",
         "type": "bar",
         "width": 1,
         "x": [
          "Ottiger H"
         ],
         "xaxis": "x",
         "y": [
          3
         ],
         "yaxis": "y"
        },
        {
         "alignmentgroup": "True",
         "hovertemplate": "FirstAuthorAffiliation=Núcleo de Biotecnologia, Centro de Desenvolvimento Tecnológico, Universidade Federal de Pelotas, Pelotas, RS, Brazil.<br>Author_Fullname=%{x}<br>Author_Count=%{y}<extra></extra>",
         "legendgroup": "Núcleo de Biotecnologia, Centro de Desenvolvimento Tecnológico, Universidade Federal de Pelotas, Pelotas, RS, Brazil.",
         "marker": {
          "color": "#FECB52",
          "pattern": {
           "shape": ""
          }
         },
         "name": "Núcleo de Biotecnologia, Centro de Desenvolvimento Tecnológico, Universidade Federal de Pelotas, Pelotas, RS, Brazil.",
         "offsetgroup": "Núcleo de Biotecnologia, Centro de Desenvolvimento Tecnológico, Universidade Federal de Pelotas, Pelotas, RS, Brazil.",
         "orientation": "v",
         "showlegend": true,
         "textposition": "auto",
         "type": "bar",
         "width": 1,
         "x": [
          "Seixas FK",
          "Hartleben CP",
          "Hartwig DD"
         ],
         "xaxis": "x",
         "y": [
          3,
          3,
          3
         ],
         "yaxis": "y"
        },
        {
         "alignmentgroup": "True",
         "hovertemplate": "FirstAuthorAffiliation=Laboratory of Veterinary Bacteriology, Biomedical Institute, Fluminense Federal University, Niterói, Rio de Janeiro, Brazil.<br>Author_Fullname=%{x}<br>Author_Count=%{y}<extra></extra>",
         "legendgroup": "Laboratory of Veterinary Bacteriology, Biomedical Institute, Fluminense Federal University, Niterói, Rio de Janeiro, Brazil.",
         "marker": {
          "color": "#636efa",
          "pattern": {
           "shape": ""
          }
         },
         "name": "Laboratory of Veterinary Bacteriology, Biomedical Institute, Fluminense Federal University, Niterói, Rio de Janeiro, Brazil.",
         "offsetgroup": "Laboratory of Veterinary Bacteriology, Biomedical Institute, Fluminense Federal University, Niterói, Rio de Janeiro, Brazil.",
         "orientation": "v",
         "showlegend": true,
         "textposition": "auto",
         "type": "bar",
         "width": 1,
         "x": [
          "Lilenbaum W"
         ],
         "xaxis": "x",
         "y": [
          3
         ],
         "yaxis": "y"
        },
        {
         "alignmentgroup": "True",
         "hovertemplate": "FirstAuthorAffiliation=Department of Biomedical Research, Royal Tropical Institute, Amsterdam, The Netherlands. H.Smits@kit.nl<br>Author_Fullname=%{x}<br>Author_Count=%{y}<extra></extra>",
         "legendgroup": "Department of Biomedical Research, Royal Tropical Institute, Amsterdam, The Netherlands. H.Smits@kit.nl",
         "marker": {
          "color": "#EF553B",
          "pattern": {
           "shape": ""
          }
         },
         "name": "Department of Biomedical Research, Royal Tropical Institute, Amsterdam, The Netherlands. H.Smits@kit.nl",
         "offsetgroup": "Department of Biomedical Research, Royal Tropical Institute, Amsterdam, The Netherlands. H.Smits@kit.nl",
         "orientation": "v",
         "showlegend": true,
         "textposition": "auto",
         "type": "bar",
         "width": 1,
         "x": [
          "Smits HL"
         ],
         "xaxis": "x",
         "y": [
          3
         ],
         "yaxis": "y"
        },
        {
         "alignmentgroup": "True",
         "hovertemplate": "FirstAuthorAffiliation=Centre for International Health, University of Otago, Dunedin, New Zealand.<br>Author_Fullname=%{x}<br>Author_Count=%{y}<extra></extra>",
         "legendgroup": "Centre for International Health, University of Otago, Dunedin, New Zealand.",
         "marker": {
          "color": "#00cc96",
          "pattern": {
           "shape": ""
          }
         },
         "name": "Centre for International Health, University of Otago, Dunedin, New Zealand.",
         "offsetgroup": "Centre for International Health, University of Otago, Dunedin, New Zealand.",
         "orientation": "v",
         "showlegend": true,
         "textposition": "auto",
         "type": "bar",
         "width": 1,
         "x": [
          "Maze MJ",
          "Allan KJ",
          "Biggs HM",
          "Cash-Goldwasser S",
          "Cleaveland S",
          "Crump JA",
          "Galloway RL",
          "Maro VP",
          "Mmbaga BT",
          "Rubach MP"
         ],
         "xaxis": "x",
         "y": [
          3,
          3,
          3,
          3,
          3,
          3,
          3,
          3,
          3,
          3
         ],
         "yaxis": "y"
        },
        {
         "alignmentgroup": "True",
         "hovertemplate": "FirstAuthorAffiliation=Medical Microbiology Laboratory, Department of Microbiology, Centre for Excellence in Life Sciences, Bharathidasan University, Tiruchirappalli, Tamil Nadu, India.<br>Author_Fullname=%{x}<br>Author_Count=%{y}<extra></extra>",
         "legendgroup": "Medical Microbiology Laboratory, Department of Microbiology, Centre for Excellence in Life Sciences, Bharathidasan University, Tiruchirappalli, Tamil Nadu, India.",
         "marker": {
          "color": "#ab63fa",
          "pattern": {
           "shape": ""
          }
         },
         "name": "Medical Microbiology Laboratory, Department of Microbiology, Centre for Excellence in Life Sciences, Bharathidasan University, Tiruchirappalli, Tamil Nadu, India.",
         "offsetgroup": "Medical Microbiology Laboratory, Department of Microbiology, Centre for Excellence in Life Sciences, Bharathidasan University, Tiruchirappalli, Tamil Nadu, India.",
         "orientation": "v",
         "showlegend": true,
         "textposition": "auto",
         "type": "bar",
         "width": 1,
         "x": [
          "Sumaiya K",
          "Natarajaseenivasan K"
         ],
         "xaxis": "x",
         "y": [
          3,
          3
         ],
         "yaxis": "y"
        },
        {
         "alignmentgroup": "True",
         "hovertemplate": "FirstAuthorAffiliation=Department of Epidemiology of Microbial Diseases, Yale School of Public Health, New Haven, Connecticut, United States of America.<br>Author_Fullname=%{x}<br>Author_Count=%{y}<extra></extra>",
         "legendgroup": "Department of Epidemiology of Microbial Diseases, Yale School of Public Health, New Haven, Connecticut, United States of America.",
         "marker": {
          "color": "#FFA15A",
          "pattern": {
           "shape": ""
          }
         },
         "name": "Department of Epidemiology of Microbial Diseases, Yale School of Public Health, New Haven, Connecticut, United States of America.",
         "offsetgroup": "Department of Epidemiology of Microbial Diseases, Yale School of Public Health, New Haven, Connecticut, United States of America.",
         "orientation": "v",
         "showlegend": true,
         "textposition": "auto",
         "type": "bar",
         "width": 1,
         "x": [
          "Ko AI"
         ],
         "xaxis": "x",
         "y": [
          3
         ],
         "yaxis": "y"
        },
        {
         "alignmentgroup": "True",
         "hovertemplate": "FirstAuthorAffiliation=Medical Microbiology Laboratory, Department of Microbiology, Center for Excellence in Life Sciences, Bharathidasan University, Tiruchirappalli, 620 024, Tamil Nadu, India.<br>Author_Fullname=%{x}<br>Author_Count=%{y}<extra></extra>",
         "legendgroup": "Medical Microbiology Laboratory, Department of Microbiology, Center for Excellence in Life Sciences, Bharathidasan University, Tiruchirappalli, 620 024, Tamil Nadu, India.",
         "marker": {
          "color": "#19d3f3",
          "pattern": {
           "shape": ""
          }
         },
         "name": "Medical Microbiology Laboratory, Department of Microbiology, Center for Excellence in Life Sciences, Bharathidasan University, Tiruchirappalli, 620 024, Tamil Nadu, India.",
         "offsetgroup": "Medical Microbiology Laboratory, Department of Microbiology, Center for Excellence in Life Sciences, Bharathidasan University, Tiruchirappalli, 620 024, Tamil Nadu, India.",
         "orientation": "v",
         "showlegend": true,
         "textposition": "auto",
         "type": "bar",
         "width": 1,
         "x": [
          "Bothammal P",
          "Muralitharan G",
          "Natarajaseenivasan K"
         ],
         "xaxis": "x",
         "y": [
          3,
          3,
          3
         ],
         "yaxis": "y"
        }
       ],
       "layout": {
        "barmode": "relative",
        "height": 1000,
        "legend": {
         "title": {
          "text": "FirstAuthorAffiliation"
         },
         "tracegroupgap": 0
        },
        "showlegend": true,
        "template": {
         "data": {
          "bar": [
           {
            "error_x": {
             "color": "#2a3f5f"
            },
            "error_y": {
             "color": "#2a3f5f"
            },
            "marker": {
             "line": {
              "color": "#E5ECF6",
              "width": 0.5
             },
             "pattern": {
              "fillmode": "overlay",
              "size": 10,
              "solidity": 0.2
             }
            },
            "type": "bar"
           }
          ],
          "barpolar": [
           {
            "marker": {
             "line": {
              "color": "#E5ECF6",
              "width": 0.5
             },
             "pattern": {
              "fillmode": "overlay",
              "size": 10,
              "solidity": 0.2
             }
            },
            "type": "barpolar"
           }
          ],
          "carpet": [
           {
            "aaxis": {
             "endlinecolor": "#2a3f5f",
             "gridcolor": "white",
             "linecolor": "white",
             "minorgridcolor": "white",
             "startlinecolor": "#2a3f5f"
            },
            "baxis": {
             "endlinecolor": "#2a3f5f",
             "gridcolor": "white",
             "linecolor": "white",
             "minorgridcolor": "white",
             "startlinecolor": "#2a3f5f"
            },
            "type": "carpet"
           }
          ],
          "choropleth": [
           {
            "colorbar": {
             "outlinewidth": 0,
             "ticks": ""
            },
            "type": "choropleth"
           }
          ],
          "contour": [
           {
            "colorbar": {
             "outlinewidth": 0,
             "ticks": ""
            },
            "colorscale": [
             [
              0,
              "#0d0887"
             ],
             [
              0.1111111111111111,
              "#46039f"
             ],
             [
              0.2222222222222222,
              "#7201a8"
             ],
             [
              0.3333333333333333,
              "#9c179e"
             ],
             [
              0.4444444444444444,
              "#bd3786"
             ],
             [
              0.5555555555555556,
              "#d8576b"
             ],
             [
              0.6666666666666666,
              "#ed7953"
             ],
             [
              0.7777777777777778,
              "#fb9f3a"
             ],
             [
              0.8888888888888888,
              "#fdca26"
             ],
             [
              1,
              "#f0f921"
             ]
            ],
            "type": "contour"
           }
          ],
          "contourcarpet": [
           {
            "colorbar": {
             "outlinewidth": 0,
             "ticks": ""
            },
            "type": "contourcarpet"
           }
          ],
          "heatmap": [
           {
            "colorbar": {
             "outlinewidth": 0,
             "ticks": ""
            },
            "colorscale": [
             [
              0,
              "#0d0887"
             ],
             [
              0.1111111111111111,
              "#46039f"
             ],
             [
              0.2222222222222222,
              "#7201a8"
             ],
             [
              0.3333333333333333,
              "#9c179e"
             ],
             [
              0.4444444444444444,
              "#bd3786"
             ],
             [
              0.5555555555555556,
              "#d8576b"
             ],
             [
              0.6666666666666666,
              "#ed7953"
             ],
             [
              0.7777777777777778,
              "#fb9f3a"
             ],
             [
              0.8888888888888888,
              "#fdca26"
             ],
             [
              1,
              "#f0f921"
             ]
            ],
            "type": "heatmap"
           }
          ],
          "heatmapgl": [
           {
            "colorbar": {
             "outlinewidth": 0,
             "ticks": ""
            },
            "colorscale": [
             [
              0,
              "#0d0887"
             ],
             [
              0.1111111111111111,
              "#46039f"
             ],
             [
              0.2222222222222222,
              "#7201a8"
             ],
             [
              0.3333333333333333,
              "#9c179e"
             ],
             [
              0.4444444444444444,
              "#bd3786"
             ],
             [
              0.5555555555555556,
              "#d8576b"
             ],
             [
              0.6666666666666666,
              "#ed7953"
             ],
             [
              0.7777777777777778,
              "#fb9f3a"
             ],
             [
              0.8888888888888888,
              "#fdca26"
             ],
             [
              1,
              "#f0f921"
             ]
            ],
            "type": "heatmapgl"
           }
          ],
          "histogram": [
           {
            "marker": {
             "pattern": {
              "fillmode": "overlay",
              "size": 10,
              "solidity": 0.2
             }
            },
            "type": "histogram"
           }
          ],
          "histogram2d": [
           {
            "colorbar": {
             "outlinewidth": 0,
             "ticks": ""
            },
            "colorscale": [
             [
              0,
              "#0d0887"
             ],
             [
              0.1111111111111111,
              "#46039f"
             ],
             [
              0.2222222222222222,
              "#7201a8"
             ],
             [
              0.3333333333333333,
              "#9c179e"
             ],
             [
              0.4444444444444444,
              "#bd3786"
             ],
             [
              0.5555555555555556,
              "#d8576b"
             ],
             [
              0.6666666666666666,
              "#ed7953"
             ],
             [
              0.7777777777777778,
              "#fb9f3a"
             ],
             [
              0.8888888888888888,
              "#fdca26"
             ],
             [
              1,
              "#f0f921"
             ]
            ],
            "type": "histogram2d"
           }
          ],
          "histogram2dcontour": [
           {
            "colorbar": {
             "outlinewidth": 0,
             "ticks": ""
            },
            "colorscale": [
             [
              0,
              "#0d0887"
             ],
             [
              0.1111111111111111,
              "#46039f"
             ],
             [
              0.2222222222222222,
              "#7201a8"
             ],
             [
              0.3333333333333333,
              "#9c179e"
             ],
             [
              0.4444444444444444,
              "#bd3786"
             ],
             [
              0.5555555555555556,
              "#d8576b"
             ],
             [
              0.6666666666666666,
              "#ed7953"
             ],
             [
              0.7777777777777778,
              "#fb9f3a"
             ],
             [
              0.8888888888888888,
              "#fdca26"
             ],
             [
              1,
              "#f0f921"
             ]
            ],
            "type": "histogram2dcontour"
           }
          ],
          "mesh3d": [
           {
            "colorbar": {
             "outlinewidth": 0,
             "ticks": ""
            },
            "type": "mesh3d"
           }
          ],
          "parcoords": [
           {
            "line": {
             "colorbar": {
              "outlinewidth": 0,
              "ticks": ""
             }
            },
            "type": "parcoords"
           }
          ],
          "pie": [
           {
            "automargin": true,
            "type": "pie"
           }
          ],
          "scatter": [
           {
            "fillpattern": {
             "fillmode": "overlay",
             "size": 10,
             "solidity": 0.2
            },
            "type": "scatter"
           }
          ],
          "scatter3d": [
           {
            "line": {
             "colorbar": {
              "outlinewidth": 0,
              "ticks": ""
             }
            },
            "marker": {
             "colorbar": {
              "outlinewidth": 0,
              "ticks": ""
             }
            },
            "type": "scatter3d"
           }
          ],
          "scattercarpet": [
           {
            "marker": {
             "colorbar": {
              "outlinewidth": 0,
              "ticks": ""
             }
            },
            "type": "scattercarpet"
           }
          ],
          "scattergeo": [
           {
            "marker": {
             "colorbar": {
              "outlinewidth": 0,
              "ticks": ""
             }
            },
            "type": "scattergeo"
           }
          ],
          "scattergl": [
           {
            "marker": {
             "colorbar": {
              "outlinewidth": 0,
              "ticks": ""
             }
            },
            "type": "scattergl"
           }
          ],
          "scattermapbox": [
           {
            "marker": {
             "colorbar": {
              "outlinewidth": 0,
              "ticks": ""
             }
            },
            "type": "scattermapbox"
           }
          ],
          "scatterpolar": [
           {
            "marker": {
             "colorbar": {
              "outlinewidth": 0,
              "ticks": ""
             }
            },
            "type": "scatterpolar"
           }
          ],
          "scatterpolargl": [
           {
            "marker": {
             "colorbar": {
              "outlinewidth": 0,
              "ticks": ""
             }
            },
            "type": "scatterpolargl"
           }
          ],
          "scatterternary": [
           {
            "marker": {
             "colorbar": {
              "outlinewidth": 0,
              "ticks": ""
             }
            },
            "type": "scatterternary"
           }
          ],
          "surface": [
           {
            "colorbar": {
             "outlinewidth": 0,
             "ticks": ""
            },
            "colorscale": [
             [
              0,
              "#0d0887"
             ],
             [
              0.1111111111111111,
              "#46039f"
             ],
             [
              0.2222222222222222,
              "#7201a8"
             ],
             [
              0.3333333333333333,
              "#9c179e"
             ],
             [
              0.4444444444444444,
              "#bd3786"
             ],
             [
              0.5555555555555556,
              "#d8576b"
             ],
             [
              0.6666666666666666,
              "#ed7953"
             ],
             [
              0.7777777777777778,
              "#fb9f3a"
             ],
             [
              0.8888888888888888,
              "#fdca26"
             ],
             [
              1,
              "#f0f921"
             ]
            ],
            "type": "surface"
           }
          ],
          "table": [
           {
            "cells": {
             "fill": {
              "color": "#EBF0F8"
             },
             "line": {
              "color": "white"
             }
            },
            "header": {
             "fill": {
              "color": "#C8D4E3"
             },
             "line": {
              "color": "white"
             }
            },
            "type": "table"
           }
          ]
         },
         "layout": {
          "annotationdefaults": {
           "arrowcolor": "#2a3f5f",
           "arrowhead": 0,
           "arrowwidth": 1
          },
          "autotypenumbers": "strict",
          "coloraxis": {
           "colorbar": {
            "outlinewidth": 0,
            "ticks": ""
           }
          },
          "colorscale": {
           "diverging": [
            [
             0,
             "#8e0152"
            ],
            [
             0.1,
             "#c51b7d"
            ],
            [
             0.2,
             "#de77ae"
            ],
            [
             0.3,
             "#f1b6da"
            ],
            [
             0.4,
             "#fde0ef"
            ],
            [
             0.5,
             "#f7f7f7"
            ],
            [
             0.6,
             "#e6f5d0"
            ],
            [
             0.7,
             "#b8e186"
            ],
            [
             0.8,
             "#7fbc41"
            ],
            [
             0.9,
             "#4d9221"
            ],
            [
             1,
             "#276419"
            ]
           ],
           "sequential": [
            [
             0,
             "#0d0887"
            ],
            [
             0.1111111111111111,
             "#46039f"
            ],
            [
             0.2222222222222222,
             "#7201a8"
            ],
            [
             0.3333333333333333,
             "#9c179e"
            ],
            [
             0.4444444444444444,
             "#bd3786"
            ],
            [
             0.5555555555555556,
             "#d8576b"
            ],
            [
             0.6666666666666666,
             "#ed7953"
            ],
            [
             0.7777777777777778,
             "#fb9f3a"
            ],
            [
             0.8888888888888888,
             "#fdca26"
            ],
            [
             1,
             "#f0f921"
            ]
           ],
           "sequentialminus": [
            [
             0,
             "#0d0887"
            ],
            [
             0.1111111111111111,
             "#46039f"
            ],
            [
             0.2222222222222222,
             "#7201a8"
            ],
            [
             0.3333333333333333,
             "#9c179e"
            ],
            [
             0.4444444444444444,
             "#bd3786"
            ],
            [
             0.5555555555555556,
             "#d8576b"
            ],
            [
             0.6666666666666666,
             "#ed7953"
            ],
            [
             0.7777777777777778,
             "#fb9f3a"
            ],
            [
             0.8888888888888888,
             "#fdca26"
            ],
            [
             1,
             "#f0f921"
            ]
           ]
          },
          "colorway": [
           "#636efa",
           "#EF553B",
           "#00cc96",
           "#ab63fa",
           "#FFA15A",
           "#19d3f3",
           "#FF6692",
           "#B6E880",
           "#FF97FF",
           "#FECB52"
          ],
          "font": {
           "color": "#2a3f5f"
          },
          "geo": {
           "bgcolor": "white",
           "lakecolor": "white",
           "landcolor": "#E5ECF6",
           "showlakes": true,
           "showland": true,
           "subunitcolor": "white"
          },
          "hoverlabel": {
           "align": "left"
          },
          "hovermode": "closest",
          "mapbox": {
           "style": "light"
          },
          "paper_bgcolor": "white",
          "plot_bgcolor": "#E5ECF6",
          "polar": {
           "angularaxis": {
            "gridcolor": "white",
            "linecolor": "white",
            "ticks": ""
           },
           "bgcolor": "#E5ECF6",
           "radialaxis": {
            "gridcolor": "white",
            "linecolor": "white",
            "ticks": ""
           }
          },
          "scene": {
           "xaxis": {
            "backgroundcolor": "#E5ECF6",
            "gridcolor": "white",
            "gridwidth": 2,
            "linecolor": "white",
            "showbackground": true,
            "ticks": "",
            "zerolinecolor": "white"
           },
           "yaxis": {
            "backgroundcolor": "#E5ECF6",
            "gridcolor": "white",
            "gridwidth": 2,
            "linecolor": "white",
            "showbackground": true,
            "ticks": "",
            "zerolinecolor": "white"
           },
           "zaxis": {
            "backgroundcolor": "#E5ECF6",
            "gridcolor": "white",
            "gridwidth": 2,
            "linecolor": "white",
            "showbackground": true,
            "ticks": "",
            "zerolinecolor": "white"
           }
          },
          "shapedefaults": {
           "line": {
            "color": "#2a3f5f"
           }
          },
          "ternary": {
           "aaxis": {
            "gridcolor": "white",
            "linecolor": "white",
            "ticks": ""
           },
           "baxis": {
            "gridcolor": "white",
            "linecolor": "white",
            "ticks": ""
           },
           "bgcolor": "#E5ECF6",
           "caxis": {
            "gridcolor": "white",
            "linecolor": "white",
            "ticks": ""
           }
          },
          "title": {
           "x": 0.05
          },
          "xaxis": {
           "automargin": true,
           "gridcolor": "white",
           "linecolor": "white",
           "ticks": "",
           "title": {
            "standoff": 15
           },
           "zerolinecolor": "white",
           "zerolinewidth": 2
          },
          "yaxis": {
           "automargin": true,
           "gridcolor": "white",
           "linecolor": "white",
           "ticks": "",
           "title": {
            "standoff": 15
           },
           "zerolinecolor": "white",
           "zerolinewidth": 2
          }
         }
        },
        "title": {
         "text": "FirstAuthorAffiliation Top Contributing Authors",
         "x": 0.5
        },
        "width": 2000,
        "xaxis": {
         "anchor": "y",
         "domain": [
          0,
          1
         ],
         "tickangle": 45,
         "title": {
          "text": "Author_Fullname"
         }
        },
        "yaxis": {
         "anchor": "x",
         "domain": [
          0,
          1
         ],
         "title": {
          "text": "Author_Count"
         }
        }
       }
      },
      "text/html": [
       "<div>                            <div id=\"3c68ae80-e5bf-48db-b542-47af0234725d\" class=\"plotly-graph-div\" style=\"height:1000px; width:2000px;\"></div>            <script type=\"text/javascript\">                require([\"plotly\"], function(Plotly) {                    window.PLOTLYENV=window.PLOTLYENV || {};                                    if (document.getElementById(\"3c68ae80-e5bf-48db-b542-47af0234725d\")) {                    Plotly.newPlot(                        \"3c68ae80-e5bf-48db-b542-47af0234725d\",                        [{\"alignmentgroup\":\"True\",\"hovertemplate\":\"FirstAuthorAffiliation=Programa de P\\u00f3s-Gradua\\u00e7\\u00e3o em Biotecnologia, Centro de Desenvolvimento Tecnol\\u00f3gico, Universidade Federal de Pelotas, Pelotas, RS, Brazil.<br>Author_Fullname=%{x}<br>Author_Count=%{y}<extra></extra>\",\"legendgroup\":\"Programa de P\\u00f3s-Gradua\\u00e7\\u00e3o em Biotecnologia, Centro de Desenvolvimento Tecnol\\u00f3gico, Universidade Federal de Pelotas, Pelotas, RS, Brazil.\",\"marker\":{\"color\":\"#636efa\",\"pattern\":{\"shape\":\"\"}},\"name\":\"Programa de P\\u00f3s-Gradua\\u00e7\\u00e3o em Biotecnologia, Centro de Desenvolvimento Tecnol\\u00f3gico, Universidade Federal de Pelotas, Pelotas, RS, Brazil.\",\"offsetgroup\":\"Programa de P\\u00f3s-Gradua\\u00e7\\u00e3o em Biotecnologia, Centro de Desenvolvimento Tecnol\\u00f3gico, Universidade Federal de Pelotas, Pelotas, RS, Brazil.\",\"orientation\":\"v\",\"showlegend\":true,\"textposition\":\"auto\",\"x\":[\"Oliveira TL\"],\"xaxis\":\"x\",\"y\":[6],\"yaxis\":\"y\",\"type\":\"bar\",\"width\":1},{\"alignmentgroup\":\"True\",\"hovertemplate\":\"FirstAuthorAffiliation=College of Veterinary Medicine, Cornell University, Ithaca, NY 14853, USA.<br>Author_Fullname=%{x}<br>Author_Count=%{y}<extra></extra>\",\"legendgroup\":\"College of Veterinary Medicine, Cornell University, Ithaca, NY 14853, USA.\",\"marker\":{\"color\":\"#EF553B\",\"pattern\":{\"shape\":\"\"}},\"name\":\"College of Veterinary Medicine, Cornell University, Ithaca, NY 14853, USA.\",\"offsetgroup\":\"College of Veterinary Medicine, Cornell University, Ithaca, NY 14853, USA.\",\"orientation\":\"v\",\"showlegend\":true,\"textposition\":\"auto\",\"x\":[\"Chang YF\"],\"xaxis\":\"x\",\"y\":[5],\"yaxis\":\"y\",\"type\":\"bar\",\"width\":1},{\"alignmentgroup\":\"True\",\"hovertemplate\":\"FirstAuthorAffiliation=Department of Clinical Veterinary Medicine, College of Veterinary Medicine, Jilin University, Changchun, People's Republic of China.<br>Author_Fullname=%{x}<br>Author_Count=%{y}<extra></extra>\",\"legendgroup\":\"Department of Clinical Veterinary Medicine, College of Veterinary Medicine, Jilin University, Changchun, People's Republic of China.\",\"marker\":{\"color\":\"#00cc96\",\"pattern\":{\"shape\":\"\"}},\"name\":\"Department of Clinical Veterinary Medicine, College of Veterinary Medicine, Jilin University, Changchun, People's Republic of China.\",\"offsetgroup\":\"Department of Clinical Veterinary Medicine, College of Veterinary Medicine, Jilin University, Changchun, People's Republic of China.\",\"orientation\":\"v\",\"showlegend\":true,\"textposition\":\"auto\",\"x\":[\"Wu D\",\"Zhang W\",\"Cao Y\"],\"xaxis\":\"x\",\"y\":[4,4,4],\"yaxis\":\"y\",\"type\":\"bar\",\"width\":1},{\"alignmentgroup\":\"True\",\"hovertemplate\":\"FirstAuthorAffiliation=University Hospital Center, Tirana, Albania. edmond_puca@yahoo.com.<br>Author_Fullname=%{x}<br>Author_Count=%{y}<extra></extra>\",\"legendgroup\":\"University Hospital Center, Tirana, Albania. edmond_puca@yahoo.com.\",\"marker\":{\"color\":\"#ab63fa\",\"pattern\":{\"shape\":\"\"}},\"name\":\"University Hospital Center, Tirana, Albania. edmond_puca@yahoo.com.\",\"offsetgroup\":\"University Hospital Center, Tirana, Albania. edmond_puca@yahoo.com.\",\"orientation\":\"v\",\"showlegend\":true,\"textposition\":\"auto\",\"x\":[\"Puca E\"],\"xaxis\":\"x\",\"y\":[4],\"yaxis\":\"y\",\"type\":\"bar\",\"width\":1},{\"alignmentgroup\":\"True\",\"hovertemplate\":\"FirstAuthorAffiliation=Laboratory of Veterinary Bacteriology, Biomedical Institute, Fluminense Federal University, 101 Prof. Hernani Mello Street, Niter\\u00f3i, Rio de Janeiro, Brazil.<br>Author_Fullname=%{x}<br>Author_Count=%{y}<extra></extra>\",\"legendgroup\":\"Laboratory of Veterinary Bacteriology, Biomedical Institute, Fluminense Federal University, 101 Prof. Hernani Mello Street, Niter\\u00f3i, Rio de Janeiro, Brazil.\",\"marker\":{\"color\":\"#FFA15A\",\"pattern\":{\"shape\":\"\"}},\"name\":\"Laboratory of Veterinary Bacteriology, Biomedical Institute, Fluminense Federal University, 101 Prof. Hernani Mello Street, Niter\\u00f3i, Rio de Janeiro, Brazil.\",\"offsetgroup\":\"Laboratory of Veterinary Bacteriology, Biomedical Institute, Fluminense Federal University, 101 Prof. Hernani Mello Street, Niter\\u00f3i, Rio de Janeiro, Brazil.\",\"orientation\":\"v\",\"showlegend\":true,\"textposition\":\"auto\",\"x\":[\"Lilenbaum W\"],\"xaxis\":\"x\",\"y\":[4],\"yaxis\":\"y\",\"type\":\"bar\",\"width\":1},{\"alignmentgroup\":\"True\",\"hovertemplate\":\"FirstAuthorAffiliation=Centro de Biotecnologia, Instituto Butantan, Avenida Vital Brazil, 1500, 05503-900, Sao Paulo, SP, Brazil.<br>Author_Fullname=%{x}<br>Author_Count=%{y}<extra></extra>\",\"legendgroup\":\"Centro de Biotecnologia, Instituto Butantan, Avenida Vital Brazil, 1500, 05503-900, Sao Paulo, SP, Brazil.\",\"marker\":{\"color\":\"#19d3f3\",\"pattern\":{\"shape\":\"\"}},\"name\":\"Centro de Biotecnologia, Instituto Butantan, Avenida Vital Brazil, 1500, 05503-900, Sao Paulo, SP, Brazil.\",\"offsetgroup\":\"Centro de Biotecnologia, Instituto Butantan, Avenida Vital Brazil, 1500, 05503-900, Sao Paulo, SP, Brazil.\",\"orientation\":\"v\",\"showlegend\":true,\"textposition\":\"auto\",\"x\":[\"Vasconcellos SA\",\"Romero EC\"],\"xaxis\":\"x\",\"y\":[4,4],\"yaxis\":\"y\",\"type\":\"bar\",\"width\":1},{\"alignmentgroup\":\"True\",\"hovertemplate\":\"FirstAuthorAffiliation=Centro de Biotecnologia, Instituto Butantan, Avenida Vital Brazil, 1500, 05503-900, S\\u00e3o Paulo, SP, Brazil.<br>Author_Fullname=%{x}<br>Author_Count=%{y}<extra></extra>\",\"legendgroup\":\"Centro de Biotecnologia, Instituto Butantan, Avenida Vital Brazil, 1500, 05503-900, S\\u00e3o Paulo, SP, Brazil.\",\"marker\":{\"color\":\"#FF6692\",\"pattern\":{\"shape\":\"\"}},\"name\":\"Centro de Biotecnologia, Instituto Butantan, Avenida Vital Brazil, 1500, 05503-900, S\\u00e3o Paulo, SP, Brazil.\",\"offsetgroup\":\"Centro de Biotecnologia, Instituto Butantan, Avenida Vital Brazil, 1500, 05503-900, S\\u00e3o Paulo, SP, Brazil.\",\"orientation\":\"v\",\"showlegend\":true,\"textposition\":\"auto\",\"x\":[\"Vasconcellos SA\"],\"xaxis\":\"x\",\"y\":[4],\"yaxis\":\"y\",\"type\":\"bar\",\"width\":1},{\"alignmentgroup\":\"True\",\"hovertemplate\":\"FirstAuthorAffiliation=Excellence Center for Critical Care Nephrology, King Chulalongkorn Memorial Hospital, Bangkok, Thailand.<br>Author_Fullname=%{x}<br>Author_Count=%{y}<extra></extra>\",\"legendgroup\":\"Excellence Center for Critical Care Nephrology, King Chulalongkorn Memorial Hospital, Bangkok, Thailand.\",\"marker\":{\"color\":\"#B6E880\",\"pattern\":{\"shape\":\"\"}},\"name\":\"Excellence Center for Critical Care Nephrology, King Chulalongkorn Memorial Hospital, Bangkok, Thailand.\",\"offsetgroup\":\"Excellence Center for Critical Care Nephrology, King Chulalongkorn Memorial Hospital, Bangkok, Thailand.\",\"orientation\":\"v\",\"showlegend\":true,\"textposition\":\"auto\",\"x\":[\"Dinhuzen J\",\"Limothai U\",\"Srisawat N\",\"Tachaboon S\"],\"xaxis\":\"x\",\"y\":[4,4,4,4],\"yaxis\":\"y\",\"type\":\"bar\",\"width\":1},{\"alignmentgroup\":\"True\",\"hovertemplate\":\"FirstAuthorAffiliation=Department of Medicine, Cairns Hospital, Cairns, Queensland, Australia.<br>Author_Fullname=%{x}<br>Author_Count=%{y}<extra></extra>\",\"legendgroup\":\"Department of Medicine, Cairns Hospital, Cairns, Queensland, Australia.\",\"marker\":{\"color\":\"#FF97FF\",\"pattern\":{\"shape\":\"\"}},\"name\":\"Department of Medicine, Cairns Hospital, Cairns, Queensland, Australia.\",\"offsetgroup\":\"Department of Medicine, Cairns Hospital, Cairns, Queensland, Australia.\",\"orientation\":\"v\",\"showlegend\":true,\"textposition\":\"auto\",\"x\":[\"Hanson J\",\"Smith S\"],\"xaxis\":\"x\",\"y\":[4,4],\"yaxis\":\"y\",\"type\":\"bar\",\"width\":1},{\"alignmentgroup\":\"True\",\"hovertemplate\":\"FirstAuthorAffiliation=Unit\\u00e9 de Biologie des Spiroch\\u00e8tes, Institut Pasteur, Paris, France.<br>Author_Fullname=%{x}<br>Author_Count=%{y}<extra></extra>\",\"legendgroup\":\"Unit\\u00e9 de Biologie des Spiroch\\u00e8tes, Institut Pasteur, Paris, France.\",\"marker\":{\"color\":\"#FECB52\",\"pattern\":{\"shape\":\"\"}},\"name\":\"Unit\\u00e9 de Biologie des Spiroch\\u00e8tes, Institut Pasteur, Paris, France.\",\"offsetgroup\":\"Unit\\u00e9 de Biologie des Spiroch\\u00e8tes, Institut Pasteur, Paris, France.\",\"orientation\":\"v\",\"showlegend\":true,\"textposition\":\"auto\",\"x\":[\"Picardeau M\"],\"xaxis\":\"x\",\"y\":[4],\"yaxis\":\"y\",\"type\":\"bar\",\"width\":1},{\"alignmentgroup\":\"True\",\"hovertemplate\":\"FirstAuthorAffiliation=Laboratory of Veterinary Bacteriology, Department of Microbiology and Parasitology, Universidade Federal Fluminense, Niter\\u00f3i, RJ, Brazil.<br>Author_Fullname=%{x}<br>Author_Count=%{y}<extra></extra>\",\"legendgroup\":\"Laboratory of Veterinary Bacteriology, Department of Microbiology and Parasitology, Universidade Federal Fluminense, Niter\\u00f3i, RJ, Brazil.\",\"marker\":{\"color\":\"#636efa\",\"pattern\":{\"shape\":\"\"}},\"name\":\"Laboratory of Veterinary Bacteriology, Department of Microbiology and Parasitology, Universidade Federal Fluminense, Niter\\u00f3i, RJ, Brazil.\",\"offsetgroup\":\"Laboratory of Veterinary Bacteriology, Department of Microbiology and Parasitology, Universidade Federal Fluminense, Niter\\u00f3i, RJ, Brazil.\",\"orientation\":\"v\",\"showlegend\":true,\"textposition\":\"auto\",\"x\":[\"Lilenbaum W\"],\"xaxis\":\"x\",\"y\":[4],\"yaxis\":\"y\",\"type\":\"bar\",\"width\":1},{\"alignmentgroup\":\"True\",\"hovertemplate\":\"FirstAuthorAffiliation=Department of Bacteriology, National Institute of Infectious Diseases, 1-23-1 Toyama, Shinjuku-ku, Tokyo 162-8640, Japan.<br>Author_Fullname=%{x}<br>Author_Count=%{y}<extra></extra>\",\"legendgroup\":\"Department of Bacteriology, National Institute of Infectious Diseases, 1-23-1 Toyama, Shinjuku-ku, Tokyo 162-8640, Japan.\",\"marker\":{\"color\":\"#EF553B\",\"pattern\":{\"shape\":\"\"}},\"name\":\"Department of Bacteriology, National Institute of Infectious Diseases, 1-23-1 Toyama, Shinjuku-ku, Tokyo 162-8640, Japan.\",\"offsetgroup\":\"Department of Bacteriology, National Institute of Infectious Diseases, 1-23-1 Toyama, Shinjuku-ku, Tokyo 162-8640, Japan.\",\"orientation\":\"v\",\"showlegend\":true,\"textposition\":\"auto\",\"x\":[\"Koizumi N\"],\"xaxis\":\"x\",\"y\":[3],\"yaxis\":\"y\",\"type\":\"bar\",\"width\":1},{\"alignmentgroup\":\"True\",\"hovertemplate\":\"FirstAuthorAffiliation=Department of Medical Microbiology, Faculty of Medicine and Health Sciences, Universiti Putra Malaysia, Serdang, Selangor, Malaysia.<br>Author_Fullname=%{x}<br>Author_Count=%{y}<extra></extra>\",\"legendgroup\":\"Department of Medical Microbiology, Faculty of Medicine and Health Sciences, Universiti Putra Malaysia, Serdang, Selangor, Malaysia.\",\"marker\":{\"color\":\"#00cc96\",\"pattern\":{\"shape\":\"\"}},\"name\":\"Department of Medical Microbiology, Faculty of Medicine and Health Sciences, Universiti Putra Malaysia, Serdang, Selangor, Malaysia.\",\"offsetgroup\":\"Department of Medical Microbiology, Faculty of Medicine and Health Sciences, Universiti Putra Malaysia, Serdang, Selangor, Malaysia.\",\"orientation\":\"v\",\"showlegend\":true,\"textposition\":\"auto\",\"x\":[\"Neela VK\"],\"xaxis\":\"x\",\"y\":[3],\"yaxis\":\"y\",\"type\":\"bar\",\"width\":1},{\"alignmentgroup\":\"True\",\"hovertemplate\":\"FirstAuthorAffiliation=Veterinary Bacteriology Laboratory, Department of Microbiology and Parasitology, Universidade Federal Fluminense, 24210-130 Niteroi, RJ, Brazil. mipwalt@vm.uff.br<br>Author_Fullname=%{x}<br>Author_Count=%{y}<extra></extra>\",\"legendgroup\":\"Veterinary Bacteriology Laboratory, Department of Microbiology and Parasitology, Universidade Federal Fluminense, 24210-130 Niteroi, RJ, Brazil. mipwalt@vm.uff.br\",\"marker\":{\"color\":\"#ab63fa\",\"pattern\":{\"shape\":\"\"}},\"name\":\"Veterinary Bacteriology Laboratory, Department of Microbiology and Parasitology, Universidade Federal Fluminense, 24210-130 Niteroi, RJ, Brazil. mipwalt@vm.uff.br\",\"offsetgroup\":\"Veterinary Bacteriology Laboratory, Department of Microbiology and Parasitology, Universidade Federal Fluminense, 24210-130 Niteroi, RJ, Brazil. mipwalt@vm.uff.br\",\"orientation\":\"v\",\"showlegend\":true,\"textposition\":\"auto\",\"x\":[\"Lilenbaum W\"],\"xaxis\":\"x\",\"y\":[3],\"yaxis\":\"y\",\"type\":\"bar\",\"width\":1},{\"alignmentgroup\":\"True\",\"hovertemplate\":\"FirstAuthorAffiliation=Laborat\\u00f3rio de Bacteriologia Veterin\\u00e1ria, Departamento de Microbiologia e Parasitologia, Universidade Federal Fluminense, Niter\\u00f3i, Rio de Janeiro, Brazil.<br>Author_Fullname=%{x}<br>Author_Count=%{y}<extra></extra>\",\"legendgroup\":\"Laborat\\u00f3rio de Bacteriologia Veterin\\u00e1ria, Departamento de Microbiologia e Parasitologia, Universidade Federal Fluminense, Niter\\u00f3i, Rio de Janeiro, Brazil.\",\"marker\":{\"color\":\"#FFA15A\",\"pattern\":{\"shape\":\"\"}},\"name\":\"Laborat\\u00f3rio de Bacteriologia Veterin\\u00e1ria, Departamento de Microbiologia e Parasitologia, Universidade Federal Fluminense, Niter\\u00f3i, Rio de Janeiro, Brazil.\",\"offsetgroup\":\"Laborat\\u00f3rio de Bacteriologia Veterin\\u00e1ria, Departamento de Microbiologia e Parasitologia, Universidade Federal Fluminense, Niter\\u00f3i, Rio de Janeiro, Brazil.\",\"orientation\":\"v\",\"showlegend\":true,\"textposition\":\"auto\",\"x\":[\"Lilenbaum W\"],\"xaxis\":\"x\",\"y\":[3],\"yaxis\":\"y\",\"type\":\"bar\",\"width\":1},{\"alignmentgroup\":\"True\",\"hovertemplate\":\"FirstAuthorAffiliation=Centro de Biotecnologia, Instituto Butantan, Avenida Vital Brazil 1500, 05503-900 S\\u00e3o Paulo, SP, Brazil.<br>Author_Fullname=%{x}<br>Author_Count=%{y}<extra></extra>\",\"legendgroup\":\"Centro de Biotecnologia, Instituto Butantan, Avenida Vital Brazil 1500, 05503-900 S\\u00e3o Paulo, SP, Brazil.\",\"marker\":{\"color\":\"#19d3f3\",\"pattern\":{\"shape\":\"\"}},\"name\":\"Centro de Biotecnologia, Instituto Butantan, Avenida Vital Brazil 1500, 05503-900 S\\u00e3o Paulo, SP, Brazil.\",\"offsetgroup\":\"Centro de Biotecnologia, Instituto Butantan, Avenida Vital Brazil 1500, 05503-900 S\\u00e3o Paulo, SP, Brazil.\",\"orientation\":\"v\",\"showlegend\":true,\"textposition\":\"auto\",\"x\":[\"de Morais ZM\",\"Vasconcellos SA\"],\"xaxis\":\"x\",\"y\":[3,3],\"yaxis\":\"y\",\"type\":\"bar\",\"width\":1},{\"alignmentgroup\":\"True\",\"hovertemplate\":\"FirstAuthorAffiliation=Centro de Biotecnologia, Instituto Butantan, S\\u00e3o Paulo, SP, Brazil.<br>Author_Fullname=%{x}<br>Author_Count=%{y}<extra></extra>\",\"legendgroup\":\"Centro de Biotecnologia, Instituto Butantan, S\\u00e3o Paulo, SP, Brazil.\",\"marker\":{\"color\":\"#FF6692\",\"pattern\":{\"shape\":\"\"}},\"name\":\"Centro de Biotecnologia, Instituto Butantan, S\\u00e3o Paulo, SP, Brazil.\",\"offsetgroup\":\"Centro de Biotecnologia, Instituto Butantan, S\\u00e3o Paulo, SP, Brazil.\",\"orientation\":\"v\",\"showlegend\":true,\"textposition\":\"auto\",\"x\":[\"Romero EC\",\"Vasconcellos SA\",\"Nascimento AL\"],\"xaxis\":\"x\",\"y\":[3,3,3],\"yaxis\":\"y\",\"type\":\"bar\",\"width\":1},{\"alignmentgroup\":\"True\",\"hovertemplate\":\"FirstAuthorAffiliation=Laboratoire des Spiroch\\u00e8tes, Institut Pasteur, 28 rue du docteur Roux, 75724 Paris Cedex 15, France.<br>Author_Fullname=%{x}<br>Author_Count=%{y}<extra></extra>\",\"legendgroup\":\"Laboratoire des Spiroch\\u00e8tes, Institut Pasteur, 28 rue du docteur Roux, 75724 Paris Cedex 15, France.\",\"marker\":{\"color\":\"#B6E880\",\"pattern\":{\"shape\":\"\"}},\"name\":\"Laboratoire des Spiroch\\u00e8tes, Institut Pasteur, 28 rue du docteur Roux, 75724 Paris Cedex 15, France.\",\"offsetgroup\":\"Laboratoire des Spiroch\\u00e8tes, Institut Pasteur, 28 rue du docteur Roux, 75724 Paris Cedex 15, France.\",\"orientation\":\"v\",\"showlegend\":true,\"textposition\":\"auto\",\"x\":[\"Picardeau M\"],\"xaxis\":\"x\",\"y\":[3],\"yaxis\":\"y\",\"type\":\"bar\",\"width\":1},{\"alignmentgroup\":\"True\",\"hovertemplate\":\"FirstAuthorAffiliation=Impfstoffkontrolle, Institut f\\u00fcr Virologie und Immunologie (IVI), Mittelh\\u00e4usern.<br>Author_Fullname=%{x}<br>Author_Count=%{y}<extra></extra>\",\"legendgroup\":\"Impfstoffkontrolle, Institut f\\u00fcr Virologie und Immunologie (IVI), Mittelh\\u00e4usern.\",\"marker\":{\"color\":\"#FF97FF\",\"pattern\":{\"shape\":\"\"}},\"name\":\"Impfstoffkontrolle, Institut f\\u00fcr Virologie und Immunologie (IVI), Mittelh\\u00e4usern.\",\"offsetgroup\":\"Impfstoffkontrolle, Institut f\\u00fcr Virologie und Immunologie (IVI), Mittelh\\u00e4usern.\",\"orientation\":\"v\",\"showlegend\":true,\"textposition\":\"auto\",\"x\":[\"Ottiger H\"],\"xaxis\":\"x\",\"y\":[3],\"yaxis\":\"y\",\"type\":\"bar\",\"width\":1},{\"alignmentgroup\":\"True\",\"hovertemplate\":\"FirstAuthorAffiliation=N\\u00facleo de Biotecnologia, Centro de Desenvolvimento Tecnol\\u00f3gico, Universidade Federal de Pelotas, Pelotas, RS, Brazil.<br>Author_Fullname=%{x}<br>Author_Count=%{y}<extra></extra>\",\"legendgroup\":\"N\\u00facleo de Biotecnologia, Centro de Desenvolvimento Tecnol\\u00f3gico, Universidade Federal de Pelotas, Pelotas, RS, Brazil.\",\"marker\":{\"color\":\"#FECB52\",\"pattern\":{\"shape\":\"\"}},\"name\":\"N\\u00facleo de Biotecnologia, Centro de Desenvolvimento Tecnol\\u00f3gico, Universidade Federal de Pelotas, Pelotas, RS, Brazil.\",\"offsetgroup\":\"N\\u00facleo de Biotecnologia, Centro de Desenvolvimento Tecnol\\u00f3gico, Universidade Federal de Pelotas, Pelotas, RS, Brazil.\",\"orientation\":\"v\",\"showlegend\":true,\"textposition\":\"auto\",\"x\":[\"Seixas FK\",\"Hartleben CP\",\"Hartwig DD\"],\"xaxis\":\"x\",\"y\":[3,3,3],\"yaxis\":\"y\",\"type\":\"bar\",\"width\":1},{\"alignmentgroup\":\"True\",\"hovertemplate\":\"FirstAuthorAffiliation=Laboratory of Veterinary Bacteriology, Biomedical Institute, Fluminense Federal University, Niter\\u00f3i, Rio de Janeiro, Brazil.<br>Author_Fullname=%{x}<br>Author_Count=%{y}<extra></extra>\",\"legendgroup\":\"Laboratory of Veterinary Bacteriology, Biomedical Institute, Fluminense Federal University, Niter\\u00f3i, Rio de Janeiro, Brazil.\",\"marker\":{\"color\":\"#636efa\",\"pattern\":{\"shape\":\"\"}},\"name\":\"Laboratory of Veterinary Bacteriology, Biomedical Institute, Fluminense Federal University, Niter\\u00f3i, Rio de Janeiro, Brazil.\",\"offsetgroup\":\"Laboratory of Veterinary Bacteriology, Biomedical Institute, Fluminense Federal University, Niter\\u00f3i, Rio de Janeiro, Brazil.\",\"orientation\":\"v\",\"showlegend\":true,\"textposition\":\"auto\",\"x\":[\"Lilenbaum W\"],\"xaxis\":\"x\",\"y\":[3],\"yaxis\":\"y\",\"type\":\"bar\",\"width\":1},{\"alignmentgroup\":\"True\",\"hovertemplate\":\"FirstAuthorAffiliation=Department of Biomedical Research, Royal Tropical Institute, Amsterdam, The Netherlands. H.Smits@kit.nl<br>Author_Fullname=%{x}<br>Author_Count=%{y}<extra></extra>\",\"legendgroup\":\"Department of Biomedical Research, Royal Tropical Institute, Amsterdam, The Netherlands. H.Smits@kit.nl\",\"marker\":{\"color\":\"#EF553B\",\"pattern\":{\"shape\":\"\"}},\"name\":\"Department of Biomedical Research, Royal Tropical Institute, Amsterdam, The Netherlands. H.Smits@kit.nl\",\"offsetgroup\":\"Department of Biomedical Research, Royal Tropical Institute, Amsterdam, The Netherlands. H.Smits@kit.nl\",\"orientation\":\"v\",\"showlegend\":true,\"textposition\":\"auto\",\"x\":[\"Smits HL\"],\"xaxis\":\"x\",\"y\":[3],\"yaxis\":\"y\",\"type\":\"bar\",\"width\":1},{\"alignmentgroup\":\"True\",\"hovertemplate\":\"FirstAuthorAffiliation=Centre for International Health, University of Otago, Dunedin, New Zealand.<br>Author_Fullname=%{x}<br>Author_Count=%{y}<extra></extra>\",\"legendgroup\":\"Centre for International Health, University of Otago, Dunedin, New Zealand.\",\"marker\":{\"color\":\"#00cc96\",\"pattern\":{\"shape\":\"\"}},\"name\":\"Centre for International Health, University of Otago, Dunedin, New Zealand.\",\"offsetgroup\":\"Centre for International Health, University of Otago, Dunedin, New Zealand.\",\"orientation\":\"v\",\"showlegend\":true,\"textposition\":\"auto\",\"x\":[\"Maze MJ\",\"Allan KJ\",\"Biggs HM\",\"Cash-Goldwasser S\",\"Cleaveland S\",\"Crump JA\",\"Galloway RL\",\"Maro VP\",\"Mmbaga BT\",\"Rubach MP\"],\"xaxis\":\"x\",\"y\":[3,3,3,3,3,3,3,3,3,3],\"yaxis\":\"y\",\"type\":\"bar\",\"width\":1},{\"alignmentgroup\":\"True\",\"hovertemplate\":\"FirstAuthorAffiliation=Medical Microbiology Laboratory, Department of Microbiology, Centre for Excellence in Life Sciences, Bharathidasan University, Tiruchirappalli, Tamil Nadu, India.<br>Author_Fullname=%{x}<br>Author_Count=%{y}<extra></extra>\",\"legendgroup\":\"Medical Microbiology Laboratory, Department of Microbiology, Centre for Excellence in Life Sciences, Bharathidasan University, Tiruchirappalli, Tamil Nadu, India.\",\"marker\":{\"color\":\"#ab63fa\",\"pattern\":{\"shape\":\"\"}},\"name\":\"Medical Microbiology Laboratory, Department of Microbiology, Centre for Excellence in Life Sciences, Bharathidasan University, Tiruchirappalli, Tamil Nadu, India.\",\"offsetgroup\":\"Medical Microbiology Laboratory, Department of Microbiology, Centre for Excellence in Life Sciences, Bharathidasan University, Tiruchirappalli, Tamil Nadu, India.\",\"orientation\":\"v\",\"showlegend\":true,\"textposition\":\"auto\",\"x\":[\"Sumaiya K\",\"Natarajaseenivasan K\"],\"xaxis\":\"x\",\"y\":[3,3],\"yaxis\":\"y\",\"type\":\"bar\",\"width\":1},{\"alignmentgroup\":\"True\",\"hovertemplate\":\"FirstAuthorAffiliation=Department of Epidemiology of Microbial Diseases, Yale School of Public Health, New Haven, Connecticut, United States of America.<br>Author_Fullname=%{x}<br>Author_Count=%{y}<extra></extra>\",\"legendgroup\":\"Department of Epidemiology of Microbial Diseases, Yale School of Public Health, New Haven, Connecticut, United States of America.\",\"marker\":{\"color\":\"#FFA15A\",\"pattern\":{\"shape\":\"\"}},\"name\":\"Department of Epidemiology of Microbial Diseases, Yale School of Public Health, New Haven, Connecticut, United States of America.\",\"offsetgroup\":\"Department of Epidemiology of Microbial Diseases, Yale School of Public Health, New Haven, Connecticut, United States of America.\",\"orientation\":\"v\",\"showlegend\":true,\"textposition\":\"auto\",\"x\":[\"Ko AI\"],\"xaxis\":\"x\",\"y\":[3],\"yaxis\":\"y\",\"type\":\"bar\",\"width\":1},{\"alignmentgroup\":\"True\",\"hovertemplate\":\"FirstAuthorAffiliation=Medical Microbiology Laboratory, Department of Microbiology, Center for Excellence in Life Sciences, Bharathidasan University, Tiruchirappalli, 620 024, Tamil Nadu, India.<br>Author_Fullname=%{x}<br>Author_Count=%{y}<extra></extra>\",\"legendgroup\":\"Medical Microbiology Laboratory, Department of Microbiology, Center for Excellence in Life Sciences, Bharathidasan University, Tiruchirappalli, 620 024, Tamil Nadu, India.\",\"marker\":{\"color\":\"#19d3f3\",\"pattern\":{\"shape\":\"\"}},\"name\":\"Medical Microbiology Laboratory, Department of Microbiology, Center for Excellence in Life Sciences, Bharathidasan University, Tiruchirappalli, 620 024, Tamil Nadu, India.\",\"offsetgroup\":\"Medical Microbiology Laboratory, Department of Microbiology, Center for Excellence in Life Sciences, Bharathidasan University, Tiruchirappalli, 620 024, Tamil Nadu, India.\",\"orientation\":\"v\",\"showlegend\":true,\"textposition\":\"auto\",\"x\":[\"Bothammal P\",\"Muralitharan G\",\"Natarajaseenivasan K\"],\"xaxis\":\"x\",\"y\":[3,3,3],\"yaxis\":\"y\",\"type\":\"bar\",\"width\":1}],                        {\"template\":{\"data\":{\"histogram2dcontour\":[{\"type\":\"histogram2dcontour\",\"colorbar\":{\"outlinewidth\":0,\"ticks\":\"\"},\"colorscale\":[[0.0,\"#0d0887\"],[0.1111111111111111,\"#46039f\"],[0.2222222222222222,\"#7201a8\"],[0.3333333333333333,\"#9c179e\"],[0.4444444444444444,\"#bd3786\"],[0.5555555555555556,\"#d8576b\"],[0.6666666666666666,\"#ed7953\"],[0.7777777777777778,\"#fb9f3a\"],[0.8888888888888888,\"#fdca26\"],[1.0,\"#f0f921\"]]}],\"choropleth\":[{\"type\":\"choropleth\",\"colorbar\":{\"outlinewidth\":0,\"ticks\":\"\"}}],\"histogram2d\":[{\"type\":\"histogram2d\",\"colorbar\":{\"outlinewidth\":0,\"ticks\":\"\"},\"colorscale\":[[0.0,\"#0d0887\"],[0.1111111111111111,\"#46039f\"],[0.2222222222222222,\"#7201a8\"],[0.3333333333333333,\"#9c179e\"],[0.4444444444444444,\"#bd3786\"],[0.5555555555555556,\"#d8576b\"],[0.6666666666666666,\"#ed7953\"],[0.7777777777777778,\"#fb9f3a\"],[0.8888888888888888,\"#fdca26\"],[1.0,\"#f0f921\"]]}],\"heatmap\":[{\"type\":\"heatmap\",\"colorbar\":{\"outlinewidth\":0,\"ticks\":\"\"},\"colorscale\":[[0.0,\"#0d0887\"],[0.1111111111111111,\"#46039f\"],[0.2222222222222222,\"#7201a8\"],[0.3333333333333333,\"#9c179e\"],[0.4444444444444444,\"#bd3786\"],[0.5555555555555556,\"#d8576b\"],[0.6666666666666666,\"#ed7953\"],[0.7777777777777778,\"#fb9f3a\"],[0.8888888888888888,\"#fdca26\"],[1.0,\"#f0f921\"]]}],\"heatmapgl\":[{\"type\":\"heatmapgl\",\"colorbar\":{\"outlinewidth\":0,\"ticks\":\"\"},\"colorscale\":[[0.0,\"#0d0887\"],[0.1111111111111111,\"#46039f\"],[0.2222222222222222,\"#7201a8\"],[0.3333333333333333,\"#9c179e\"],[0.4444444444444444,\"#bd3786\"],[0.5555555555555556,\"#d8576b\"],[0.6666666666666666,\"#ed7953\"],[0.7777777777777778,\"#fb9f3a\"],[0.8888888888888888,\"#fdca26\"],[1.0,\"#f0f921\"]]}],\"contourcarpet\":[{\"type\":\"contourcarpet\",\"colorbar\":{\"outlinewidth\":0,\"ticks\":\"\"}}],\"contour\":[{\"type\":\"contour\",\"colorbar\":{\"outlinewidth\":0,\"ticks\":\"\"},\"colorscale\":[[0.0,\"#0d0887\"],[0.1111111111111111,\"#46039f\"],[0.2222222222222222,\"#7201a8\"],[0.3333333333333333,\"#9c179e\"],[0.4444444444444444,\"#bd3786\"],[0.5555555555555556,\"#d8576b\"],[0.6666666666666666,\"#ed7953\"],[0.7777777777777778,\"#fb9f3a\"],[0.8888888888888888,\"#fdca26\"],[1.0,\"#f0f921\"]]}],\"surface\":[{\"type\":\"surface\",\"colorbar\":{\"outlinewidth\":0,\"ticks\":\"\"},\"colorscale\":[[0.0,\"#0d0887\"],[0.1111111111111111,\"#46039f\"],[0.2222222222222222,\"#7201a8\"],[0.3333333333333333,\"#9c179e\"],[0.4444444444444444,\"#bd3786\"],[0.5555555555555556,\"#d8576b\"],[0.6666666666666666,\"#ed7953\"],[0.7777777777777778,\"#fb9f3a\"],[0.8888888888888888,\"#fdca26\"],[1.0,\"#f0f921\"]]}],\"mesh3d\":[{\"type\":\"mesh3d\",\"colorbar\":{\"outlinewidth\":0,\"ticks\":\"\"}}],\"scatter\":[{\"fillpattern\":{\"fillmode\":\"overlay\",\"size\":10,\"solidity\":0.2},\"type\":\"scatter\"}],\"parcoords\":[{\"type\":\"parcoords\",\"line\":{\"colorbar\":{\"outlinewidth\":0,\"ticks\":\"\"}}}],\"scatterpolargl\":[{\"type\":\"scatterpolargl\",\"marker\":{\"colorbar\":{\"outlinewidth\":0,\"ticks\":\"\"}}}],\"bar\":[{\"error_x\":{\"color\":\"#2a3f5f\"},\"error_y\":{\"color\":\"#2a3f5f\"},\"marker\":{\"line\":{\"color\":\"#E5ECF6\",\"width\":0.5},\"pattern\":{\"fillmode\":\"overlay\",\"size\":10,\"solidity\":0.2}},\"type\":\"bar\"}],\"scattergeo\":[{\"type\":\"scattergeo\",\"marker\":{\"colorbar\":{\"outlinewidth\":0,\"ticks\":\"\"}}}],\"scatterpolar\":[{\"type\":\"scatterpolar\",\"marker\":{\"colorbar\":{\"outlinewidth\":0,\"ticks\":\"\"}}}],\"histogram\":[{\"marker\":{\"pattern\":{\"fillmode\":\"overlay\",\"size\":10,\"solidity\":0.2}},\"type\":\"histogram\"}],\"scattergl\":[{\"type\":\"scattergl\",\"marker\":{\"colorbar\":{\"outlinewidth\":0,\"ticks\":\"\"}}}],\"scatter3d\":[{\"type\":\"scatter3d\",\"line\":{\"colorbar\":{\"outlinewidth\":0,\"ticks\":\"\"}},\"marker\":{\"colorbar\":{\"outlinewidth\":0,\"ticks\":\"\"}}}],\"scattermapbox\":[{\"type\":\"scattermapbox\",\"marker\":{\"colorbar\":{\"outlinewidth\":0,\"ticks\":\"\"}}}],\"scatterternary\":[{\"type\":\"scatterternary\",\"marker\":{\"colorbar\":{\"outlinewidth\":0,\"ticks\":\"\"}}}],\"scattercarpet\":[{\"type\":\"scattercarpet\",\"marker\":{\"colorbar\":{\"outlinewidth\":0,\"ticks\":\"\"}}}],\"carpet\":[{\"aaxis\":{\"endlinecolor\":\"#2a3f5f\",\"gridcolor\":\"white\",\"linecolor\":\"white\",\"minorgridcolor\":\"white\",\"startlinecolor\":\"#2a3f5f\"},\"baxis\":{\"endlinecolor\":\"#2a3f5f\",\"gridcolor\":\"white\",\"linecolor\":\"white\",\"minorgridcolor\":\"white\",\"startlinecolor\":\"#2a3f5f\"},\"type\":\"carpet\"}],\"table\":[{\"cells\":{\"fill\":{\"color\":\"#EBF0F8\"},\"line\":{\"color\":\"white\"}},\"header\":{\"fill\":{\"color\":\"#C8D4E3\"},\"line\":{\"color\":\"white\"}},\"type\":\"table\"}],\"barpolar\":[{\"marker\":{\"line\":{\"color\":\"#E5ECF6\",\"width\":0.5},\"pattern\":{\"fillmode\":\"overlay\",\"size\":10,\"solidity\":0.2}},\"type\":\"barpolar\"}],\"pie\":[{\"automargin\":true,\"type\":\"pie\"}]},\"layout\":{\"autotypenumbers\":\"strict\",\"colorway\":[\"#636efa\",\"#EF553B\",\"#00cc96\",\"#ab63fa\",\"#FFA15A\",\"#19d3f3\",\"#FF6692\",\"#B6E880\",\"#FF97FF\",\"#FECB52\"],\"font\":{\"color\":\"#2a3f5f\"},\"hovermode\":\"closest\",\"hoverlabel\":{\"align\":\"left\"},\"paper_bgcolor\":\"white\",\"plot_bgcolor\":\"#E5ECF6\",\"polar\":{\"bgcolor\":\"#E5ECF6\",\"angularaxis\":{\"gridcolor\":\"white\",\"linecolor\":\"white\",\"ticks\":\"\"},\"radialaxis\":{\"gridcolor\":\"white\",\"linecolor\":\"white\",\"ticks\":\"\"}},\"ternary\":{\"bgcolor\":\"#E5ECF6\",\"aaxis\":{\"gridcolor\":\"white\",\"linecolor\":\"white\",\"ticks\":\"\"},\"baxis\":{\"gridcolor\":\"white\",\"linecolor\":\"white\",\"ticks\":\"\"},\"caxis\":{\"gridcolor\":\"white\",\"linecolor\":\"white\",\"ticks\":\"\"}},\"coloraxis\":{\"colorbar\":{\"outlinewidth\":0,\"ticks\":\"\"}},\"colorscale\":{\"sequential\":[[0.0,\"#0d0887\"],[0.1111111111111111,\"#46039f\"],[0.2222222222222222,\"#7201a8\"],[0.3333333333333333,\"#9c179e\"],[0.4444444444444444,\"#bd3786\"],[0.5555555555555556,\"#d8576b\"],[0.6666666666666666,\"#ed7953\"],[0.7777777777777778,\"#fb9f3a\"],[0.8888888888888888,\"#fdca26\"],[1.0,\"#f0f921\"]],\"sequentialminus\":[[0.0,\"#0d0887\"],[0.1111111111111111,\"#46039f\"],[0.2222222222222222,\"#7201a8\"],[0.3333333333333333,\"#9c179e\"],[0.4444444444444444,\"#bd3786\"],[0.5555555555555556,\"#d8576b\"],[0.6666666666666666,\"#ed7953\"],[0.7777777777777778,\"#fb9f3a\"],[0.8888888888888888,\"#fdca26\"],[1.0,\"#f0f921\"]],\"diverging\":[[0,\"#8e0152\"],[0.1,\"#c51b7d\"],[0.2,\"#de77ae\"],[0.3,\"#f1b6da\"],[0.4,\"#fde0ef\"],[0.5,\"#f7f7f7\"],[0.6,\"#e6f5d0\"],[0.7,\"#b8e186\"],[0.8,\"#7fbc41\"],[0.9,\"#4d9221\"],[1,\"#276419\"]]},\"xaxis\":{\"gridcolor\":\"white\",\"linecolor\":\"white\",\"ticks\":\"\",\"title\":{\"standoff\":15},\"zerolinecolor\":\"white\",\"automargin\":true,\"zerolinewidth\":2},\"yaxis\":{\"gridcolor\":\"white\",\"linecolor\":\"white\",\"ticks\":\"\",\"title\":{\"standoff\":15},\"zerolinecolor\":\"white\",\"automargin\":true,\"zerolinewidth\":2},\"scene\":{\"xaxis\":{\"backgroundcolor\":\"#E5ECF6\",\"gridcolor\":\"white\",\"linecolor\":\"white\",\"showbackground\":true,\"ticks\":\"\",\"zerolinecolor\":\"white\",\"gridwidth\":2},\"yaxis\":{\"backgroundcolor\":\"#E5ECF6\",\"gridcolor\":\"white\",\"linecolor\":\"white\",\"showbackground\":true,\"ticks\":\"\",\"zerolinecolor\":\"white\",\"gridwidth\":2},\"zaxis\":{\"backgroundcolor\":\"#E5ECF6\",\"gridcolor\":\"white\",\"linecolor\":\"white\",\"showbackground\":true,\"ticks\":\"\",\"zerolinecolor\":\"white\",\"gridwidth\":2}},\"shapedefaults\":{\"line\":{\"color\":\"#2a3f5f\"}},\"annotationdefaults\":{\"arrowcolor\":\"#2a3f5f\",\"arrowhead\":0,\"arrowwidth\":1},\"geo\":{\"bgcolor\":\"white\",\"landcolor\":\"#E5ECF6\",\"subunitcolor\":\"white\",\"showland\":true,\"showlakes\":true,\"lakecolor\":\"white\"},\"title\":{\"x\":0.05},\"mapbox\":{\"style\":\"light\"}}},\"xaxis\":{\"anchor\":\"y\",\"domain\":[0.0,1.0],\"title\":{\"text\":\"Author_Fullname\"},\"tickangle\":45},\"yaxis\":{\"anchor\":\"x\",\"domain\":[0.0,1.0],\"title\":{\"text\":\"Author_Count\"}},\"legend\":{\"title\":{\"text\":\"FirstAuthorAffiliation\"},\"tracegroupgap\":0},\"title\":{\"text\":\"FirstAuthorAffiliation Top Contributing Authors\",\"x\":0.5},\"barmode\":\"relative\",\"showlegend\":true,\"height\":1000,\"width\":2000},                        {\"responsive\": true}                    ).then(function(){\n",
       "                            \n",
       "var gd = document.getElementById('3c68ae80-e5bf-48db-b542-47af0234725d');\n",
       "var x = new MutationObserver(function (mutations, observer) {{\n",
       "        var display = window.getComputedStyle(gd).display;\n",
       "        if (!display || display === 'none') {{\n",
       "            console.log([gd, 'removed!']);\n",
       "            Plotly.purge(gd);\n",
       "            observer.disconnect();\n",
       "        }}\n",
       "}});\n",
       "\n",
       "// Listen for the removal of the full notebook cells\n",
       "var notebookContainer = gd.closest('#notebook-container');\n",
       "if (notebookContainer) {{\n",
       "    x.observe(notebookContainer, {childList: true});\n",
       "}}\n",
       "\n",
       "// Listen for the clearing of the current output cell\n",
       "var outputEl = gd.closest('.output');\n",
       "if (outputEl) {{\n",
       "    x.observe(outputEl, {childList: true});\n",
       "}}\n",
       "\n",
       "                        })                };                });            </script>        </div>"
      ]
     },
     "metadata": {},
     "output_type": "display_data"
    }
   ],
   "source": [
    "lep_author_data['A_Fullname'] = lep_author_data['AuthorLastname'] + ' ' + lep_author_data['AuthorInitials']\n",
    "\n",
    "lep_id_jou = lep_article_data[['PMID', 'Journal']]\n",
    "lep_id_auth = lep_author_data[['PMID', 'A_Fullname']]\n",
    "lep_id_aff = lep_article_data[['PMID', 'FirstAuthorAffiliation']]\n",
    "\n",
    "relation_list = [lep_id_jou, lep_id_aff]\n",
    "\n",
    "for relation in relation_list:\n",
    "    merge = pd.merge(relation, lep_id_auth, on = 'PMID', how = 'outer')\n",
    "    total = merge.groupby([relation.columns[1], lep_id_auth.columns[1]]).size().reset_index(name = 'Count')\n",
    "    maximum = total.groupby(relation.columns[1])['Count'].transform(lambda x: x == x.max())\n",
    "    auth_max = total.loc[maximum]\n",
    "    auth_max.columns = [relation.columns[1], 'Author_Fullname', 'Author_Count']\n",
    "    order = auth_max.sort_values(by = 'Author_Count',\n",
    "                                        ascending = False,\n",
    "                                        ignore_index = True)\n",
    "    topN_auth = order.iloc[:50,:]\n",
    "    #ipd.display(topN_auth)\n",
    "    topN_bar = px.bar(topN_auth,\n",
    "                    x = 'Author_Fullname',\n",
    "                    y = 'Author_Count',\n",
    "                    color = relation.columns[1],\n",
    "                    title = f'{relation.columns[1]} Top Contributing Authors')\n",
    "    topN_bar.update_layout(title_x = 0.5, showlegend=True, height = 1000, width = 2000)\n",
    "    topN_bar.update_traces(width=1)\n",
    "    topN_bar.update_xaxes(tickangle=45)\n",
    "    topN_bar.show()"
   ]
  },
  {
   "cell_type": "code",
   "execution_count": null,
   "id": "fc00caab",
   "metadata": {},
   "outputs": [],
   "source": []
  },
  {
   "cell_type": "code",
   "execution_count": null,
   "id": "683c1172",
   "metadata": {},
   "outputs": [],
   "source": []
  }
 ],
 "metadata": {
  "kernelspec": {
   "display_name": "Python 3 (ipykernel)",
   "language": "python",
   "name": "python3"
  },
  "language_info": {
   "codemirror_mode": {
    "name": "ipython",
    "version": 3
   },
   "file_extension": ".py",
   "mimetype": "text/x-python",
   "name": "python",
   "nbconvert_exporter": "python",
   "pygments_lexer": "ipython3",
   "version": "3.9.13"
  }
 },
 "nbformat": 4,
 "nbformat_minor": 5
}
