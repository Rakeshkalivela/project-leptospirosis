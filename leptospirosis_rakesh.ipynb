{
 "cells": [
  {
   "cell_type": "code",
   "execution_count": 1,
   "id": "cd098c7c",
   "metadata": {},
   "outputs": [],
   "source": [
    "import pandas as pd\n",
    "import numpy as np\n",
    "import plotly.express as px"
   ]
  },
  {
   "cell_type": "code",
   "execution_count": 37,
   "id": "9ec7137b",
   "metadata": {},
   "outputs": [],
   "source": [
    "# importing data\n",
    "\n",
    "article_data = pd.read_csv(\"articles.leptospirosis.csv\")\n",
    "author_data = pd.read_csv(\"authors.leptospirosis.csv\")\n",
    "paper_counts = pd.read_csv(\"paper_counts.csv\")"
   ]
  },
  {
   "cell_type": "code",
   "execution_count": 5,
   "id": "1e397de5",
   "metadata": {
    "scrolled": true
   },
   "outputs": [
    {
     "data": {
      "text/html": [
       "<div>\n",
       "<style scoped>\n",
       "    .dataframe tbody tr th:only-of-type {\n",
       "        vertical-align: middle;\n",
       "    }\n",
       "\n",
       "    .dataframe tbody tr th {\n",
       "        vertical-align: top;\n",
       "    }\n",
       "\n",
       "    .dataframe thead th {\n",
       "        text-align: right;\n",
       "    }\n",
       "</style>\n",
       "<table border=\"1\" class=\"dataframe\">\n",
       "  <thead>\n",
       "    <tr style=\"text-align: right;\">\n",
       "      <th></th>\n",
       "      <th>PMID</th>\n",
       "      <th>Title</th>\n",
       "      <th>Abstract</th>\n",
       "      <th>ISSN</th>\n",
       "      <th>Journal</th>\n",
       "      <th>Location</th>\n",
       "      <th>Year</th>\n",
       "      <th>FirstAuthorForename</th>\n",
       "      <th>FirstAuthorLastname</th>\n",
       "      <th>FirstAuthorInitials</th>\n",
       "      <th>FirstAuthorAffiliation</th>\n",
       "    </tr>\n",
       "  </thead>\n",
       "  <tbody>\n",
       "    <tr>\n",
       "      <th>0</th>\n",
       "      <td>10548299</td>\n",
       "      <td>Risk factors for death and changing patterns i...</td>\n",
       "      <td>The risk factors for death and changes in clin...</td>\n",
       "      <td>0002-9637</td>\n",
       "      <td>The American journal of tropical medicine and ...</td>\n",
       "      <td>(61) 630-4</td>\n",
       "      <td>1999</td>\n",
       "      <td>E</td>\n",
       "      <td>Daher</td>\n",
       "      <td>E</td>\n",
       "      <td>Departamento de Medicina Clínica, Faculdade de...</td>\n",
       "    </tr>\n",
       "    <tr>\n",
       "      <th>1</th>\n",
       "      <td>10569777</td>\n",
       "      <td>Leptospiral outer membrane proteins OmpL1 and ...</td>\n",
       "      <td>New vaccine strategies are needed for preventi...</td>\n",
       "      <td>0019-9567</td>\n",
       "      <td>Infection and immunity</td>\n",
       "      <td>(67) 6572-82</td>\n",
       "      <td>1999</td>\n",
       "      <td>D A</td>\n",
       "      <td>Haake</td>\n",
       "      <td>DA</td>\n",
       "      <td>Division of Infectious Diseases, Veterans Affa...</td>\n",
       "    </tr>\n",
       "    <tr>\n",
       "      <th>2</th>\n",
       "      <td>10585813</td>\n",
       "      <td>Acute lung injury in leptospirosis: clinical a...</td>\n",
       "      <td>Forty-two consecutive patients with leptospiro...</td>\n",
       "      <td>1058-4838</td>\n",
       "      <td>Clinical infectious diseases : an official pub...</td>\n",
       "      <td>(29) 1561-3</td>\n",
       "      <td>1999</td>\n",
       "      <td>P C</td>\n",
       "      <td>Marotto</td>\n",
       "      <td>PC</td>\n",
       "      <td>Intensive Care Unit, Instituto de Infectologia...</td>\n",
       "    </tr>\n",
       "    <tr>\n",
       "      <th>3</th>\n",
       "      <td>10586903</td>\n",
       "      <td>Assessment of the efficacy of an IgM-elisa and...</td>\n",
       "      <td>In a prospective study in Barbados between 197...</td>\n",
       "      <td>0002-9637</td>\n",
       "      <td>The American journal of tropical medicine and ...</td>\n",
       "      <td>(61) 731-4</td>\n",
       "      <td>1999</td>\n",
       "      <td>P</td>\n",
       "      <td>Cumberland</td>\n",
       "      <td>P</td>\n",
       "      <td>Infectious Disease Epidemiology Unit, London S...</td>\n",
       "    </tr>\n",
       "    <tr>\n",
       "      <th>4</th>\n",
       "      <td>10596270</td>\n",
       "      <td>[An old disease with a new face: canine leptos...</td>\n",
       "      <td>The clinical features of the disease are prese...</td>\n",
       "      <td>0036-7281</td>\n",
       "      <td>Schweizer Archiv fur Tierheilkunde</td>\n",
       "      <td>(141) 499-507</td>\n",
       "      <td>1999</td>\n",
       "      <td>A</td>\n",
       "      <td>Steger-Lieb</td>\n",
       "      <td>A</td>\n",
       "      <td>Klinik für kleine Haustiere, Universität Bern.</td>\n",
       "    </tr>\n",
       "  </tbody>\n",
       "</table>\n",
       "</div>"
      ],
      "text/plain": [
       "       PMID                                              Title  \\\n",
       "0  10548299  Risk factors for death and changing patterns i...   \n",
       "1  10569777  Leptospiral outer membrane proteins OmpL1 and ...   \n",
       "2  10585813  Acute lung injury in leptospirosis: clinical a...   \n",
       "3  10586903  Assessment of the efficacy of an IgM-elisa and...   \n",
       "4  10596270  [An old disease with a new face: canine leptos...   \n",
       "\n",
       "                                            Abstract       ISSN  \\\n",
       "0  The risk factors for death and changes in clin...  0002-9637   \n",
       "1  New vaccine strategies are needed for preventi...  0019-9567   \n",
       "2  Forty-two consecutive patients with leptospiro...  1058-4838   \n",
       "3  In a prospective study in Barbados between 197...  0002-9637   \n",
       "4  The clinical features of the disease are prese...  0036-7281   \n",
       "\n",
       "                                             Journal       Location  Year  \\\n",
       "0  The American journal of tropical medicine and ...     (61) 630-4  1999   \n",
       "1                             Infection and immunity   (67) 6572-82  1999   \n",
       "2  Clinical infectious diseases : an official pub...    (29) 1561-3  1999   \n",
       "3  The American journal of tropical medicine and ...     (61) 731-4  1999   \n",
       "4                 Schweizer Archiv fur Tierheilkunde  (141) 499-507  1999   \n",
       "\n",
       "  FirstAuthorForename FirstAuthorLastname FirstAuthorInitials  \\\n",
       "0                   E               Daher                   E   \n",
       "1                 D A               Haake                  DA   \n",
       "2                 P C             Marotto                  PC   \n",
       "3                   P          Cumberland                   P   \n",
       "4                   A         Steger-Lieb                   A   \n",
       "\n",
       "                              FirstAuthorAffiliation  \n",
       "0  Departamento de Medicina Clínica, Faculdade de...  \n",
       "1  Division of Infectious Diseases, Veterans Affa...  \n",
       "2  Intensive Care Unit, Instituto de Infectologia...  \n",
       "3  Infectious Disease Epidemiology Unit, London S...  \n",
       "4     Klinik für kleine Haustiere, Universität Bern.  "
      ]
     },
     "execution_count": 5,
     "metadata": {},
     "output_type": "execute_result"
    }
   ],
   "source": [
    "# display first 5 lines of article data\n",
    "\n",
    "article_data.head()"
   ]
  },
  {
   "cell_type": "code",
   "execution_count": 6,
   "id": "25a595cc",
   "metadata": {
    "scrolled": false
   },
   "outputs": [
    {
     "data": {
      "text/html": [
       "<div>\n",
       "<style scoped>\n",
       "    .dataframe tbody tr th:only-of-type {\n",
       "        vertical-align: middle;\n",
       "    }\n",
       "\n",
       "    .dataframe tbody tr th {\n",
       "        vertical-align: top;\n",
       "    }\n",
       "\n",
       "    .dataframe thead th {\n",
       "        text-align: right;\n",
       "    }\n",
       "</style>\n",
       "<table border=\"1\" class=\"dataframe\">\n",
       "  <thead>\n",
       "    <tr style=\"text-align: right;\">\n",
       "      <th></th>\n",
       "      <th>PMID</th>\n",
       "      <th>AuthorN</th>\n",
       "      <th>AuthorForename</th>\n",
       "      <th>AuthorLastname</th>\n",
       "      <th>AuthorInitials</th>\n",
       "      <th>AuthorAffiliation</th>\n",
       "    </tr>\n",
       "  </thead>\n",
       "  <tbody>\n",
       "    <tr>\n",
       "      <th>0</th>\n",
       "      <td>10548299</td>\n",
       "      <td>1</td>\n",
       "      <td>E</td>\n",
       "      <td>Daher</td>\n",
       "      <td>E</td>\n",
       "      <td>Departamento de Medicina Clínica, Faculdade de...</td>\n",
       "    </tr>\n",
       "    <tr>\n",
       "      <th>1</th>\n",
       "      <td>10548299</td>\n",
       "      <td>2</td>\n",
       "      <td>D M</td>\n",
       "      <td>Zanetta</td>\n",
       "      <td>DM</td>\n",
       "      <td>NaN</td>\n",
       "    </tr>\n",
       "    <tr>\n",
       "      <th>2</th>\n",
       "      <td>10548299</td>\n",
       "      <td>3</td>\n",
       "      <td>M B</td>\n",
       "      <td>Cavalcante</td>\n",
       "      <td>MB</td>\n",
       "      <td>NaN</td>\n",
       "    </tr>\n",
       "    <tr>\n",
       "      <th>3</th>\n",
       "      <td>10548299</td>\n",
       "      <td>4</td>\n",
       "      <td>R C</td>\n",
       "      <td>Abdulkader</td>\n",
       "      <td>RC</td>\n",
       "      <td>NaN</td>\n",
       "    </tr>\n",
       "    <tr>\n",
       "      <th>4</th>\n",
       "      <td>10569777</td>\n",
       "      <td>1</td>\n",
       "      <td>D A</td>\n",
       "      <td>Haake</td>\n",
       "      <td>DA</td>\n",
       "      <td>Division of Infectious Diseases, Veterans Affa...</td>\n",
       "    </tr>\n",
       "  </tbody>\n",
       "</table>\n",
       "</div>"
      ],
      "text/plain": [
       "       PMID  AuthorN AuthorForename AuthorLastname AuthorInitials  \\\n",
       "0  10548299        1              E          Daher              E   \n",
       "1  10548299        2            D M        Zanetta             DM   \n",
       "2  10548299        3            M B     Cavalcante             MB   \n",
       "3  10548299        4            R C     Abdulkader             RC   \n",
       "4  10569777        1            D A          Haake             DA   \n",
       "\n",
       "                                   AuthorAffiliation  \n",
       "0  Departamento de Medicina Clínica, Faculdade de...  \n",
       "1                                                NaN  \n",
       "2                                                NaN  \n",
       "3                                                NaN  \n",
       "4  Division of Infectious Diseases, Veterans Affa...  "
      ]
     },
     "execution_count": 6,
     "metadata": {},
     "output_type": "execute_result"
    }
   ],
   "source": [
    "# display first 5 lines of author data\n",
    " \n",
    "author_data.head()"
   ]
  },
  {
   "cell_type": "code",
   "execution_count": 24,
   "id": "fe87348b",
   "metadata": {
    "scrolled": true
   },
   "outputs": [
    {
     "name": "stdout",
     "output_type": "stream",
     "text": [
      "<class 'pandas.core.frame.DataFrame'>\n",
      "RangeIndex: 3389 entries, 0 to 3388\n",
      "Data columns (total 11 columns):\n",
      " #   Column                  Non-Null Count  Dtype \n",
      "---  ------                  --------------  ----- \n",
      " 0   PMID                    3389 non-null   int64 \n",
      " 1   Title                   3389 non-null   object\n",
      " 2   Abstract                3389 non-null   object\n",
      " 3   ISSN                    3389 non-null   object\n",
      " 4   Journal                 3389 non-null   object\n",
      " 5   Location                3377 non-null   object\n",
      " 6   Year                    3389 non-null   int64 \n",
      " 7   FirstAuthorForename     3385 non-null   object\n",
      " 8   FirstAuthorLastname     3387 non-null   object\n",
      " 9   FirstAuthorInitials     3379 non-null   object\n",
      " 10  FirstAuthorAffiliation  3268 non-null   object\n",
      "dtypes: int64(2), object(9)\n",
      "memory usage: 291.4+ KB\n"
     ]
    }
   ],
   "source": [
    "article_data.info()"
   ]
  },
  {
   "cell_type": "code",
   "execution_count": 25,
   "id": "1cfb2863",
   "metadata": {},
   "outputs": [
    {
     "name": "stdout",
     "output_type": "stream",
     "text": [
      "<class 'pandas.core.frame.DataFrame'>\n",
      "RangeIndex: 21331 entries, 0 to 21330\n",
      "Data columns (total 6 columns):\n",
      " #   Column             Non-Null Count  Dtype \n",
      "---  ------             --------------  ----- \n",
      " 0   PMID               21331 non-null  int64 \n",
      " 1   AuthorN            21331 non-null  int64 \n",
      " 2   AuthorForename     21321 non-null  object\n",
      " 3   AuthorLastname     21331 non-null  object\n",
      " 4   AuthorInitials     21297 non-null  object\n",
      " 5   AuthorAffiliation  13325 non-null  object\n",
      "dtypes: int64(2), object(4)\n",
      "memory usage: 1000.0+ KB\n"
     ]
    }
   ],
   "source": [
    "author_data.info()"
   ]
  },
  {
   "cell_type": "code",
   "execution_count": 17,
   "id": "c23bca8a",
   "metadata": {},
   "outputs": [
    {
     "name": "stdout",
     "output_type": "stream",
     "text": [
      "article_data_shape: (3389, 11)\n",
      "Unique FirstAuthor Lastnames: (2243,)\n"
     ]
    }
   ],
   "source": [
    "# count of first authors\n",
    "\n",
    "print(f\"article_data_shape: {article_data.shape}\")\n",
    "\n",
    "print(f\"Unique FirstAuthor Lastnames: {article_data['FirstAuthorLastname'].unique().shape}\")"
   ]
  },
  {
   "cell_type": "code",
   "execution_count": 23,
   "id": "90bceccd",
   "metadata": {},
   "outputs": [
    {
     "name": "stdout",
     "output_type": "stream",
     "text": [
      "FirstAuthorAffiliation_shape: (3389,)\n",
      "FirstAuthorAffiliation_unique_shape: (3090,)\n"
     ]
    }
   ],
   "source": [
    "# count of FirstAuthorAffiliation\n",
    "\n",
    "print(f\"FirstAuthorAffiliation_shape: {article_data['FirstAuthorAffiliation'].shape}\")\n",
    "print(f\"FirstAuthorAffiliation_unique_shape: {article_data['FirstAuthorAffiliation'].unique().shape}\")"
   ]
  },
  {
   "cell_type": "code",
   "execution_count": 36,
   "id": "9e19640b",
   "metadata": {},
   "outputs": [
    {
     "data": {
      "text/plain": [
       "(21331,)"
      ]
     },
     "execution_count": 36,
     "metadata": {},
     "output_type": "execute_result"
    }
   ],
   "source": [
    "# add column with combined name\n",
    "author_data['FullName']= author_data['AuthorInitials']+' '+ author_data['AuthorForename']+' '+ author_data['AuthorLastname']\n",
    "author_data['FullName'].shape"
   ]
  }
 ],
 "metadata": {
  "kernelspec": {
   "display_name": "Python 3 (ipykernel)",
   "language": "python",
   "name": "python3"
  },
  "language_info": {
   "codemirror_mode": {
    "name": "ipython",
    "version": 3
   },
   "file_extension": ".py",
   "mimetype": "text/x-python",
   "name": "python",
   "nbconvert_exporter": "python",
   "pygments_lexer": "ipython3",
   "version": "3.11.5"
  }
 },
 "nbformat": 4,
 "nbformat_minor": 5
}
