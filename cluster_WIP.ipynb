{
 "cells": [
  {
   "cell_type": "code",
   "execution_count": null,
   "id": "880c55cd",
   "metadata": {},
   "outputs": [],
   "source": [
    "# Import essential libraries.\n",
    "import pandas as pd\n",
    "import networkx as nx\n",
    "import matplotlib.pyplot as plt\n",
    "from community import community_louvain\n",
    "import IPython.display as ipd"
   ]
  },
  {
   "cell_type": "code",
   "execution_count": null,
   "id": "254e9b1b",
   "metadata": {},
   "outputs": [],
   "source": [
    "# Reading csv.\n",
    "lep_author_data = pd.read_csv('/content/drive/MyDrive/Data Science MSc/authors.leptospirosis.csv')\n",
    "\n",
    "# Concatanating author names.\n",
    "lep_author_data['Fullname'] = lep_author_data['AuthorLastname'] + ' ' + lep_author_data['AuthorInitials']\n",
    "\n",
    "# Creating dataframe of first authors.\n",
    "authors = lep_author_data[lep_author_data['AuthorN'] == 1 ]\n",
    "authors_a = authors[['PMID', 'Fullname']]\n",
    "\n",
    "# Creating dataframe of secondary authors.\n",
    "coauthors = lep_author_data[lep_author_data['AuthorN'] != 1 ]\n",
    "coauthors_a = coauthors[['PMID', 'Fullname']]\n",
    "coauthors_a.columns = ['PMID', 'Coauthors']\n",
    "\n",
    "# Merged authors and coauthors on paper ID.\n",
    "authors_merged = pd.merge(authors_a, coauthors_a, on = 'PMID', how = 'outer')\n",
    "authors_merged.columns = ['PMID', 'Primary_Author', 'Secondary_Author']\n",
    "\n",
    "# Displaying primary and secondary author dataframe.\n",
    "ipd.display(authors_merged)"
   ]
  },
  {
   "cell_type": "code",
   "execution_count": null,
   "id": "34d1e0e9",
   "metadata": {},
   "outputs": [],
   "source": [
    "# Creating dataframe of primary authors and their value counts.\n",
    "primary_author = authors_a['Fullname'].value_counts().reset_index()\n",
    "primary_author.columns = ['Fullname', 'Count']\n",
    "\n",
    "# Creating dataframe of secondary authors and their value counts.\n",
    "#secondary_author = coauthors_a['Coauthors'].value_counts().reset_index()\n",
    "#secondary_author.columns = ['Fullname', 'Count']\n",
    "\n",
    "prim_topN = primary_author.iloc[:15,:]\n",
    "prim_topN_names = prim_topN ['Fullname']\n",
    "\n",
    "f = authors_merged[authors_merged['Primary_Author'].isin(prim_topN_names)]\n",
    "\n",
    "ipd.display(f)\n",
    "# Creating dataframe of total publication counts.\n",
    "#author_count_merge = pd.merge(primary_author, secondary_author, on = 'Fullname', how = 'outer', suffixes = (' Author', ' Co-Author')).fillna(0)\n",
    "#author_count_merge['Count Sum'] = author_count_merge['Count Author'] + author_count_merge['Count Co-Author']\n",
    "\n",
    "# Ordering count sum descending.\n",
    "#count_desc = author_count_merge.sort_values(by = ['Count Sum'], ascending = False, ignore_index = True)\n",
    "\n",
    "# Creating dataframe of the top 10 publication contributers names.\n",
    "####count_top10 = count_desc.iloc[:10,:]\n",
    "####names_top10 = count_top10['Fullname']\n",
    "\n",
    "# Creating dataframes of top 10 contributors when they've appeared as author.\n",
    "#filtered_names_primary = authors_merged[authors_merged['Primary_Author'].isin(names_top10)]\n",
    "\n",
    "# Creating dataframe of top 10 contributors when they've appeared as co-author.\n",
    "#filtered_names_secondary = authors_merged[authors_merged['Secondary_Author'].isin(names_top10)]\n",
    "##pmids_secondary = filtered_names_secondary['PMID'].unique()\n",
    "#other_authors_secondary = authors_merged[authors_merged['PMID'].isin(pmids_secondary)]\n",
    "\n",
    "#total = pd.concat([filtered_names_primary, other_authors_secondary])\n",
    "\n",
    "#ipd.display(filtered_names_primary)\n",
    "##ipd.display(filtered_names_primary)\n",
    "#ipd.display(other_authors_secondary)\n",
    "#ipd.display(total)"
   ]
  },
  {
   "cell_type": "code",
   "execution_count": null,
   "id": "f00515fb",
   "metadata": {},
   "outputs": [],
   "source": [
    "G = nx.from_pandas_edgelist(f, 'Primary_Author', 'Secondary_Author', create_using = nx.Graph)\n",
    "\n",
    "partition = community_louvain.best_partition(G)\n",
    "\n",
    "plt.figure(figsize=(12, 10))\n",
    "\n",
    "pos = nx.spring_layout(G)\n",
    "node_color = [partition[node] for node in G.nodes()]\n",
    "nx.draw(G, pos, with_labels=True, node_color=node_color,\n",
    "        arrows=True, font_size = 5, width = 2)\n",
    "\n",
    "\n",
    "plt.show()"
   ]
  }
 ],
 "metadata": {
  "kernelspec": {
   "display_name": "Python 3 (ipykernel)",
   "language": "python",
   "name": "python3"
  },
  "language_info": {
   "codemirror_mode": {
    "name": "ipython",
    "version": 3
   },
   "file_extension": ".py",
   "mimetype": "text/x-python",
   "name": "python",
   "nbconvert_exporter": "python",
   "pygments_lexer": "ipython3",
   "version": "3.9.13"
  }
 },
 "nbformat": 4,
 "nbformat_minor": 5
}
